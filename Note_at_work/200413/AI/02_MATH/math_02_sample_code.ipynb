{
 "cells": [
  {
   "cell_type": "markdown",
   "metadata": {},
   "source": [
    "# 2. 線形代数"
   ]
  },
  {
   "cell_type": "markdown",
   "metadata": {},
   "source": [
    "### 主成分分析の実装"
   ]
  },
  {
   "cell_type": "code",
   "execution_count": 1,
   "metadata": {},
   "outputs": [
    {
     "data": {
      "image/png": "[encoded data removed]",
      "text/plain": [
       "<Figure size 432x288 with 1 Axes>"
      ]
     },
     "metadata": {},
     "output_type": "display_data"
    }
   ],
   "source": [
    "%matplotlib inline\n",
    "import matplotlib.pyplot as plt\n",
    "import numpy as np\n",
    "np.random.seed(2)\n",
    "X = np.random.multivariate_normal([170,60],[[1.4,1],[1,1.4]], 100)\n",
    "plt.xlabel(\"height\")\n",
    "plt.ylabel(\"weight\")\n",
    "plt.scatter(X.T[0], X.T[1])\n",
    "plt.show()"
   ]
  },
  {
   "cell_type": "code",
   "execution_count": 2,
   "metadata": {},
   "outputs": [
    {
     "name": "stdout",
     "output_type": "stream",
     "text": [
      "[[ 0.46956247  0.36545891]\n",
      " [ 1.59439801  3.00772384]\n",
      " [ 2.32891495  1.52225624]\n",
      " [-0.0061054  -1.1737019 ]\n",
      " [ 1.55331299  0.68649488]]\n"
     ]
    }
   ],
   "source": [
    "# 重心を引く\n",
    "# [x - x.mean, y - y.mean]\n",
    "Z = np.array([row - np.mean(row) for row in X.T]).T\n",
    "print(Z[:5])"
   ]
  },
  {
   "cell_type": "code",
   "execution_count": 3,
   "metadata": {},
   "outputs": [
    {
     "name": "stdout",
     "output_type": "stream",
     "text": [
      "[[1.67000169 1.32814391]\n",
      " [1.32814391 1.82396248]]\n"
     ]
    }
   ],
   "source": [
    "# 分散共分散行列\n",
    "# [[(x - x.mean)(x - x.mean), (x - x.mean)(y - y.mean)], [(y - y.mean)(x - x.mean), (y - y.mean)(y - y.mean)]]\n",
    "m = np.dot(Z.T, Z) / Z.shape[0]\n",
    "print(m)"
   ]
  },
  {
   "cell_type": "code",
   "execution_count": 4,
   "metadata": {},
   "outputs": [
    {
     "name": "stdout",
     "output_type": "stream",
     "text": [
      "[0.41660912 3.07735505]\n",
      "[[-0.72727703  0.68634402]\n",
      " [-0.68634402 -0.72727703]]\n"
     ]
    }
   ],
   "source": [
    "# 固有値・固有ベクトル\n",
    "w, v = np.linalg.eig(m)\n",
    "print(w)\n",
    "print(v.T)"
   ]
  },
  {
   "cell_type": "code",
   "execution_count": 5,
   "metadata": {},
   "outputs": [
    {
     "name": "stdout",
     "output_type": "stream",
     "text": [
      "[[-0.59233254  0.05649152]\n",
      " [-3.22390233 -1.09314293]\n",
      " [-2.73855783  0.49133485]\n",
      " [ 0.8100036   0.84941604]\n",
      " [-1.60086052  0.56683512]]\n"
     ]
    }
   ],
   "source": [
    "# Zと固有ベクトルの内積\n",
    "X_pca = np.dot(Z, v.T)\n",
    "print(X_pca[:5])"
   ]
  },
  {
   "cell_type": "code",
   "execution_count": 6,
   "metadata": {},
   "outputs": [
    {
     "data": {
      "image/png": "[encoded data removed]",
      "text/plain": [
       "<Figure size 432x288 with 1 Axes>"
      ]
     },
     "metadata": {},
     "output_type": "display_data"
    }
   ],
   "source": [
    "plt.scatter(X_pca.T[0], X_pca.T[1])\n",
    "plt.xlim([-7,7])\n",
    "plt.ylim([-7,7])\n",
    "plt.show()"
   ]
  },
  {
   "cell_type": "code",
   "execution_count": 7,
   "metadata": {},
   "outputs": [
    {
     "name": "stdout",
     "output_type": "stream",
     "text": [
      "1\n"
     ]
    }
   ],
   "source": [
    "# 次元削減（2 -> 1）\n",
    "# 固有値が大きい方のインデックス\n",
    "idx = np.argmax(w)\n",
    "print(idx)"
   ]
  },
  {
   "cell_type": "code",
   "execution_count": 8,
   "metadata": {},
   "outputs": [
    {
     "name": "stdout",
     "output_type": "stream",
     "text": [
      "[-0.68634402 -0.72727703]\n"
     ]
    }
   ],
   "source": [
    "# 大きい方の固有ベクトル\n",
    "v_max = v.T[idx]\n",
    "print(v_max)"
   ]
  },
  {
   "cell_type": "code",
   "execution_count": 9,
   "metadata": {},
   "outputs": [
    {
     "name": "stdout",
     "output_type": "stream",
     "text": [
      "[-0.58807127 -3.28175401 -2.70553885  0.85779684 -1.56537904]\n"
     ]
    }
   ],
   "source": [
    "X_pca_1 = np.dot(Z, v_max.T)\n",
    "print(X_pca_1[:5])"
   ]
  },
  {
   "cell_type": "code",
   "execution_count": 10,
   "metadata": {},
   "outputs": [
    {
     "data": {
      "image/png": "[encoded data removed]",
      "text/plain": [
       "<Figure size 432x288 with 1 Axes>"
      ]
     },
     "metadata": {},
     "output_type": "display_data"
    }
   ],
   "source": [
    "plt.xlabel(\"height&weight\")\n",
    "plt.scatter(X_pca_1.T, [0]*100)\n",
    "plt.xlim([-7,7])\n",
    "plt.ylim([-7,7])\n",
    "plt.show()"
   ]
  },
  {
   "cell_type": "code",
   "execution_count": null,
   "metadata": {
    "collapsed": true
   },
   "outputs": [],
   "source": []
  },
  {
   "cell_type": "code",
   "execution_count": null,
   "metadata": {
    "collapsed": true
   },
   "outputs": [],
   "source": []
  }
 ],
 "metadata": {
  "anaconda-cloud": {},
  "kernelspec": {
   "display_name": "Python [Root]",
   "language": "python",
   "name": "Python [Root]"
  },
  "language_info": {
   "codemirror_mode": {
    "name": "ipython",
    "version": 3
   },
   "file_extension": ".py",
   "mimetype": "text/x-python",
   "name": "python",
   "nbconvert_exporter": "python",
   "pygments_lexer": "ipython3",
   "version": "3.5.2"
  }
 },
 "nbformat": 4,
 "nbformat_minor": 1
}
