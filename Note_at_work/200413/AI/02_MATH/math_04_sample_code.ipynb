{
 "cells": [
  {
   "cell_type": "markdown",
   "metadata": {},
   "source": [
    "# 4. 情報理論"
   ]
  },
  {
   "cell_type": "markdown",
   "metadata": {},
   "source": [
    "### TFIDFの実装"
   ]
  },
  {
   "cell_type": "code",
   "execution_count": 1,
   "metadata": {
    "collapsed": true
   },
   "outputs": [],
   "source": [
    "import math\n",
    "class TFIDF:\n",
    "    \n",
    "    def __init__(self, terms, documents):\n",
    "        self.terms = terms\n",
    "        self.documents = documents\n",
    "    \n",
    "    def get_idf(self):\n",
    "        \n",
    "        idfs = []\n",
    "        for term in self.terms:\n",
    "            doc_cnt = len([doc for doc in self.documents if term in doc])\n",
    "            idfs.append(math.log(len(self.documents)/doc_cnt))\n",
    "        return idfs\n",
    "\n",
    "    \n",
    "    def get_tf(self, document):\n",
    "        \n",
    "        term_cnt_list = [document.count(term) for term in terms]\n",
    "        total_term_cnt = sum(term_cnt_list)\n",
    "        return [term_cnt / total_term_cnt for term_cnt in term_cnt_list]\n",
    "\n",
    "    \n",
    "    def run(self):\n",
    "        \n",
    "        tfidfs = []\n",
    "        for doc in self.documents:\n",
    "            tfidf = []\n",
    "            for tf, idf in zip(self.get_tf(doc), self.get_idf()):\n",
    "                tfidf.append(tf*idf)\n",
    "            tfidfs.append(tfidf)\n",
    "        return tfidfs    \n"
   ]
  },
  {
   "cell_type": "code",
   "execution_count": 2,
   "metadata": {},
   "outputs": [
    {
     "data": {
      "text/html": [
       "<div>\n",
       "<style scoped>\n",
       "    .dataframe tbody tr th:only-of-type {\n",
       "        vertical-align: middle;\n",
       "    }\n",
       "\n",
       "    .dataframe tbody tr th {\n",
       "        vertical-align: top;\n",
       "    }\n",
       "\n",
       "    .dataframe thead th {\n",
       "        text-align: right;\n",
       "    }\n",
       "</style>\n",
       "<table border=\"1\" class=\"dataframe\">\n",
       "  <thead>\n",
       "    <tr style=\"text-align: right;\">\n",
       "      <th></th>\n",
       "      <th>Tokyo</th>\n",
       "      <th>Osaka</th>\n",
       "      <th>Nagoya</th>\n",
       "    </tr>\n",
       "  </thead>\n",
       "  <tbody>\n",
       "    <tr>\n",
       "      <th>Tokyo,Tokyo</th>\n",
       "      <td>0.405465</td>\n",
       "      <td>0.000000</td>\n",
       "      <td>0.000000</td>\n",
       "    </tr>\n",
       "    <tr>\n",
       "      <th>Tokyo,Osaka</th>\n",
       "      <td>0.202733</td>\n",
       "      <td>0.202733</td>\n",
       "      <td>0.000000</td>\n",
       "    </tr>\n",
       "    <tr>\n",
       "      <th>Osaka,Nagoya</th>\n",
       "      <td>0.000000</td>\n",
       "      <td>0.202733</td>\n",
       "      <td>0.549306</td>\n",
       "    </tr>\n",
       "  </tbody>\n",
       "</table>\n",
       "</div>"
      ],
      "text/plain": [
       "                 Tokyo     Osaka    Nagoya\n",
       "Tokyo,Tokyo   0.405465  0.000000  0.000000\n",
       "Tokyo,Osaka   0.202733  0.202733  0.000000\n",
       "Osaka,Nagoya  0.000000  0.202733  0.549306"
      ]
     },
     "execution_count": 2,
     "metadata": {},
     "output_type": "execute_result"
    }
   ],
   "source": [
    "import pandas as pd\n",
    "\n",
    "terms = [\"Tokyo\", \"Osaka\", \"Nagoya\"]\n",
    "documents = [\"Tokyo,Tokyo\", \"Tokyo,Osaka\", \"Osaka,Nagoya\"]\n",
    "\n",
    "tfidfs = TFIDF(terms, documents).run()\n",
    "df = pd.DataFrame(tfidfs, index=documents, columns=terms)\n",
    "df"
   ]
  },
  {
   "cell_type": "markdown",
   "metadata": {},
   "source": [
    "Nagoyaは他の文章に出現していないため、TFIDF値が最大となっている。"
   ]
  },
  {
   "cell_type": "code",
   "execution_count": null,
   "metadata": {
    "collapsed": true
   },
   "outputs": [],
   "source": []
  }
 ],
 "metadata": {
  "anaconda-cloud": {},
  "kernelspec": {
   "display_name": "Python [Root]",
   "language": "python",
   "name": "Python [Root]"
  },
  "language_info": {
   "codemirror_mode": {
    "name": "ipython",
    "version": 3
   },
   "file_extension": ".py",
   "mimetype": "text/x-python",
   "name": "python",
   "nbconvert_exporter": "python",
   "pygments_lexer": "ipython3",
   "version": "3.5.2"
  }
 },
 "nbformat": 4,
 "nbformat_minor": 1
}
