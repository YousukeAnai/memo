{
 "cells": [
  {
   "cell_type": "markdown",
   "metadata": {},
   "source": [
    "Exercise_1  \n",
    "\n",
    "以下のエントロピーを求めよ。（単位はビットとする。）  \n",
    "ヒント：$log_23 = 1.58$\n",
    "\n",
    "①出る目に偏りのないサイコロをふったとき、出た目を表す確率変数Xのエントロピーを求めよ。  \n",
    "\n",
    "②1と6が$\\frac{1}{3}$の確率で出現し、その他の目は$\\frac{1}{12}$で出るサイコロをふったとき、出た目を表す確率変数Xのエントロピーを求めよ。  \n",
    "\n"
   ]
  },
  {
   "cell_type": "code",
   "execution_count": null,
   "metadata": {
    "collapsed": true
   },
   "outputs": [],
   "source": []
  },
  {
   "cell_type": "markdown",
   "metadata": {},
   "source": [
    "Exercise_2  \n",
    "\n",
    "公平なコインと以下の確率分布に従うサイコロがあるとする。  \n",
    "\n",
    "$\\displaystyle P(1) = \\frac{1}{2}, P(2) = \\frac{1}{4}, P(3) = \\frac{1}{8}, P(4) = \\frac{1}{16}, P(5) = \\frac{1}{32}, P(6) = \\frac{1}{32}$\n",
    "\n",
    "コインを振って出た表と裏を表す確率変数を$X$とし、サイコロの出た目を表す確率変数を$Y$とする。  \n",
    "\n",
    "①エントロピー$H(X)$を求めよ。  \n",
    "\n",
    "②エントロピー$H(Y)$を求めよ。  \n",
    "\n",
    "③エントロピー$H(X, Y)$を求めよ。  \n",
    "\n",
    "※単位はビットとする\n",
    "\n",
    "　　\n",
    "\n"
   ]
  },
  {
   "cell_type": "code",
   "execution_count": null,
   "metadata": {
    "collapsed": true
   },
   "outputs": [],
   "source": []
  },
  {
   "cell_type": "markdown",
   "metadata": {},
   "source": [
    "Exercise_3  \n",
    "\n",
    "公平なコインAと以下の確率分布に従うコインBとCがあるとする。  \n",
    "\n",
    "$\\displaystyle P_B(表) = \\frac{1}{4}, P_B(裏) = \\frac{3}{4}, P_C(表) = \\frac{1}{8}, P_C(裏) = \\frac{7}{8}$  \n",
    "\n",
    "$\\displaystyle D_{KL}(P_A || P_B)$と$\\displaystyle D_{KL}(P_A || P_C)$はどちらが大きいか。  \n",
    "　　\n",
    "\n",
    "　　\n",
    "  "
   ]
  },
  {
   "cell_type": "code",
   "execution_count": null,
   "metadata": {
    "collapsed": true
   },
   "outputs": [],
   "source": []
  }
 ],
 "metadata": {
  "anaconda-cloud": {},
  "kernelspec": {
   "display_name": "Python 3",
   "language": "python",
   "name": "python3"
  },
  "language_info": {
   "codemirror_mode": {
    "name": "ipython",
    "version": 3
   },
   "file_extension": ".py",
   "mimetype": "text/x-python",
   "name": "python",
   "nbconvert_exporter": "python",
   "pygments_lexer": "ipython3",
   "version": "3.6.5"
  }
 },
 "nbformat": 4,
 "nbformat_minor": 1
}
