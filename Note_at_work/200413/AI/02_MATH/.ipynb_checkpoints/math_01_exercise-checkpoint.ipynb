{
 "cells": [
  {
   "cell_type": "markdown",
   "metadata": {},
   "source": [
    "Exercise_1  \n",
    "計算せよ  \n",
    "\n",
    "①  $ 2^4 ÷ 2^{-5} × 2^6 $  \n",
    "\n",
    "②  $\\displaystyle \\frac{8^{-6}}{8^{-4}}$  \n",
    "\n",
    "③  $\\displaystyle2log_2{\\sqrt{12}} + log_2{\\frac{4}{3}}$  "
   ]
  },
  {
   "cell_type": "code",
   "execution_count": null,
   "metadata": {
    "collapsed": true
   },
   "outputs": [],
   "source": []
  },
  {
   "cell_type": "markdown",
   "metadata": {},
   "source": [
    "Exercise_2  \n",
    "微分せよ  \n",
    "\n",
    "①  $ f(x) = 3x^4 - 2x^3 + 4x -5$  \n",
    "\n",
    "②  $ f(x) = 3x^6 - 2x^5 - 8x + 9$  \n",
    "\n",
    "③  $ f(x) = (x^2 + 2x - 3) (2x - 1)$  \n",
    "\n",
    "④ $ f(x) = \\frac{2x + 5}{x^2 + 1} $　　\n",
    "\n",
    "⑤ $ f(x) = (2x^3-x-1)^3 $　　\n",
    "\n",
    "⑥ $ f(x) = \\sqrt[4]{x^5} $　　\n",
    "\n",
    "⑦ $ f(x) = \\sqrt{2x^2 - 3} $　　\n",
    "\n",
    "⑧ $ f(x) = (log x)^2 $  \n",
    "\n",
    "⑨ $ f(x) = x(log x) $  \n",
    "\n",
    "⑩ $ f(x) = e ^ {-3x}$  \n",
    "\n",
    "11 $ f(x) = xe ^ x$\n",
    "\n"
   ]
  },
  {
   "cell_type": "code",
   "execution_count": null,
   "metadata": {
    "collapsed": true
   },
   "outputs": [],
   "source": []
  },
  {
   "cell_type": "markdown",
   "metadata": {},
   "source": [
    "Exercise_3  \n",
    "zをxとyで偏微分せよ  \n",
    "\n",
    "例: $z = x - 2y$  \n",
    "\n",
    "$\\displaystyle \\frac{\\partial z}{\\partial x} = 1 $  \n",
    "$\\displaystyle \\frac{\\partial z}{\\partial y} = -2 $\n",
    "\n",
    "① $ z = x^2 -3xy + 2y^2 $  \n",
    "\n",
    "② $\\displaystyle z = \\frac{x-y}{x+y} $  \n",
    "\n",
    "③ $ z = \\sqrt{3x-4y} $  \n",
    "\n",
    "④ $ z = e^{xy} $  \n",
    "\n",
    "⑤ $ z = log (x - y) $  \n",
    "\n"
   ]
  },
  {
   "cell_type": "code",
   "execution_count": null,
   "metadata": {
    "collapsed": true
   },
   "outputs": [],
   "source": []
  },
  {
   "cell_type": "markdown",
   "metadata": {},
   "source": [
    "Exercise_4  \n",
    "積分せよ  \n",
    "① $\\displaystyle  \\int^2_1 x^2 dx $\n",
    "\n",
    "② $\\displaystyle  \\int^1_0 (x^4 + 4x^3 + 2x^2 - x + 5)dx $\n",
    "\n",
    "③ $\\displaystyle \\int^1_0 (2x + 1)^4 dx $  \n",
    "\n",
    "④ $\\displaystyle \\int^1_0 \\int^1_0 xy dxdy $  \n",
    "\n"
   ]
  },
  {
   "cell_type": "code",
   "execution_count": null,
   "metadata": {
    "collapsed": true
   },
   "outputs": [],
   "source": []
  },
  {
   "cell_type": "markdown",
   "metadata": {},
   "source": [
    "Exercise5\n",
    "\n",
    "単回帰におけるパラメータの更新式は以下である。\n",
    "\n",
    "$ \\theta_0 := \\theta_0 - \\eta \\sum_{i=1}^{n} (f_\\theta(x^{(i)})-y^{(i)})$  \n",
    "\n",
    "$ \\theta_1 := \\theta_1 - \\eta \\sum_{i=1}^{n} (f_\\theta(x^{(i)})-y^{(i)})・x^{(i)}$  \n",
    "\n",
    "以下のMyRegressionというクラスの ###パラメータ更新部### を記述し、単回帰モデルを完成させよ。"
   ]
  },
  {
   "cell_type": "code",
   "execution_count": null,
   "metadata": {},
   "outputs": [],
   "source": [
    "%matplotlib inline\n",
    "import matplotlib.pyplot as plt\n",
    "import numpy as np\n",
    "import pandas as pd\n",
    "import random\n",
    "\n",
    "class MyRegression():\n",
    "\n",
    "    def __init__(self, ETA=0.001, cnt=10000):\n",
    "        \"\"\"\n",
    "        コンストラクタ\n",
    "        \"\"\"\n",
    "        self.ETA = ETA\n",
    "        self.cnt = cnt\n",
    "        self.loss = 0\n",
    "        self.theta_0 = random.random()\n",
    "        self.theta_1 = random.random()\n",
    "    \n",
    "    def f(self, X):\n",
    "        \"\"\"\n",
    "        モデル部分\n",
    "        \"\"\"\n",
    "        return self.theta_0 + self.theta_1 * X\n",
    "\n",
    "    \n",
    "    def E(self, X, y):\n",
    "        \"\"\"\n",
    "        目的関数\n",
    "        \"\"\"\n",
    "        return 0.5 * sum((y - self.f(X)) ** 2)\n",
    "    \n",
    "\n",
    "    def fit(self, X, y):\n",
    "        \"\"\"\n",
    "        学習\n",
    "        \"\"\"\n",
    "        self.loss = self.E(X, y)\n",
    "        self.__print(0)\n",
    "        for i in range(self.cnt):\n",
    "            \"\"\"\n",
    "            ###パラメータ更新部###\n",
    "            \"\"\"\n",
    "            \n",
    "            if (i+1) % 200 == 0:\n",
    "                self.loss = self.E(X, y)\n",
    "                self.__print(i)\n",
    "                \n",
    "    def predict(self, X):\n",
    "        \"\"\"\n",
    "        予測\n",
    "        \"\"\"\n",
    "        return self.f(X)\n",
    "        \n",
    "\n",
    "    def __print(self, cnt):\n",
    "        \"\"\"\n",
    "        ログ出力\n",
    "        \"\"\"\n",
    "        print(\"cnt:{}, theta_0:{:.2f}, theta_1:{:.2f}, loss:{}\".format(cnt, self.theta_0, self.theta_1, self.loss))\n",
    "\n",
    "\n",
    "train_X = np.array([1, 2, 3, 4, 5])\n",
    "train_y = np.array([20.2, 24.2, 32.4, 36.4, 40.1])\n",
    "\n",
    "reg = MyRegression()\n",
    "reg.fit(train_X, train_y)\n",
    "\n",
    "plt.scatter(train_X, train_y)\n",
    "plt.plot(train_X, reg.predict(train_X), color=\"r\")"
   ]
  },
  {
   "cell_type": "code",
   "execution_count": null,
   "metadata": {
    "collapsed": true
   },
   "outputs": [],
   "source": []
  }
 ],
 "metadata": {
  "anaconda-cloud": {},
  "kernelspec": {
   "display_name": "Python 3",
   "language": "python",
   "name": "python3"
  },
  "language_info": {
   "codemirror_mode": {
    "name": "ipython",
    "version": 3
   },
   "file_extension": ".py",
   "mimetype": "text/x-python",
   "name": "python",
   "nbconvert_exporter": "python",
   "pygments_lexer": "ipython3",
   "version": "3.6.5"
  }
 },
 "nbformat": 4,
 "nbformat_minor": 1
}
