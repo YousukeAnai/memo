{
 "cells": [
  {
   "cell_type": "markdown",
   "metadata": {},
   "source": [
    "Exercise_1    \n",
    "  \n",
    "① A,B,C,D,E,F,Gの7人から、マネージャー、リーダー、書記の3人を決める場合の総数を求めよ  \n",
    "\n",
    "② A,B,C,D,E,F,Gの7人から、3人を選ぶ場合の総数を求めよ  \n",
    "\n",
    "③ 以下の赤い経路において、左下から右上に至る最短経路は何通りあるか  \n"
   ]
  },
  {
   "cell_type": "code",
   "execution_count": 1,
   "metadata": {},
   "outputs": [
    {
     "data": {
      "image/png": "[encoded data removed]",
      "text/plain": [
       "<Figure size 600x400 with 1 Axes>"
      ]
     },
     "metadata": {},
     "output_type": "display_data"
    }
   ],
   "source": [
    "%matplotlib inline\n",
    "import matplotlib.pyplot as plt\n",
    "X = [1,2,3,4,5]\n",
    "Y = [1,2,3,4]\n",
    "for i in Y:\n",
    "    plt.plot(X, [i]*len(X), color=\"r\")\n",
    "for i in X:\n",
    "    plt.plot([i]*len(Y), Y, color=\"r\")\n",
    "ax = plt.gca()\n",
    "ax.set_xlim(0, len(X)+1)\n",
    "ax.set_ylim(0, len(Y)+1)\n",
    "plt.show()"
   ]
  },
  {
   "cell_type": "code",
   "execution_count": null,
   "metadata": {
    "collapsed": true
   },
   "outputs": [],
   "source": []
  },
  {
   "cell_type": "markdown",
   "metadata": {},
   "source": [
    "Exercise_2  \n",
    "じゃんけんで勝つ確率が$\\frac{1}{3}$の時、3回じゃんけんして1回勝つ確率を求めよ。"
   ]
  },
  {
   "cell_type": "code",
   "execution_count": null,
   "metadata": {
    "collapsed": true
   },
   "outputs": [],
   "source": []
  },
  {
   "cell_type": "markdown",
   "metadata": {},
   "source": [
    "Exercise_3  \n",
    "1から3の目が赤色で塗られており、4から6の目は青色で塗られているさいころがある。今、このさいころを投げて青色の目が出た時、この目が偶数である確率を求めよ。  "
   ]
  },
  {
   "cell_type": "code",
   "execution_count": null,
   "metadata": {
    "collapsed": true
   },
   "outputs": [],
   "source": []
  },
  {
   "cell_type": "markdown",
   "metadata": {
    "collapsed": true
   },
   "source": [
    "Exercise4  \n",
    "\n",
    "①分散$V[aX-b] = a^2V[X]$を証明せよ。  \n",
    "\n",
    "②分散$V[X] = E[X^2] - E[X]^2$を証明せよ。    \n",
    "\n",
    "③$h(c) = E[(X-c)^2]$とする。$h(c)$を最小にするcを求めよ。  \n",
    "\n",
    "　　\n"
   ]
  },
  {
   "cell_type": "code",
   "execution_count": null,
   "metadata": {
    "collapsed": true
   },
   "outputs": [],
   "source": []
  },
  {
   "cell_type": "markdown",
   "metadata": {
    "collapsed": true
   },
   "source": [
    "Exercise5  \n",
    "\n",
    "①二項分布は試行回数を$n$、成功する確率を$p$とすると、期待値は$np$、分散は$np(1-p)$で表せる。  \n",
    "今、$E[X]=10$、$V[X]=6$の時、二項分布$B(n,p)$を求めよ。  \n",
    "\n",
    "②$X$が次の確率密度関数$f(x)$を持つ分布に従う時、$a$の値を求めよ。  \n",
    "\n",
    "$\\begin{equation}\n",
    "f(x)= \\left \\{\n",
    "\\begin{array}{l}\n",
    "ax^2　(0 \\leqq x \\leqq 1) \\\\\n",
    "0　(x < 0, 1 < x)\n",
    "\\end{array}\n",
    "\\right.\n",
    "\\end{equation}\n",
    "$\n",
    "\n",
    "　　\n",
    "\n"
   ]
  },
  {
   "cell_type": "code",
   "execution_count": null,
   "metadata": {
    "collapsed": true
   },
   "outputs": [],
   "source": []
  },
  {
   "cell_type": "markdown",
   "metadata": {},
   "source": [
    "Exercise_6  \n",
    "Aさんは平日は５日のうち2回、土日は2日のうち１回運動する。Aさんが運動した時、土日である確率を求めよ。  "
   ]
  },
  {
   "cell_type": "code",
   "execution_count": null,
   "metadata": {
    "collapsed": true
   },
   "outputs": [],
   "source": []
  },
  {
   "cell_type": "markdown",
   "metadata": {
    "collapsed": true
   },
   "source": [
    "Exercise_7  \n",
    "箱1には赤玉4つと白玉1つが入っている。  \n",
    "箱2には赤玉2つと白玉3つが入っている。  \n",
    "箱1と2の区別がつかない箱があり、そこから無作為に1つ玉を取り出しては戻すという試行を3回行った。  \n",
    "赤→白→赤と玉が出た場合、この箱が箱1である確率を求めよ。  \n",
    "\n",
    "$H_1$:箱1から玉が取り出させる  \n",
    "$H_2$:箱2から玉が取り出させる  \n",
    "$R$:取り出した玉が赤色  \n",
    "$W$:取り出した玉が白色  \n",
    "\n",
    "$P(R | H_1) = \\frac{4}{5}$  \n",
    "$P(W | H_1) = \\frac{1}{5}$  \n",
    "$P(R | H_2) = \\frac{2}{5}$  \n",
    "$P(W | H_2) = \\frac{3}{5}$  \n",
    "\n",
    "事前確率は以下とする。  \n",
    "$P_1(H_1) = \\frac{1}{2}$  \n",
    "$P_1(H_2) = \\frac{1}{2}$  "
   ]
  },
  {
   "cell_type": "code",
   "execution_count": null,
   "metadata": {
    "collapsed": true
   },
   "outputs": [],
   "source": []
  },
  {
   "cell_type": "markdown",
   "metadata": {},
   "source": [
    "Exercise_8  \n",
    "あるメールを調べたら、以下の単語が以下の確率で迷惑メールと通常メールに分類された。  \n",
    "\n",
    "単語; 迷惑メールの確率; 通常メールの確率  \n",
    "秘密; 0.7; 0.1  \n",
    "無料; 0.7; 0.3  \n",
    "統計; 0.2; 0.5  \n",
    "確率; 0.1; 0.4  \n",
    "\n",
    "また、すべてのメールにおいて、迷惑メールの確率は0.6、通常メールの確率は0.4であった。  \n",
    "\n",
    "ここで、あるメールを調べると、「統計、確率」が検出された。このメールは迷惑メールと通常メールとどちらに分類したら良いか？  \n",
    "\n",
    "$H_1$:迷惑メールである  \n",
    "$H_2$:通常メールである  \n",
    "$D_1$:メールに秘密という単語が含まれる  \n",
    "$D_2$:メールに無料という単語が含まれる  \n",
    "$D_3$:メールに統計という単語が含まれる  \n",
    "$D_4$:メールに確率という単語が含まれる  \n",
    "\n",
    "$P(D_1 | H_1) = 0.7$, $P(D_1 | H_2) = 0.1$  \n",
    "$P(D_2 | H_1) = 0.7$, $P(D_2 | H_2) = 0.3$  \n",
    "$P(D_3 | H_1) = 0.2$, $P(D_3 | H_2) = 0.5$  \n",
    "$P(D_4 | H_1) = 0.1$, $P(D_4 | H_2) = 0.4$  \n",
    "\n",
    "事前確率は以下とする。  \n",
    "$P_1(H_1) = 0.6$  \n",
    "$P_1(H_2) = 0.4$  "
   ]
  },
  {
   "cell_type": "code",
   "execution_count": null,
   "metadata": {
    "collapsed": true
   },
   "outputs": [],
   "source": []
  },
  {
   "cell_type": "markdown",
   "metadata": {},
   "source": [
    "Exercise_9  \n",
    "\n",
    "以下をグラフィカルモデルで示せ。  \n",
    "\n",
    "$p(a,b,c,d,e) = p(a)p(b|a)p(c|a,b)p(d|b)p(e|c)$  \n",
    "\n"
   ]
  },
  {
   "cell_type": "code",
   "execution_count": null,
   "metadata": {
    "collapsed": true
   },
   "outputs": [],
   "source": []
  }
 ],
 "metadata": {
  "anaconda-cloud": {},
  "kernelspec": {
   "display_name": "Python 3",
   "language": "python",
   "name": "python3"
  },
  "language_info": {
   "codemirror_mode": {
    "name": "ipython",
    "version": 3
   },
   "file_extension": ".py",
   "mimetype": "text/x-python",
   "name": "python",
   "nbconvert_exporter": "python",
   "pygments_lexer": "ipython3",
   "version": "3.6.5"
  }
 },
 "nbformat": 4,
 "nbformat_minor": 1
}
