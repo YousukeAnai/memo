{
 "cells": [
  {
   "cell_type": "markdown",
   "metadata": {},
   "source": [
    "Exercise_1  \n",
    "計算せよ\n",
    "\n",
    "①　$\\displaystyle \\begin{pmatrix} -1 \\\\ 2 \\\\ 1 \\end{pmatrix} -  \\begin{pmatrix} 2 \\\\ 1 \\\\ 3 \\end{pmatrix}$  \n",
    "\n",
    "②　$\\displaystyle 2\\begin{pmatrix} -1 \\\\ 2 \\\\ 1 \\end{pmatrix} +  3\\begin{pmatrix} 2 \\\\ 1 \\\\ 3 \\end{pmatrix}$"
   ]
  },
  {
   "cell_type": "markdown",
   "metadata": {
    "collapsed": true
   },
   "source": [
    "Answer  \n",
    "\n",
    "①　$\\displaystyle \\begin{pmatrix} -1 \\\\ 2 \\\\ 1 \\end{pmatrix} -  \\begin{pmatrix} 2 \\\\ 1 \\\\ 3 \\end{pmatrix} = \\begin{pmatrix} -3 \\\\ 1 \\\\ -2 \\end{pmatrix}$  \n",
    "\n",
    "②　$\\displaystyle 2\\begin{pmatrix} -1 \\\\ 2 \\\\ 1 \\end{pmatrix} +  3\\begin{pmatrix} 2 \\\\ 1 \\\\ 3 \\end{pmatrix} = \\begin{pmatrix} 4 \\\\ 7 \\\\ 11 \\end{pmatrix}$\n",
    "\n",
    "②　$\\displaystyle 2\\begin{pmatrix} 1 \\\\ 2 \\\\ 3 \\end{pmatrix}  = \\begin{pmatrix} 2 \\\\ 4 \\\\ 6 \\end{pmatrix}$"
   ]
  },
  {
   "cell_type": "code",
   "execution_count": null,
   "metadata": {
    "collapsed": true
   },
   "outputs": [],
   "source": []
  },
  {
   "cell_type": "markdown",
   "metadata": {},
   "source": [
    "Exercise_2\n",
    "計算せよ\n",
    "\n",
    "①$\\begin{pmatrix} 1 & 2 \\\\ 3 & 4 \\end{pmatrix} - \\begin{pmatrix} -2 & -1  \\\\ 1 & 2 \\end{pmatrix}$  \n",
    "\n",
    "②$ 2 \\begin{pmatrix} 1 & 0 & 0 \\\\ 0 & 1 & 0 \\\\ 0 & 0 & 1\\end{pmatrix} + 3\\begin{pmatrix} 2 & 1 & -1 \\\\ 1 & 1 & 1 \\\\ 2 & -1 & 1 \\end{pmatrix}$  "
   ]
  },
  {
   "cell_type": "markdown",
   "metadata": {},
   "source": [
    "Answer \n",
    "\n",
    "①$\\begin{pmatrix} 1 & 2 \\\\ 3 & 4 \\end{pmatrix} - \\begin{pmatrix} -2 & -1  \\\\ 1 & 2 \\end{pmatrix} = \\begin{pmatrix} 3 & 3 \\\\ 2 & 2  \\end{pmatrix}$\n",
    "\n",
    "②$ 2 \\begin{pmatrix} 1 & 0 & 0 \\\\ 0 & 1 & 0 \\\\ 0 & 0 & 1\\end{pmatrix} + 3\\begin{pmatrix} 2 & 1 & -1 \\\\ 1 & 1 & 1 \\\\ 2 & -1 & 1 \\end{pmatrix}$  \n",
    "\n",
    "　$= \\begin{pmatrix} 2 & 0 & 0 \\\\ 0 & 2 & 0 \\\\ 0 & 0 & 2\\end{pmatrix} + \\begin{pmatrix} 6 & 3 & -3 \\\\ 3 & 3 & 3 \\\\ 6 & -3 & 3 \\end{pmatrix}$ \n",
    "\n",
    "　$= \\begin{pmatrix} 8 & 3 & -3 \\\\ 3 & 5 & 3 \\\\ 6 & -3 & 5\\end{pmatrix}$ \n",
    "\n"
   ]
  },
  {
   "cell_type": "code",
   "execution_count": null,
   "metadata": {
    "collapsed": true
   },
   "outputs": [],
   "source": []
  },
  {
   "cell_type": "markdown",
   "metadata": {},
   "source": [
    "Exercise_3  \n",
    "計算せよ  \n",
    "\n",
    "①$\\begin{pmatrix} 2 & 1 \\\\ 1 & 3 \\\\ 1 & -1\\end{pmatrix} \\begin{pmatrix} 1 & -1 & 2 \\\\ 1 & 2 & 3\\end{pmatrix}$  \n",
    "\n",
    "②$\\begin{pmatrix} 4 & -1 & 5 \\\\ 0 & 1 & 2 \\\\ 2 & -1 & 0\\end{pmatrix} \\begin{pmatrix} 2  \\\\ 1 \\\\ -1\\end{pmatrix}$  \n"
   ]
  },
  {
   "cell_type": "markdown",
   "metadata": {},
   "source": [
    "Answer \n",
    "\n",
    "①$\\begin{pmatrix} 2 & 1 \\\\ 1 & 3 \\\\ 1 & -1\\end{pmatrix} \\begin{pmatrix} 1 & -1 & 2 \\\\ 1 & 2 & 3\\end{pmatrix}$  \n",
    "\n",
    "$ = \\begin{pmatrix} 2・1+1・1 & 2・(-1)+1・2 & 2・2 + 1・3 \\\\  1・1+3・1 & 1・(-1)+3・2 & 1・2 + 3・3 \\\\  1・1+(-1)・1 & 1・(-1)+(-1)・2 & 1・2 + (-1)・3 \\end{pmatrix}$  \n",
    "\n",
    "$ = \\begin{pmatrix} 3 & 0 & 7  \\\\  4 & 5 & 11 \\\\  0 & -3 & -1 \\end{pmatrix}$\n",
    "\n",
    "\n",
    "②$\\begin{pmatrix} 4 & -1 & 5 \\\\ 0 & 1 & 2 \\\\ 2 & -1 & 0\\end{pmatrix} \\begin{pmatrix} 2  \\\\ 1 \\\\ -1\\end{pmatrix}$  \n",
    "\n",
    "$ = \\begin{pmatrix} 4・2 + (-1)・1+ 5・(-1) 　\\\\ 0・2 + 1・1　+ 2・(-1)　 \\\\ 2・2 + (-1)・1 + 0・(-1) 　\\end{pmatrix}$\n",
    "\n",
    "$ = \\begin{pmatrix} 2 \\\\ -1 \\\\ 3 \\end{pmatrix}$\n",
    "\n"
   ]
  },
  {
   "cell_type": "code",
   "execution_count": null,
   "metadata": {
    "collapsed": true
   },
   "outputs": [],
   "source": []
  },
  {
   "cell_type": "markdown",
   "metadata": {},
   "source": [
    "Exercise_4  \n",
    "① $ \\overrightarrow {a} = \\begin{pmatrix} 1 \\\\ -2 \\\\ 2 \\end{pmatrix} $ と同じ方向を持つ単位ベクトルを求めよ。  \n",
    "\n",
    "② $ \\overrightarrow {a} = \\begin{pmatrix} 2 \\\\ -3 \\\\ 1 \\end{pmatrix} $、$ \\overrightarrow {b} = \\begin{pmatrix} 1 \\\\ 2 \\\\ 4 \\end{pmatrix} $の時、$ \\overrightarrow {a}$と$\\overrightarrow {b}$が直交するか調べよ。\n",
    "\n"
   ]
  },
  {
   "cell_type": "markdown",
   "metadata": {
    "collapsed": true
   },
   "source": [
    "Answer  \n",
    "①  \n",
    "$\\displaystyle \\pm\\frac{1}{| \\overrightarrow a|}  \\overrightarrow a = \\pm \\frac{1}{\\sqrt{1^2 + (-2)^2 + 2^2}}  \\begin{pmatrix} 1 \\\\ -2 \\\\ 2 \\end{pmatrix} $  \n",
    "\n",
    "　　　$\\displaystyle = \\pm \\frac{1}{3}  \\begin{pmatrix} 1 \\\\ -2 \\\\ 2 \\end{pmatrix} $  \n",
    "   \n",
    "②  \n",
    "$\\displaystyle \\overrightarrow a・\\overrightarrow b =  \\begin{pmatrix} 2 \\\\ -3 \\\\ 1 \\end{pmatrix}・\\begin{pmatrix} 1 \\\\ 2 \\\\ 4 \\end{pmatrix}$  \n",
    "\n",
    "　　　$\\displaystyle = 2・1 + (-3)・2 + 1・4 = 0 $  \n",
    "\n",
    "よって直交する。"
   ]
  },
  {
   "cell_type": "code",
   "execution_count": null,
   "metadata": {
    "collapsed": true
   },
   "outputs": [],
   "source": []
  },
  {
   "cell_type": "markdown",
   "metadata": {},
   "source": [
    "Exercise_5\n",
    "\n",
    "$\\displaystyle A = \\begin{pmatrix} 1 & 2  \\\\ 3 & 4 \\end{pmatrix} B = \\begin{pmatrix} 2 & 1  \\\\ 4 & 0 \\end{pmatrix}$\n",
    "\n",
    "①　$(AB)^T$を求めよ。\n",
    "\n",
    "②　$B^TA^T$を求めよ。\n"
   ]
  },
  {
   "cell_type": "markdown",
   "metadata": {},
   "source": [
    "Answer \n",
    "\n",
    "①  \n",
    "$(AB)^T = \\displaystyle \\left[ \\begin{pmatrix} 1 & 2  \\\\ 3 & 4 \\end{pmatrix}\\begin{pmatrix} 2 & 1  \\\\ 4 & 0 \\end{pmatrix}\\right]^T$  \n",
    "\n",
    "　　　= $\\displaystyle \\begin{pmatrix} 10 & 1  \\\\ 22 & 3 \\end{pmatrix}^T$\n",
    "   \n",
    "　　　= $\\displaystyle \\begin{pmatrix} 10 & 22  \\\\ 1 & 3 \\end{pmatrix}$  \n",
    "   \n",
    "②  \n",
    "$B^TA^T = \\displaystyle \\begin{pmatrix} 2 & 4  \\\\ 1 & 0 \\end{pmatrix}\\begin{pmatrix} 1 & 3  \\\\ 2 & 4 \\end{pmatrix}$  \n",
    "\n",
    "　　　= $\\displaystyle \\begin{pmatrix} 10 & 22  \\\\ 1 & 3 \\end{pmatrix}$  \n",
    "   "
   ]
  },
  {
   "cell_type": "code",
   "execution_count": null,
   "metadata": {
    "collapsed": true
   },
   "outputs": [],
   "source": []
  },
  {
   "cell_type": "markdown",
   "metadata": {},
   "source": [
    "Exercise_6\n",
    "\n",
    "①逆行列を求めよ。  \n",
    "\n",
    "$A = \\begin{pmatrix} 2 & 1 \\\\ -1 & 4\\end{pmatrix}$　　\n",
    "\n",
    "②xは何か。  \n",
    "\n",
    "$A = \\begin{pmatrix} 2 & 1 & -1 \\\\ 1 & -1 & 0 \\\\ 0 & 2 & -1 \\end{pmatrix}$　　\n",
    "\n",
    "$A^{-1} = \\begin{pmatrix} 1 & -1 & -1 \\\\ 1 & -2 & -1 \\\\ x & -4 & -3 \\end{pmatrix}$　　\n",
    "\n",
    "③  \n",
    "$A = \\begin{pmatrix} 2 & 1 & -1 \\\\ 1 & -1 & 0\\end{pmatrix}$の時、$AA^T$を求めよ。\n",
    "\n",
    "④  \n",
    "$A = \\begin{pmatrix} 2 & 1 & -1 \\\\ 1 & -1 & 0\\end{pmatrix}$の時、$A^TA$を求めよ。\n",
    "\n",
    "⑤  \n",
    "$A = \\begin{pmatrix} 4 & -2\\\\ 1 & 1\\end{pmatrix}$は、  \n",
    "\n",
    "$A = P \\cdot \\Lambda \\cdot P^{-1} = \\left(\\begin{array}{ccc} 1 & 2 \\\\ 1 & 1 \\\\\\end{array}\\right) \\left(\\begin{array}{ccc} 2 & 0 \\\\ 0 & 3 \\\\\\end{array}\\right)\\left(\\begin{array}{ccc} -1 & 2 \\\\ 1 & -1 \\\\\\end{array}\\right)　$のように分解できる。\n",
    "\n",
    "$A^n$を求めよ。  "
   ]
  },
  {
   "cell_type": "markdown",
   "metadata": {
    "collapsed": true
   },
   "source": [
    "Answer \n",
    "\n",
    "①  \n",
    "\n",
    "$\\displaystyle A^{-1} = \\frac{1}{2・4 - 1・(-1)} \\begin{pmatrix} 4 & -1 \\\\ 1 & 2\\end{pmatrix}$　　\n",
    "\n",
    "　　$\\displaystyle = \\frac{1}{9} \\begin{pmatrix} 4 & -1 \\\\ 1 & 2\\end{pmatrix}$　　\n",
    "\n",
    "\n",
    "②  \n",
    "$AA^{-1} = \\begin{pmatrix} 2 & 1 & -1 \\\\ 1 & -1 & 0 \\\\ 0 & 2 & -1 \\end{pmatrix} \\begin{pmatrix} 1 & -1 & -1 \\\\ 1 & -2 & -1 \\\\ x & -4 & -3 \\end{pmatrix}$　　\n",
    "\n",
    "　　　$ = \\begin{pmatrix} 2・1 + 1・1 + (-1)・x & 2・(-1) + 1・(-2) + (-1)・(-4) & 2・(-1) + 1・(-1) + (-1)・(-3) \\\\\n",
    "  1・1 + (-1)・1 + 0・x & 1・(-1) + (-1)・(-2) + 0・(-4) & 1・(-1) + (-1)・(-1) + 0・(-3) \\\\\n",
    "  0・1 + 2・1 + (-1)・x & 0・(-1) + 2・(-2) + (-1)・(-4) & 0・(-1) + 2・(-1) + (-1)・(-3)   \n",
    "  \\end{pmatrix}$　　\n",
    "\n",
    "　　　$ = \\begin{pmatrix} 3 - x & 0 & 0 \\\\\n",
    "  0 & 1 & 0 \\\\\n",
    "  2 - x & 0 & 1   \n",
    "  \\end{pmatrix}$　　\n",
    "  \n",
    "$AA^{-1}=E$より、x=2\n",
    "\n",
    "③  \n",
    "$A^T = \\begin{pmatrix} 2 & 1\\\\ 1 & -1 \\\\ -1 & 0 \\end{pmatrix}$より、  \n",
    "\n",
    "$AA^T = \\begin{pmatrix} 2 & 1 & -1 \\\\ 1 & -1 & 0\\end{pmatrix}\\begin{pmatrix} 2 & 1\\\\ 1 & -1 \\\\ -1 & 0 \\end{pmatrix} = \\begin{pmatrix} 6 & 1  \\\\ 1 & 2\\end{pmatrix}$ \n",
    "\n",
    "④  \n",
    "$A^TA = \\begin{pmatrix} 2 & 1\\\\ 1 & -1 \\\\ -1 & 0 \\end{pmatrix}\\begin{pmatrix} 2 & 1 & -1 \\\\ 1 & -1 & 0\\end{pmatrix} = \\begin{pmatrix} 5 & 1 & -2 \\\\ 1 & 2 & -1 \\\\ -2 & -1 & 1\\end{pmatrix}$  \n",
    "\n",
    "⑤    \n",
    "$A^n = P \\cdot \\Lambda \\cdot P^{-1}P \\cdot \\Lambda \\cdot P^{-1}P \\cdot \\Lambda \\cdot P^{-1}・・・P \\cdot \\Lambda \\cdot P^{-1}$ （n個分）    \n",
    "\n",
    "　　$ = P \\cdot \\Lambda^n \\cdot P^{-1}$  \n",
    "  \n",
    "よって、  \n",
    "\n",
    "$ A^n = \\left(\\begin{array}{ccc} 1 & 2 \\\\ 1 & 1 \\\\\\end{array}\\right) \\left(\\begin{array}{ccc} 2^n & 0 \\\\ 0 & 3^n \\\\\\end{array}\\right)\\left(\\begin{array}{ccc} -1 & 2 \\\\ 1 & -1 \\\\\\end{array}\\right)　$  \n",
    "\n",
    "　　$ = \\left(\\begin{array}{ccc} -2^n + 2・3^n & 2^{n+1} - 2・3^n \\\\ -2^n + 3^n & 2^{n+1} - 3^n \\\\\\end{array}\\right)　$  \n",
    "\n"
   ]
  },
  {
   "cell_type": "code",
   "execution_count": null,
   "metadata": {
    "collapsed": true
   },
   "outputs": [],
   "source": []
  },
  {
   "cell_type": "markdown",
   "metadata": {},
   "source": [
    "Exercise_7\n",
    "\n",
    "$A = \\begin{pmatrix} 1 & 1& 0 \\\\ 1 & 1& 0 \\\\ 0 & 0 & 1\\end{pmatrix}$の行列式を求めよ。  \n"
   ]
  },
  {
   "cell_type": "markdown",
   "metadata": {},
   "source": [
    "Answer \n",
    "\n",
    "$A = \\begin{pmatrix} 1 & 1& 0 \\\\ 1 & 1& 0 \\\\ 0 & 0 & 1\\end{pmatrix}$より、  \n",
    "\n",
    "$1・1・1 + 1・0・0 + 0・1・0 - 0・1・0 - 1・0・0 - 1・1・1= 0$\n",
    "\n"
   ]
  },
  {
   "cell_type": "code",
   "execution_count": null,
   "metadata": {
    "collapsed": true
   },
   "outputs": [],
   "source": []
  },
  {
   "cell_type": "markdown",
   "metadata": {},
   "source": [
    "Exercise_8  \n",
    "原点をO、 $ \\overrightarrow a = \\begin{pmatrix} 1 \\\\ 3 \\end{pmatrix}$、$ \\overrightarrow b = \\begin{pmatrix} 1 \\\\ -2 \\end{pmatrix}$とする。  \n",
    "実数k、lに対して、$ \\overrightarrow {OP} = k\\overrightarrow a + l \\overrightarrow b $ とする時、  \n",
    "\n",
    "① $ \\overrightarrow {OP} = \\begin{pmatrix} 0 \\\\ 0 \\end{pmatrix} $ となるk,lを求めよ。  \n",
    "\n",
    "② $ \\overrightarrow {OP} = \\begin{pmatrix} 0 \\\\ 10 \\end{pmatrix} $ となるk,lを求めよ。  \n",
    "\n"
   ]
  },
  {
   "cell_type": "markdown",
   "metadata": {
    "collapsed": true
   },
   "source": [
    "Answer  \n",
    "①$ \\overrightarrow {OP} =  k \\overrightarrow a + l \\overrightarrow b  $\n",
    "\n",
    "　　$ = k \\begin{pmatrix} 1 \\\\ 3 \\end{pmatrix} + l \\begin{pmatrix} 1 \\\\ -2 \\end{pmatrix} $  \n",
    "\n",
    "　　$ = \\begin{pmatrix} k \\\\ 3k \\end{pmatrix} + \\begin{pmatrix} l \\\\ -2l \\end{pmatrix} $  \n",
    "\n",
    "　　$ = \\begin{pmatrix} k + l \\\\ 3k - 2l \\end{pmatrix}  =  \\begin{pmatrix} 0 \\\\ 0 \\end{pmatrix}  $  \n",
    "  \n",
    "よって、 $ k + l = 0 $ と $ 3k - 2l = 0 $　を解けば良いので、 k = 0、 l = 0  \n",
    "\n",
    "\n",
    "②$ \\overrightarrow {OP} =  k \\overrightarrow a + l \\overrightarrow b  $\n",
    "\n",
    "　　$ = k \\begin{pmatrix} 1 \\\\ 3 \\end{pmatrix} + l \\begin{pmatrix} 1 \\\\ -2 \\end{pmatrix} $  \n",
    "\n",
    "　　$ = \\begin{pmatrix} k \\\\ 3k \\end{pmatrix} + \\begin{pmatrix} l \\\\ -2l \\end{pmatrix} $  \n",
    "\n",
    "　　$ = \\begin{pmatrix} k + l \\\\ 3k - 2l \\end{pmatrix}  =  \\begin{pmatrix} 0 \\\\ 0 \\end{pmatrix}  $  \n",
    "  \n",
    "よって、 $ k + l = 0 $ と $ 3k - 2l = 10 $　を解けば良いので、 k = 2、 l = -2"
   ]
  },
  {
   "cell_type": "code",
   "execution_count": null,
   "metadata": {
    "collapsed": true
   },
   "outputs": [],
   "source": []
  },
  {
   "cell_type": "markdown",
   "metadata": {},
   "source": [
    "Exercise_9  \n",
    "原点をO、 $ \\overrightarrow a = \\begin{pmatrix} 1 \\\\ 2 \\end{pmatrix}$、$ \\overrightarrow b = \\begin{pmatrix} 2 \\\\ 4 \\end{pmatrix}$とする。  \n",
    "実数k、lに対して、$ \\overrightarrow {OP} = k\\overrightarrow a + l \\overrightarrow b $ とする時、  \n",
    "\n",
    "① $ \\overrightarrow {OP} = \\begin{pmatrix} 3 \\\\ 4 \\end{pmatrix} $ となるk,lを求めよ。  \n"
   ]
  },
  {
   "cell_type": "markdown",
   "metadata": {
    "collapsed": true
   },
   "source": [
    "Answer  \n",
    "①$ \\overrightarrow {OP} =  k \\overrightarrow a + l \\overrightarrow b  $\n",
    "\n",
    "　　$ = k \\begin{pmatrix} 1 \\\\ 2 \\end{pmatrix} + l \\begin{pmatrix} 2 \\\\ 4 \\end{pmatrix} $  \n",
    "\n",
    "　　$ = \\begin{pmatrix} k \\\\ 2k \\end{pmatrix} + \\begin{pmatrix} 2l \\\\ 4l \\end{pmatrix} $  \n",
    "\n",
    "　　$ = \\begin{pmatrix} k + 2l \\\\ 2k + 4l \\end{pmatrix}  =  \\begin{pmatrix} 3 \\\\ 4 \\end{pmatrix}  $  \n",
    "  \n",
    "よって、 $ k + 2l = 3 $ と $ 2k + 4l = 4 $　を解けば良いので、、、解なし  \n",
    "\n",
    "→$ \\overrightarrow a$と$ \\overrightarrow b $ は基底とならない。"
   ]
  },
  {
   "cell_type": "code",
   "execution_count": null,
   "metadata": {
    "collapsed": true
   },
   "outputs": [],
   "source": []
  },
  {
   "cell_type": "markdown",
   "metadata": {
    "collapsed": true
   },
   "source": [
    "Exercise_10\n",
    "\n",
    "$\\displaystyle P=\\begin{pmatrix} 1 \\\\ 0 \\end{pmatrix}$ に表現行列 $ A=\\begin{pmatrix} \\frac{1}{2} & -\\frac{\\sqrt3}{2} \\\\ \\frac{\\sqrt3}{2}  & \\frac{1}{2} \\end{pmatrix}$ を作用させて新座標Qを求めよ。  \n"
   ]
  },
  {
   "cell_type": "markdown",
   "metadata": {
    "collapsed": true
   },
   "source": [
    "Answer \n",
    "\n",
    "$Q = AP $  \n",
    "\n",
    "$\\displaystyle Q =  \\begin{pmatrix} \\frac{1}{2} & -\\frac{\\sqrt3}{2} \\\\ \\frac{\\sqrt3}{2}  & \\frac{1}{2} \\end{pmatrix} \\begin{pmatrix} 1 \\\\ 0 \\end{pmatrix}$  \n",
    "\n",
    "$\\displaystyle Q =  \\begin{pmatrix} \\frac{1}{2}  \\\\ \\frac{\\sqrt3}{2} \\end{pmatrix}$  \n"
   ]
  },
  {
   "cell_type": "code",
   "execution_count": null,
   "metadata": {
    "collapsed": true
   },
   "outputs": [],
   "source": []
  },
  {
   "cell_type": "markdown",
   "metadata": {
    "collapsed": true
   },
   "source": [
    "Exercise_11\n",
    "\n",
    "$ A=\\begin{pmatrix} 1 & 4 \\\\ 2 & 3 \\end{pmatrix}$ を固有値分解せよ。（ただし、対角行列の成分を左上から$\\lambda_1,\\lambda_2$とした時、$\\lambda_1 > \\lambda_2$となるようにすること。）  \n",
    "\n"
   ]
  },
  {
   "cell_type": "markdown",
   "metadata": {
    "collapsed": true
   },
   "source": [
    "Answer \n",
    "\n",
    "$Ax = \\lambda x$  \n",
    "\n",
    "$（A - \\lambda E）x=0 $ より、　　\n",
    "\n",
    "$ A - \\lambda E = \\begin{pmatrix} 1 - \\lambda　 & 4 \\\\ 2 & 3 - \\lambda \\end{pmatrix} $  \n",
    "\n",
    "行列式=0より、  \n",
    "\n",
    "$ (1- \\lambda)(3-\\lambda) - 4・2 $\n",
    "\n",
    "$ =  \\lambda^2 - 4\\lambda - 5$\n",
    "\n",
    "$ =  (\\lambda + 1)(\\lambda - 5) = 0$\n",
    "\n",
    "よって、$\\lambda  = 5, -1$\n",
    "\n",
    "(i) $\\lambda = 5$のとき\n",
    "  \n",
    "$x_1 = \\left(\\begin{array}{ccc} \\alpha_1 \\\\ \\alpha_2 \\\\\\end{array}\\right)$ とすると、 \n",
    "\n",
    "$（A - \\lambda E）x=0 $  \n",
    "\n",
    "$\\left\\{ \\begin{pmatrix} 1 & 4 \\\\ 2 & 3 \\end{pmatrix} - 5  \\begin{pmatrix} 1 & 0 \\\\ 0 & 1 \\end{pmatrix} \\right\\} \\begin{pmatrix}  \\alpha_1 \\\\ \\alpha_2 \\end{pmatrix}=0 $  \n",
    "\n",
    "$ \\begin{pmatrix} -4 & 4 \\\\ 2 & -2 \\end{pmatrix} \\begin{pmatrix}  \\alpha_1 \\\\ \\alpha_2 \\end{pmatrix}=0 $  \n",
    "\n",
    "よって固有ベクトルは、$ k_1 \\begin{pmatrix} 1 \\\\ 1 \\end{pmatrix} $　 ($k_1$は任意の実数)  \n",
    "\n",
    "(ii) $\\lambda = -1$のとき\n",
    "  \n",
    "$x_2 = \\left(\\begin{array}{ccc} \\beta_1 \\\\ \\beta_2 \\\\\\end{array}\\right)$ とすると、 \n",
    "\n",
    "$（A - \\lambda E）x=0 $  \n",
    "\n",
    "$\\left\\{ \\begin{pmatrix} 1 & 4 \\\\ 2 & 3 \\end{pmatrix} - (-1)  \\begin{pmatrix} 1 & 0 \\\\ 0 & 1 \\end{pmatrix} \\right\\} \\begin{pmatrix}  \\beta_1 \\\\ \\beta_2 \\end{pmatrix}=0 $  \n",
    "\n",
    "$ \\begin{pmatrix} 2 & 4 \\\\ 2 & 4 \\end{pmatrix} \\begin{pmatrix}  \\beta_1 \\\\ \\beta_2 \\end{pmatrix}=0 $  \n",
    "\n",
    "よって固有ベクトルは、$ k_2 \\begin{pmatrix} 2 \\\\ -1 \\end{pmatrix} $　 ($k_2$は任意の実数)\n",
    "\n",
    "(i)、(ii)より、\n",
    "\n",
    "$ P = \\begin{pmatrix} 1 & 2 \\\\ 1 & -1 \\end{pmatrix} $  \n",
    "\n",
    "ここで、$\\displaystyle P^{-1} = \\frac{1}{1・(-1) - 2・1}\\begin{pmatrix} -1 & -2 \\\\ -1 & 1 \\end{pmatrix}$  \n",
    "\n",
    "　　　　　　$\\displaystyle = \\begin{pmatrix} \\frac{1}{3} & \\frac{2}{3} \\\\ \\frac{1}{3} & -\\frac{1}{3} \\end{pmatrix}$  \n",
    "\n",
    "よって、  \n",
    "\n",
    "$A = \\displaystyle\\begin{pmatrix} 1 & 2 \\\\ 1 & -1 \\end{pmatrix} \\begin{pmatrix} 5 & 0 \\\\ 0 & -1 \\end{pmatrix} \\begin{pmatrix} \\frac{1}{3} & \\frac{2}{3} \\\\ \\frac{1}{3} & -\\frac{1}{3} \\end{pmatrix}$  "
   ]
  },
  {
   "cell_type": "code",
   "execution_count": null,
   "metadata": {
    "collapsed": true
   },
   "outputs": [],
   "source": []
  },
  {
   "cell_type": "markdown",
   "metadata": {},
   "source": [
    "Exercise_12\n",
    "\n",
    "特異値分解せよ。  \n",
    "\n",
    "①$ A=\\begin{pmatrix} 0 & 2 \\\\ 1 & 0 \\end{pmatrix}$  \n",
    "\n",
    "②$ A=\\begin{pmatrix} 1 & 1 & 0 \\\\ 0 & 0 & 1 \\end{pmatrix}$  \n"
   ]
  },
  {
   "cell_type": "markdown",
   "metadata": {},
   "source": [
    "Answer \n",
    "\n",
    "①  \n",
    "$A=UDV^T$を求める。\n",
    "\n",
    "$A^T = \\begin{pmatrix} 0 & 1 \\\\ 2 & 0 \\end{pmatrix}$  \n",
    "\n",
    "よって、  \n",
    "\n",
    "$AA^T = \\begin{pmatrix} 0 & 2 \\\\ 1 & 0 \\end{pmatrix}\\begin{pmatrix} 0 & 1 \\\\ 2 & 0 \\end{pmatrix}$\n",
    "\n",
    "　　$ = \\begin{pmatrix} 4 & 0 \\\\ 0 & 1 \\end{pmatrix}$\n",
    "\n",
    "よって、固有値は、  \n",
    "$ |AA^T - \\lambda E|　= \\left|\\begin{array}{ccc} 4 - \\lambda & 0 \\\\ 0 & 1- \\lambda \\end{array}\\right| = 0$より、  \n",
    "\n",
    "$ (4 - \\lambda)(1 - \\lambda) = 0$  \n",
    "\n",
    "$\\lambda = 4, 1$  \n",
    "\n",
    "(i)$\\lambda = 4$の時、  \n",
    "\n",
    "固有ベクトルを$\\overrightarrow  x_1 = \\left(\\begin{array}{ccc} \\alpha_1 \\\\ \\alpha_2 \\\\\\end{array}\\right)$ とすると、 \n",
    "\n",
    "$\\begin{pmatrix} 0 & 0 \\\\ 0 & -3 \\end{pmatrix} \\left(\\begin{array}{ccc} \\alpha_1 \\\\ \\alpha_2 \\\\\\end{array}\\right) = \\left(\\begin{array}{ccc} 0 \\\\ 0 \\\\\\end{array}\\right)$より、  \n",
    "\n",
    "$\\alpha_2 = 0$となる。$\\alpha_1$は$k_1$を任意の実数として、 $\\alpha_1 = k_1$とする。  \n",
    "\n",
    "$\\overrightarrow  x_1 = k_1\\left(\\begin{array}{ccc} 1 \\\\ 0 \\\\\\end{array}\\right)$  \n",
    "\n",
    "(ii)$\\lambda = 1$の時、  \n",
    "\n",
    "固有ベクトルを$\\overrightarrow  x_2 = \\left(\\begin{array}{ccc} \\beta_1 \\\\ \\beta_2 \\\\\\end{array}\\right)$ とすると、 \n",
    "\n",
    "$\\begin{pmatrix} 3 & 0 \\\\ 0 & 0 \\end{pmatrix} \\left(\\begin{array}{ccc} \\beta_1 \\\\ \\beta_2 \\\\\\end{array}\\right) = \\left(\\begin{array}{ccc} 0 \\\\ 0 \\\\\\end{array}\\right)$より、  \n",
    "\n",
    "$\\beta_1 = 0$となる。$\\beta_2$は$k_2$を任意の実数として、 $\\beta_2 = k_2$とする。  \n",
    "\n",
    "$\\overrightarrow  x_2 = k_2\\left(\\begin{array}{ccc} 0 \\\\ 1 \\\\\\end{array}\\right)$  \n",
    "\n",
    "ここで、固有ベクトルは$A=UDV^T$とした時のUの列ベクトルにあたり、直交行列の各列の大きさは1なので、$k_1=k_2=1$  \n",
    "\n",
    "よって、$U = \\begin{pmatrix} 1 & 0 \\\\ 0 & 1 \\end{pmatrix} $  \n",
    "\n",
    "同様に、\n",
    "\n",
    "$A^TA = \\begin{pmatrix} 0 & 1 \\\\ 2 & 0 \\end{pmatrix}\\begin{pmatrix} 0 & 2 \\\\ 1 & 0 \\end{pmatrix}$\n",
    "\n",
    "　　$ = \\begin{pmatrix} 1 & 0 \\\\ 0 & 4 \\end{pmatrix}$\n",
    "\n",
    "よって、固有値は、  \n",
    "$ |A^TA - \\lambda E|　= \\left|\\begin{array}{ccc} 1 - \\lambda & 0 \\\\ 0 & 4- \\lambda \\end{array}\\right| = 0$より、  \n",
    "\n",
    "$ (1 - \\lambda)(4 - \\lambda) = 0$  \n",
    "\n",
    "$\\lambda = 4, 1$  \n",
    "\n",
    "(i)$\\lambda = 4$の時、  \n",
    "\n",
    "固有ベクトルを$\\overrightarrow  x_1 = \\left(\\begin{array}{ccc} \\alpha_1 \\\\ \\alpha_2 \\\\\\end{array}\\right)$ とすると、 \n",
    "\n",
    "$\\begin{pmatrix} -3 & 0 \\\\ 0 & 0 \\end{pmatrix} \\left(\\begin{array}{ccc} \\alpha_1 \\\\ \\alpha_2 \\\\\\end{array}\\right) = \\left(\\begin{array}{ccc} 0 \\\\ 0 \\\\\\end{array}\\right)$より、  \n",
    "\n",
    "$\\alpha_1 = 0$となる。$\\alpha_2$は$k_1$を任意の実数として、 $\\alpha_2 = k_1$とする。  \n",
    "\n",
    "$\\overrightarrow  x_1 = k_1\\left(\\begin{array}{ccc} 0 \\\\ 1 \\\\\\end{array}\\right)$  \n",
    "\n",
    "(ii)$\\lambda = 1$の時、  \n",
    "\n",
    "固有ベクトルを$\\overrightarrow  x_2 = \\left(\\begin{array}{ccc} \\beta_1 \\\\ \\beta_2 \\\\\\end{array}\\right)$ とすると、 \n",
    "\n",
    "$\\begin{pmatrix} 0 & 0 \\\\ 0 & 3 \\end{pmatrix} \\left(\\begin{array}{ccc} \\beta_1 \\\\ \\beta_2 \\\\\\end{array}\\right) = \\left(\\begin{array}{ccc} 0 \\\\ 0 \\\\\\end{array}\\right)$より、  \n",
    "\n",
    "$\\beta_2 = 0$となる。$\\beta_1$は$k_2$を任意の実数として、 $\\beta_1 = k_2$とする。  \n",
    "\n",
    "$\\overrightarrow  x_2 = k_2\\left(\\begin{array}{ccc} 1 \\\\ 0 \\\\\\end{array}\\right)$  \n",
    "\n",
    "ここで、固有ベクトルは$A=UDV^T$とした時のVの列ベクトルにあたり、直交行列の各列の大きさは1なので、$k_1=k_2=1$  \n",
    "\n",
    "よって、$V = \\begin{pmatrix} 0 & 1 \\\\ 1 & 0 \\end{pmatrix} $  \n",
    "\n",
    "また、特異値は$\\lambda_1 = \\sqrt{4} = 2,  \\lambda_2 = \\sqrt{1} = 1$\n",
    "\n",
    "以上より、  \n",
    "\n",
    "$A=UDV^T$  \n",
    "\n",
    "　$=\\begin{pmatrix} 1 & 0 \\\\ 0 & 1 \\end{pmatrix}\\begin{pmatrix} 2 & 0 \\\\ 0 & 1 \\end{pmatrix}\\begin{pmatrix} 0 & 1 \\\\ 1 & 0 \\end{pmatrix}$  \n",
    "\n",
    "\n",
    "②  \n",
    "$A=UDV^T$を求める。\n",
    "\n",
    "$A^T = \\begin{pmatrix} 1 & 0 \\\\ 1 & 0 \\\\ 0 & 1 \\end{pmatrix}$  \n",
    "\n",
    "よって、  \n",
    "\n",
    "$AA^T =\\begin{pmatrix} 1 & 1 & 0 \\\\ 0 & 0 & 1 \\end{pmatrix}\\begin{pmatrix} 1 & 0 \\\\ 1 & 0 \\\\ 0 & 1 \\end{pmatrix}$\n",
    "\n",
    "　　$ = \\begin{pmatrix} 2 & 0 \\\\ 0 & 1 \\end{pmatrix}$\n",
    "\n",
    "よって、固有値は、  \n",
    "$ |AA^T - \\lambda E|　= \\left|\\begin{array}{ccc} 2 - \\lambda & 0 \\\\ 0 & 1- \\lambda \\end{array}\\right| = 0$より、  \n",
    "\n",
    "$ (2 - \\lambda)(1 - \\lambda) = 0$  \n",
    "\n",
    "$\\lambda = 2, 1$  \n",
    "\n",
    "(i)$\\lambda = 2$の時、  \n",
    "\n",
    "固有ベクトルを$\\overrightarrow  x_1 = \\left(\\begin{array}{ccc} \\alpha_1 \\\\ \\alpha_2 \\\\\\end{array}\\right)$ とすると、 \n",
    "\n",
    "$\\begin{pmatrix} 0 & 0 \\\\ 0 & -1 \\end{pmatrix} \\left(\\begin{array}{ccc} \\alpha_1 \\\\ \\alpha_2 \\\\\\end{array}\\right) = \\left(\\begin{array}{ccc} 0 \\\\ 0 \\\\\\end{array}\\right)$より、  \n",
    "\n",
    "$\\alpha_2 = 0$となる。$\\alpha_1$は$k_1$を任意の実数として、 $\\alpha_1 = k_1$とする。  \n",
    "\n",
    "$\\overrightarrow  x_1 = k_1\\left(\\begin{array}{ccc} 1 \\\\ 0 \\\\\\end{array}\\right)$  \n",
    "\n",
    "(ii)$\\lambda = 1$の時、  \n",
    "\n",
    "固有ベクトルを$\\overrightarrow  x_2 = \\left(\\begin{array}{ccc} \\beta_1 \\\\ \\beta_2 \\\\\\end{array}\\right)$ とすると、 \n",
    "\n",
    "$\\begin{pmatrix} 1 & 0 \\\\ 0 & 0 \\end{pmatrix} \\left(\\begin{array}{ccc} \\beta_1 \\\\ \\beta_2 \\\\\\end{array}\\right) = \\left(\\begin{array}{ccc} 0 \\\\ 0 \\\\\\end{array}\\right)$より、  \n",
    "\n",
    "$\\beta_1 = 0$となる。$\\beta_2$は$k_2$を任意の実数として、 $\\beta_2 = k_2$とする。  \n",
    "\n",
    "$\\overrightarrow  x_2 = k_2\\left(\\begin{array}{ccc} 0 \\\\ 1 \\\\\\end{array}\\right)$  \n",
    "\n",
    "ここで、固有ベクトルは$A=UDV^T$とした時のUの列ベクトルにあたり、直交行列の各列の大きさは1なので、$k_1=k_2=1$  \n",
    "\n",
    "よって、$U = \\begin{pmatrix} 1 & 0 \\\\ 0 & 1 \\end{pmatrix} $  \n",
    "\n",
    "同様に、\n",
    "\n",
    "$A^TA =\\begin{pmatrix} 1 & 0 \\\\ 1 & 0 \\\\ 0 & 1 \\end{pmatrix}\\begin{pmatrix} 1 & 1 & 0 \\\\ 0 & 0 & 1 \\end{pmatrix}$\n",
    "\n",
    "　　$ = \\begin{pmatrix} 1 & 1 & 0 \\\\ 1 & 1 & 0 \\\\ 0 & 0 & 1 \\end{pmatrix}$\n",
    "\n",
    "よって、固有値は、  \n",
    "$ |A^TA - \\lambda E|　= \\left|\\begin{array}{ccc} 1 - \\lambda & 1 & 0 \\\\ 1 & 1- \\lambda & 0 \\\\ 0 & 0 & 1 - \\lambda \\end{array}\\right| = 0$より、  \n",
    "\n",
    "サラスの公式より  \n",
    "$ (1 - \\lambda)(1 - \\lambda)(1 - \\lambda) + 1・0・0 + 0・1・0 - 0・1・0 - (1 - \\lambda)・0・0 - 1・1・(1 - \\lambda) = 0$  \n",
    "\n",
    "$ (1 - \\lambda)^3 - (1 - \\lambda) = 0$  \n",
    "\n",
    "$ (1 - \\lambda)\\{(1 - \\lambda)^2 - 1)\\} = 0$  \n",
    "\n",
    "$ (1 - \\lambda)\\{(1 - \\lambda) + 1\\}\\{(1 - \\lambda) - 1\\} = 0$  \n",
    "\n",
    "$ (1 - \\lambda)(2 - \\lambda)\\lambda = 0$  \n",
    "\n",
    "\n",
    "$\\lambda = 2, 1, 0$  \n",
    "\n",
    "(i)$\\lambda = 2$の時、  \n",
    "\n",
    "固有ベクトルを$\\overrightarrow  x_1 = \\left(\\begin{array}{ccc} \\alpha_1 \\\\ \\alpha_2 \\\\ \\alpha_3 \\\\\\end{array}\\right)$ とすると、 \n",
    "\n",
    "$\\begin{pmatrix} -1 & 1 & 0 \\\\ 1 & -1 & 0 \\\\ 0 & 0 & -1 \\end{pmatrix} \\left(\\begin{array}{ccc} \\alpha_1 \\\\ \\alpha_2 \\\\ \\alpha_3 \\\\\\end{array}\\right) = \\left(\\begin{array}{ccc} 0 \\\\ 0 \\\\ 0 \\end{array}\\right)$より、  \n",
    "\n",
    "$\\begin{equation}\n",
    "\\left \\{\n",
    "\\begin{array}{l}\n",
    "-\\alpha_1 + \\alpha_2 = 0 \\\\\n",
    "\\alpha_1 - \\alpha_2 = 0 \\\\\n",
    "-\\alpha_3 = 0 \\\\\n",
    "\\end{array}\n",
    "\\right.\n",
    "\\end{equation}$\n",
    "\n",
    "$k_1$を任意の実数として、$\\alpha_1 = k_1$とすると、$\\alpha_1 = \\alpha_2 = k_1$、また、$\\alpha_3 = 0$より、\n",
    "\n",
    "$\\overrightarrow  x_1 = k_1\\left(\\begin{array}{ccc} 1 \\\\ 1 \\\\ 0 \\end{array}\\right)$  \n",
    "\n",
    "ここで、固有ベクトルは$A=UDV^T$とした時のVの列ベクトルにあたり、直交行列の各列の大きさは1なので、$k_1=\\frac{1}{\\sqrt{2}}$  \n",
    "\n",
    "よって、$\\overrightarrow  x_1 = \\left(\\begin{array}{ccc} \\frac{1}{\\sqrt{2}} \\\\ \\frac{1}{\\sqrt{2}} \\\\ 0 \\end{array}\\right)$  \n",
    "\n",
    "(ii)$\\lambda = 1$の時、  \n",
    "\n",
    "固有ベクトルを$\\overrightarrow  x_2 = \\left(\\begin{array}{ccc} \\beta_1 \\\\ \\beta_2 \\\\ \\beta_3 \\end{array}\\right)$ とすると、 \n",
    "\n",
    "$\\begin{pmatrix} 0 & 1 & 0 \\\\ 1 & 0 & 0 \\\\ 0 & 0 & 0 \\end{pmatrix} \\left(\\begin{array}{ccc} \\beta_1 \\\\ \\beta_2 \\\\ \\beta_3\\end{array}\\right) = \\left(\\begin{array}{ccc} 0 \\\\ 0 \\\\ 0 \\end{array}\\right)$より、  \n",
    "\n",
    "$\\begin{equation}\n",
    "\\left \\{\n",
    "\\begin{array}{l}\n",
    "\\beta_2 = 0 \\\\\n",
    "\\beta_1 = 0 \\\\\n",
    "\\end{array}\n",
    "\\right.\n",
    "\\end{equation}$\n",
    "\n",
    "$\\beta_1 = \\beta_2 = 0$となる。$\\beta_3$は$k_2$を任意の実数として、 $\\beta_3 = k_2$とする。  \n",
    "\n",
    "$\\overrightarrow  x_2 = k_2\\left(\\begin{array}{ccc} 0 \\\\ 0 \\\\ 1\\end{array}\\right)$  \n",
    "\n",
    "ここで、固有ベクトルは$A=UDV^T$とした時のVの列ベクトルにあたり、直交行列の各列の大きさは1なので、$k_2=1$  \n",
    "\n",
    "よって、$\\overrightarrow  x_2 = \\left(\\begin{array}{ccc} 0 \\\\ 0 \\\\ 1 \\end{array}\\right)$  \n",
    "\n",
    "(iii)$\\lambda = 0$の時、  \n",
    "\n",
    "固有ベクトルを$\\overrightarrow  x_3 = \\left(\\begin{array}{ccc} \\gamma_1 \\\\ \\gamma_2\\\\ \\gamma_3 \\end{array}\\right)$ とすると、 \n",
    "\n",
    "$\\begin{pmatrix} 1 & 1 & 0 \\\\ 1 & 1 & 0 \\\\ 0 & 0 & 1 \\end{pmatrix} \\left(\\begin{array}{ccc} \\gamma_1 \\\\ \\gamma_2 \\\\ \\gamma_3\\end{array}\\right) = \\left(\\begin{array}{ccc} 0 \\\\ 0 \\\\ 0 \\end{array}\\right)$より、  \n",
    "\n",
    "$\\begin{equation}\n",
    "\\left \\{\n",
    "\\begin{array}{l}\n",
    "\\gamma_1 + \\gamma_2 = 0 \\\\\n",
    "\\gamma_1 + \\gamma_2 = 0 \\\\\n",
    "\\gamma_3 = 0 \\\\\n",
    "\\end{array}\n",
    "\\right.\n",
    "\\end{equation}$\n",
    "\n",
    "$k_3$を任意の実数として、$\\gamma_1 = k_3$とすると、$\\gamma_1 =  - \\gamma_2 = k_3$、また、$\\gamma_3 = 0$より、\n",
    "\n",
    "$\\overrightarrow  x_3 = k_3\\left(\\begin{array}{ccc} 1 \\\\ -1 \\\\ 0\\end{array}\\right)$  \n",
    "\n",
    "ここで、固有ベクトルは$A=UDV^T$とした時のVの列ベクトルにあたり、直交行列の各列の大きさは1なので、$k_3= \\frac{1}{\\sqrt{2}}$  \n",
    "\n",
    "よって、$\\overrightarrow  x_3 = \\left(\\begin{array}{ccc}  \\frac{1}{\\sqrt{2}} \\\\ - \\frac{1}{\\sqrt{2}} \\\\ 0 \\end{array}\\right)$  \n",
    "\n",
    "\n",
    "\n",
    "したがって、$V = \\begin{pmatrix} \\frac{1}{\\sqrt{2}} &  0 & \\frac{1}{\\sqrt{2}} \\\\ \\frac{1}{\\sqrt{2}} &  0 & - \\frac{1}{\\sqrt{2}} \\\\ 0 & 1 & 0\\end{pmatrix} $  \n",
    "\n",
    "よって、$V^T = \\begin{pmatrix} \\frac{1}{\\sqrt{2}} &  \\frac{1}{\\sqrt{2}} & 0 \\\\ 0 &  0 & 1 \\\\ \\frac{1}{\\sqrt{2}} & -\\frac{1}{\\sqrt{2}} & 0\\end{pmatrix} $\n",
    "\n",
    "また、特異値は$\\lambda_1 = \\sqrt{2},  \\lambda_2 = 1$\n",
    "\n",
    "以上より、  \n",
    "\n",
    "$A=UDV^T$  \n",
    "\n",
    "　$=\\begin{pmatrix} 1 & 0 \\\\ 0 & 1 \\end{pmatrix}\\begin{pmatrix} \\sqrt{2} & 0 & 0 \\\\ 0 & 1 & 0 \\end{pmatrix}\\begin{pmatrix} \\frac{1}{\\sqrt{2}} &  \\frac{1}{\\sqrt{2}} & 0 \\\\ 0 &  0 & 1 \\\\ \\frac{1}{\\sqrt{2}} & -\\frac{1}{\\sqrt{2}} & 0\\end{pmatrix}$  \n"
   ]
  },
  {
   "cell_type": "code",
   "execution_count": null,
   "metadata": {
    "collapsed": true
   },
   "outputs": [],
   "source": []
  },
  {
   "cell_type": "markdown",
   "metadata": {},
   "source": [
    "Exercise_13\n",
    "\n",
    "$ A=\\begin{pmatrix} 1 & 2 \\\\ 3 & 4 \\end{pmatrix}$とする。  \n",
    "\n",
    "①$A$のフロベニウスノルムを求めよ。  \n",
    "\n",
    "②$AA^T$のトレースの平方根を求めよ。  "
   ]
  },
  {
   "cell_type": "markdown",
   "metadata": {
    "collapsed": true
   },
   "source": [
    "Answer \n",
    "\n",
    "①  \n",
    "$\\|A\\|_{\\mathrm{F}}=\\sqrt{\\displaystyle\\sum_{i,j}a_{ij}^2}$より  \n",
    "\n",
    "　　　$=\\sqrt{\\displaystyle 1^2 + 2^2 + 3^2 + 4^2}$  \n",
    "\n",
    "　　　$=\\sqrt{\\displaystyle 30}$  \n",
    "\n",
    "②\n",
    "$ A^T = \\begin{pmatrix} 1 & 3 \\\\ 2 & 4 \\end{pmatrix}$より  \n",
    "\n",
    "$ AA^T = \\begin{pmatrix} 1 & 2 \\\\ 3 & 4 \\end{pmatrix}\\begin{pmatrix} 1 & 3 \\\\ 2 & 4 \\end{pmatrix}$  \n",
    "\n",
    "　　　$=\\begin{pmatrix} 5 & 11 \\\\11 & 25 \\end{pmatrix}$  \n",
    "\n",
    "よって、  \n",
    "$ \\sqrt{\\displaystyle tr(AA^T)} =  \\sqrt{5 + 25} =  \\sqrt{30}$  \n",
    "\n"
   ]
  },
  {
   "cell_type": "code",
   "execution_count": null,
   "metadata": {
    "collapsed": true
   },
   "outputs": [],
   "source": []
  },
  {
   "cell_type": "markdown",
   "metadata": {},
   "source": [
    "Exercise_14\n",
    "\n",
    "非負値行列分解(NMF：Nonnegative Matrix Factorization) と呼ばれる行列を非負の行列の積に分解する手法がある。  \n",
    "\n",
    "$V \\simeq HW$  \n",
    "\n",
    "以下の目的関数を考え、その誤差を最小化していく。  \n",
    "\n",
    "$E = |V - HW|^2$  \n",
    "\n",
    "　$\\displaystyle  = \\sum_{m, n}|V_{m,n} - \\sum_{k}H_{m, k}W_{k, n}|^{2} $  \n",
    " \n",
    "$V \\simeq HW$とすると、  \n",
    "\n",
    "NMFのパタメータ更新は以下となる。  \n",
    "\n",
    "$ H = H \\frac{VW^T}{HWW^T} $  \n",
    "\n",
    "$ W = W \\frac{H^TV}{H^THW} $  \n",
    "\n",
    "以下のコードを実行するために、パラメータを更新するupdate関数を作成せよ。"
   ]
  },
  {
   "cell_type": "code",
   "execution_count": 1,
   "metadata": {
    "collapsed": true
   },
   "outputs": [],
   "source": [
    "# Write your answer\n",
    "def update(V, H, W):\n",
    "    VW = np.dot(V,W.T)\n",
    "    HWW = np.dot(H,np.dot(W,W.T))\n",
    "    H = H * VW / HWW\n",
    "    \n",
    "    HV = np.dot(H.T,V)\n",
    "    HHW = np.dot(H.T,np.dot(H,W))\n",
    "    W = W * HV / HHW\n",
    "    return H, W"
   ]
  },
  {
   "cell_type": "code",
   "execution_count": 2,
   "metadata": {},
   "outputs": [
    {
     "name": "stdout",
     "output_type": "stream",
     "text": [
      "[[4.21 1.3  3.71 0.75]\n",
      " [2.05 3.48 2.02 3.5 ]\n",
      " [1.4  4.88 1.56 5.14]\n",
      " [4.8  1.78 4.26 1.19]\n",
      " [2.58 2.58 2.41 2.42]]\n",
      "[[4.07 0.66]\n",
      " [1.58 4.48]\n",
      " [0.74 6.71]\n",
      " [4.6  1.19]\n",
      " [2.24 3.01]]\n",
      "[[1.02 0.2  0.89 0.06]\n",
      " [0.1  0.7  0.13 0.76]]\n"
     ]
    }
   ],
   "source": [
    "import numpy as np\n",
    "np.set_printoptions(precision=2, suppress=True)\n",
    "\"\"\"\n",
    "名前,ご飯,パン,味噌汁,スープ\n",
    "A,4,1,4,1\n",
    "B,3,3,1,4\n",
    "C,1,5,2,5\n",
    "D,5,2,4,1\n",
    "E,2,3,3,2\n",
    "\"\"\"\n",
    "V = np.array([\n",
    "        [4,1,4,1],\n",
    "        [3,3,1,4],\n",
    "        [1,5,2,5],\n",
    "        [5,2,4,1],\n",
    "        [2,3,3,2]\n",
    "    ])\n",
    "k = 2\n",
    "m, n = 5, 4\n",
    "iters = 30\n",
    "\n",
    "H = np.abs(np.random.uniform(low=0, high=1, size=(m, k)))\n",
    "W = np.abs(np.random.uniform(low=0, high=1, size=(k, n)))\n",
    "\n",
    "for _ in range(iters):\n",
    "    H, W = update(V, H, W)\n",
    "\n",
    "X = np.dot(H, W)\n",
    "print(X)\n",
    "print(H)\n",
    "print(W)"
   ]
  },
  {
   "cell_type": "code",
   "execution_count": null,
   "metadata": {
    "collapsed": true
   },
   "outputs": [],
   "source": []
  },
  {
   "cell_type": "code",
   "execution_count": null,
   "metadata": {
    "collapsed": true
   },
   "outputs": [],
   "source": []
  }
 ],
 "metadata": {
  "anaconda-cloud": {},
  "kernelspec": {
   "display_name": "Python 3",
   "language": "python",
   "name": "python3"
  },
  "language_info": {
   "codemirror_mode": {
    "name": "ipython",
    "version": 3
   },
   "file_extension": ".py",
   "mimetype": "text/x-python",
   "name": "python",
   "nbconvert_exporter": "python",
   "pygments_lexer": "ipython3",
   "version": "3.6.5"
  }
 },
 "nbformat": 4,
 "nbformat_minor": 1
}
