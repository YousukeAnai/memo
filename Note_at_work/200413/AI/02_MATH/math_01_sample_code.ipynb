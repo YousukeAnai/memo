{
 "cells": [
  {
   "cell_type": "markdown",
   "metadata": {},
   "source": [
    "# 1. 微分・積分"
   ]
  },
  {
   "cell_type": "code",
   "execution_count": null,
   "metadata": {},
   "outputs": [],
   "source": [
    "%matplotlib inline\n",
    "import matplotlib.pyplot as plt\n",
    "X = [1, 2, 3, 4, 5]\n",
    "Y = [20.2, 24.2, 32.4, 36.4, 40.1]\n",
    "plt.scatter(X, Y)\n",
    "plt.plot(X, [x * 5 + 15 for x in X], color=\"r\")\n",
    "plt.xlabel(\"x:経過時間\")\n",
    "plt.ylabel(\"y:販売数\")\n",
    "plt.grid(True) \n",
    "plt.show()"
   ]
  },
  {
   "cell_type": "markdown",
   "metadata": {},
   "source": [
    "### 単回帰の実装"
   ]
  },
  {
   "cell_type": "code",
   "execution_count": null,
   "metadata": {
    "collapsed": true
   },
   "outputs": [],
   "source": [
    "%matplotlib inline\n",
    "import matplotlib.pyplot as plt\n",
    "import numpy as np\n",
    "import pandas as pd\n",
    "import random\n",
    "\n",
    "class MyRegression():\n",
    "\n",
    "    def __init__(self, ETA=0.001, cnt=10000):\n",
    "        \"\"\"\n",
    "        コンストラクタ\n",
    "        \"\"\"\n",
    "        self.ETA = ETA\n",
    "        self.cnt = cnt\n",
    "        self.loss = 0\n",
    "        self.theta_0 = random.random()\n",
    "        self.theta_1 = random.random()\n",
    "    \n",
    "    def f(self, X):\n",
    "        \"\"\"\n",
    "        モデル部分\n",
    "        \"\"\"\n",
    "        return self.theta_0 + self.theta_1 * X\n",
    "\n",
    "    \n",
    "    def E(self, X, y):\n",
    "        \"\"\"\n",
    "        目的関数\n",
    "        \"\"\"\n",
    "        return 0.5 * sum((y - self.f(X)) ** 2)\n",
    "    \n",
    "\n",
    "    def fit(self, X, y):\n",
    "        \"\"\"\n",
    "        学習\n",
    "        \"\"\"\n",
    "        self.loss = self.E(X, y)\n",
    "        self.__print(0)\n",
    "        for i in range(self.cnt):\n",
    "            self.theta_0 -= self.ETA * sum(self.f(X) - y)\n",
    "            self.theta_1 -= self.ETA * sum((self.f(X) - y) * X)\n",
    "            if (i+1) % 200 == 0:\n",
    "                self.loss = self.E(X, y)\n",
    "                self.__print(i)\n",
    "                \n",
    "    def predict(self, X):\n",
    "        \"\"\"\n",
    "        予測\n",
    "        \"\"\"\n",
    "        return self.f(X)\n",
    "        \n",
    "\n",
    "    def __print(self, cnt):\n",
    "        \"\"\"\n",
    "        ログ出力\n",
    "        \"\"\"\n",
    "        print(\"cnt:{}, theta_0:{:.2f}, theta_1:{:.2f}, loss:{}\".format(cnt, self.theta_0, self.theta_1, self.loss))\n"
   ]
  },
  {
   "cell_type": "code",
   "execution_count": null,
   "metadata": {},
   "outputs": [],
   "source": [
    "train_X = np.array([1, 2, 3, 4, 5])\n",
    "train_y = np.array([20.2, 24.2, 32.4, 36.4, 40.1])\n",
    "\n",
    "reg = MyRegression()\n",
    "reg.fit(train_X, train_y)\n",
    "\n",
    "plt.scatter(train_X, train_y)\n",
    "plt.plot(train_X, reg.predict(train_X), color=\"r\")"
   ]
  },
  {
   "cell_type": "markdown",
   "metadata": {},
   "source": [
    "### 正規化版"
   ]
  },
  {
   "cell_type": "code",
   "execution_count": null,
   "metadata": {},
   "outputs": [],
   "source": [
    "def standardize(X):\n",
    "    return (X - X.mean()) / X.std()\n",
    "\n",
    "train_X = np.array([1, 2, 3, 4, 5])\n",
    "train_Z = standardize(train_X)\n",
    "print(\"train_Z: {}\".format(train_Z))\n",
    "train_y = np.array([20.2, 24.2, 32.4, 36.4, 40.1])\n",
    "\n",
    "reg = MyRegression()\n",
    "reg.fit(train_Z, train_y)\n",
    "\n",
    "plt.scatter(train_Z, train_y)\n",
    "plt.plot(train_Z, reg.predict(train_Z), color=\"r\")"
   ]
  },
  {
   "cell_type": "markdown",
   "metadata": {},
   "source": [
    "### 多項式回帰の実装"
   ]
  },
  {
   "cell_type": "code",
   "execution_count": null,
   "metadata": {
    "collapsed": true
   },
   "outputs": [],
   "source": [
    "%matplotlib inline\n",
    "import matplotlib.pyplot as plt\n",
    "import numpy as np\n",
    "import pandas as pd\n",
    "\n",
    "class MyRegression2():\n",
    "\n",
    "    def __init__(self, param_num, ETA=0.001, cnt=10000):\n",
    "        \"\"\"\n",
    "        コンストラクタ\n",
    "        \"\"\"\n",
    "        self.ETA = ETA\n",
    "        self.cnt = cnt\n",
    "        self.loss = 0\n",
    "        self.theta = np.random.rand(param_num) #パラメータのベクトル\n",
    "        self.param_num = param_num\n",
    "    \n",
    "    def f(self, X):\n",
    "        \"\"\"\n",
    "        モデル部分\n",
    "        \"\"\"\n",
    "        return self.theta.dot(np.array([X ** i for i in range(self.param_num)]))\n",
    "    \n",
    "    def E(self, X, y):\n",
    "        \"\"\"\n",
    "        目的関数\n",
    "        \"\"\"\n",
    "        return 0.5 * sum((y - self.f(X)) ** 2)\n",
    "    \n",
    "\n",
    "    def fit(self, X, y):\n",
    "        \"\"\"\n",
    "        学習\n",
    "        \"\"\"\n",
    "        self.loss = self.E(X, y)\n",
    "        self.__print(0)\n",
    "        for i in range(self.cnt):\n",
    "            #self.theta_0 -= self.ETA * sum((self.f(X) - y) * X^0)\n",
    "            #self.theta_1 -= self.ETA * sum((self.f(X) - y) * X^1)\n",
    "            #self.theta_2 -= self.ETA * sum((self.f(X) - y) * X^2)\n",
    "            self.theta -= self.ETA * (self.f(X) - y).dot(np.array([X ** i for i in range(self.param_num)]).T)\n",
    "            if (i+1) % 200 == 0:\n",
    "                self.loss = self.E(X, y)\n",
    "                self.__print(i)\n",
    "                \n",
    "    def predict(self, X):\n",
    "        \"\"\"\n",
    "        予測\n",
    "        \"\"\"\n",
    "        return self.f(X)\n",
    "        \n",
    "\n",
    "    def __print(self, cnt):\n",
    "        \"\"\"\n",
    "        ログ出力\n",
    "        \"\"\"\n",
    "        print(\"cnt:{}, theta:{}, loss:{}\".format(cnt, self.theta, self.loss))\n"
   ]
  },
  {
   "cell_type": "code",
   "execution_count": null,
   "metadata": {
    "scrolled": true
   },
   "outputs": [],
   "source": [
    "# param_num = 2　すなわち theta_0, theta_1の時は、最初の回帰モデルと同じ結果\n",
    "train_X = np.array([1, 2, 3, 4, 5])\n",
    "train_y = np.array([20.2, 24.2, 32.4, 36.4, 40.1])\n",
    "\n",
    "reg = MyRegression2(param_num=2)\n",
    "reg.fit(train_X, train_y)\n",
    "\n",
    "plt.scatter(train_X, train_y)\n",
    "plt.plot(train_X, reg.predict(train_X), color=\"r\")"
   ]
  },
  {
   "cell_type": "code",
   "execution_count": null,
   "metadata": {},
   "outputs": [],
   "source": [
    "# param_num = ３のとき\n",
    "train_X = np.array([1, 2, 3, 4, 5])\n",
    "train_y = np.array([20.2, 24.2, 32.4, 36.4, 40.1])\n",
    "\n",
    "reg = MyRegression2(param_num=3)\n",
    "reg.fit(train_X, train_y)\n",
    "\n",
    "plt.scatter(train_X, train_y)\n",
    "plt.plot(train_X, reg.predict(train_X), color=\"r\")"
   ]
  },
  {
   "cell_type": "code",
   "execution_count": null,
   "metadata": {
    "collapsed": true
   },
   "outputs": [],
   "source": []
  }
 ],
 "metadata": {
  "anaconda-cloud": {},
  "kernelspec": {
   "display_name": "Python 3",
   "language": "python",
   "name": "python3"
  },
  "language_info": {
   "codemirror_mode": {
    "name": "ipython",
    "version": 3
   },
   "file_extension": ".py",
   "mimetype": "text/x-python",
   "name": "python",
   "nbconvert_exporter": "python",
   "pygments_lexer": "ipython3",
   "version": "3.6.3"
  }
 },
 "nbformat": 4,
 "nbformat_minor": 2
}
