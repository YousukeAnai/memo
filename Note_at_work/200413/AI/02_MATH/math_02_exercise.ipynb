{
 "cells": [
  {
   "cell_type": "markdown",
   "metadata": {},
   "source": [
    "Exercise_1  \n",
    "計算せよ\n",
    "\n",
    "①　$\\displaystyle \\begin{pmatrix} -1 \\\\ 2 \\\\ 1 \\end{pmatrix} -  \\begin{pmatrix} 2 \\\\ 1 \\\\ 3 \\end{pmatrix}$  \n",
    "\n",
    "②　$\\displaystyle 2\\begin{pmatrix} -1 \\\\ 2 \\\\ 1 \\end{pmatrix} +  3\\begin{pmatrix} 2 \\\\ 1 \\\\ 3 \\end{pmatrix}$"
   ]
  },
  {
   "cell_type": "code",
   "execution_count": null,
   "metadata": {
    "collapsed": true
   },
   "outputs": [],
   "source": []
  },
  {
   "cell_type": "markdown",
   "metadata": {},
   "source": [
    "Exercise_2\n",
    "計算せよ\n",
    "\n",
    "①$\\begin{pmatrix} 1 & 2 \\\\ 3 & 4 \\end{pmatrix} - \\begin{pmatrix} -2 & -1  \\\\ 1 & 2 \\end{pmatrix}$  \n",
    "\n",
    "②$ 2 \\begin{pmatrix} 1 & 0 & 0 \\\\ 0 & 1 & 0 \\\\ 0 & 0 & 1\\end{pmatrix} + 3\\begin{pmatrix} 2 & 1 & -1 \\\\ 1 & 1 & 1 \\\\ 2 & -1 & 1 \\end{pmatrix}$  "
   ]
  },
  {
   "cell_type": "code",
   "execution_count": null,
   "metadata": {
    "collapsed": true
   },
   "outputs": [],
   "source": []
  },
  {
   "cell_type": "markdown",
   "metadata": {},
   "source": [
    "Exercise_3  \n",
    "計算せよ  \n",
    "\n",
    "①$\\begin{pmatrix} 2 & 1 \\\\ 1 & 3 \\\\ 1 & -1\\end{pmatrix} \\begin{pmatrix} 1 & -1 & 2 \\\\ 1 & 2 & 3\\end{pmatrix}$  \n",
    "\n",
    "②$\\begin{pmatrix} 4 & -1 & 5 \\\\ 0 & 1 & 2 \\\\ 2 & -1 & 0\\end{pmatrix} \\begin{pmatrix} 2  \\\\ 1 \\\\ -1\\end{pmatrix}$  \n"
   ]
  },
  {
   "cell_type": "code",
   "execution_count": null,
   "metadata": {
    "collapsed": true
   },
   "outputs": [],
   "source": []
  },
  {
   "cell_type": "markdown",
   "metadata": {},
   "source": [
    "Exercise_4  \n",
    "① $ \\overrightarrow {a} = \\begin{pmatrix} 1 \\\\ -2 \\\\ 2 \\end{pmatrix} $ と同じ方向を持つ単位ベクトルを求めよ。  \n",
    "\n",
    "② $ \\overrightarrow {a} = \\begin{pmatrix} 2 \\\\ -3 \\\\ 1 \\end{pmatrix} $、$ \\overrightarrow {b} = \\begin{pmatrix} 1 \\\\ 2 \\\\ 4 \\end{pmatrix} $の時、$ \\overrightarrow {a}$と$\\overrightarrow {b}$が直交するか調べよ。\n",
    "\n"
   ]
  },
  {
   "cell_type": "code",
   "execution_count": null,
   "metadata": {
    "collapsed": true
   },
   "outputs": [],
   "source": []
  },
  {
   "cell_type": "markdown",
   "metadata": {},
   "source": [
    "Exercise_5\n",
    "\n",
    "$\\displaystyle A = \\begin{pmatrix} 1 & 2  \\\\ 3 & 4 \\end{pmatrix} B = \\begin{pmatrix} 2 & 1  \\\\ 4 & 0 \\end{pmatrix}$\n",
    "\n",
    "①　$(AB)^T$を求めよ。\n",
    "\n",
    "②　$B^TA^T$を求めよ。\n"
   ]
  },
  {
   "cell_type": "code",
   "execution_count": null,
   "metadata": {
    "collapsed": true
   },
   "outputs": [],
   "source": []
  },
  {
   "cell_type": "markdown",
   "metadata": {},
   "source": [
    "Exercise_6\n",
    "\n",
    "①逆行列を求めよ。  \n",
    "\n",
    "$A = \\begin{pmatrix} 2 & 1 \\\\ -1 & 4\\end{pmatrix}$　　\n",
    "\n",
    "②xは何か。  \n",
    "\n",
    "$A = \\begin{pmatrix} 2 & 1 & -1 \\\\ 1 & -1 & 0 \\\\ 0 & 2 & -1 \\end{pmatrix}$　　\n",
    "\n",
    "$A^{-1} = \\begin{pmatrix} 1 & -1 & -1 \\\\ 1 & -2 & -1 \\\\ x & -4 & -3 \\end{pmatrix}$　　\n",
    "\n",
    "③  \n",
    "$A = \\begin{pmatrix} 2 & 1 & -1 \\\\ 1 & -1 & 0\\end{pmatrix}$の時、$AA^T$を求めよ。\n",
    "\n",
    "④  \n",
    "$A = \\begin{pmatrix} 2 & 1 & -1 \\\\ 1 & -1 & 0\\end{pmatrix}$の時、$A^TA$を求めよ。\n",
    "\n",
    "⑤  \n",
    "$A = \\begin{pmatrix} 4 & -2\\\\ 1 & 1\\end{pmatrix}$は、  \n",
    "\n",
    "$A = P \\cdot \\Lambda \\cdot P^{-1} = \\left(\\begin{array}{ccc} 1 & 2 \\\\ 1 & 1 \\\\\\end{array}\\right) \\left(\\begin{array}{ccc} 2 & 0 \\\\ 0 & 3 \\\\\\end{array}\\right)\\left(\\begin{array}{ccc} -1 & 2 \\\\ 1 & -1 \\\\\\end{array}\\right)　$のように分解できる。\n",
    "\n",
    "$A^n$を求めよ。  "
   ]
  },
  {
   "cell_type": "code",
   "execution_count": null,
   "metadata": {
    "collapsed": true
   },
   "outputs": [],
   "source": []
  },
  {
   "cell_type": "markdown",
   "metadata": {},
   "source": [
    "Exercise_7\n",
    "\n",
    "$A = \\begin{pmatrix} 1 & 1& 0 \\\\ 1 & 1& 0 \\\\ 0 & 0 & 1\\end{pmatrix}$の行列式を求めよ。  \n"
   ]
  },
  {
   "cell_type": "code",
   "execution_count": null,
   "metadata": {
    "collapsed": true
   },
   "outputs": [],
   "source": []
  },
  {
   "cell_type": "markdown",
   "metadata": {},
   "source": [
    "Exercise_8  \n",
    "原点をO、 $ \\overrightarrow a = \\begin{pmatrix} 1 \\\\ 3 \\end{pmatrix}$、$ \\overrightarrow b = \\begin{pmatrix} 1 \\\\ -2 \\end{pmatrix}$とする。  \n",
    "実数k、lに対して、$ \\overrightarrow {OP} = k\\overrightarrow a + l \\overrightarrow b $ とする時、  \n",
    "\n",
    "① $ \\overrightarrow {OP} = \\begin{pmatrix} 0 \\\\ 0 \\end{pmatrix} $ となるk,lを求めよ。  \n",
    "\n",
    "② $ \\overrightarrow {OP} = \\begin{pmatrix} 0 \\\\ 10 \\end{pmatrix} $ となるk,lを求めよ。  \n",
    "\n"
   ]
  },
  {
   "cell_type": "code",
   "execution_count": null,
   "metadata": {
    "collapsed": true
   },
   "outputs": [],
   "source": []
  },
  {
   "cell_type": "markdown",
   "metadata": {},
   "source": [
    "Exercise_9  \n",
    "原点をO、 $ \\overrightarrow a = \\begin{pmatrix} 1 \\\\ 2 \\end{pmatrix}$、$ \\overrightarrow b = \\begin{pmatrix} 2 \\\\ 4 \\end{pmatrix}$とする。  \n",
    "実数k、lに対して、$ \\overrightarrow {OP} = k\\overrightarrow a + l \\overrightarrow b $ とする時、  \n",
    "\n",
    "① $ \\overrightarrow {OP} = \\begin{pmatrix} 3 \\\\ 4 \\end{pmatrix} $ となるk,lを求めよ。  \n"
   ]
  },
  {
   "cell_type": "code",
   "execution_count": null,
   "metadata": {
    "collapsed": true
   },
   "outputs": [],
   "source": []
  },
  {
   "cell_type": "markdown",
   "metadata": {
    "collapsed": true
   },
   "source": [
    "Exercise_10\n",
    "\n",
    "$\\displaystyle P=\\begin{pmatrix} 1 \\\\ 0 \\end{pmatrix}$ に表現行列 $ A=\\begin{pmatrix} \\frac{1}{2} & -\\frac{\\sqrt3}{2} \\\\ \\frac{\\sqrt3}{2}  & \\frac{1}{2} \\end{pmatrix}$ を作用させて新座標Qを求めよ。  \n"
   ]
  },
  {
   "cell_type": "code",
   "execution_count": null,
   "metadata": {
    "collapsed": true
   },
   "outputs": [],
   "source": []
  },
  {
   "cell_type": "markdown",
   "metadata": {
    "collapsed": true
   },
   "source": [
    "Exercise_11\n",
    "\n",
    "$ A=\\begin{pmatrix} 1 & 4 \\\\ 2 & 3 \\end{pmatrix}$ を固有値分解せよ。（ただし、対角行列の成分を左上から$\\lambda_1,\\lambda_2$とした時、$\\lambda_1 > \\lambda_2$となるようにすること。）  \n",
    "\n"
   ]
  },
  {
   "cell_type": "code",
   "execution_count": null,
   "metadata": {
    "collapsed": true
   },
   "outputs": [],
   "source": []
  },
  {
   "cell_type": "markdown",
   "metadata": {},
   "source": [
    "Exercise_12\n",
    "\n",
    "特異値分解せよ。  \n",
    "\n",
    "①$ A=\\begin{pmatrix} 0 & 2 \\\\ 1 & 0 \\end{pmatrix}$  \n",
    "\n",
    "②$ A=\\begin{pmatrix} 1 & 1 & 0 \\\\ 0 & 0 & 1 \\end{pmatrix}$  \n"
   ]
  },
  {
   "cell_type": "code",
   "execution_count": null,
   "metadata": {
    "collapsed": true
   },
   "outputs": [],
   "source": []
  },
  {
   "cell_type": "markdown",
   "metadata": {},
   "source": [
    "Exercise_13\n",
    "\n",
    "$ A=\\begin{pmatrix} 1 & 2 \\\\ 3 & 4 \\end{pmatrix}$とする。  \n",
    "\n",
    "①$A$のフロベニウスノルムを求めよ。  \n",
    "\n",
    "②$AA^T$のトレースの平方根を求めよ。  "
   ]
  },
  {
   "cell_type": "code",
   "execution_count": null,
   "metadata": {
    "collapsed": true
   },
   "outputs": [],
   "source": []
  },
  {
   "cell_type": "markdown",
   "metadata": {},
   "source": [
    "Exercise_14\n",
    "\n",
    "非負値行列分解(NMF：Nonnegative Matrix Factorization) と呼ばれる行列を非負の行列の積に分解する手法がある。  \n",
    "\n",
    "$V \\simeq HW$  \n",
    "\n",
    "以下の目的関数を考え、その誤差を最小化していく。  \n",
    "\n",
    "$E = |V - HW|^2$  \n",
    "\n",
    "　$\\displaystyle  = \\sum_{m, n}|V_{m,n} - \\sum_{k}H_{m, k}W_{k, n}|^{2} $  \n",
    " \n",
    "$V \\simeq HW$とすると、  \n",
    "\n",
    "NMFのパタメータ更新は以下となる。  \n",
    "\n",
    "$ H = H \\frac{VW^T}{HWW^T} $  \n",
    "\n",
    "$ W = W \\frac{H^TV}{H^THW} $  \n",
    "\n",
    "以下のコードを実行するために、パラメータを更新するupdate関数を作成せよ。"
   ]
  },
  {
   "cell_type": "code",
   "execution_count": 1,
   "metadata": {
    "collapsed": true
   },
   "outputs": [],
   "source": [
    "# Write your answer\n",
    "def update(V, H, W):\n",
    "\n",
    "    return H, W"
   ]
  },
  {
   "cell_type": "code",
   "execution_count": 2,
   "metadata": {},
   "outputs": [
    {
     "name": "stdout",
     "output_type": "stream",
     "text": [
      "[[4.21 1.3  3.71 0.75]\n",
      " [2.05 3.48 2.02 3.5 ]\n",
      " [1.4  4.88 1.56 5.14]\n",
      " [4.8  1.78 4.26 1.19]\n",
      " [2.58 2.58 2.41 2.42]]\n",
      "[[4.07 0.66]\n",
      " [1.58 4.48]\n",
      " [0.74 6.71]\n",
      " [4.6  1.19]\n",
      " [2.24 3.01]]\n",
      "[[1.02 0.2  0.89 0.06]\n",
      " [0.1  0.7  0.13 0.76]]\n"
     ]
    }
   ],
   "source": [
    "import numpy as np\n",
    "np.set_printoptions(precision=2, suppress=True)\n",
    "\"\"\"\n",
    "名前,ご飯,パン,味噌汁,スープ\n",
    "A,4,1,4,1\n",
    "B,3,3,1,4\n",
    "C,1,5,2,5\n",
    "D,5,2,4,1\n",
    "E,2,3,3,2\n",
    "\"\"\"\n",
    "V = np.array([\n",
    "        [4,1,4,1],\n",
    "        [3,3,1,4],\n",
    "        [1,5,2,5],\n",
    "        [5,2,4,1],\n",
    "        [2,3,3,2]\n",
    "    ])\n",
    "k = 2\n",
    "m, n = 5, 4\n",
    "iters = 30\n",
    "\n",
    "H = np.abs(np.random.uniform(low=0, high=1, size=(m, k)))\n",
    "W = np.abs(np.random.uniform(low=0, high=1, size=(k, n)))\n",
    "\n",
    "for _ in range(iters):\n",
    "    H, W = update(V, H, W)\n",
    "\n",
    "X = np.dot(H, W)\n",
    "print(X)\n",
    "print(H)\n",
    "print(W)"
   ]
  },
  {
   "cell_type": "code",
   "execution_count": null,
   "metadata": {
    "collapsed": true
   },
   "outputs": [],
   "source": []
  },
  {
   "cell_type": "code",
   "execution_count": null,
   "metadata": {
    "collapsed": true
   },
   "outputs": [],
   "source": []
  }
 ],
 "metadata": {
  "anaconda-cloud": {},
  "kernelspec": {
   "display_name": "Python 3",
   "language": "python",
   "name": "python3"
  },
  "language_info": {
   "codemirror_mode": {
    "name": "ipython",
    "version": 3
   },
   "file_extension": ".py",
   "mimetype": "text/x-python",
   "name": "python",
   "nbconvert_exporter": "python",
   "pygments_lexer": "ipython3",
   "version": "3.6.5"
  }
 },
 "nbformat": 4,
 "nbformat_minor": 1
}
