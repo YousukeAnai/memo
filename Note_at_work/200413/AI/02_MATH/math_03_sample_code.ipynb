{
 "cells": [
  {
   "cell_type": "markdown",
   "metadata": {},
   "source": [
    "# 3. 確率統計"
   ]
  },
  {
   "cell_type": "markdown",
   "metadata": {},
   "source": [
    "### ナイーブベイズの実装"
   ]
  },
  {
   "cell_type": "code",
   "execution_count": 1,
   "metadata": {
    "collapsed": true
   },
   "outputs": [],
   "source": [
    "data = \"\"\"\n",
    "is_spam,words\n",
    "0,統計;無料\n",
    "0,統計\n",
    "0,確率;無料\n",
    "0,確率\n",
    "0,統計\n",
    "0,確率;無料\n",
    "0,確率;統計\n",
    "0,統計;秘密\n",
    "1,確率;秘密;無料\n",
    "1,無料;秘密\n",
    "1,無料;秘密\n",
    "1,統計;秘密\n",
    "1,無料\n",
    "1,統計;秘密;無料\n",
    "1,無料;秘密\n",
    "1,無料;秘密\n",
    "1,秘密\n",
    "1,無料;秘密\n",
    "1,無料\n",
    "1,秘密\n",
    "\"\"\""
   ]
  },
  {
   "cell_type": "code",
   "execution_count": 2,
   "metadata": {
    "collapsed": false
   },
   "outputs": [
    {
     "name": "stdout",
     "output_type": "stream",
     "text": [
      "spam:{'秘密': 10, '無料': 9, '確率': 1, '統計': 2}\n",
      "normal:{'秘密': 1, '無料': 3, '確率': 4, '統計': 5}\n"
     ]
    }
   ],
   "source": [
    "spam_mail_cnt = 0\n",
    "normal_mail_cnt = 0\n",
    "spam_words_dict= {}\n",
    "normal_words_dict = {}\n",
    "for line in data.split(\"\\n\")[2:-1]:\n",
    "    is_spam = line.split(\",\")[0]\n",
    "    words = line.split(\",\")[1].split(\";\")    \n",
    "    if is_spam == \"1\":\n",
    "        spam_mail_cnt += 1\n",
    "    else:\n",
    "        normal_mail_cnt += 1\n",
    "    \n",
    "    for word in words:\n",
    "        if spam_words_dict.get(word) == None:\n",
    "            spam_words_dict[word] = 0\n",
    "            normal_words_dict[word] = 0\n",
    "        if is_spam == \"1\":\n",
    "            spam_words_dict[word] += 1\n",
    "        else:\n",
    "            normal_words_dict[word] += 1\n",
    "\n",
    "print(\"spam:{}\".format(spam_words_dict))\n",
    "print(\"normal:{}\".format(normal_words_dict))"
   ]
  },
  {
   "cell_type": "code",
   "execution_count": 3,
   "metadata": {
    "collapsed": false
   },
   "outputs": [
    {
     "name": "stdout",
     "output_type": "stream",
     "text": [
      "spam:{'確率': 0.08333333333333333, '無料': 0.75, '秘密': 0.8333333333333334, '統計': 0.16666666666666666}\n",
      "normal:{'確率': 0.5, '無料': 0.375, '秘密': 0.125, '統計': 0.625}\n"
     ]
    }
   ],
   "source": [
    "spam_ratio_dict = {word:spam_words_dict.get(word) / spam_mail_cnt for word in spam_words_dict}\n",
    "normal_ratio_dict = {word:normal_words_dict.get(word) / normal_mail_cnt for word in normal_words_dict}\n",
    "print(\"spam:{}\".format(spam_ratio_dict))\n",
    "print(\"normal:{}\".format(normal_ratio_dict))"
   ]
  },
  {
   "cell_type": "code",
   "execution_count": 4,
   "metadata": {
    "collapsed": false
   },
   "outputs": [
    {
     "name": "stdout",
     "output_type": "stream",
     "text": [
      "迷惑メールの事前確率P(H1):0.600\n",
      "通常メールの事前確率P(H2):0.400\n"
     ]
    }
   ],
   "source": [
    "#迷惑メールの事前確率:P(H1)\n",
    "#通常メールの事前確率:P(H2)\n",
    "H1 = spam_mail_cnt / (spam_mail_cnt + normal_mail_cnt)\n",
    "H2 = 1 - H1\n",
    "print(\"迷惑メールの事前確率P(H1):{:.3f}\".format(H1))\n",
    "print(\"通常メールの事前確率P(H2):{:.3f}\".format(H2))"
   ]
  },
  {
   "cell_type": "code",
   "execution_count": 5,
   "metadata": {
    "collapsed": true
   },
   "outputs": [],
   "source": [
    "#迷惑メールの事後確率:P(H1 | D)\n",
    "#通常メールの事後確率:P(H2 | D)\n",
    "import numpy as np\n",
    "def naive_bayes(data):\n",
    "    p1 = np.append(H1, np.array([ratio for word, ratio in spam_ratio_dict.items() if word in data.split(\";\")])).prod()\n",
    "    p2 = np.append(H2, np.array([ratio for word, ratio in normal_ratio_dict.items() if word in data.split(\";\")])).prod()\n",
    "    print(\"事後確率の比:{:.3f}:{:.3f}\".format(p1,p2))\n",
    "    # 正規化\n",
    "    print(\"迷惑メールの事後確率:P(H1 | D):{:.3f}\".format(p1 / (p1+p2)))\n",
    "    print(\"通常メールの事後確率:P(H2 | D):{:.3f}\\n\".format(p2 / (p1+p2)))"
   ]
  },
  {
   "cell_type": "code",
   "execution_count": 6,
   "metadata": {
    "collapsed": false
   },
   "outputs": [
    {
     "name": "stdout",
     "output_type": "stream",
     "text": [
      "事後確率の比:0.500:0.050\n",
      "迷惑メールの事後確率:P(H1 | D):0.909\n",
      "通常メールの事後確率:P(H2 | D):0.091\n",
      "\n",
      "事後確率の比:0.450:0.150\n",
      "迷惑メールの事後確率:P(H1 | D):0.750\n",
      "通常メールの事後確率:P(H2 | D):0.250\n",
      "\n",
      "事後確率の比:0.050:0.200\n",
      "迷惑メールの事後確率:P(H1 | D):0.200\n",
      "通常メールの事後確率:P(H2 | D):0.800\n",
      "\n",
      "事後確率の比:0.100:0.250\n",
      "迷惑メールの事後確率:P(H1 | D):0.286\n",
      "通常メールの事後確率:P(H2 | D):0.714\n",
      "\n",
      "事後確率の比:0.005:0.006\n",
      "迷惑メールの事後確率:P(H1 | D):0.471\n",
      "通常メールの事後確率:P(H2 | D):0.529\n",
      "\n"
     ]
    }
   ],
   "source": [
    "naive_bayes(\"秘密\")\n",
    "naive_bayes(\"無料\")\n",
    "naive_bayes(\"確率\")\n",
    "naive_bayes(\"統計\")\n",
    "naive_bayes(\"秘密;無料;確率;統計\")"
   ]
  },
  {
   "cell_type": "code",
   "execution_count": null,
   "metadata": {
    "collapsed": true
   },
   "outputs": [],
   "source": []
  }
 ],
 "metadata": {
  "anaconda-cloud": {},
  "kernelspec": {
   "display_name": "Python 3",
   "language": "python",
   "name": "python3"
  },
  "language_info": {
   "codemirror_mode": {
    "name": "ipython",
    "version": 3
   },
   "file_extension": ".py",
   "mimetype": "text/x-python",
   "name": "python",
   "nbconvert_exporter": "python",
   "pygments_lexer": "ipython3",
   "version": "3.5.1"
  }
 },
 "nbformat": 4,
 "nbformat_minor": 1
}
