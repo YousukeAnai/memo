{
 "cells": [
  {
   "cell_type": "code",
   "execution_count": 1,
   "metadata": {
    "colab": {
     "autoexec": {
      "startup": false,
      "wait_interval": 0
     }
    },
    "colab_type": "code",
    "id": "mIg7kUkk-fwe"
   },
   "outputs": [
    {
     "name": "stderr",
     "output_type": "stream",
     "text": [
      "C:\\Users\\anai\\Anaconda3\\lib\\site-packages\\h5py\\__init__.py:36: FutureWarning: Conversion of the second argument of issubdtype from `float` to `np.floating` is deprecated. In future, it will be treated as `np.float64 == np.dtype(float).type`.\n",
      "  from ._conv import register_converters as _register_converters\n",
      "Using TensorFlow backend.\n"
     ]
    }
   ],
   "source": [
    "from keras.models import Sequential\n",
    "from keras.datasets import imdb\n",
    "from keras.layers import Dense, Activation, Embedding, LSTM, GRU, SimpleRNN\n",
    "from keras.optimizers import Adadelta\n",
    "from keras.utils import np_utils, to_categorical\n",
    "from keras.preprocessing import sequence\n",
    "import numpy as np\n",
    "\n",
    "from matplotlib import pyplot as plt"
   ]
  },
  {
   "cell_type": "code",
   "execution_count": 2,
   "metadata": {
    "colab": {
     "autoexec": {
      "startup": false,
      "wait_interval": 0
     }
    },
    "colab_type": "code",
    "id": "WkUjSjuH-0Xo"
   },
   "outputs": [],
   "source": [
    "    max_features = 20000\n",
    "\n",
    "    (X_train, y_train), (X_test, y_test) = imdb.load_data(num_words=max_features)\n",
    "    maxlen=180\n",
    "    X_train = sequence.pad_sequences(X_train, maxlen=maxlen)\n",
    "    X_test = sequence.pad_sequences(X_test, maxlen=maxlen)"
   ]
  },
  {
   "cell_type": "code",
   "execution_count": 5,
   "metadata": {
    "colab": {
     "autoexec": {
      "startup": false,
      "wait_interval": 0
     }
    },
    "colab_type": "code",
    "id": "9auGMfoT-2rx"
   },
   "outputs": [
    {
     "name": "stdout",
     "output_type": "stream",
     "text": [
      "(25000, 180)\n",
      "[  336   385    39     4   172  4536  1111    17   546    38    13   447\n",
      "     4   192    50    16     6   147  2025    19    14    22     4  1920\n",
      "  4613   469     4    22    71    87    12    16    43   530    38    76\n",
      "    15    13  1247     4    22    17   515    17    12    16   626    18\n",
      " 19193     5    62   386    12     8   316     8   106     5     4  2223\n",
      "  5244    16   480    66  3785    33     4   130    12    16    38   619\n",
      "     5    25   124    51    36   135    48    25  1415    33     6    22\n",
      "    12   215    28    77    52     5    14   407    16    82 10311     8\n",
      "     4   107   117  5952    15   256     4     2     7  3766     5   723\n",
      "    36    71    43   530   476    26   400   317    46     7     4 12118\n",
      "  1029    13   104    88     4   381    15   297    98    32  2071    56\n",
      "    26   141     6   194  7486    18     4   226    22    21   134   476\n",
      "    26   480     5   144    30  5535    18    51    36    28   224    92\n",
      "    25   104     4   226    65    16    38  1334    88    12    16   283\n",
      "     5    16  4472   113   103    32    15    16  5345    19   178    32]\n",
      "[1 0 0 ... 0 1 0]\n",
      "[    0     0     0     0     0     0     0     0     0     0     0     0\n",
      "     0     0     0     0     0     0     0     0     0     0     0     0\n",
      "     0     0     0     0     0     0     0     0     0     0     0     0\n",
      "     0     0     0     0     0     0     0     0     0     0     0     0\n",
      "     0     0     0     0     0     0     0     0     0     0     0     0\n",
      "     0     0     0     0     0     0     0     0     0     0     0     0\n",
      "     0     0     0     0     0     0     0     0     0     0     0     0\n",
      "     0     0     0     0     0     0     0     0     0     0     0     0\n",
      "     0     0     0     0     0     0     0     0     0     0     0     0\n",
      "     0     0     0     0     1   591   202    14    31     6   717    10\n",
      "    10 18142 10698     5     4   360     7     4   177  5760   394   354\n",
      "     4   123     9  1035  1035  1035    10    10    13    92   124    89\n",
      "   488  7944   100    28  1668    14    31    23    27  7479    29   220\n",
      "   468     8   124    14   286   170     8   157    46     5    27   239\n",
      "    16   179 15387    38    32    25  7944   451   202    14     6   717]\n"
     ]
    }
   ],
   "source": [
    "print(X_train.shape) # ⇛ 25000件のデータが180次元ある\n",
    "print(X_train[0]) # ⇛ 0件目のデータをprint\n",
    "print(y_train) # ⇛ positive, negaitveの二値のデータが入っている.\n",
    "print(X_test[0]) # ⇛ 0件目のデータをprint"
   ]
  },
  {
   "cell_type": "code",
   "execution_count": 4,
   "metadata": {
    "colab": {
     "autoexec": {
      "startup": false,
      "wait_interval": 0
     }
    },
    "colab_type": "code",
    "id": "E-rAG5cREOYp"
   },
   "outputs": [
    {
     "name": "stdout",
     "output_type": "stream",
     "text": [
      "Downloading data from https://s3.amazonaws.com/text-datasets/imdb_word_index.json\n",
      "1646592/1641221 [==============================] - 2s 1us/step\n",
      "negative\n",
      "? ? ? ? ? ? ? ? ? ? ? ? ? ? ? ? ? ? ? ? ? ? ? ? ? ? ? ? ? ? ? ? ? ? ? ? ? ? ? ? ? ? ? ? ? ? ? ? ? ? ? ? ? ? ? ? ? ? ? ? ? ? ? ? ? ? ? ? ? ? ? ? ? ? ? ? ? ? ? ? ? ? ? ? ? ? ? ? ? ? ? ? ? ? ? ? ? ? ? ? ? ? ? ? ? ? ? ? ? ? ? ? ? please give this one a miss br br kristy swanson and the rest of the cast rendered terrible performances the show is flat flat flat br br i don't know how michael madison could have allowed this one on his plate he almost seemed to know this wasn't going to work out and his performance was quite lacklustre so all you madison fans give this a miss\n",
      "positive\n",
      "the trademark altman audio style is evident here and there i think what really makes this film work is the brilliant performance by sandy dennis it's definitely one of her darker characters but she plays it so perfectly and convincingly that it's scary michael burns does a good job as the mute young man regular altman player michael murphy has a small part the ? moody set fits the content of the story very well in short this movie is a powerful study of loneliness sexual repression and desperation be patient ? up the atmosphere and pay attention to the wonderfully written script br br i praise robert altman this is one of his many films that deals with unconventional fascinating subject matter this film is disturbing but it's sincere and it's sure to elicit a strong emotional response from the viewer if you want to see an unusual film some might even say bizarre this is worth the time br br unfortunately it's very difficult to find in video stores you may have to buy it off the internet\n",
      "positive\n",
      "title card ? reads news of the king's appetite throughout the kingdom when the now terrified frogs once more ? ? for help he loses his temper and showers their community with lightning bolts the moral of our story delivered by a hapless frog just before he is eaten is let well enough alone br br considering the time period when this startling little film was made and considering the fact that it was made by a russian ? at the height of that beleaguered country's civil war it would be easy to see this as a parable about those events ? may or may not have had ? turmoil in mind when he made ? but whatever prompted his choice of material the film stands as a cautionary tale of universal application ? could be the soviet union italy germany or japan in the 1930s or any country of any era that lets its guard down and is overwhelmed by tyranny it's a fascinating film even a charming one in its macabre way but its message is no joke\n",
      "negative\n",
      "i generally love this type of movie however this time i found myself wanting to kick the screen since i can't do that i will just complain about it this was absolutely idiotic the things that happen with the dead kids are very cool but the alive people are absolute idiots i am a grown man pretty big and i can defend myself well however i would not do half the stuff the little girl does in this movie also the mother in this movie is reckless with her children to the point of neglect i wish i wasn't so angry about her and her actions because i would have otherwise enjoyed the flick what a number she was take my advise and fast forward through everything you see her do until the end also is anyone else getting sick of watching movies that are filmed so dark anymore one can hardly see what is being filmed as an audience we are impossibly involved with the actions on the screen so then why the hell can't we have night vision\n",
      "positive\n",
      "? ? ? ? ? ? ? ? ? ? ? ? ? ? ? ? ? ? ? ? ? ? ? ? ? ? ? ? ? ? ? ? ? ? ? ? ? ? ? ? ? ? ? ? ? ? ? ? ? ? ? ? ? ? ? ? ? ? ? ? ? ? ? ? ? ? ? ? ? ? ? ? ? like some other people wrote i'm a die hard mario fan and i loved this game br br this game starts slightly boring but trust me it's worth it as soon as you start your hooked the levels are fun and exiting they will hook you ? your mind turns to mush i'm not kidding this game is also orchestrated and is beautifully done br br to keep this spoiler free i have to keep my mouth shut about details but please try this game it'll be worth it br br story 9 9 action 10 1 it's that good ? 10 attention ? 10 average 10\n",
      "positive\n",
      "? ? ? ? ? ? ? ? ? ? ? ? ? ? ? ? ? ? ? ? ? ? ? ? ? ? ? ? ? ? ? ? ? ? ? ? ? ? ? ? ? ? ? ? ? ? ? ? ? i'm absolutely disgusted this movie isn't being sold all who love this movie should email disney and increase the demand for it they'd eventually have to sell it then i'd buy copies for everybody i know everything and everybody in this movie did a good job and i haven't figured out why disney hasn't put this movie on dvd or on vhs in rental stores at least i haven't seen any copies this is a wicked good movie and should be seen by all the kids in the new generation don't get to see it and i think they should it should at least be put back on the channel this movie doesn't deserve a cheap download it deserves the real thing i'm them now this movie will be on dvd\n",
      "positive\n",
      "sequence is deliberately varied between the marching soldiers and a few civilians who summon up courage to beg them to stop a close up of a woman's face frozen in horror after being struck by a soldier's sword is the direct ? of the bank teller in bonnie in clyde and gives a lasting impression of the horror of the ? regime br br the death of a young mother leads to a baby carriage ? down the steps in a sequence that has been copied by hitchcock in foreign ? by terry gilliam in brazil and brian depalma in the ? this sequence is shown repeatedly from various angles thus drawing out what probably was only a five second event br br ? is a film that the revolutionary spirit celebrates it for those already committed and it for the ? it ? of fire and ? with the senseless injustices of the decadent ? regime its greatest impact has been on film students who have borrowed and only slightly improved on techniques invented in russia several generations ago\n",
      "negative\n",
      "? the emperor's richard ? dog is ? to ? joan fontaine dog however when ? bing crosby arrives in town to sell a record player to the emperor his dog is attacked by ? dog after a revenge attack where ? is banished from town a ? insists that ? dog must confront dog so that she can overcome her ? fears this is arranged and the dogs fall in love so do ? and ? the rest of the film passes by with romance and at the end ? dog gives birth but who is the father br br the dog story is the very weak vehicle that is used to try and create a story between humans its a terrible storyline there are 3 main musical pieces all of which are rubbish bad songs and dreadful choreography its just an extremely boring film bing has too many words in each sentence and delivers them in an almost irritating manner its not funny ever but its meant to be bing and joan have done much better than this\n",
      "negative\n",
      "? ? ? ? ? ? ? ? ? ? ? ? ? ? ? ? ? ? ? ? ? ? ? ? ? ? ? ? ? ? ? ? ? ? ? ? ? ? ? ? ? ? ? ? ? ? ? hollywood had a long love affair with bogus arabian nights tales but few of these products have stood the test of time the most memorable were the jon hall maria ? films which have long since become camp this one is filled with dubbed songs anachronistic slang and slapstick it's a truly crop of corn and pretty near intolerable today it was nominated for its imaginative special effects which are almost ? in this day and age consisting mainly of trick photography the only outstanding positive feature which survives is its beautiful color and clarity sad to say of the many films made in this genre few of them come up to alexander ? original thief of baghdad almost any other arabian nights film is superior to this one though it's a loser\n",
      "positive\n",
      "br br michael keaton returns as the batman and his alter ego bruce wayne with tycoon max ? christopher walken named in honour of the 1920s german silent actor his partner in crime oswald ? the penguin danny devito in brilliant makeup reminiscent of laurence olivier's richard iii and ? kyle the catwoman michelle pfeiffer whom wayne romances both as himself and as the batman the four principals turn in excellent performances especially walken and devito while together keaton and pfeiffer explore the darker side of double identities br br there are some intriguing concepts in this film about the only weakness i can really point out is a certain to the script in some places which i think is due mostly to the way this film is a four cornered fight there simply isn't enough time to properly explore what's going on br br nevertheless this is a damn good film i highly recommend watching this in ? with the first and then weeping for how good the series could have been had it continued under burton and keaton\n",
      "positive\n",
      "from the train is an original and very inventive comedy take on the idea it's a credit to danny devito that he both wrote and starred in this minor comedy gem br br anne ramsey is the mother who inspires the film's title and it's understandable why she gets under the skin of danny devito with her sharp tongue and relentlessly putting him down for any minor ? billy crystal is the writer who's wife has stolen his book idea and is now being ? as a great new author even appearing on the oprah show to in ? he should be enjoying thus devito gets the idea of swapping murders to rid themselves of these nuisance factors br br of course everything and anything can happen when writer carl reiner lets his imagination roam with ? ideas for how the plot develops and it's amusing all the way through providing plenty of laughs and chuckles along the way as well as a good deal of suspense br br for ? of black comedy this one is guaranteed to please\n",
      "negative\n",
      "i see weird stuff oh ? what is happening oh its a dream oh its not a dream oh wait i see something spooky oh never mind ? storyline those sequels don't even require the box to be opened or stick to the rules from the first 4 movies that if you saw ? you are pretty much screwed and dead the first 3 ? to this storyline which made it so scary in the first place nothing fantasy nothing weird the box got opened boom they came was the only one that could bargain her way out of it first because of uncle frank then because she had information about the this movie at least attempts to stick to all that even though it was a bad story it was still somewhat hellraiser no i'm pretty sure part 5 was the first part to completely and utterly destroy the hellraiser series now they are remaking 1 and i don't even think i will watch it oh who am i kidding i probably will and probably will be disappointed again\n",
      "negative\n",
      "she has some measure of screen presence and is a good ? the plotting in this one is simple evil undead miner goes after those who ? to steal his gold and it should make for good slasher fun especially given that it is directed by john carl who has done special effects for many of these sort of films including having worked on all three of the major slasher ? halloween elm street and friday 13th and such small gems as ? unfortunately the film is sadly lacking in suspense likability and satisfying gore there are one or two mildly gory moments but nothing worth the effort of watching the film i wouldn't say in fact aside from the above mentioned cameos this entire movie is really quite stale and turgid with characters that couldn't get ? quick enough for my liking and an unfortunate lack of any real interest i didn't even find it fun in a laughable bad movie sense which is rare for me since i love a lot of pretty crummy films i'd say avoid\n",
      "negative\n",
      "all and when everyone else gets stabbed they drop dead br br it was probably important that these people killed random people and ate them and also hung out with an 80 year old man that wanted to put the parts into his body br br my favorite part was when the old man found the or however you spell it because that made the movie seem very intellectual and probably helped to reach the older crowd br br what really blew my mind that they decided to throw in that random scene about the college girls going into the woods looking for fake skulls br br if you do attempt to see this movie you should probably fill up your bathtub and drop your ? in it and be ready to jump in br br this is a must see for anyone who believes there life could not get any worse because this will help you realize there are people out there the makers of this movie who are even more pathetic and are going no where in life\n",
      "positive\n",
      "? ? ? ? ? ? ? ? ? ? ? ? ? ? ? ? ? ? ? ? ? ? ? ? ? ? ? ? ? ? ? ? ? ? ? ? ? ? ? ? ? ? ? ? ? ? ? ? ? ? a touching documentary that puts a human face on the tragedy of 9 11 by showing how one small community to honor two high school friends lost on that day the film ? the lives of chris and tom through interviews with family and friends and snippets of old photos through their ? we glimpse two lives tragically cut short the film also documents how through a series of coincidences an inspirational memorial garden was brought forth through the efforts of many people both known and unknown to the two victims through the laughter and the tears and the sweat we see the power of hope and honor and love this films evokes many different emotions but the final feeling is one of admiration of the human spirit by tragedy\n",
      "negative\n",
      "this as well the character eve was so undeveloped and 2 dimensional she didn't even grab my attention i didn't even know her name was eve don was interesting when he kept his mouth shut the twist if you can call it that was laughable and pathetic when it came the movie had done such a horrid job of building suspense or attachment to any character that i simply thought who gives a s the only thing that made me even lift an eyebrow about this movie was the fact the med teacher was ? in terminator 2 also a movie that was light years ahead of this motion picture massacre anyone who was involved in this movie should be ashamed of themselves for wasting 90 minutes of countless people's time it's no wonder no actor from this movie ever had a ? career in summary this movie is so bad i feel dirty and need a shower worst movie in history gigli was better prom night the remake was better and dare i say it saw iv was better\n",
      "positive\n",
      "? ? ? ? ? ? ? ? ? ? ? ? ? ? ? ? ? ? ? ? ? ? ? ? ? ? ? ? ? ? ? ? ? ? ? ? ? ? ? ? ? ? ? ? ? ? ? ? ? ? ? ? ? ? from 1996 first i watched this movie i feel never reach the end of my satisfaction i feel that i want to watch more and more until now my god i don't believe it was ten years ago and i can believe that i almost remember every word of the dialogues i love this movie and i love this novel absolutely perfection i love willem ? he has a strange voice to spell the words black night and i always say it for many times never being bored i love the music of it's so much made me come into another world deep in my heart anyone can feel what i feel and anyone could make the movie like this i don't believe so thanks thanks\n",
      "negative\n",
      "is a teenager who lives for his job at good burger a small but friendly neighborhood ? stand while his buddy dexter thompson also works there but lack ? single minded devotion to his job he's there because he accidentally destroyed the car of his teacher mr ? ? and has to raise money to pay the ? when ? burger a mammoth fast foot chain opens across the street it looks like good burger is history until ed ? a secret sauce that brings hundreds of new customers to their door however the ? manager of ? burger kurt jan is determined to get his hands on the sauce and put good burger out of business meanwhile ed and dexter must rescue otis abe ? the world's oldest fast food employee from the demented hills asylum and ed might just find love with ? jackson if he could take his mind off the ? long enough to pay attention to her good burger is a comedy directed for kids decent story acting and overall a pretty harmless kids movie\n",
      "negative\n",
      "when two of best movie critics tagged this movie as a ? but the movie turned out be disappointing br br you will be advised to watch this movie keeping your brains at home but you simply can't ignore the flaws and the shortcomings br br 1 the missile scene was total stupidity br br 2 ? ? and govinda pair looked awful he's 49 and she's just 24 more than double of her age 3 ? comedy is less of acting and more of overacting br br 4 songs are good but interrupts the pace of the movie br br 5 some scenes were deliberately attempted by the movie makers to be funny and 6 poor and flawed story br br however there are few ? 1 govinda great individual performance br br 2 some scenes are actually quite funny br br 3 ? looks and acting keeps on improving with every film br br 4 rajpal ? don sequences though under utilized but hilarious br br so 4 good points 6 bad ones this one gets 4 10\n",
      "negative\n",
      "? ? ? ? ? ? ? ? ? ? ? ? ? ? ? ? ? ? ? ? ? ? ? ? ? ? ? ? ? ? ? ? ? ? ? ? ? ? ? ? ? ? ? ? ? ? ? ? ? ? ? ? ? ? ? ? ? ? ? ? ? ? ? ? ? ? ? ? ? ? ? ? ? ? ? ? right so you have a dam tons of water that seems to flow really really slowly and a small town that happens to be right underneath the path of destruction throw in a ? ? an apparently mentally unstable and disgruntled architect and his son and then to spice things up you add a weak plot and bad acting all in all when you have a look at this film from a paying customers point of view i would feel extremely ? off if this was a pay per view film if you want a laugh then you really need to watch this film\n",
      "positive\n",
      "many people watching will not read between some very important lines but indeed if not the movie will make sense in a different way and is very brilliant the film has many stories and characters woven together around this one character ? a man whom has rose from the streets amidst many woes and become a very powerful criminal after spending some time in prison ? finds a ? in the justice system and through a disturbing turn of events is released only to find everything is not at all what it seems ? finds himself going up against the higher realm of society and political royalty in order to make clear how important a man's word is and stands for a war begins as the street is in arms against lords of wealth and corrupt power br br a build up to explosive and powerful non stop twists and turns this film will leave you riveted i found the cast of this movie to be outstanding and is not a movie to be ignored excellent go rent it today\n",
      "positive\n",
      "? ? ? ? ? ? ? ? ? ? ? ? ? ? ? ? ? ? ? ? ? ? ? ? ? ? ? ? ? ? ? ? ? ? ? ? ? ? ? ? ? ? ? ? this is one of my favourite disney films it has everything you could hope for in a disney animation cute animals great songs a nasty villain and lots of adventure the story begins in paris where duchess and her three kittens live with their mistress in a mansion life is perfect for them until the fiendish butler edgar discovers that she plans to leave her entire fortune to the cats he realises that if he even stands a chance of claiming the fortune the cats will be out of the way an excellent often forgotten masterpiece from the 1970's a time when the disney studio made few animations which features songs such as the title number the ? as well as wants to be a cat this will ? viewers young and old with its enduring\n",
      "positive\n",
      "? ? ? ? ? ? ? ? ? ? ? ? ? ? ? ? ? ? ? ? ? ? ? ? ? ? ? ? ? ? ? ? ? ? ? ? ? ? ? ? ? ? ? ? ? ? ? ? ? ? ? ? ? ? ? ? ? ? ? ? ? ? ? ? ? ? ? ? ? ? ? ? ? ? ? ? ? ? ? ? ? ? ? ? ? ? ? ? ? ? ? ? ? how managed to avoid attention remains a mystery a potent mix of comedy and crime this one takes chances where tarantino plays it safe with the hollywood formula the risks don't always pay off one character in one sequence comes off inappropriately silly and falls flat in the lead role thomas jane gives a wonderful and complex performance and two brief appearances by mickey rourke hint at the high potential of this much under and mis used actor here's a director one should keep one's eye on\n",
      "positive\n",
      "? ? ? ? ? ? ? ? ? ? ? ? ? ? ? ? ? ? ? ? ? ? ? ? ? ? ? ? ? ? ? ? ? ? ? ? ? ? ? ? ? ? ? ? ? ? ? ? ? ? ? ? ? ? ? ? ? ? ? ? ? ? ? ? ? ? ? ? ? ? ? ? ? ? ? ? ? ? ? ? ? ? ? ? ? ? ? ? ? ? ? ? ? ? ? ? ? ? ? ? ? ? ? ? ? ? ? ? ? ? ? eric ability to roll from character to character in this 'one man ? exhibits his true range as a character actor each persona has their own message to convey about truth society class drugs etc this is an absolute must have for anyone who is a serious fan of acting his performance contains some of the most hilarious and real moments i have ever experienced as a viewing audience\n",
      "positive\n",
      "? ? ? ? ? ? ? ? ? ? ? welsh poet dylan thomas excused from serving in active duty is doing his bit for the war effort producing bits of prose for some propaganda branch of government in ? br br thomas is portrayed as a believing in free love married to a woman with an equally demanding artistic streak and likewise with a penchant for ? romance thomas writing and reciting his poetry in ? domestic mayhem throughout becomes somewhat ? towards the end resting somewhat uncomfortably on his society connections and pulling rank on a war veteran who had shot up his house and who was incidentally married to the woman he had been having an affair with br br the real story of this film is the love of two women one keira knightley whose first love was thomas matthew rhys the second ? miller who is ? wife at times it reminds of the singing detective as in very good television with slightly sinister overtones laid on top of scenes of surreal camp absurdity\n",
      "positive\n",
      "gruesome mayhem begins trust me when i say if your looking for a horror film go see this you will love it it's wonderfully diabolical and inventive with it's killing scenes the story is interesting and the characters are decently drawn with the actors giving them ? of personality paris hilton included whom does quite well with her part the film lies a little on the shallow side but it's so much fun and who cares this movie should eat up the box office and all horror fans should have part in it go see house of wax the film that features skin being ? super glued lips dead animal ? hot wax sprayed on a still living person a finger being cut off a decapitation a pole through the head and much more i was lucky enough to witness this film at the tribeca premiere and all the actors were on hand to promote the film and boy do they have something to be proud of house of wax is the scariest roller ride of the year 9 10\n",
      "negative\n",
      "loss to cinema or even the genre s the bed was apparently created for the purpose of ? a ? ? with a woman anyway a dying man who had made use of the four poster and even painted it ends up trapped in the wall behind the canvas and provides ? commentary to the ? several people from teenagers on a fling to gangsters in hiding supply fodder to the hungry bed latest on the menu are a trio of girls  one of whom however recalls its mistress of long ago and consequently the bed seemingly fears her seeing various objects  from ? to pieces of fried chicken  and people getting swallowed up the belly of the bed is depicted as a ? of honey colored liquid makes the film mildly amusing at times especially when a young man's hands are reduced to their ? formation which he seems to take rather too easily in his stride but also awfully that at even a brief 77 minutes the whole pointless exercise feels strained and downright desperate\n",
      "positive\n",
      "? ? ? ? ? ? ? ? ? ? ? ? ? ? ? ? ? ? ? ? ? ? ? ? ? ? ? ? ? ? ? ? ? ? ? ? ? ? ? ? ? ? ? ? ? ? ? wicked little things was a really good movie i will say at some parts it seemed really unbelievable and others it seemed as if there just wasn't enough thought put into the actions of the characters but overall it was exciting and entertaining i don't understand why this movie's rating is so low nor do i not understand why all the horrorfest film's ratings are so low these are b movies people and nothing more they provide great entertainment and most of them don't have many flaws at all this is definitely worth a look because you won't be disappointed with the outcome wicked little things is one of the best 1st annual horrorfest films and compared to a lot of other films in the series this is one of the best overall\n",
      "positive\n",
      "what to think totally different than anything i had seen before leaving far to many questions for such a young mind needless to say i loved it this morning was the first time i'd watched in in probably 2 3 years and i still think it's one of the greatest films made in the last decade kevin spacey and jeff bridges are both in top form as a mysterious man who may or may not be from another planet and the psychiatrist that develops a bond with him while trying to decipher his mystery the supporting cast are near perfect as well each resident of the mental institution is incredibly convincing in their own way the open ending was handled very well giving lots of evidence to support whatever you believe happened in the end how this movie failed to receive at least a nomination in that year's oscars is beyond me if you haven't seen this film run to wal mart right now the dvd is usually in the bargain bin pick it up br br 9 5 10\n",
      "negative\n",
      "reason other than to give the movie more cinematic credibility the camera is haphazard some nice crane shots are cut with ridiculous montages that have no significance poor blocking and lighting leave the viewer wondering who is talking to who in many scenes oh and the audio is terrible the special effects were decent and thankfully limited but this is all just technical the movie fails to engage on an emotional level the dialogue is so fake sounding and the actors seem to have only read it a moment before the camera was rolling the story the things that happen in sequence have no motivation behind them the characters are struggling to take hold of one ? and the characters have to make a stance on christianity and faith in every single scene take a queue from m night engaging christian films don't have to have the characters saying the name of jesus christ in every scene for the movie to be christian goodness please don't try to show this to your ? friends with any expectations other than laughter\n",
      "positive\n",
      "? ? ? ? ? ? ? ? ? ? ? ? ? ? ? ? ? ? ? ? ? ? ? ? ? ? ? ? ? ? ? ? ? ? ? ? ? ? ? ? ? ? ? ? ? ? ? ? ? ? ? ? ? ? ? ? ? ? ? ? ? ? ? ? ? ? ? ? ? ? ? ? ? ? ? ? ? ? ? ? ? ? tim robbins did a masterful job directing this film i say this because he avoided convention and cliché he also ? superb performances from susan sarandon who won an oscar for her role and sean penn even more amazing robbins doesn't ? he just tells the story and lets the events play on the viewer's mind this is so effective because it allows the viewer to form his own opinions on the death penalty one of the most controversial subjects of our time without being unfairly manipulated in either direction i can't recommend this film enough 9 10\n",
      "positive\n",
      "? ? ? ? ? ? ? ? ? ? ? ? ? ? ? ? ? ? ? ? ? ? ? ? ? ? ? ? ? ? ? ? ? ? ? ? ? ? ? ? ? ? ? ? ? ? ? ? if you expect that this movie is full of action and grabbing you from the start then don't watch it but if you like those kind of ? movies which stick in your mind for a while until you get the details then you will love it now don't get me wrong there is action and there are things going on just not in the usual way br br basically the plot is in a post apocalyptic world where anyone fights in his or their way for survival in this fight they lost the ability to speak i don't want to write more to not spoil the movie for you but trust me if you like sf authors like or or even some from orson scott card you will love this movie\n",
      "negative\n",
      "? ? ? ? ? ? ? ? ? ? ? ? ? ? ? ? ? ? ? ? ? ? ? ? ? ? ? ? ? ? ? ? ? ? ? ? ? ? ? ? ? ? ? ? ? ? ? ? ? ? ? ? ? ? ? ? ? ? ? ? if you have never read the classic science fiction novel this mini series is based on it may actually be good unfortunately if you are a fan of the book you probably won't be able to watch more than the first hour or two all of the political intrigue has been taken out of the film the most important scenes from the book have been taken out characters motivations have been changed completely and words from the wrong characters mouths where in the novel paul was a teen age boy with incredible political skill and a great understanding of the way the world worked in this film he is hot headed and and frustrated avoid this movie at all costs\n",
      "negative\n",
      "doing in this you were already funny before this on the drew carey show nicholas well i haven't seen you in anything preceding american pie but if nothing else you were funny later on and in those productions the amusement was intentional dialog is the less said the better language is unrestrained and tends to be stupid the violence is ? done and they don't even seem to care to try to hide it hinting at it might have been the smarter strategy characters don't get me started why spend so much energy on portraying unexciting at times utterly illogical events the more you think about this the worse it gets it's not even passable as a bad horror flick or a b movie it may very well pass through the rest of the alphabet and go further still it couldn't scare you on the scariest day of your life if it had an ? scaring machine i recommend this only to people who want to ? how bad this is and don't say i didn't warn ya 1 10\n",
      "negative\n",
      "? ? ? ? ? ? ? ? ? ? ? ? ? ? ? ? ? ? ? ? ? ? ? ? ? ? ? ? ? ? ? ? ? ? ? ? ? ? ? ? ? ? ? ? ? ? ? ? fairly appalling enterprise suggests welsh to be an infantile artist ? drawn to the violent milieu he knows best but unable to resist vacuous rooted in banal fantasy the first story is a ham fisted meaningless ? with a b movie sci fi premise the second achieves some poignancy but only via the outrage inducing ? of humiliation visited on its central character the third and most risible seems to aspire to being a ? sequel to child's play the direction is consistently clueless all ? sound and fury a slave to the extreme unpleasantness of the environment suffocating in an ill chosen music score and in ? flashy acting this is sheer stupidity masquerading as a guerilla sensibility as arbitrary and hollow as the abstract images that link the three sections\n",
      "negative\n",
      "? ? ? ? ? ? ? ? ? ? ? ? ? ? ? ? ? ? ? ? ? ? ? ? ? ? ? ? ? ? ? ? ? ? ? ? ? ? ? ? ? ? ? ? ? ? ? ? ? ? ? ? ? ? ? ? ? this is about one of the worst movies i'd ever seen it's not the worst though manos the hands of fate holds that honor br br this movie has a lot of problems to begin this whole movie is a cheap rip off of the conan movies there's the babe in a skimpy dress wearing a the quiet asian warrior the cookie cutter bad guy the almost mindless and so on there's lots of continuity errors in this film some of the dumbest errors i've ever seen are in this film br br fortunately when i watched this film i seen the mst3k version joel and the make the film watchable otherwise i probably would've turned it off five minutes into the film\n",
      "positive\n",
      "in both realistic and ? way the story itself is quite simple at a first glance as the title implies there is an archetypal journey a motive repeated for thousands of years this motive was always used not only to depict a trip in space and time and beyond but also had rich ? meaning the film is a ? contemplation of most exciting eternal questions it is not just an odyssey of a person it is an odyssey of our species the film is great by itself yet in my case the impression from it will always be ? with that from the book i've read it at the age of 10 really not thinking about problems like 'what is the relationship between evolution of ? and development of human but the impression was great enough to make me fall for entire genre of science fiction br br the day i learned got only special effects oscar and was not even nominated for the best picture was the day when ? completely became two words meaning nothing to me\n",
      "positive\n",
      "? ? ? ? ? ? ? ? ? ? ? ? ? ? ? ? ? ? ? ? ? ? ? sir as usual brings out another amazing story with such an amazing relationship between parents and child is brought out in a beautiful fashion ? sir as usual without much special effects and not much outdoor shoots in fact this was the only movie where he went outside india ever that too just to ? ? ? class is written all over the movie and to add to it music which is just amazing is one of my most fav songs ever maddy who is what he is in the film industry has impressed a lot too starting from to to to guru ? has showed to the world what a versatile actor maddy is has been really good too she has showed that she can act too in non glamorous and character roles in all an amazing movie sad that the tamil public could not appreciate this ? movie and it bombed at the box office\n",
      "negative\n",
      "? ? ? ? ? ? ? ? ? ? ? ? ? ? ? ? ? ? ? ? ? ? ? ? ? ? ? ? ? ? ? ? ? ? ? ? ? ? ? ? ? ? ? ? ? ? ? ? ? oh god it could be a very interesting film and in fact it is i would have like to give it a 5 but i give a 2 for my vote why i saw it in a theatre see this film on dvd or on tv the shooting is really really poor it keeps shaking all the time in a completely tasteless framing br br its really painful to see this very interesting film in a cinema you got quickly ? and you have to make some huge effort not to puke on your neighbor 's seat br br it's really a shame ? the story is edited in a non linear way which is quite rare and a very good idea for a documentary br br watch this at home\n",
      "negative\n",
      "? ? ? ? ? ? ? ? ? ? ? ? ? ? ? ? ? ? ? ? ? ? ? ? ? ? ? ? ? ? ? ? ? ? ? ? ? ? ? ? this documentary was boring and quite stupid br br i mean the documentary maker obviously does not even know what how ? evolution works it is a theory and the name is just plain dumb reading a college biology text book could have told the documentary maker what ? really is ? is a good theory but evil if it is done as politics br br also there was no real evidence in this documentary just interviewing some people no expert ? and shady leads br br the documentary was also boring i mean it could have been edited down to 35 minutes and then it would have been lots better br br there are a lot better documentaries than this this was not worth watching you can get better information from wikipedia d don't waste your money and time\n"
     ]
    }
   ],
   "source": [
    "word_index = imdb.get_word_index()\n",
    "reverse_word_index = dict([(value, key) for (key, value) in word_index.items()])\n",
    "\n",
    "for k in range(40):\n",
    "  decoded_review = ' '.join([reverse_word_index.get(i - 3, '?') for i in X_test[k]])\n",
    "  if y_test[k] == 1:\n",
    "    print('positive')\n",
    "  else:\n",
    "    print('negative')\n",
    "  print(decoded_review)"
   ]
  },
  {
   "cell_type": "code",
   "execution_count": 0,
   "metadata": {
    "colab": {
     "autoexec": {
      "startup": false,
      "wait_interval": 0
     }
    },
    "colab_type": "code",
    "id": "0TSPhr9hCem8"
   },
   "outputs": [],
   "source": [
    "y_train = to_categorical(y_train, 2) # ラベル ⇛ one_hotベクトルへの変換."
   ]
  },
  {
   "cell_type": "code",
   "execution_count": 0,
   "metadata": {
    "colab": {
     "autoexec": {
      "startup": false,
      "wait_interval": 0
     }
    },
    "colab_type": "code",
    "id": "cGAU6lhSDkCC"
   },
   "outputs": [],
   "source": [
    "model = Sequential()\n",
    "model.add(Embedding(input_dim=max_features, output_dim=100, embeddings_initializer='glorot_uniform', input_length=maxlen))\n",
    "model.add(LSTM(32, return_sequences=False))\n",
    "model.add(Dense(2))\n",
    "model.add(Activation('softmax'))\n",
    "\n",
    "model.compile(loss='categorical_crossentropy',\n",
    "              optimizer='adam',\n",
    "              metrics=['accuracy'])\n",
    "\n",
    "lstm = model.fit(X_train, y_train, batch_size=256, epochs=5, validation_split=0.1)"
   ]
  },
  {
   "cell_type": "code",
   "execution_count": 0,
   "metadata": {
    "colab": {
     "autoexec": {
      "startup": false,
      "wait_interval": 0
     }
    },
    "colab_type": "code",
    "id": "WnONqezRF-S7"
   },
   "outputs": [],
   "source": [
    "model.summary()"
   ]
  },
  {
   "cell_type": "code",
   "execution_count": 0,
   "metadata": {
    "colab": {
     "autoexec": {
      "startup": false,
      "wait_interval": 0
     }
    },
    "colab_type": "code",
    "id": "sGl6Ceh0NMCt"
   },
   "outputs": [],
   "source": [
    "# 実際に文章 ⇛ id化 ⇛ モデルを用いたpredictをテストする\n",
    "\n",
    "# positive\n",
    "#test_sentence = \"the trademark altman audio style is evident here and there i think what really makes this film work is the brilliant performance by sandy dennis it's definitely one of her darker characters but she plays it so perfectly and convincingly that it's scary michael burns does a good job as the mute young man regular altman player michael murphy has a small part the ? moody set fits the content of the story very well in short this movie is a powerful study of loneliness sexual repression and desperation be patient ? up the atmosphere and pay attention to the wonderfully written script br br i praise robert altman this is one of his many films that deals with unconventional fascinating subject matter this film is disturbing but it's sincere and it's sure to elicit a strong emotional response from the viewer if you want to see an unusual film some might even say bizarre this is worth the time br br unfortunately it's very difficult to find in video stores you may have to buy it off the internet\"\n",
    "\n",
    "# negative\n",
    "test_sentence = \"this movie is very bad. don't go to watch this. so boaring. this is such a stupid movie, shit.\"\n",
    "\n",
    "\n",
    "# 数字に変換するメソッド\n",
    "def split_text(text):\n",
    "  result = []\n",
    "  for word in text.split():\n",
    "    word = word.lower()  # 小文字しか対応していないので、小文字化\n",
    "    \n",
    "    # 単語が変換すればindex化, 存在しなければ0\n",
    "    try:\n",
    "      index = word_index[word]\n",
    "    except(KeyError):\n",
    "      index = 0\n",
    "    result.append(index)\n",
    "      \n",
    "  return result\n",
    "\n",
    "x = [split_text(test_sentence)]\n",
    "x = sequence.pad_sequences(x, maxlen=maxlen)\n",
    "print(x) # ⇛ paddingされたid版の文章が見れる\n",
    "\n",
    "\n",
    "y = model.predict(x)\n",
    "print(y) # [ネガティブの確率、ポジティブの確率]"
   ]
  },
  {
   "cell_type": "code",
   "execution_count": 0,
   "metadata": {
    "colab": {
     "autoexec": {
      "startup": false,
      "wait_interval": 0
     }
    },
    "colab_type": "code",
    "id": "0T--f9jKPl_I"
   },
   "outputs": [],
   "source": []
  }
 ],
 "metadata": {
  "accelerator": "GPU",
  "colab": {
   "default_view": {},
   "name": "第7回_LSTM_classify_sentence.ipynb",
   "provenance": [],
   "version": "0.3.2",
   "views": {}
  },
  "kernelspec": {
   "display_name": "Python 3",
   "language": "python",
   "name": "python3"
  },
  "language_info": {
   "codemirror_mode": {
    "name": "ipython",
    "version": 3
   },
   "file_extension": ".py",
   "mimetype": "text/x-python",
   "name": "python",
   "nbconvert_exporter": "python",
   "pygments_lexer": "ipython3",
   "version": "3.6.5"
  }
 },
 "nbformat": 4,
 "nbformat_minor": 1
}
