{
  "nbformat": 4,
  "nbformat_minor": 0,
  "metadata": {
    "colab": {
      "name": "cnn_improved.ipynb",
      "version": "0.3.2",
      "provenance": [],
      "collapsed_sections": []
    },
    "kernelspec": {
      "name": "python3",
      "display_name": "Python 3"
    },
    "accelerator": "GPU"
  },
  "cells": [
    {
      "metadata": {
        "id": "Rxhdcx13dv5a",
        "colab_type": "code",
        "colab": {
          "base_uri": "https://localhost:8080/",
          "height": 34
        },
        "outputId": "8498621f-9100-4c0e-f518-3e53d1f1df6e"
      },
      "cell_type": "code",
      "source": [
        "from keras.models import Sequential\n",
        "from keras.layers.convolutional import Conv2D\n",
        "from keras.layers.pooling import MaxPool2D\n",
        "from keras.optimizers import Adam\n",
        "from keras.layers import GlobalAveragePooling2D\n",
        "\n",
        "from keras.layers.core import Dense, Activation, Dropout, Flatten\n",
        "from keras.utils import plot_model\n",
        "from keras.callbacks import TensorBoard\n",
        "\n",
        "from keras.datasets import cifar10\n",
        "from keras.utils import np_utils"
      ],
      "execution_count": 1,
      "outputs": [
        {
          "output_type": "stream",
          "text": [
            "Using TensorFlow backend.\n"
          ],
          "name": "stderr"
        }
      ]
    },
    {
      "metadata": {
        "id": "GMBH-iM7eCTr",
        "colab_type": "code",
        "colab": {
          "base_uri": "https://localhost:8080/",
          "height": 70
        },
        "outputId": "e7885204-5625-439f-802e-21fa86fc04fb"
      },
      "cell_type": "code",
      "source": [
        "(X_train, y_train),(X_test, y_test) = cifar10.load_data()\n"
      ],
      "execution_count": 2,
      "outputs": [
        {
          "output_type": "stream",
          "text": [
            "Downloading data from https://www.cs.toronto.edu/~kriz/cifar-10-python.tar.gz\n",
            "170500096/170498071 [==============================] - 27s 0us/step\n"
          ],
          "name": "stdout"
        }
      ]
    },
    {
      "metadata": {
        "id": "AVvKcZ5GeG5l",
        "colab_type": "code",
        "colab": {}
      },
      "cell_type": "code",
      "source": [
        "# floatに変換しておく\n",
        "X_train = X_train.astype('float32')\n",
        "X_test = X_test.astype('float32')\n",
        "\n",
        "# 正規化\n",
        "X_train /= 255.0\n",
        "X_test /= 255.0\n",
        "\n",
        "# one-hot vector に変換したほうが都合が良い\n",
        "n_classes = 10\n",
        "Y_train = np_utils.to_categorical(y_train, n_classes)\n",
        "Y_test = np_utils.to_categorical(y_test, n_classes)"
      ],
      "execution_count": 0,
      "outputs": []
    },
    {
      "metadata": {
        "id": "lTwq050qedrJ",
        "colab_type": "code",
        "colab": {
          "base_uri": "https://localhost:8080/",
          "height": 941
        },
        "outputId": "2eb368fe-48d9-4809-8dec-b6b6ea284ae1"
      },
      "cell_type": "code",
      "source": [
        "# モデルの定義\n",
        "model = Sequential()\n",
        "\n",
        "model.add(Conv2D(32,(3,3), padding='same', input_shape=(32,32,3)))\n",
        "model.add(Activation('relu'))\n",
        "model.add(Conv2D(32,(3,3), padding='same'))\n",
        "model.add(Activation('relu'))\n",
        "model.add(Conv2D(32,(3,3), padding='same'))\n",
        "model.add(Activation('relu'))\n",
        "model.add(MaxPool2D(pool_size=(2,2)))\n",
        "\n",
        "# 16x16\n",
        "model.add(Conv2D(64,(3,3), padding='same'))\n",
        "model.add(Activation('relu'))\n",
        "model.add(Conv2D(64,(3,3), padding='same'))\n",
        "model.add(Activation('relu'))\n",
        "model.add(Conv2D(64,(3,3), padding='same'))\n",
        "model.add(Activation('relu'))\n",
        "model.add(MaxPool2D(pool_size=(2,2)))\n",
        "\n",
        "# 8x8\n",
        "model.add(Conv2D(128,(3,3), padding='same'))\n",
        "model.add(Activation('relu'))\n",
        "model.add(Conv2D(128,(3,3), padding='same'))\n",
        "model.add(Activation('relu'))\n",
        "model.add(Conv2D(128,(3,3), padding='same'))\n",
        "model.add(Activation('relu'))\n",
        "\n",
        "model.add(GlobalAveragePooling2D())\n",
        "model.add(Dense(1024))\n",
        "model.add(Activation('relu'))\n",
        "\n",
        "model.add(Dense(n_classes, activation='softmax'))\n",
        "\n",
        "adam = Adam(lr=1e-3)\n",
        "\n",
        "model.compile(optimizer=adam, loss='categorical_crossentropy', metrics=[\"accuracy\"])\n",
        "\n",
        "model.summary()"
      ],
      "execution_count": 10,
      "outputs": [
        {
          "output_type": "stream",
          "text": [
            "_________________________________________________________________\n",
            "Layer (type)                 Output Shape              Param #   \n",
            "=================================================================\n",
            "conv2d_28 (Conv2D)           (None, 32, 32, 32)        896       \n",
            "_________________________________________________________________\n",
            "activation_31 (Activation)   (None, 32, 32, 32)        0         \n",
            "_________________________________________________________________\n",
            "conv2d_29 (Conv2D)           (None, 32, 32, 32)        9248      \n",
            "_________________________________________________________________\n",
            "activation_32 (Activation)   (None, 32, 32, 32)        0         \n",
            "_________________________________________________________________\n",
            "conv2d_30 (Conv2D)           (None, 32, 32, 32)        9248      \n",
            "_________________________________________________________________\n",
            "activation_33 (Activation)   (None, 32, 32, 32)        0         \n",
            "_________________________________________________________________\n",
            "max_pooling2d_9 (MaxPooling2 (None, 16, 16, 32)        0         \n",
            "_________________________________________________________________\n",
            "conv2d_31 (Conv2D)           (None, 16, 16, 64)        18496     \n",
            "_________________________________________________________________\n",
            "activation_34 (Activation)   (None, 16, 16, 64)        0         \n",
            "_________________________________________________________________\n",
            "conv2d_32 (Conv2D)           (None, 16, 16, 64)        36928     \n",
            "_________________________________________________________________\n",
            "activation_35 (Activation)   (None, 16, 16, 64)        0         \n",
            "_________________________________________________________________\n",
            "conv2d_33 (Conv2D)           (None, 16, 16, 64)        36928     \n",
            "_________________________________________________________________\n",
            "activation_36 (Activation)   (None, 16, 16, 64)        0         \n",
            "_________________________________________________________________\n",
            "max_pooling2d_10 (MaxPooling (None, 8, 8, 64)          0         \n",
            "_________________________________________________________________\n",
            "conv2d_34 (Conv2D)           (None, 8, 8, 128)         73856     \n",
            "_________________________________________________________________\n",
            "activation_37 (Activation)   (None, 8, 8, 128)         0         \n",
            "_________________________________________________________________\n",
            "conv2d_35 (Conv2D)           (None, 8, 8, 128)         147584    \n",
            "_________________________________________________________________\n",
            "activation_38 (Activation)   (None, 8, 8, 128)         0         \n",
            "_________________________________________________________________\n",
            "conv2d_36 (Conv2D)           (None, 8, 8, 128)         147584    \n",
            "_________________________________________________________________\n",
            "activation_39 (Activation)   (None, 8, 8, 128)         0         \n",
            "_________________________________________________________________\n",
            "global_average_pooling2d_4 ( (None, 128)               0         \n",
            "_________________________________________________________________\n",
            "dense_7 (Dense)              (None, 1024)              132096    \n",
            "_________________________________________________________________\n",
            "activation_40 (Activation)   (None, 1024)              0         \n",
            "_________________________________________________________________\n",
            "dense_8 (Dense)              (None, 10)                10250     \n",
            "=================================================================\n",
            "Total params: 623,114\n",
            "Trainable params: 623,114\n",
            "Non-trainable params: 0\n",
            "_________________________________________________________________\n"
          ],
          "name": "stdout"
        }
      ]
    },
    {
      "metadata": {
        "id": "gonNGQGMej81",
        "colab_type": "code",
        "colab": {
          "base_uri": "https://localhost:8080/",
          "height": 726
        },
        "outputId": "6decb515-0b19-4a1d-89bf-1a66e3fb28d7"
      },
      "cell_type": "code",
      "source": [
        "batch_size = 50\n",
        "nb_epoch = 20\n",
        "validation_split=0.1\n",
        "\n",
        "history = model.fit(X_train, Y_train, batch_size=batch_size, epochs=nb_epoch, verbose=1, validation_split=validation_split)\n"
      ],
      "execution_count": 11,
      "outputs": [
        {
          "output_type": "stream",
          "text": [
            "Train on 45000 samples, validate on 5000 samples\n",
            "Epoch 1/20\n",
            "45000/45000 [==============================] - 30s 663us/step - loss: 1.7919 - acc: 0.3051 - val_loss: 1.4870 - val_acc: 0.4430\n",
            "Epoch 2/20\n",
            "45000/45000 [==============================] - 29s 637us/step - loss: 1.2676 - acc: 0.5303 - val_loss: 1.0710 - val_acc: 0.6158\n",
            "Epoch 3/20\n",
            "45000/45000 [==============================] - 29s 639us/step - loss: 1.0059 - acc: 0.6404 - val_loss: 0.9198 - val_acc: 0.6666\n",
            "Epoch 4/20\n",
            "45000/45000 [==============================] - 29s 639us/step - loss: 0.8454 - acc: 0.7007 - val_loss: 0.7961 - val_acc: 0.7116\n",
            "Epoch 5/20\n",
            "45000/45000 [==============================] - 29s 641us/step - loss: 0.7200 - acc: 0.7466 - val_loss: 0.7540 - val_acc: 0.7408\n",
            "Epoch 6/20\n",
            "45000/45000 [==============================] - 29s 641us/step - loss: 0.6318 - acc: 0.7780 - val_loss: 0.7268 - val_acc: 0.7462\n",
            "Epoch 7/20\n",
            "45000/45000 [==============================] - 29s 639us/step - loss: 0.5656 - acc: 0.8002 - val_loss: 0.6738 - val_acc: 0.7668\n",
            "Epoch 8/20\n",
            "45000/45000 [==============================] - 29s 639us/step - loss: 0.4972 - acc: 0.8258 - val_loss: 0.6842 - val_acc: 0.7666\n",
            "Epoch 9/20\n",
            "45000/45000 [==============================] - 29s 639us/step - loss: 0.4475 - acc: 0.8419 - val_loss: 0.6105 - val_acc: 0.7930\n",
            "Epoch 10/20\n",
            "45000/45000 [==============================] - 29s 641us/step - loss: 0.3925 - acc: 0.8627 - val_loss: 0.6694 - val_acc: 0.7794\n",
            "Epoch 11/20\n",
            "45000/45000 [==============================] - 29s 642us/step - loss: 0.3476 - acc: 0.8768 - val_loss: 0.6551 - val_acc: 0.7938\n",
            "Epoch 12/20\n",
            "45000/45000 [==============================] - 29s 641us/step - loss: 0.3064 - acc: 0.8906 - val_loss: 0.6953 - val_acc: 0.7946\n",
            "Epoch 13/20\n",
            "45000/45000 [==============================] - 29s 643us/step - loss: 0.2685 - acc: 0.9039 - val_loss: 0.7851 - val_acc: 0.7906\n",
            "Epoch 14/20\n",
            "45000/45000 [==============================] - 29s 644us/step - loss: 0.2380 - acc: 0.9156 - val_loss: 0.6844 - val_acc: 0.7964\n",
            "Epoch 15/20\n",
            "45000/45000 [==============================] - 29s 647us/step - loss: 0.2206 - acc: 0.9217 - val_loss: 0.7328 - val_acc: 0.7936\n",
            "Epoch 16/20\n",
            "45000/45000 [==============================] - 29s 646us/step - loss: 0.1847 - acc: 0.9338 - val_loss: 0.8247 - val_acc: 0.7954\n",
            "Epoch 17/20\n",
            "45000/45000 [==============================] - 29s 644us/step - loss: 0.1734 - acc: 0.9390 - val_loss: 0.8284 - val_acc: 0.7928\n",
            "Epoch 18/20\n",
            "45000/45000 [==============================] - 29s 643us/step - loss: 0.1626 - acc: 0.9411 - val_loss: 0.8975 - val_acc: 0.7872\n",
            "Epoch 19/20\n",
            "45000/45000 [==============================] - 29s 642us/step - loss: 0.1499 - acc: 0.9482 - val_loss: 0.8801 - val_acc: 0.7982\n",
            "Epoch 20/20\n",
            "45000/45000 [==============================] - 29s 641us/step - loss: 0.1404 - acc: 0.9503 - val_loss: 0.8570 - val_acc: 0.8030\n"
          ],
          "name": "stdout"
        }
      ]
    },
    {
      "metadata": {
        "id": "-q3j3GLDaj6f",
        "colab_type": "code",
        "colab": {}
      },
      "cell_type": "code",
      "source": [
        ""
      ],
      "execution_count": 0,
      "outputs": []
    }
  ]
}