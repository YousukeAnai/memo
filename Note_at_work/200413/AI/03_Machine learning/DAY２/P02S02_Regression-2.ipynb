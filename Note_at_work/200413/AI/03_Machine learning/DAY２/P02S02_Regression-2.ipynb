{
 "cells": [
  {
   "cell_type": "markdown",
   "metadata": {},
   "source": [
    "# Regression-2: ridge vs ols"
   ]
  },
  {
   "cell_type": "markdown",
   "metadata": {},
   "source": [
    "最小２乗回帰とリッジ回帰モデルを構築しモデル性能とその中身を比較してみましょう。データはボストン・ハウジングデータを使います。"
   ]
  },
  {
   "cell_type": "code",
   "execution_count": null,
   "metadata": {},
   "outputs": [],
   "source": [
    "# import the data for regression\n",
    "import pandas as pd\n",
    "from IPython.core.display import display\n",
    "from sklearn.datasets import load_boston\n",
    "\n",
    "# set dataframe\n",
    "dataset = load_boston()\n",
    "X = pd.DataFrame(dataset.data,\n",
    "                 columns=dataset.feature_names)\n",
    "y = pd.Series(dataset.target, name='y')\n",
    "\n",
    "# check the shape\n",
    "print('--------------------------------------------')\n",
    "print('X shape: (%i,%i)' %X.shape)\n",
    "print('--------------------------------------------')\n",
    "display(X.join(y).head())"
   ]
  },
  {
   "cell_type": "markdown",
   "metadata": {},
   "source": [
    "OLSとRidgeのどちらが良い予測モデルかをholdoutにより検証してみましょう。また、リッジ回帰のalphaを変化させた時（ドフォルトの1.0から10.0などへ）のモデルパフォーマンスや、偏回帰係数の総和の変化を見てみましょう。このデータでは、OLSとリッジ回帰に大きな性能差は見られないと思います。ただリッジ回帰のalphaを大きくすると、係数総和が減少していく様子が確認できるはずです。"
   ]
  },
  {
   "cell_type": "code",
   "execution_count": null,
   "metadata": {},
   "outputs": [],
   "source": [
    "import numpy as np\n",
    "from sklearn.preprocessing import StandardScaler\n",
    "from sklearn.linear_model import LinearRegression, Ridge\n",
    "from sklearn.pipeline import Pipeline\n",
    "from sklearn.model_selection import train_test_split\n",
    "from sklearn.metrics import r2_score\n",
    "\n",
    "# ホールドアウトのためデータを訓練とテストに分割\n",
    "X_train,X_test,y_train,y_test = train_test_split(X,\n",
    "                                                 y,\n",
    "                                                 test_size=0.20,\n",
    "                                                 random_state=1)\n",
    "# make pipelines\n",
    "ols = Pipeline([('scl',StandardScaler()), ('est',LinearRegression())])\n",
    "ridge = Pipeline([('scl',StandardScaler()),('est',Ridge(alpha=1.0))])\n",
    "# build models\n",
    "ols.fit(X_train,y_train)\n",
    "ridge.fit(X_train,y_train)\n",
    "\n",
    "# 性能指標の表示\n",
    "print('Test OLS:%.6f'% r2_score(y_test, ols.predict(X_test)))\n",
    "print('Test Ridge:%.6f'% r2_score(y_test, ridge.predict(X_test)))\n",
    "\n",
    "# 回帰係数の総和比較\n",
    "# リッジ回帰の正則化項の役割把握（モデルの性能評価ではない）\n",
    "print('-----------------------------------------------------')\n",
    "print('OLS coefficient total:%.6f'%(np.absolute(ols.named_steps['est'].coef_).sum()))\n",
    "print('Ridge coefficient total:%.6f'%(np.absolute(ridge.named_steps['est'].coef_).sum()))"
   ]
  }
 ],
 "metadata": {
  "kernelspec": {
   "display_name": "Python 3",
   "language": "python",
   "name": "python3"
  },
  "language_info": {
   "codemirror_mode": {
    "name": "ipython",
    "version": 3
   },
   "file_extension": ".py",
   "mimetype": "text/x-python",
   "name": "python",
   "nbconvert_exporter": "python",
   "pygments_lexer": "ipython3",
   "version": "3.5.3"
  }
 },
 "nbformat": 4,
 "nbformat_minor": 2
}
