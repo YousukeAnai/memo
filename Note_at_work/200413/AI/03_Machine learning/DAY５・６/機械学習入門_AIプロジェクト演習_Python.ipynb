{
 "cells": [
  {
   "cell_type": "markdown",
   "metadata": {},
   "source": [
    "# 機械学習入門_AIプロジェクト演習 (Python)"
   ]
  },
  {
   "cell_type": "markdown",
   "metadata": {},
   "source": [
    "## 前提（作業環境）"
   ]
  },
  {
   "cell_type": "markdown",
   "metadata": {},
   "source": [
    "データベースはPostgres10、機械学習環境はAnaconda Python3系にて事前の環境構築をお願いします。DB環境は使い慣れたものがあれば代替していただいても構いませんが、回答コード例は当該環境用のもののみの準備となります。\n",
    "- Python3系のAnaconda\n",
    "- Postgres10（pgAdmin4を使用）"
   ]
  },
  {
   "cell_type": "code",
   "execution_count": 1,
   "metadata": {},
   "outputs": [],
   "source": [
    "import pandas as pd\n",
    "import numpy as np"
   ]
  },
  {
   "cell_type": "markdown",
   "metadata": {},
   "source": [
    "## 1. データの取り込みと件数確認"
   ]
  },
  {
   "cell_type": "markdown",
   "metadata": {},
   "source": [
    "<b>【演習1】</b><br>クライアントからe-commerceの購買取引データを受領し、優良顧客リテンションのための予測モデル構築のフィージビリティ検証を行うことになった。「input」フォルダ内の「ec_trans.csv」データを、作業用に準備したデータベースへテーブル名「raw_ec_trans」で取り込み、データ件数を確認せよ。ただし、クライアントはテーブル定義書を有していないとのことで、データ型は一旦全てvarchar(50)として取り込むものとする。カラム構成と名称はCSVファイルの1行目で確認できる。"
   ]
  },
  {
   "cell_type": "code",
   "execution_count": 2,
   "metadata": {},
   "outputs": [
    {
     "data": {
      "text/plain": [
       "(541909, 8)"
      ]
     },
     "execution_count": 2,
     "metadata": {},
     "output_type": "execute_result"
    }
   ],
   "source": [
    "ec_trans = pd.read_csv(\"01_input/ec_trans.csv\")\n",
    "ec_trans.shape"
   ]
  },
  {
   "cell_type": "code",
   "execution_count": 3,
   "metadata": {},
   "outputs": [
    {
     "data": {
      "text/html": [
       "<div>\n",
       "<style scoped>\n",
       "    .dataframe tbody tr th:only-of-type {\n",
       "        vertical-align: middle;\n",
       "    }\n",
       "\n",
       "    .dataframe tbody tr th {\n",
       "        vertical-align: top;\n",
       "    }\n",
       "\n",
       "    .dataframe thead th {\n",
       "        text-align: right;\n",
       "    }\n",
       "</style>\n",
       "<table border=\"1\" class=\"dataframe\">\n",
       "  <thead>\n",
       "    <tr style=\"text-align: right;\">\n",
       "      <th></th>\n",
       "      <th>InvoiceNo</th>\n",
       "      <th>StockCode</th>\n",
       "      <th>Description</th>\n",
       "      <th>Quantity</th>\n",
       "      <th>InvoiceDate</th>\n",
       "      <th>UnitPrice</th>\n",
       "      <th>CustomerID</th>\n",
       "      <th>Country</th>\n",
       "    </tr>\n",
       "  </thead>\n",
       "  <tbody>\n",
       "    <tr>\n",
       "      <th>0</th>\n",
       "      <td>536365</td>\n",
       "      <td>85123A</td>\n",
       "      <td>WHITE HANGING HEART T-LIGHT HOLDER</td>\n",
       "      <td>6</td>\n",
       "      <td>12/1/2010 8:26</td>\n",
       "      <td>2.55</td>\n",
       "      <td>17850.0</td>\n",
       "      <td>United Kingdom</td>\n",
       "    </tr>\n",
       "    <tr>\n",
       "      <th>1</th>\n",
       "      <td>536365</td>\n",
       "      <td>71053</td>\n",
       "      <td>WHITE METAL LANTERN</td>\n",
       "      <td>6</td>\n",
       "      <td>12/1/2010 8:26</td>\n",
       "      <td>3.39</td>\n",
       "      <td>17850.0</td>\n",
       "      <td>United Kingdom</td>\n",
       "    </tr>\n",
       "    <tr>\n",
       "      <th>2</th>\n",
       "      <td>536365</td>\n",
       "      <td>84406B</td>\n",
       "      <td>CREAM CUPID HEARTS COAT HANGER</td>\n",
       "      <td>8</td>\n",
       "      <td>12/1/2010 8:26</td>\n",
       "      <td>2.75</td>\n",
       "      <td>17850.0</td>\n",
       "      <td>United Kingdom</td>\n",
       "    </tr>\n",
       "    <tr>\n",
       "      <th>3</th>\n",
       "      <td>536365</td>\n",
       "      <td>84029G</td>\n",
       "      <td>KNITTED UNION FLAG HOT WATER BOTTLE</td>\n",
       "      <td>6</td>\n",
       "      <td>12/1/2010 8:26</td>\n",
       "      <td>3.39</td>\n",
       "      <td>17850.0</td>\n",
       "      <td>United Kingdom</td>\n",
       "    </tr>\n",
       "    <tr>\n",
       "      <th>4</th>\n",
       "      <td>536365</td>\n",
       "      <td>84029E</td>\n",
       "      <td>RED WOOLLY HOTTIE WHITE HEART.</td>\n",
       "      <td>6</td>\n",
       "      <td>12/1/2010 8:26</td>\n",
       "      <td>3.39</td>\n",
       "      <td>17850.0</td>\n",
       "      <td>United Kingdom</td>\n",
       "    </tr>\n",
       "  </tbody>\n",
       "</table>\n",
       "</div>"
      ],
      "text/plain": [
       "  InvoiceNo StockCode                          Description  Quantity  \\\n",
       "0    536365    85123A   WHITE HANGING HEART T-LIGHT HOLDER         6   \n",
       "1    536365     71053                  WHITE METAL LANTERN         6   \n",
       "2    536365    84406B       CREAM CUPID HEARTS COAT HANGER         8   \n",
       "3    536365    84029G  KNITTED UNION FLAG HOT WATER BOTTLE         6   \n",
       "4    536365    84029E       RED WOOLLY HOTTIE WHITE HEART.         6   \n",
       "\n",
       "      InvoiceDate  UnitPrice  CustomerID         Country  \n",
       "0  12/1/2010 8:26       2.55     17850.0  United Kingdom  \n",
       "1  12/1/2010 8:26       3.39     17850.0  United Kingdom  \n",
       "2  12/1/2010 8:26       2.75     17850.0  United Kingdom  \n",
       "3  12/1/2010 8:26       3.39     17850.0  United Kingdom  \n",
       "4  12/1/2010 8:26       3.39     17850.0  United Kingdom  "
      ]
     },
     "execution_count": 3,
     "metadata": {},
     "output_type": "execute_result"
    }
   ],
   "source": [
    "ec_trans.head()"
   ]
  },
  {
   "cell_type": "code",
   "execution_count": 4,
   "metadata": {},
   "outputs": [
    {
     "name": "stdout",
     "output_type": "stream",
     "text": [
      "<class 'pandas.core.frame.DataFrame'>\n",
      "RangeIndex: 541909 entries, 0 to 541908\n",
      "Data columns (total 8 columns):\n",
      "InvoiceNo      541909 non-null object\n",
      "StockCode      541909 non-null object\n",
      "Description    540455 non-null object\n",
      "Quantity       541909 non-null int64\n",
      "InvoiceDate    541909 non-null object\n",
      "UnitPrice      541909 non-null float64\n",
      "CustomerID     406829 non-null float64\n",
      "Country        541909 non-null object\n",
      "dtypes: float64(2), int64(1), object(5)\n",
      "memory usage: 33.1+ MB\n"
     ]
    }
   ],
   "source": [
    "ec_trans.info()"
   ]
  },
  {
   "cell_type": "markdown",
   "metadata": {},
   "source": [
    "## 2. データ確認とクレンジング"
   ]
  },
  {
   "cell_type": "markdown",
   "metadata": {},
   "source": [
    "<b>【演習2.1】</b><br>データの中身を確認しクライアントに問い合わせたところ、以下の回答を得た。\n",
    "- StockCodeの小文字と大文字の違いに意味はない\n",
    "- StockCode5桁目までで1つの商品類型を表し6桁目以降は色やサイズ違いを表している\n",
    "- InvoiceDateの日付は\"MM/DD/YYYY\"で並んでいる"
   ]
  },
  {
   "cell_type": "markdown",
   "metadata": {},
   "source": [
    "上記を踏まえ、以下を満たす「v_ec_trans」という名称のViewを作成せよ。\n",
    "- 生データのStockCodeをStockCode_orgと名称変更する\n",
    "- 生データのStockCodeを全て大文字に変換したカラムを作成し、名称をStockCodeとする\n",
    "- 大文字変換されたStockCodeの左5桁を、StockCode2というカラムとする\n",
    "- カラムQuantityとUnitPriceのデータ型を、float型に変換する\n",
    "- Invoiceのデータをタイムスタンプに変換する"
   ]
  },
  {
   "cell_type": "code",
   "execution_count": 5,
   "metadata": {},
   "outputs": [],
   "source": [
    "v_ec_trans = ec_trans.copy()    ## コピーの作成"
   ]
  },
  {
   "cell_type": "code",
   "execution_count": 6,
   "metadata": {},
   "outputs": [],
   "source": [
    "v_ec_trans[\"StockCode_org\"] = v_ec_trans[\"StockCode\"]    ## 元のStockCodeをoriginalとしてキープ"
   ]
  },
  {
   "cell_type": "code",
   "execution_count": 7,
   "metadata": {},
   "outputs": [],
   "source": [
    "v_ec_trans[\"StockCode\"] = v_ec_trans[\"StockCode_org\"].str.upper()    ## 小文字を大文字に変換"
   ]
  },
  {
   "cell_type": "code",
   "execution_count": 8,
   "metadata": {},
   "outputs": [],
   "source": [
    "v_ec_trans[\"StockCode2\"] = v_ec_trans[\"StockCode\"].str[0:5]    ## 左5桁の切り出し"
   ]
  },
  {
   "cell_type": "code",
   "execution_count": 9,
   "metadata": {},
   "outputs": [],
   "source": [
    "v_ec_trans[\"Quantity\"] = v_ec_trans[\"Quantity\"].astype(\"float64\")    ## 型変更"
   ]
  },
  {
   "cell_type": "code",
   "execution_count": 10,
   "metadata": {},
   "outputs": [],
   "source": [
    "v_ec_trans[\"InvoiceDate\"] = pd.to_datetime(v_ec_trans[\"InvoiceDate\"])    ## pandas内での時間型（datetime64）に変換"
   ]
  },
  {
   "cell_type": "code",
   "execution_count": 11,
   "metadata": {},
   "outputs": [
    {
     "name": "stdout",
     "output_type": "stream",
     "text": [
      "<class 'pandas.core.frame.DataFrame'>\n",
      "RangeIndex: 541909 entries, 0 to 541908\n",
      "Data columns (total 10 columns):\n",
      "InvoiceNo        541909 non-null object\n",
      "StockCode        541909 non-null object\n",
      "Description      540455 non-null object\n",
      "Quantity         541909 non-null float64\n",
      "InvoiceDate      541909 non-null datetime64[ns]\n",
      "UnitPrice        541909 non-null float64\n",
      "CustomerID       406829 non-null float64\n",
      "Country          541909 non-null object\n",
      "StockCode_org    541909 non-null object\n",
      "StockCode2       541909 non-null object\n",
      "dtypes: datetime64[ns](1), float64(3), object(6)\n",
      "memory usage: 41.3+ MB\n"
     ]
    }
   ],
   "source": [
    "v_ec_trans.info()    ## 型確認"
   ]
  },
  {
   "cell_type": "code",
   "execution_count": 12,
   "metadata": {},
   "outputs": [],
   "source": [
    "v_ec_trans = v_ec_trans[[\"InvoiceNo\",\"StockCode_org\",\"StockCode\",\"StockCode2\",\n",
    "                         \"Description\",\"Quantity\",\"InvoiceDate\",\"UnitPrice\",\n",
    "                         \"CustomerID\",\"Country\"]]                                    ## カラム順序の並べ替え"
   ]
  },
  {
   "cell_type": "code",
   "execution_count": 13,
   "metadata": {},
   "outputs": [
    {
     "data": {
      "text/html": [
       "<div>\n",
       "<style scoped>\n",
       "    .dataframe tbody tr th:only-of-type {\n",
       "        vertical-align: middle;\n",
       "    }\n",
       "\n",
       "    .dataframe tbody tr th {\n",
       "        vertical-align: top;\n",
       "    }\n",
       "\n",
       "    .dataframe thead th {\n",
       "        text-align: right;\n",
       "    }\n",
       "</style>\n",
       "<table border=\"1\" class=\"dataframe\">\n",
       "  <thead>\n",
       "    <tr style=\"text-align: right;\">\n",
       "      <th></th>\n",
       "      <th>InvoiceNo</th>\n",
       "      <th>StockCode_org</th>\n",
       "      <th>StockCode</th>\n",
       "      <th>StockCode2</th>\n",
       "      <th>Description</th>\n",
       "      <th>Quantity</th>\n",
       "      <th>InvoiceDate</th>\n",
       "      <th>UnitPrice</th>\n",
       "      <th>CustomerID</th>\n",
       "      <th>Country</th>\n",
       "    </tr>\n",
       "  </thead>\n",
       "  <tbody>\n",
       "    <tr>\n",
       "      <th>0</th>\n",
       "      <td>536365</td>\n",
       "      <td>85123A</td>\n",
       "      <td>85123A</td>\n",
       "      <td>85123</td>\n",
       "      <td>WHITE HANGING HEART T-LIGHT HOLDER</td>\n",
       "      <td>6.0</td>\n",
       "      <td>2010-12-01 08:26:00</td>\n",
       "      <td>2.55</td>\n",
       "      <td>17850.0</td>\n",
       "      <td>United Kingdom</td>\n",
       "    </tr>\n",
       "    <tr>\n",
       "      <th>1</th>\n",
       "      <td>536365</td>\n",
       "      <td>71053</td>\n",
       "      <td>71053</td>\n",
       "      <td>71053</td>\n",
       "      <td>WHITE METAL LANTERN</td>\n",
       "      <td>6.0</td>\n",
       "      <td>2010-12-01 08:26:00</td>\n",
       "      <td>3.39</td>\n",
       "      <td>17850.0</td>\n",
       "      <td>United Kingdom</td>\n",
       "    </tr>\n",
       "    <tr>\n",
       "      <th>2</th>\n",
       "      <td>536365</td>\n",
       "      <td>84406B</td>\n",
       "      <td>84406B</td>\n",
       "      <td>84406</td>\n",
       "      <td>CREAM CUPID HEARTS COAT HANGER</td>\n",
       "      <td>8.0</td>\n",
       "      <td>2010-12-01 08:26:00</td>\n",
       "      <td>2.75</td>\n",
       "      <td>17850.0</td>\n",
       "      <td>United Kingdom</td>\n",
       "    </tr>\n",
       "    <tr>\n",
       "      <th>3</th>\n",
       "      <td>536365</td>\n",
       "      <td>84029G</td>\n",
       "      <td>84029G</td>\n",
       "      <td>84029</td>\n",
       "      <td>KNITTED UNION FLAG HOT WATER BOTTLE</td>\n",
       "      <td>6.0</td>\n",
       "      <td>2010-12-01 08:26:00</td>\n",
       "      <td>3.39</td>\n",
       "      <td>17850.0</td>\n",
       "      <td>United Kingdom</td>\n",
       "    </tr>\n",
       "    <tr>\n",
       "      <th>4</th>\n",
       "      <td>536365</td>\n",
       "      <td>84029E</td>\n",
       "      <td>84029E</td>\n",
       "      <td>84029</td>\n",
       "      <td>RED WOOLLY HOTTIE WHITE HEART.</td>\n",
       "      <td>6.0</td>\n",
       "      <td>2010-12-01 08:26:00</td>\n",
       "      <td>3.39</td>\n",
       "      <td>17850.0</td>\n",
       "      <td>United Kingdom</td>\n",
       "    </tr>\n",
       "    <tr>\n",
       "      <th>5</th>\n",
       "      <td>536365</td>\n",
       "      <td>22752</td>\n",
       "      <td>22752</td>\n",
       "      <td>22752</td>\n",
       "      <td>SET 7 BABUSHKA NESTING BOXES</td>\n",
       "      <td>2.0</td>\n",
       "      <td>2010-12-01 08:26:00</td>\n",
       "      <td>7.65</td>\n",
       "      <td>17850.0</td>\n",
       "      <td>United Kingdom</td>\n",
       "    </tr>\n",
       "    <tr>\n",
       "      <th>6</th>\n",
       "      <td>536365</td>\n",
       "      <td>21730</td>\n",
       "      <td>21730</td>\n",
       "      <td>21730</td>\n",
       "      <td>GLASS STAR FROSTED T-LIGHT HOLDER</td>\n",
       "      <td>6.0</td>\n",
       "      <td>2010-12-01 08:26:00</td>\n",
       "      <td>4.25</td>\n",
       "      <td>17850.0</td>\n",
       "      <td>United Kingdom</td>\n",
       "    </tr>\n",
       "    <tr>\n",
       "      <th>7</th>\n",
       "      <td>536366</td>\n",
       "      <td>22633</td>\n",
       "      <td>22633</td>\n",
       "      <td>22633</td>\n",
       "      <td>HAND WARMER UNION JACK</td>\n",
       "      <td>6.0</td>\n",
       "      <td>2010-12-01 08:28:00</td>\n",
       "      <td>1.85</td>\n",
       "      <td>17850.0</td>\n",
       "      <td>United Kingdom</td>\n",
       "    </tr>\n",
       "    <tr>\n",
       "      <th>8</th>\n",
       "      <td>536366</td>\n",
       "      <td>22632</td>\n",
       "      <td>22632</td>\n",
       "      <td>22632</td>\n",
       "      <td>HAND WARMER RED POLKA DOT</td>\n",
       "      <td>6.0</td>\n",
       "      <td>2010-12-01 08:28:00</td>\n",
       "      <td>1.85</td>\n",
       "      <td>17850.0</td>\n",
       "      <td>United Kingdom</td>\n",
       "    </tr>\n",
       "    <tr>\n",
       "      <th>9</th>\n",
       "      <td>536367</td>\n",
       "      <td>84879</td>\n",
       "      <td>84879</td>\n",
       "      <td>84879</td>\n",
       "      <td>ASSORTED COLOUR BIRD ORNAMENT</td>\n",
       "      <td>32.0</td>\n",
       "      <td>2010-12-01 08:34:00</td>\n",
       "      <td>1.69</td>\n",
       "      <td>13047.0</td>\n",
       "      <td>United Kingdom</td>\n",
       "    </tr>\n",
       "  </tbody>\n",
       "</table>\n",
       "</div>"
      ],
      "text/plain": [
       "  InvoiceNo StockCode_org StockCode StockCode2  \\\n",
       "0    536365        85123A    85123A      85123   \n",
       "1    536365         71053     71053      71053   \n",
       "2    536365        84406B    84406B      84406   \n",
       "3    536365        84029G    84029G      84029   \n",
       "4    536365        84029E    84029E      84029   \n",
       "5    536365         22752     22752      22752   \n",
       "6    536365         21730     21730      21730   \n",
       "7    536366         22633     22633      22633   \n",
       "8    536366         22632     22632      22632   \n",
       "9    536367         84879     84879      84879   \n",
       "\n",
       "                           Description  Quantity         InvoiceDate  \\\n",
       "0   WHITE HANGING HEART T-LIGHT HOLDER       6.0 2010-12-01 08:26:00   \n",
       "1                  WHITE METAL LANTERN       6.0 2010-12-01 08:26:00   \n",
       "2       CREAM CUPID HEARTS COAT HANGER       8.0 2010-12-01 08:26:00   \n",
       "3  KNITTED UNION FLAG HOT WATER BOTTLE       6.0 2010-12-01 08:26:00   \n",
       "4       RED WOOLLY HOTTIE WHITE HEART.       6.0 2010-12-01 08:26:00   \n",
       "5         SET 7 BABUSHKA NESTING BOXES       2.0 2010-12-01 08:26:00   \n",
       "6    GLASS STAR FROSTED T-LIGHT HOLDER       6.0 2010-12-01 08:26:00   \n",
       "7               HAND WARMER UNION JACK       6.0 2010-12-01 08:28:00   \n",
       "8            HAND WARMER RED POLKA DOT       6.0 2010-12-01 08:28:00   \n",
       "9        ASSORTED COLOUR BIRD ORNAMENT      32.0 2010-12-01 08:34:00   \n",
       "\n",
       "   UnitPrice  CustomerID         Country  \n",
       "0       2.55     17850.0  United Kingdom  \n",
       "1       3.39     17850.0  United Kingdom  \n",
       "2       2.75     17850.0  United Kingdom  \n",
       "3       3.39     17850.0  United Kingdom  \n",
       "4       3.39     17850.0  United Kingdom  \n",
       "5       7.65     17850.0  United Kingdom  \n",
       "6       4.25     17850.0  United Kingdom  \n",
       "7       1.85     17850.0  United Kingdom  \n",
       "8       1.85     17850.0  United Kingdom  \n",
       "9       1.69     13047.0  United Kingdom  "
      ]
     },
     "execution_count": 13,
     "metadata": {},
     "output_type": "execute_result"
    }
   ],
   "source": [
    "v_ec_trans.head(10)"
   ]
  },
  {
   "cell_type": "markdown",
   "metadata": {},
   "source": [
    "<b>【演習2.2】</b><br>受領したデータの取引期間（InvocieDateの最小値と最大値）を確認せよ。"
   ]
  },
  {
   "cell_type": "code",
   "execution_count": 14,
   "metadata": {},
   "outputs": [
    {
     "data": {
      "text/plain": [
       "Timestamp('2010-12-01 08:26:00')"
      ]
     },
     "execution_count": 14,
     "metadata": {},
     "output_type": "execute_result"
    }
   ],
   "source": [
    "v_ec_trans[\"InvoiceDate\"].min()"
   ]
  },
  {
   "cell_type": "code",
   "execution_count": 15,
   "metadata": {},
   "outputs": [
    {
     "data": {
      "text/plain": [
       "Timestamp('2011-12-09 12:50:00')"
      ]
     },
     "execution_count": 15,
     "metadata": {},
     "output_type": "execute_result"
    }
   ],
   "source": [
    "v_ec_trans[\"InvoiceDate\"].max()"
   ]
  },
  {
   "cell_type": "markdown",
   "metadata": {},
   "source": [
    "<b>【演習2.3】</b><br>CustomerIDが非NULLのデータを対象に、データ件数、CustomerIDのユニーク件数、InvoiceNoのユニーク件数を確認せよ。"
   ]
  },
  {
   "cell_type": "code",
   "execution_count": 16,
   "metadata": {},
   "outputs": [
    {
     "data": {
      "text/plain": [
       "135080"
      ]
     },
     "execution_count": 16,
     "metadata": {},
     "output_type": "execute_result"
    }
   ],
   "source": [
    "v_ec_trans[\"CustomerID\"].isnull().sum()     ## nullの数"
   ]
  },
  {
   "cell_type": "code",
   "execution_count": 17,
   "metadata": {},
   "outputs": [
    {
     "data": {
      "text/plain": [
       "406829"
      ]
     },
     "execution_count": 17,
     "metadata": {},
     "output_type": "execute_result"
    }
   ],
   "source": [
    "v_ec_trans[\"CustomerID\"].notnull().sum()     ## 非nullの数"
   ]
  },
  {
   "cell_type": "code",
   "execution_count": 18,
   "metadata": {},
   "outputs": [
    {
     "data": {
      "text/html": [
       "<div>\n",
       "<style scoped>\n",
       "    .dataframe tbody tr th:only-of-type {\n",
       "        vertical-align: middle;\n",
       "    }\n",
       "\n",
       "    .dataframe tbody tr th {\n",
       "        vertical-align: top;\n",
       "    }\n",
       "\n",
       "    .dataframe thead th {\n",
       "        text-align: right;\n",
       "    }\n",
       "</style>\n",
       "<table border=\"1\" class=\"dataframe\">\n",
       "  <thead>\n",
       "    <tr style=\"text-align: right;\">\n",
       "      <th></th>\n",
       "      <th>InvoiceNo</th>\n",
       "      <th>StockCode_org</th>\n",
       "      <th>StockCode</th>\n",
       "      <th>StockCode2</th>\n",
       "      <th>Description</th>\n",
       "      <th>Quantity</th>\n",
       "      <th>InvoiceDate</th>\n",
       "      <th>UnitPrice</th>\n",
       "      <th>CustomerID</th>\n",
       "      <th>Country</th>\n",
       "    </tr>\n",
       "  </thead>\n",
       "  <tbody>\n",
       "    <tr>\n",
       "      <th>0</th>\n",
       "      <td>536365</td>\n",
       "      <td>85123A</td>\n",
       "      <td>85123A</td>\n",
       "      <td>85123</td>\n",
       "      <td>WHITE HANGING HEART T-LIGHT HOLDER</td>\n",
       "      <td>6.0</td>\n",
       "      <td>2010-12-01 08:26:00</td>\n",
       "      <td>2.55</td>\n",
       "      <td>17850.0</td>\n",
       "      <td>United Kingdom</td>\n",
       "    </tr>\n",
       "    <tr>\n",
       "      <th>1</th>\n",
       "      <td>536365</td>\n",
       "      <td>71053</td>\n",
       "      <td>71053</td>\n",
       "      <td>71053</td>\n",
       "      <td>WHITE METAL LANTERN</td>\n",
       "      <td>6.0</td>\n",
       "      <td>2010-12-01 08:26:00</td>\n",
       "      <td>3.39</td>\n",
       "      <td>17850.0</td>\n",
       "      <td>United Kingdom</td>\n",
       "    </tr>\n",
       "    <tr>\n",
       "      <th>2</th>\n",
       "      <td>536365</td>\n",
       "      <td>84406B</td>\n",
       "      <td>84406B</td>\n",
       "      <td>84406</td>\n",
       "      <td>CREAM CUPID HEARTS COAT HANGER</td>\n",
       "      <td>8.0</td>\n",
       "      <td>2010-12-01 08:26:00</td>\n",
       "      <td>2.75</td>\n",
       "      <td>17850.0</td>\n",
       "      <td>United Kingdom</td>\n",
       "    </tr>\n",
       "    <tr>\n",
       "      <th>3</th>\n",
       "      <td>536365</td>\n",
       "      <td>84029G</td>\n",
       "      <td>84029G</td>\n",
       "      <td>84029</td>\n",
       "      <td>KNITTED UNION FLAG HOT WATER BOTTLE</td>\n",
       "      <td>6.0</td>\n",
       "      <td>2010-12-01 08:26:00</td>\n",
       "      <td>3.39</td>\n",
       "      <td>17850.0</td>\n",
       "      <td>United Kingdom</td>\n",
       "    </tr>\n",
       "    <tr>\n",
       "      <th>4</th>\n",
       "      <td>536365</td>\n",
       "      <td>84029E</td>\n",
       "      <td>84029E</td>\n",
       "      <td>84029</td>\n",
       "      <td>RED WOOLLY HOTTIE WHITE HEART.</td>\n",
       "      <td>6.0</td>\n",
       "      <td>2010-12-01 08:26:00</td>\n",
       "      <td>3.39</td>\n",
       "      <td>17850.0</td>\n",
       "      <td>United Kingdom</td>\n",
       "    </tr>\n",
       "  </tbody>\n",
       "</table>\n",
       "</div>"
      ],
      "text/plain": [
       "  InvoiceNo StockCode_org StockCode StockCode2  \\\n",
       "0    536365        85123A    85123A      85123   \n",
       "1    536365         71053     71053      71053   \n",
       "2    536365        84406B    84406B      84406   \n",
       "3    536365        84029G    84029G      84029   \n",
       "4    536365        84029E    84029E      84029   \n",
       "\n",
       "                           Description  Quantity         InvoiceDate  \\\n",
       "0   WHITE HANGING HEART T-LIGHT HOLDER       6.0 2010-12-01 08:26:00   \n",
       "1                  WHITE METAL LANTERN       6.0 2010-12-01 08:26:00   \n",
       "2       CREAM CUPID HEARTS COAT HANGER       8.0 2010-12-01 08:26:00   \n",
       "3  KNITTED UNION FLAG HOT WATER BOTTLE       6.0 2010-12-01 08:26:00   \n",
       "4       RED WOOLLY HOTTIE WHITE HEART.       6.0 2010-12-01 08:26:00   \n",
       "\n",
       "   UnitPrice  CustomerID         Country  \n",
       "0       2.55     17850.0  United Kingdom  \n",
       "1       3.39     17850.0  United Kingdom  \n",
       "2       2.75     17850.0  United Kingdom  \n",
       "3       3.39     17850.0  United Kingdom  \n",
       "4       3.39     17850.0  United Kingdom  "
      ]
     },
     "execution_count": 18,
     "metadata": {},
     "output_type": "execute_result"
    }
   ],
   "source": [
    "v_ec_trans.loc[v_ec_trans[\"CustomerID\"].notnull(), :].head()        ## CustomerIDが非nullのデータ"
   ]
  },
  {
   "cell_type": "code",
   "execution_count": 19,
   "metadata": {},
   "outputs": [
    {
     "data": {
      "text/plain": [
       "4372"
      ]
     },
     "execution_count": 19,
     "metadata": {},
     "output_type": "execute_result"
    }
   ],
   "source": [
    "len(v_ec_trans.loc[v_ec_trans[\"CustomerID\"].notnull(), \"CustomerID\"].unique())    ## CustomerIDのユニーク数"
   ]
  },
  {
   "cell_type": "code",
   "execution_count": 20,
   "metadata": {},
   "outputs": [
    {
     "data": {
      "text/plain": [
       "22190"
      ]
     },
     "execution_count": 20,
     "metadata": {},
     "output_type": "execute_result"
    }
   ],
   "source": [
    "len(v_ec_trans.loc[v_ec_trans[\"CustomerID\"].notnull(), \"InvoiceNo\"].unique())    ## InvoiceNoのユニーク数"
   ]
  },
  {
   "cell_type": "markdown",
   "metadata": {},
   "source": [
    "<b>【演習2.4】</b><br>CustomerIDが非NULLのデータを対象に、購買数量（Quantity）と単価（UnitPrice）の最小値・平均値・最大値を確認せよ。"
   ]
  },
  {
   "cell_type": "code",
   "execution_count": 21,
   "metadata": {},
   "outputs": [
    {
     "data": {
      "text/html": [
       "<div>\n",
       "<style scoped>\n",
       "    .dataframe tbody tr th:only-of-type {\n",
       "        vertical-align: middle;\n",
       "    }\n",
       "\n",
       "    .dataframe tbody tr th {\n",
       "        vertical-align: top;\n",
       "    }\n",
       "\n",
       "    .dataframe thead th {\n",
       "        text-align: right;\n",
       "    }\n",
       "</style>\n",
       "<table border=\"1\" class=\"dataframe\">\n",
       "  <thead>\n",
       "    <tr style=\"text-align: right;\">\n",
       "      <th></th>\n",
       "      <th>Quantity</th>\n",
       "      <th>UnitPrice</th>\n",
       "    </tr>\n",
       "  </thead>\n",
       "  <tbody>\n",
       "    <tr>\n",
       "      <th>count</th>\n",
       "      <td>406829.000000</td>\n",
       "      <td>406829.000000</td>\n",
       "    </tr>\n",
       "    <tr>\n",
       "      <th>mean</th>\n",
       "      <td>12.061303</td>\n",
       "      <td>3.460471</td>\n",
       "    </tr>\n",
       "    <tr>\n",
       "      <th>std</th>\n",
       "      <td>248.693370</td>\n",
       "      <td>69.315162</td>\n",
       "    </tr>\n",
       "    <tr>\n",
       "      <th>min</th>\n",
       "      <td>-80995.000000</td>\n",
       "      <td>0.000000</td>\n",
       "    </tr>\n",
       "    <tr>\n",
       "      <th>25%</th>\n",
       "      <td>2.000000</td>\n",
       "      <td>1.250000</td>\n",
       "    </tr>\n",
       "    <tr>\n",
       "      <th>50%</th>\n",
       "      <td>5.000000</td>\n",
       "      <td>1.950000</td>\n",
       "    </tr>\n",
       "    <tr>\n",
       "      <th>75%</th>\n",
       "      <td>12.000000</td>\n",
       "      <td>3.750000</td>\n",
       "    </tr>\n",
       "    <tr>\n",
       "      <th>max</th>\n",
       "      <td>80995.000000</td>\n",
       "      <td>38970.000000</td>\n",
       "    </tr>\n",
       "  </tbody>\n",
       "</table>\n",
       "</div>"
      ],
      "text/plain": [
       "            Quantity      UnitPrice\n",
       "count  406829.000000  406829.000000\n",
       "mean       12.061303       3.460471\n",
       "std       248.693370      69.315162\n",
       "min    -80995.000000       0.000000\n",
       "25%         2.000000       1.250000\n",
       "50%         5.000000       1.950000\n",
       "75%        12.000000       3.750000\n",
       "max     80995.000000   38970.000000"
      ]
     },
     "execution_count": 21,
     "metadata": {},
     "output_type": "execute_result"
    }
   ],
   "source": [
    "v_ec_trans.loc[v_ec_trans[\"CustomerID\"].notnull(), [\"Quantity\",\"UnitPrice\"]].describe()"
   ]
  },
  {
   "cell_type": "markdown",
   "metadata": {},
   "source": [
    "<b>【演習2.5】</b><br>購買数量（Quantity）が負となるケースは注文のキャンセルで生じることがわかった。キャンセルはInvocieNoが\"C\"で始まるという。CustomerIDが非Nullのデータを対象に、以下2つのケースについて数値確認せよ。\n",
    "1. InvoiceNoが\"C\"始まりのときの、Qunatityの最小値・平均値・最大値\n",
    "1. InvoiceNoが\"C\"始まりでないときの、Qunatityの最小値・平均値・最大値"
   ]
  },
  {
   "cell_type": "code",
   "execution_count": 22,
   "metadata": {},
   "outputs": [
    {
     "data": {
      "text/plain": [
       "(406829, 10)"
      ]
     },
     "execution_count": 22,
     "metadata": {},
     "output_type": "execute_result"
    }
   ],
   "source": [
    "## CustomerIDが非Nullのデータを作成しておく\n",
    "\n",
    "v_ec_trans_custid = v_ec_trans.loc[v_ec_trans[\"CustomerID\"].notnull(), :].copy()\n",
    "v_ec_trans_custid.shape"
   ]
  },
  {
   "cell_type": "code",
   "execution_count": null,
   "metadata": {},
   "outputs": [],
   "source": []
  },
  {
   "cell_type": "code",
   "execution_count": 23,
   "metadata": {},
   "outputs": [
    {
     "data": {
      "text/html": [
       "<div>\n",
       "<style scoped>\n",
       "    .dataframe tbody tr th:only-of-type {\n",
       "        vertical-align: middle;\n",
       "    }\n",
       "\n",
       "    .dataframe tbody tr th {\n",
       "        vertical-align: top;\n",
       "    }\n",
       "\n",
       "    .dataframe thead th {\n",
       "        text-align: right;\n",
       "    }\n",
       "</style>\n",
       "<table border=\"1\" class=\"dataframe\">\n",
       "  <thead>\n",
       "    <tr style=\"text-align: right;\">\n",
       "      <th></th>\n",
       "      <th>InvoiceNo</th>\n",
       "      <th>StockCode_org</th>\n",
       "      <th>StockCode</th>\n",
       "      <th>StockCode2</th>\n",
       "      <th>Description</th>\n",
       "      <th>Quantity</th>\n",
       "      <th>InvoiceDate</th>\n",
       "      <th>UnitPrice</th>\n",
       "      <th>CustomerID</th>\n",
       "      <th>Country</th>\n",
       "    </tr>\n",
       "  </thead>\n",
       "  <tbody>\n",
       "    <tr>\n",
       "      <th>141</th>\n",
       "      <td>C536379</td>\n",
       "      <td>D</td>\n",
       "      <td>D</td>\n",
       "      <td>D</td>\n",
       "      <td>Discount</td>\n",
       "      <td>-1.0</td>\n",
       "      <td>2010-12-01 09:41:00</td>\n",
       "      <td>27.50</td>\n",
       "      <td>14527.0</td>\n",
       "      <td>United Kingdom</td>\n",
       "    </tr>\n",
       "    <tr>\n",
       "      <th>154</th>\n",
       "      <td>C536383</td>\n",
       "      <td>35004C</td>\n",
       "      <td>35004C</td>\n",
       "      <td>35004</td>\n",
       "      <td>SET OF 3 COLOURED  FLYING DUCKS</td>\n",
       "      <td>-1.0</td>\n",
       "      <td>2010-12-01 09:49:00</td>\n",
       "      <td>4.65</td>\n",
       "      <td>15311.0</td>\n",
       "      <td>United Kingdom</td>\n",
       "    </tr>\n",
       "    <tr>\n",
       "      <th>235</th>\n",
       "      <td>C536391</td>\n",
       "      <td>22556</td>\n",
       "      <td>22556</td>\n",
       "      <td>22556</td>\n",
       "      <td>PLASTERS IN TIN CIRCUS PARADE</td>\n",
       "      <td>-12.0</td>\n",
       "      <td>2010-12-01 10:24:00</td>\n",
       "      <td>1.65</td>\n",
       "      <td>17548.0</td>\n",
       "      <td>United Kingdom</td>\n",
       "    </tr>\n",
       "    <tr>\n",
       "      <th>236</th>\n",
       "      <td>C536391</td>\n",
       "      <td>21984</td>\n",
       "      <td>21984</td>\n",
       "      <td>21984</td>\n",
       "      <td>PACK OF 12 PINK PAISLEY TISSUES</td>\n",
       "      <td>-24.0</td>\n",
       "      <td>2010-12-01 10:24:00</td>\n",
       "      <td>0.29</td>\n",
       "      <td>17548.0</td>\n",
       "      <td>United Kingdom</td>\n",
       "    </tr>\n",
       "    <tr>\n",
       "      <th>237</th>\n",
       "      <td>C536391</td>\n",
       "      <td>21983</td>\n",
       "      <td>21983</td>\n",
       "      <td>21983</td>\n",
       "      <td>PACK OF 12 BLUE PAISLEY TISSUES</td>\n",
       "      <td>-24.0</td>\n",
       "      <td>2010-12-01 10:24:00</td>\n",
       "      <td>0.29</td>\n",
       "      <td>17548.0</td>\n",
       "      <td>United Kingdom</td>\n",
       "    </tr>\n",
       "  </tbody>\n",
       "</table>\n",
       "</div>"
      ],
      "text/plain": [
       "    InvoiceNo StockCode_org StockCode StockCode2  \\\n",
       "141   C536379             D         D          D   \n",
       "154   C536383        35004C    35004C      35004   \n",
       "235   C536391         22556     22556      22556   \n",
       "236   C536391         21984     21984      21984   \n",
       "237   C536391         21983     21983      21983   \n",
       "\n",
       "                          Description  Quantity         InvoiceDate  \\\n",
       "141                          Discount      -1.0 2010-12-01 09:41:00   \n",
       "154   SET OF 3 COLOURED  FLYING DUCKS      -1.0 2010-12-01 09:49:00   \n",
       "235    PLASTERS IN TIN CIRCUS PARADE      -12.0 2010-12-01 10:24:00   \n",
       "236  PACK OF 12 PINK PAISLEY TISSUES      -24.0 2010-12-01 10:24:00   \n",
       "237  PACK OF 12 BLUE PAISLEY TISSUES      -24.0 2010-12-01 10:24:00   \n",
       "\n",
       "     UnitPrice  CustomerID         Country  \n",
       "141      27.50     14527.0  United Kingdom  \n",
       "154       4.65     15311.0  United Kingdom  \n",
       "235       1.65     17548.0  United Kingdom  \n",
       "236       0.29     17548.0  United Kingdom  \n",
       "237       0.29     17548.0  United Kingdom  "
      ]
     },
     "execution_count": 23,
     "metadata": {},
     "output_type": "execute_result"
    }
   ],
   "source": [
    "## InvoiceNoが\"C\"始まりのデータ\n",
    "v_ec_trans_custid.loc[v_ec_trans_custid[\"InvoiceNo\"].str.startswith(\"C\"), :].head()"
   ]
  },
  {
   "cell_type": "code",
   "execution_count": 24,
   "metadata": {},
   "outputs": [
    {
     "data": {
      "text/html": [
       "<div>\n",
       "<style scoped>\n",
       "    .dataframe tbody tr th:only-of-type {\n",
       "        vertical-align: middle;\n",
       "    }\n",
       "\n",
       "    .dataframe tbody tr th {\n",
       "        vertical-align: top;\n",
       "    }\n",
       "\n",
       "    .dataframe thead th {\n",
       "        text-align: right;\n",
       "    }\n",
       "</style>\n",
       "<table border=\"1\" class=\"dataframe\">\n",
       "  <thead>\n",
       "    <tr style=\"text-align: right;\">\n",
       "      <th></th>\n",
       "      <th>Quantity</th>\n",
       "      <th>UnitPrice</th>\n",
       "      <th>CustomerID</th>\n",
       "    </tr>\n",
       "  </thead>\n",
       "  <tbody>\n",
       "    <tr>\n",
       "      <th>count</th>\n",
       "      <td>8905.000000</td>\n",
       "      <td>8905.000000</td>\n",
       "      <td>8905.000000</td>\n",
       "    </tr>\n",
       "    <tr>\n",
       "      <th>mean</th>\n",
       "      <td>-30.859966</td>\n",
       "      <td>18.845519</td>\n",
       "      <td>14991.667266</td>\n",
       "    </tr>\n",
       "    <tr>\n",
       "      <th>std</th>\n",
       "      <td>1170.154939</td>\n",
       "      <td>444.366043</td>\n",
       "      <td>1706.772357</td>\n",
       "    </tr>\n",
       "    <tr>\n",
       "      <th>min</th>\n",
       "      <td>-80995.000000</td>\n",
       "      <td>0.010000</td>\n",
       "      <td>12346.000000</td>\n",
       "    </tr>\n",
       "    <tr>\n",
       "      <th>25%</th>\n",
       "      <td>-6.000000</td>\n",
       "      <td>1.450000</td>\n",
       "      <td>13510.000000</td>\n",
       "    </tr>\n",
       "    <tr>\n",
       "      <th>50%</th>\n",
       "      <td>-2.000000</td>\n",
       "      <td>2.950000</td>\n",
       "      <td>14895.000000</td>\n",
       "    </tr>\n",
       "    <tr>\n",
       "      <th>75%</th>\n",
       "      <td>-1.000000</td>\n",
       "      <td>4.950000</td>\n",
       "      <td>16393.000000</td>\n",
       "    </tr>\n",
       "    <tr>\n",
       "      <th>max</th>\n",
       "      <td>-1.000000</td>\n",
       "      <td>38970.000000</td>\n",
       "      <td>18282.000000</td>\n",
       "    </tr>\n",
       "  </tbody>\n",
       "</table>\n",
       "</div>"
      ],
      "text/plain": [
       "           Quantity     UnitPrice    CustomerID\n",
       "count   8905.000000   8905.000000   8905.000000\n",
       "mean     -30.859966     18.845519  14991.667266\n",
       "std     1170.154939    444.366043   1706.772357\n",
       "min   -80995.000000      0.010000  12346.000000\n",
       "25%       -6.000000      1.450000  13510.000000\n",
       "50%       -2.000000      2.950000  14895.000000\n",
       "75%       -1.000000      4.950000  16393.000000\n",
       "max       -1.000000  38970.000000  18282.000000"
      ]
     },
     "execution_count": 24,
     "metadata": {},
     "output_type": "execute_result"
    }
   ],
   "source": [
    "v_ec_trans_custid.loc[v_ec_trans_custid[\"InvoiceNo\"].str.startswith(\"C\"), :].describe()"
   ]
  },
  {
   "cell_type": "code",
   "execution_count": 25,
   "metadata": {},
   "outputs": [
    {
     "data": {
      "text/html": [
       "<div>\n",
       "<style scoped>\n",
       "    .dataframe tbody tr th:only-of-type {\n",
       "        vertical-align: middle;\n",
       "    }\n",
       "\n",
       "    .dataframe tbody tr th {\n",
       "        vertical-align: top;\n",
       "    }\n",
       "\n",
       "    .dataframe thead th {\n",
       "        text-align: right;\n",
       "    }\n",
       "</style>\n",
       "<table border=\"1\" class=\"dataframe\">\n",
       "  <thead>\n",
       "    <tr style=\"text-align: right;\">\n",
       "      <th></th>\n",
       "      <th>InvoiceNo</th>\n",
       "      <th>StockCode_org</th>\n",
       "      <th>StockCode</th>\n",
       "      <th>StockCode2</th>\n",
       "      <th>Description</th>\n",
       "      <th>Quantity</th>\n",
       "      <th>InvoiceDate</th>\n",
       "      <th>UnitPrice</th>\n",
       "      <th>CustomerID</th>\n",
       "      <th>Country</th>\n",
       "    </tr>\n",
       "  </thead>\n",
       "  <tbody>\n",
       "    <tr>\n",
       "      <th>0</th>\n",
       "      <td>536365</td>\n",
       "      <td>85123A</td>\n",
       "      <td>85123A</td>\n",
       "      <td>85123</td>\n",
       "      <td>WHITE HANGING HEART T-LIGHT HOLDER</td>\n",
       "      <td>6.0</td>\n",
       "      <td>2010-12-01 08:26:00</td>\n",
       "      <td>2.55</td>\n",
       "      <td>17850.0</td>\n",
       "      <td>United Kingdom</td>\n",
       "    </tr>\n",
       "    <tr>\n",
       "      <th>1</th>\n",
       "      <td>536365</td>\n",
       "      <td>71053</td>\n",
       "      <td>71053</td>\n",
       "      <td>71053</td>\n",
       "      <td>WHITE METAL LANTERN</td>\n",
       "      <td>6.0</td>\n",
       "      <td>2010-12-01 08:26:00</td>\n",
       "      <td>3.39</td>\n",
       "      <td>17850.0</td>\n",
       "      <td>United Kingdom</td>\n",
       "    </tr>\n",
       "    <tr>\n",
       "      <th>2</th>\n",
       "      <td>536365</td>\n",
       "      <td>84406B</td>\n",
       "      <td>84406B</td>\n",
       "      <td>84406</td>\n",
       "      <td>CREAM CUPID HEARTS COAT HANGER</td>\n",
       "      <td>8.0</td>\n",
       "      <td>2010-12-01 08:26:00</td>\n",
       "      <td>2.75</td>\n",
       "      <td>17850.0</td>\n",
       "      <td>United Kingdom</td>\n",
       "    </tr>\n",
       "    <tr>\n",
       "      <th>3</th>\n",
       "      <td>536365</td>\n",
       "      <td>84029G</td>\n",
       "      <td>84029G</td>\n",
       "      <td>84029</td>\n",
       "      <td>KNITTED UNION FLAG HOT WATER BOTTLE</td>\n",
       "      <td>6.0</td>\n",
       "      <td>2010-12-01 08:26:00</td>\n",
       "      <td>3.39</td>\n",
       "      <td>17850.0</td>\n",
       "      <td>United Kingdom</td>\n",
       "    </tr>\n",
       "    <tr>\n",
       "      <th>4</th>\n",
       "      <td>536365</td>\n",
       "      <td>84029E</td>\n",
       "      <td>84029E</td>\n",
       "      <td>84029</td>\n",
       "      <td>RED WOOLLY HOTTIE WHITE HEART.</td>\n",
       "      <td>6.0</td>\n",
       "      <td>2010-12-01 08:26:00</td>\n",
       "      <td>3.39</td>\n",
       "      <td>17850.0</td>\n",
       "      <td>United Kingdom</td>\n",
       "    </tr>\n",
       "  </tbody>\n",
       "</table>\n",
       "</div>"
      ],
      "text/plain": [
       "  InvoiceNo StockCode_org StockCode StockCode2  \\\n",
       "0    536365        85123A    85123A      85123   \n",
       "1    536365         71053     71053      71053   \n",
       "2    536365        84406B    84406B      84406   \n",
       "3    536365        84029G    84029G      84029   \n",
       "4    536365        84029E    84029E      84029   \n",
       "\n",
       "                           Description  Quantity         InvoiceDate  \\\n",
       "0   WHITE HANGING HEART T-LIGHT HOLDER       6.0 2010-12-01 08:26:00   \n",
       "1                  WHITE METAL LANTERN       6.0 2010-12-01 08:26:00   \n",
       "2       CREAM CUPID HEARTS COAT HANGER       8.0 2010-12-01 08:26:00   \n",
       "3  KNITTED UNION FLAG HOT WATER BOTTLE       6.0 2010-12-01 08:26:00   \n",
       "4       RED WOOLLY HOTTIE WHITE HEART.       6.0 2010-12-01 08:26:00   \n",
       "\n",
       "   UnitPrice  CustomerID         Country  \n",
       "0       2.55     17850.0  United Kingdom  \n",
       "1       3.39     17850.0  United Kingdom  \n",
       "2       2.75     17850.0  United Kingdom  \n",
       "3       3.39     17850.0  United Kingdom  \n",
       "4       3.39     17850.0  United Kingdom  "
      ]
     },
     "execution_count": 25,
     "metadata": {},
     "output_type": "execute_result"
    }
   ],
   "source": [
    "## InvoiceNoが\"C\"始まりでないデータ\n",
    "v_ec_trans_custid.loc[~( v_ec_trans_custid[\"InvoiceNo\"].str.startswith(\"C\") ), :].head()"
   ]
  },
  {
   "cell_type": "code",
   "execution_count": 26,
   "metadata": {},
   "outputs": [
    {
     "data": {
      "text/html": [
       "<div>\n",
       "<style scoped>\n",
       "    .dataframe tbody tr th:only-of-type {\n",
       "        vertical-align: middle;\n",
       "    }\n",
       "\n",
       "    .dataframe tbody tr th {\n",
       "        vertical-align: top;\n",
       "    }\n",
       "\n",
       "    .dataframe thead th {\n",
       "        text-align: right;\n",
       "    }\n",
       "</style>\n",
       "<table border=\"1\" class=\"dataframe\">\n",
       "  <thead>\n",
       "    <tr style=\"text-align: right;\">\n",
       "      <th></th>\n",
       "      <th>Quantity</th>\n",
       "      <th>UnitPrice</th>\n",
       "      <th>CustomerID</th>\n",
       "    </tr>\n",
       "  </thead>\n",
       "  <tbody>\n",
       "    <tr>\n",
       "      <th>count</th>\n",
       "      <td>397924.000000</td>\n",
       "      <td>397924.000000</td>\n",
       "      <td>397924.000000</td>\n",
       "    </tr>\n",
       "    <tr>\n",
       "      <th>mean</th>\n",
       "      <td>13.021823</td>\n",
       "      <td>3.116174</td>\n",
       "      <td>15294.315171</td>\n",
       "    </tr>\n",
       "    <tr>\n",
       "      <th>std</th>\n",
       "      <td>180.420210</td>\n",
       "      <td>22.096788</td>\n",
       "      <td>1713.169877</td>\n",
       "    </tr>\n",
       "    <tr>\n",
       "      <th>min</th>\n",
       "      <td>1.000000</td>\n",
       "      <td>0.000000</td>\n",
       "      <td>12346.000000</td>\n",
       "    </tr>\n",
       "    <tr>\n",
       "      <th>25%</th>\n",
       "      <td>2.000000</td>\n",
       "      <td>1.250000</td>\n",
       "      <td>13969.000000</td>\n",
       "    </tr>\n",
       "    <tr>\n",
       "      <th>50%</th>\n",
       "      <td>6.000000</td>\n",
       "      <td>1.950000</td>\n",
       "      <td>15159.000000</td>\n",
       "    </tr>\n",
       "    <tr>\n",
       "      <th>75%</th>\n",
       "      <td>12.000000</td>\n",
       "      <td>3.750000</td>\n",
       "      <td>16795.000000</td>\n",
       "    </tr>\n",
       "    <tr>\n",
       "      <th>max</th>\n",
       "      <td>80995.000000</td>\n",
       "      <td>8142.750000</td>\n",
       "      <td>18287.000000</td>\n",
       "    </tr>\n",
       "  </tbody>\n",
       "</table>\n",
       "</div>"
      ],
      "text/plain": [
       "            Quantity      UnitPrice     CustomerID\n",
       "count  397924.000000  397924.000000  397924.000000\n",
       "mean       13.021823       3.116174   15294.315171\n",
       "std       180.420210      22.096788    1713.169877\n",
       "min         1.000000       0.000000   12346.000000\n",
       "25%         2.000000       1.250000   13969.000000\n",
       "50%         6.000000       1.950000   15159.000000\n",
       "75%        12.000000       3.750000   16795.000000\n",
       "max     80995.000000    8142.750000   18287.000000"
      ]
     },
     "execution_count": 26,
     "metadata": {},
     "output_type": "execute_result"
    }
   ],
   "source": [
    "v_ec_trans_custid.loc[~( v_ec_trans_custid[\"InvoiceNo\"].str.startswith(\"C\") ), :].describe()"
   ]
  },
  {
   "cell_type": "markdown",
   "metadata": {},
   "source": [
    "<b>【演習2.6】</b><br>CustomerIDが非NULLのデータを対象に、単価（UnitPrice）がゼロのデータ件数を確認せよ。"
   ]
  },
  {
   "cell_type": "code",
   "execution_count": 27,
   "metadata": {},
   "outputs": [
    {
     "data": {
      "text/plain": [
       "40"
      ]
     },
     "execution_count": 27,
     "metadata": {},
     "output_type": "execute_result"
    }
   ],
   "source": [
    "sum( v_ec_trans_custid[\"UnitPrice\"] == 0 )"
   ]
  },
  {
   "cell_type": "markdown",
   "metadata": {},
   "source": [
    "<b>【演習2.7】</b><br>ここまでの結果を踏まえ、「AIジョブカレ_機械学習入門_初回報告書サンプル_演習用.pptx」の「1ページ」を完成させよ。"
   ]
  },
  {
   "cell_type": "markdown",
   "metadata": {},
   "source": [
    "## 3. 予測用データマート設計に関する集計"
   ]
  },
  {
   "cell_type": "markdown",
   "metadata": {},
   "source": [
    "<b>【演習3.1】</b><br>クライアントによると現在、半年間における購買回数(InvoiceNoのユニーク数)が4回以上か未満かで、顧客ランクを管理しているという。2011年1月から6月末までの半年間のデータを対象に、購買回数4回以上の顧客層と4回未満の顧客層それぞれについて、顧客数、購買金額(Quantity*Unitprice)、購買回数を集計せよ。<br><br>ただし集計はCustomerIDが非NULL、UnitPriceが正のデータを対象に行うこと。また集計結果は、作業用エクセル「優良」シートの黄色セル部分に反映させ後、「AIジョブカレ_機械学習入門_初回報告書サンプル_演習用.pptx」の「2ページ」を完成せよ。"
   ]
  },
  {
   "cell_type": "code",
   "execution_count": 28,
   "metadata": {},
   "outputs": [
    {
     "data": {
      "text/plain": [
       "(406789, 10)"
      ]
     },
     "execution_count": 28,
     "metadata": {},
     "output_type": "execute_result"
    }
   ],
   "source": [
    "## UnitPriceが正のデータを作成しておく\n",
    "\n",
    "v_ec_trans_custid_up = v_ec_trans_custid.loc[v_ec_trans_custid[\"UnitPrice\"]>0, :].copy()\n",
    "v_ec_trans_custid_up.shape"
   ]
  },
  {
   "cell_type": "code",
   "execution_count": 29,
   "metadata": {},
   "outputs": [
    {
     "data": {
      "text/plain": [
       "(406789, 11)"
      ]
     },
     "execution_count": 29,
     "metadata": {},
     "output_type": "execute_result"
    }
   ],
   "source": [
    "## さらに、購買金額(Quantity*Unitprice)カラムを作成しておく\n",
    "v_ec_trans_custid_up[\"PurchaseAmount\"] = v_ec_trans_custid_up[\"Quantity\"]*v_ec_trans_custid_up[\"UnitPrice\"]\n",
    "v_ec_trans_custid_up.shape"
   ]
  },
  {
   "cell_type": "code",
   "execution_count": null,
   "metadata": {},
   "outputs": [],
   "source": []
  },
  {
   "cell_type": "code",
   "execution_count": 30,
   "metadata": {},
   "outputs": [
    {
     "data": {
      "text/plain": [
       "22186"
      ]
     },
     "execution_count": 30,
     "metadata": {},
     "output_type": "execute_result"
    }
   ],
   "source": [
    "## InvoiceNoのユニーク数（購買発生回数）を確認\n",
    "len(v_ec_trans_custid_up[\"InvoiceNo\"].unique())"
   ]
  },
  {
   "cell_type": "code",
   "execution_count": null,
   "metadata": {},
   "outputs": [],
   "source": []
  },
  {
   "cell_type": "code",
   "execution_count": 31,
   "metadata": {},
   "outputs": [
    {
     "data": {
      "text/html": [
       "<div>\n",
       "<style scoped>\n",
       "    .dataframe tbody tr th:only-of-type {\n",
       "        vertical-align: middle;\n",
       "    }\n",
       "\n",
       "    .dataframe tbody tr th {\n",
       "        vertical-align: top;\n",
       "    }\n",
       "\n",
       "    .dataframe thead th {\n",
       "        text-align: right;\n",
       "    }\n",
       "</style>\n",
       "<table border=\"1\" class=\"dataframe\">\n",
       "  <thead>\n",
       "    <tr style=\"text-align: right;\">\n",
       "      <th></th>\n",
       "      <th>InvoiceNo</th>\n",
       "      <th>StockCode_org</th>\n",
       "      <th>StockCode</th>\n",
       "      <th>StockCode2</th>\n",
       "      <th>Description</th>\n",
       "      <th>Quantity</th>\n",
       "      <th>InvoiceDate</th>\n",
       "      <th>UnitPrice</th>\n",
       "      <th>CustomerID</th>\n",
       "      <th>Country</th>\n",
       "      <th>PurchaseAmount</th>\n",
       "    </tr>\n",
       "  </thead>\n",
       "  <tbody>\n",
       "    <tr>\n",
       "      <th>0</th>\n",
       "      <td>536365</td>\n",
       "      <td>85123A</td>\n",
       "      <td>85123A</td>\n",
       "      <td>85123</td>\n",
       "      <td>WHITE HANGING HEART T-LIGHT HOLDER</td>\n",
       "      <td>6.0</td>\n",
       "      <td>2010-12-01 08:26:00</td>\n",
       "      <td>2.55</td>\n",
       "      <td>17850.0</td>\n",
       "      <td>United Kingdom</td>\n",
       "      <td>15.30</td>\n",
       "    </tr>\n",
       "    <tr>\n",
       "      <th>1</th>\n",
       "      <td>536365</td>\n",
       "      <td>71053</td>\n",
       "      <td>71053</td>\n",
       "      <td>71053</td>\n",
       "      <td>WHITE METAL LANTERN</td>\n",
       "      <td>6.0</td>\n",
       "      <td>2010-12-01 08:26:00</td>\n",
       "      <td>3.39</td>\n",
       "      <td>17850.0</td>\n",
       "      <td>United Kingdom</td>\n",
       "      <td>20.34</td>\n",
       "    </tr>\n",
       "    <tr>\n",
       "      <th>2</th>\n",
       "      <td>536365</td>\n",
       "      <td>84406B</td>\n",
       "      <td>84406B</td>\n",
       "      <td>84406</td>\n",
       "      <td>CREAM CUPID HEARTS COAT HANGER</td>\n",
       "      <td>8.0</td>\n",
       "      <td>2010-12-01 08:26:00</td>\n",
       "      <td>2.75</td>\n",
       "      <td>17850.0</td>\n",
       "      <td>United Kingdom</td>\n",
       "      <td>22.00</td>\n",
       "    </tr>\n",
       "    <tr>\n",
       "      <th>3</th>\n",
       "      <td>536365</td>\n",
       "      <td>84029G</td>\n",
       "      <td>84029G</td>\n",
       "      <td>84029</td>\n",
       "      <td>KNITTED UNION FLAG HOT WATER BOTTLE</td>\n",
       "      <td>6.0</td>\n",
       "      <td>2010-12-01 08:26:00</td>\n",
       "      <td>3.39</td>\n",
       "      <td>17850.0</td>\n",
       "      <td>United Kingdom</td>\n",
       "      <td>20.34</td>\n",
       "    </tr>\n",
       "    <tr>\n",
       "      <th>4</th>\n",
       "      <td>536365</td>\n",
       "      <td>84029E</td>\n",
       "      <td>84029E</td>\n",
       "      <td>84029</td>\n",
       "      <td>RED WOOLLY HOTTIE WHITE HEART.</td>\n",
       "      <td>6.0</td>\n",
       "      <td>2010-12-01 08:26:00</td>\n",
       "      <td>3.39</td>\n",
       "      <td>17850.0</td>\n",
       "      <td>United Kingdom</td>\n",
       "      <td>20.34</td>\n",
       "    </tr>\n",
       "  </tbody>\n",
       "</table>\n",
       "</div>"
      ],
      "text/plain": [
       "  InvoiceNo StockCode_org StockCode StockCode2  \\\n",
       "0    536365        85123A    85123A      85123   \n",
       "1    536365         71053     71053      71053   \n",
       "2    536365        84406B    84406B      84406   \n",
       "3    536365        84029G    84029G      84029   \n",
       "4    536365        84029E    84029E      84029   \n",
       "\n",
       "                           Description  Quantity         InvoiceDate  \\\n",
       "0   WHITE HANGING HEART T-LIGHT HOLDER       6.0 2010-12-01 08:26:00   \n",
       "1                  WHITE METAL LANTERN       6.0 2010-12-01 08:26:00   \n",
       "2       CREAM CUPID HEARTS COAT HANGER       8.0 2010-12-01 08:26:00   \n",
       "3  KNITTED UNION FLAG HOT WATER BOTTLE       6.0 2010-12-01 08:26:00   \n",
       "4       RED WOOLLY HOTTIE WHITE HEART.       6.0 2010-12-01 08:26:00   \n",
       "\n",
       "   UnitPrice  CustomerID         Country  PurchaseAmount  \n",
       "0       2.55     17850.0  United Kingdom           15.30  \n",
       "1       3.39     17850.0  United Kingdom           20.34  \n",
       "2       2.75     17850.0  United Kingdom           22.00  \n",
       "3       3.39     17850.0  United Kingdom           20.34  \n",
       "4       3.39     17850.0  United Kingdom           20.34  "
      ]
     },
     "execution_count": 31,
     "metadata": {},
     "output_type": "execute_result"
    }
   ],
   "source": [
    "v_ec_trans_custid_up.head()"
   ]
  },
  {
   "cell_type": "code",
   "execution_count": 32,
   "metadata": {},
   "outputs": [
    {
     "data": {
      "text/plain": [
       "150029"
      ]
     },
     "execution_count": 32,
     "metadata": {},
     "output_type": "execute_result"
    }
   ],
   "source": [
    "## 2011年1月から6月末までの半年間のデータ\n",
    "t_start = \"2011-01-01 00:00:00\"\n",
    "t_end = \"2011-07-01 00:00:00\"\n",
    "\n",
    "tf_date = (v_ec_trans_custid_up[\"InvoiceDate\"] >= t_start) & (v_ec_trans_custid_up[\"InvoiceDate\"] < t_end)\n",
    "sum(tf_date)   ## 対象データ数"
   ]
  },
  {
   "cell_type": "code",
   "execution_count": 33,
   "metadata": {},
   "outputs": [
    {
     "data": {
      "text/html": [
       "<div>\n",
       "<style scoped>\n",
       "    .dataframe tbody tr th:only-of-type {\n",
       "        vertical-align: middle;\n",
       "    }\n",
       "\n",
       "    .dataframe tbody tr th {\n",
       "        vertical-align: top;\n",
       "    }\n",
       "\n",
       "    .dataframe thead th {\n",
       "        text-align: right;\n",
       "    }\n",
       "</style>\n",
       "<table border=\"1\" class=\"dataframe\">\n",
       "  <thead>\n",
       "    <tr style=\"text-align: right;\">\n",
       "      <th></th>\n",
       "      <th>InvoiceNo</th>\n",
       "      <th>StockCode_org</th>\n",
       "      <th>StockCode</th>\n",
       "      <th>StockCode2</th>\n",
       "      <th>Description</th>\n",
       "      <th>Quantity</th>\n",
       "      <th>InvoiceDate</th>\n",
       "      <th>UnitPrice</th>\n",
       "      <th>CustomerID</th>\n",
       "      <th>Country</th>\n",
       "      <th>PurchaseAmount</th>\n",
       "    </tr>\n",
       "  </thead>\n",
       "  <tbody>\n",
       "    <tr>\n",
       "      <th>42481</th>\n",
       "      <td>539993</td>\n",
       "      <td>22386</td>\n",
       "      <td>22386</td>\n",
       "      <td>22386</td>\n",
       "      <td>JUMBO BAG PINK POLKADOT</td>\n",
       "      <td>10.0</td>\n",
       "      <td>2011-01-04 10:00:00</td>\n",
       "      <td>1.95</td>\n",
       "      <td>13313.0</td>\n",
       "      <td>United Kingdom</td>\n",
       "      <td>19.5</td>\n",
       "    </tr>\n",
       "    <tr>\n",
       "      <th>42482</th>\n",
       "      <td>539993</td>\n",
       "      <td>21499</td>\n",
       "      <td>21499</td>\n",
       "      <td>21499</td>\n",
       "      <td>BLUE POLKADOT WRAP</td>\n",
       "      <td>25.0</td>\n",
       "      <td>2011-01-04 10:00:00</td>\n",
       "      <td>0.42</td>\n",
       "      <td>13313.0</td>\n",
       "      <td>United Kingdom</td>\n",
       "      <td>10.5</td>\n",
       "    </tr>\n",
       "    <tr>\n",
       "      <th>42483</th>\n",
       "      <td>539993</td>\n",
       "      <td>21498</td>\n",
       "      <td>21498</td>\n",
       "      <td>21498</td>\n",
       "      <td>RED RETROSPOT WRAP</td>\n",
       "      <td>25.0</td>\n",
       "      <td>2011-01-04 10:00:00</td>\n",
       "      <td>0.42</td>\n",
       "      <td>13313.0</td>\n",
       "      <td>United Kingdom</td>\n",
       "      <td>10.5</td>\n",
       "    </tr>\n",
       "    <tr>\n",
       "      <th>42484</th>\n",
       "      <td>539993</td>\n",
       "      <td>22379</td>\n",
       "      <td>22379</td>\n",
       "      <td>22379</td>\n",
       "      <td>RECYCLING BAG RETROSPOT</td>\n",
       "      <td>5.0</td>\n",
       "      <td>2011-01-04 10:00:00</td>\n",
       "      <td>2.10</td>\n",
       "      <td>13313.0</td>\n",
       "      <td>United Kingdom</td>\n",
       "      <td>10.5</td>\n",
       "    </tr>\n",
       "    <tr>\n",
       "      <th>42485</th>\n",
       "      <td>539993</td>\n",
       "      <td>20718</td>\n",
       "      <td>20718</td>\n",
       "      <td>20718</td>\n",
       "      <td>RED RETROSPOT SHOPPER BAG</td>\n",
       "      <td>10.0</td>\n",
       "      <td>2011-01-04 10:00:00</td>\n",
       "      <td>1.25</td>\n",
       "      <td>13313.0</td>\n",
       "      <td>United Kingdom</td>\n",
       "      <td>12.5</td>\n",
       "    </tr>\n",
       "  </tbody>\n",
       "</table>\n",
       "</div>"
      ],
      "text/plain": [
       "      InvoiceNo StockCode_org StockCode StockCode2                Description  \\\n",
       "42481    539993         22386     22386      22386    JUMBO BAG PINK POLKADOT   \n",
       "42482    539993         21499     21499      21499         BLUE POLKADOT WRAP   \n",
       "42483    539993         21498     21498      21498        RED RETROSPOT WRAP    \n",
       "42484    539993         22379     22379      22379   RECYCLING BAG RETROSPOT    \n",
       "42485    539993         20718     20718      20718  RED RETROSPOT SHOPPER BAG   \n",
       "\n",
       "       Quantity         InvoiceDate  UnitPrice  CustomerID         Country  \\\n",
       "42481      10.0 2011-01-04 10:00:00       1.95     13313.0  United Kingdom   \n",
       "42482      25.0 2011-01-04 10:00:00       0.42     13313.0  United Kingdom   \n",
       "42483      25.0 2011-01-04 10:00:00       0.42     13313.0  United Kingdom   \n",
       "42484       5.0 2011-01-04 10:00:00       2.10     13313.0  United Kingdom   \n",
       "42485      10.0 2011-01-04 10:00:00       1.25     13313.0  United Kingdom   \n",
       "\n",
       "       PurchaseAmount  \n",
       "42481            19.5  \n",
       "42482            10.5  \n",
       "42483            10.5  \n",
       "42484            10.5  \n",
       "42485            12.5  "
      ]
     },
     "execution_count": 33,
     "metadata": {},
     "output_type": "execute_result"
    }
   ],
   "source": [
    "v_ec_trans_custid_up[tf_date].head()"
   ]
  },
  {
   "cell_type": "code",
   "execution_count": null,
   "metadata": {},
   "outputs": [],
   "source": []
  },
  {
   "cell_type": "code",
   "execution_count": 34,
   "metadata": {},
   "outputs": [
    {
     "data": {
      "text/html": [
       "<div>\n",
       "<style scoped>\n",
       "    .dataframe tbody tr th:only-of-type {\n",
       "        vertical-align: middle;\n",
       "    }\n",
       "\n",
       "    .dataframe tbody tr th {\n",
       "        vertical-align: top;\n",
       "    }\n",
       "\n",
       "    .dataframe thead th {\n",
       "        text-align: right;\n",
       "    }\n",
       "</style>\n",
       "<table border=\"1\" class=\"dataframe\">\n",
       "  <thead>\n",
       "    <tr style=\"text-align: right;\">\n",
       "      <th></th>\n",
       "      <th>CustomerID</th>\n",
       "      <th>Counts</th>\n",
       "      <th>InvCounts</th>\n",
       "      <th>PurchaseAmount</th>\n",
       "    </tr>\n",
       "  </thead>\n",
       "  <tbody>\n",
       "    <tr>\n",
       "      <th>0</th>\n",
       "      <td>12346.0</td>\n",
       "      <td>2</td>\n",
       "      <td>2</td>\n",
       "      <td>0.00</td>\n",
       "    </tr>\n",
       "    <tr>\n",
       "      <th>1</th>\n",
       "      <td>12347.0</td>\n",
       "      <td>71</td>\n",
       "      <td>3</td>\n",
       "      <td>1494.16</td>\n",
       "    </tr>\n",
       "    <tr>\n",
       "      <th>2</th>\n",
       "      <td>12348.0</td>\n",
       "      <td>11</td>\n",
       "      <td>2</td>\n",
       "      <td>594.44</td>\n",
       "    </tr>\n",
       "    <tr>\n",
       "      <th>3</th>\n",
       "      <td>12350.0</td>\n",
       "      <td>17</td>\n",
       "      <td>1</td>\n",
       "      <td>334.40</td>\n",
       "    </tr>\n",
       "    <tr>\n",
       "      <th>4</th>\n",
       "      <td>12352.0</td>\n",
       "      <td>48</td>\n",
       "      <td>8</td>\n",
       "      <td>601.18</td>\n",
       "    </tr>\n",
       "  </tbody>\n",
       "</table>\n",
       "</div>"
      ],
      "text/plain": [
       "   CustomerID  Counts  InvCounts  PurchaseAmount\n",
       "0     12346.0       2          2            0.00\n",
       "1     12347.0      71          3         1494.16\n",
       "2     12348.0      11          2          594.44\n",
       "3     12350.0      17          1          334.40\n",
       "4     12352.0      48          8          601.18"
      ]
     },
     "execution_count": 34,
     "metadata": {},
     "output_type": "execute_result"
    }
   ],
   "source": [
    "## CustomerID単位のデータ（一行一CustomerID）の作成\n",
    "cust_dt = v_ec_trans_custid_up[tf_date].groupby(\"CustomerID\").agg({\"InvoiceNo\":[\"count\",\"nunique\"], \"PurchaseAmount\":\"sum\"})\n",
    "cust_dt = cust_dt.reset_index()\n",
    "cust_dt.columns = [\"CustomerID\", \"Counts\", \"InvCounts\", \"PurchaseAmount\"]\n",
    "\n",
    "#Counts - 履歴データ行数\n",
    "#InvCounts - 購買回数\n",
    "#PurchaseAmount - 購買合計金額\n",
    "\n",
    "cust_dt.head()"
   ]
  },
  {
   "cell_type": "code",
   "execution_count": 35,
   "metadata": {},
   "outputs": [
    {
     "data": {
      "text/plain": [
       "(2752, 4)"
      ]
     },
     "execution_count": 35,
     "metadata": {},
     "output_type": "execute_result"
    }
   ],
   "source": [
    "cust_dt.shape"
   ]
  },
  {
   "cell_type": "code",
   "execution_count": null,
   "metadata": {},
   "outputs": [],
   "source": []
  },
  {
   "cell_type": "code",
   "execution_count": 36,
   "metadata": {},
   "outputs": [
    {
     "name": "stdout",
     "output_type": "stream",
     "text": [
      "         CustomerID       Counts   InvCounts  PurchaseAmount\n",
      "count    717.000000   717.000000  717.000000      717.000000\n",
      "mean   15233.503487   123.539749    7.972106     3005.917364\n",
      "std     1754.452648   170.516231    7.553667     7691.920729\n",
      "min    12352.000000     4.000000    4.000000      -71.460000\n",
      "25%    13725.000000    50.000000    4.000000      864.350000\n",
      "50%    15140.000000    79.000000    6.000000     1481.540000\n",
      "75%    16775.000000   141.000000    8.000000     2574.690000\n",
      "max    18283.000000  2477.000000   78.000000   127365.230000\n",
      "Sum of PurchaseAmount\n",
      "2155242.75\n",
      "Sum of InvCounts\n",
      "5716\n"
     ]
    }
   ],
   "source": [
    "## 優良顧客\n",
    "print( cust_dt.loc[cust_dt[\"InvCounts\"]>=4, :].describe() )\n",
    "print( \"Sum of PurchaseAmount\" )\n",
    "print( cust_dt.loc[cust_dt[\"InvCounts\"]>=4, \"PurchaseAmount\"].sum() )\n",
    "print( \"Sum of InvCounts\" )\n",
    "print( cust_dt.loc[cust_dt[\"InvCounts\"]>=4, \"InvCounts\"].sum() )\n",
    "\n",
    "#顧客数  -  717\n",
    "#購買金額(Quantity*Unitprice)  -  2155242.749988\n",
    "#購買回数  -  5716"
   ]
  },
  {
   "cell_type": "code",
   "execution_count": 37,
   "metadata": {},
   "outputs": [
    {
     "name": "stdout",
     "output_type": "stream",
     "text": [
      "         CustomerID       Counts    InvCounts  PurchaseAmount\n",
      "count   2035.000000  2035.000000  2035.000000     2035.000000\n",
      "mean   15297.142015    30.197052     1.611794      500.567313\n",
      "std     1705.953247    32.831263     0.745790      601.286387\n",
      "min    12346.000000     1.000000     1.000000    -1591.200000\n",
      "25%    13820.000000    10.000000     1.000000      180.475000\n",
      "50%    15257.000000    20.000000     1.000000      328.160000\n",
      "75%    16756.500000    39.000000     2.000000      615.720000\n",
      "max    18287.000000   593.000000     3.000000     9861.380000\n",
      "Sum of PurchaseAmount\n",
      "1018654.4809999999\n",
      "Sum of InvCounts\n",
      "3280\n"
     ]
    }
   ],
   "source": [
    "## 優良顧客\n",
    "print( cust_dt.loc[cust_dt[\"InvCounts\"]<4, :].describe() )\n",
    "print( \"Sum of PurchaseAmount\" )\n",
    "print( cust_dt.loc[cust_dt[\"InvCounts\"]<4, \"PurchaseAmount\"].sum() )\n",
    "print( \"Sum of InvCounts\" )\n",
    "print( cust_dt.loc[cust_dt[\"InvCounts\"]<4, \"InvCounts\"].sum() )\n",
    "\n",
    "#顧客数  -  2035\n",
    "#購買金額(Quantity*Unitprice)  -  1018654.4809999999\n",
    "#購買回数  -  3280"
   ]
  },
  {
   "cell_type": "markdown",
   "metadata": {},
   "source": [
    "<b>【演習3.2】</b><br>2010年12月1日～2011年5月末日の6か月間における優良顧客（購買回数4回以上の顧客）のうち、2011年6月1日～2011年8月末日までの3ヵ月間に購買が1回以上ある人数（リピート人数）を集計せよ。同様に、全顧客（購買回数1回以上）についてもリピート人数を集計せよ。<br><br>ただし集計はCustomerIDが非NULL、UnitPriceが正のデータを対象に行うこと。また集計結果は、作業用エクセルの「トレンド」シートの黄色セル部分に反映させのち、「AIジョブカレ_機械学習入門_初回報告書サンプル_演習用.pptx」の「3ページ」を完成せよ。"
   ]
  },
  {
   "cell_type": "code",
   "execution_count": 38,
   "metadata": {},
   "outputs": [
    {
     "name": "stdout",
     "output_type": "stream",
     "text": [
      "対象元データ\n",
      "(149040, 11)\n",
      "顧客データ\n",
      "(2767, 2)\n",
      "   CustomerID  InvCounts\n",
      "0     12346.0          2\n",
      "1     12347.0          3\n",
      "2     12348.0          3\n",
      "3     12350.0          1\n",
      "4     12352.0          8\n",
      "優良顧客データ\n",
      "(714, 2)\n",
      "    CustomerID  InvCounts\n",
      "4      12352.0          8\n",
      "19     12383.0          5\n",
      "24     12395.0          8\n",
      "29     12408.0          4\n",
      "31     12413.0          4\n"
     ]
    }
   ],
   "source": [
    "## 2010年12月1日～2011年5月末日の6か月間における優良顧客（購買回数4回以上の顧客）\n",
    "\n",
    "## 2010年12月から2011年5月末までの半年間のデータ\n",
    "t_start2 = \"2010-12-01 00:00:00\"\n",
    "t_end2 = \"2011-06-01 00:00:00\"\n",
    "tf_date2 = (v_ec_trans_custid_up[\"InvoiceDate\"] >= t_start2) & (v_ec_trans_custid_up[\"InvoiceDate\"] < t_end2)\n",
    "print(\"対象元データ\")\n",
    "print(v_ec_trans_custid_up[tf_date2].shape)\n",
    "\n",
    "## 購買回数（ユニークInvoiceNo）\n",
    "cust_dt2 = v_ec_trans_custid_up[tf_date2][[\"CustomerID\",\"InvoiceNo\"]].groupby(\"CustomerID\").nunique()\n",
    "cust_dt2 = cust_dt2.drop(\"CustomerID\", axis=1)\n",
    "cust_dt2 = cust_dt2.reset_index()\n",
    "cust_dt2 = cust_dt2.rename(columns={\"InvoiceNo\":\"InvCounts\"})\n",
    "print(\"顧客データ\")\n",
    "print(cust_dt2.shape)\n",
    "print(cust_dt2.head())\n",
    "\n",
    "## 優良\n",
    "print(\"優良顧客データ\")\n",
    "print(cust_dt2.loc[cust_dt2[\"InvCounts\"]>=4, :].shape)\n",
    "print(cust_dt2.loc[cust_dt2[\"InvCounts\"]>=4, :].head())\n",
    "\n",
    "\n",
    "## 分析対象人数  -  714"
   ]
  },
  {
   "cell_type": "code",
   "execution_count": 39,
   "metadata": {},
   "outputs": [
    {
     "data": {
      "text/plain": [
       "4     12352.0\n",
       "19    12383.0\n",
       "24    12395.0\n",
       "29    12408.0\n",
       "31    12413.0\n",
       "Name: CustomerID, dtype: float64"
      ]
     },
     "execution_count": 39,
     "metadata": {},
     "output_type": "execute_result"
    }
   ],
   "source": [
    "## 分析対象の優良顧客（2010年12月1日～2011年5月末日の6か月間における購買回数4回以上の顧客）IDを保存\n",
    "cust_id_analysis = cust_dt2.loc[cust_dt2[\"InvCounts\"]>=4, \"CustomerID\"]\n",
    "cust_id_analysis.head()"
   ]
  },
  {
   "cell_type": "code",
   "execution_count": 40,
   "metadata": {},
   "outputs": [
    {
     "name": "stdout",
     "output_type": "stream",
     "text": [
      "対象元データ\n",
      "(82992, 11)\n",
      "うち、cust_id_analysisにCustIDが入っているデータ\n",
      "(40011, 11)\n",
      "その顧客IDの数\n",
      "580\n"
     ]
    }
   ],
   "source": [
    "## 分析対象の優良顧客の内、2011年6月1日～2011年8月末日までの3ヵ月間に購買が1回以上ある顧客\n",
    "\n",
    "## 2011年6月から2011年8月末までの3か月間のデータ\n",
    "t_start3 = \"2011-06-01 00:00:00\"\n",
    "t_end3 = \"2011-09-01 00:00:00\"\n",
    "tf_date3 = (v_ec_trans_custid_up[\"InvoiceDate\"] >= t_start3) & (v_ec_trans_custid_up[\"InvoiceDate\"] < t_end3)\n",
    "print(\"対象元データ\")\n",
    "print(v_ec_trans_custid_up[tf_date3].shape)\n",
    "\n",
    "print(\"うち、cust_id_analysisにCustIDが入っているデータ\")\n",
    "print(v_ec_trans_custid_up[tf_date3].loc[v_ec_trans_custid_up[tf_date3][\"CustomerID\"].isin(cust_id_analysis), :].shape)\n",
    "\n",
    "## その顧客ID\n",
    "cust_id_analysis_tgt = v_ec_trans_custid_up[tf_date3].loc[v_ec_trans_custid_up[tf_date3][\"CustomerID\"].\n",
    "                                                          isin(cust_id_analysis), \"CustomerID\"].unique()\n",
    "print(\"その顧客IDの数\")\n",
    "print(len(cust_id_analysis_tgt))"
   ]
  },
  {
   "cell_type": "code",
   "execution_count": 41,
   "metadata": {},
   "outputs": [],
   "source": [
    "## 分析対象優良顧客  -  714\n",
    "# cust_id_analysis\n",
    "\n",
    "## うち、リピート顧客  -  580\n",
    "# cust_id_analysis_tgt"
   ]
  },
  {
   "cell_type": "code",
   "execution_count": null,
   "metadata": {},
   "outputs": [],
   "source": []
  },
  {
   "cell_type": "markdown",
   "metadata": {},
   "source": [
    "<b>【演習3.3】</b><br>StockCode2別の購買回数を集計し降順に表示し、作業用エクセルのシート「カテゴリ別」に結果を貼り付け、上位カテゴリを確認せよ。集計期間は2010年12月1日～2011年11月末日の1年間とする。ただし集計はCustomerIDが非NULL、UnitPriceが正のレコードを対象とすること。"
   ]
  },
  {
   "cell_type": "code",
   "execution_count": 42,
   "metadata": {
    "scrolled": true
   },
   "outputs": [
    {
     "name": "stdout",
     "output_type": "stream",
     "text": [
      "対象元データ\n",
      "(389128, 11)\n"
     ]
    }
   ],
   "source": [
    "## 2010年12月から2011年11月末までの12か月間のデータ\n",
    "t_start = \"2010-12-01 00:00:00\"\n",
    "t_end = \"2011-12-01 00:00:00\"\n",
    "tf_date = (v_ec_trans_custid_up[\"InvoiceDate\"] >= t_start) & (v_ec_trans_custid_up[\"InvoiceDate\"] < t_end)\n",
    "\n",
    "print(\"対象元データ\")\n",
    "print(v_ec_trans_custid_up[tf_date].shape)"
   ]
  },
  {
   "cell_type": "code",
   "execution_count": 43,
   "metadata": {},
   "outputs": [
    {
     "data": {
      "text/plain": [
       "Timestamp('2010-12-01 08:26:00')"
      ]
     },
     "execution_count": 43,
     "metadata": {},
     "output_type": "execute_result"
    }
   ],
   "source": [
    "v_ec_trans_custid_up[tf_date][\"InvoiceDate\"].min()"
   ]
  },
  {
   "cell_type": "code",
   "execution_count": 44,
   "metadata": {},
   "outputs": [
    {
     "data": {
      "text/plain": [
       "Timestamp('2011-11-30 17:42:00')"
      ]
     },
     "execution_count": 44,
     "metadata": {},
     "output_type": "execute_result"
    }
   ],
   "source": [
    "v_ec_trans_custid_up[tf_date][\"InvoiceDate\"].max()"
   ]
  },
  {
   "cell_type": "code",
   "execution_count": 45,
   "metadata": {
    "scrolled": true
   },
   "outputs": [
    {
     "data": {
      "text/html": [
       "<div>\n",
       "<style scoped>\n",
       "    .dataframe tbody tr th:only-of-type {\n",
       "        vertical-align: middle;\n",
       "    }\n",
       "\n",
       "    .dataframe tbody tr th {\n",
       "        vertical-align: top;\n",
       "    }\n",
       "\n",
       "    .dataframe thead th {\n",
       "        text-align: right;\n",
       "    }\n",
       "</style>\n",
       "<table border=\"1\" class=\"dataframe\">\n",
       "  <thead>\n",
       "    <tr style=\"text-align: right;\">\n",
       "      <th></th>\n",
       "      <th>InvoiceNo</th>\n",
       "    </tr>\n",
       "    <tr>\n",
       "      <th>StockCode2</th>\n",
       "      <th></th>\n",
       "    </tr>\n",
       "  </thead>\n",
       "  <tbody>\n",
       "    <tr>\n",
       "      <th>85099</th>\n",
       "      <td>2064</td>\n",
       "    </tr>\n",
       "    <tr>\n",
       "      <th>85123</th>\n",
       "      <td>1961</td>\n",
       "    </tr>\n",
       "    <tr>\n",
       "      <th>22423</th>\n",
       "      <td>1832</td>\n",
       "    </tr>\n",
       "    <tr>\n",
       "      <th>47566</th>\n",
       "      <td>1534</td>\n",
       "    </tr>\n",
       "    <tr>\n",
       "      <th>84879</th>\n",
       "      <td>1343</td>\n",
       "    </tr>\n",
       "    <tr>\n",
       "      <th>20725</th>\n",
       "      <td>1295</td>\n",
       "    </tr>\n",
       "    <tr>\n",
       "      <th>22720</th>\n",
       "      <td>1184</td>\n",
       "    </tr>\n",
       "    <tr>\n",
       "      <th>POST</th>\n",
       "      <td>1143</td>\n",
       "    </tr>\n",
       "    <tr>\n",
       "      <th>23203</th>\n",
       "      <td>1060</td>\n",
       "    </tr>\n",
       "    <tr>\n",
       "      <th>22383</th>\n",
       "      <td>1042</td>\n",
       "    </tr>\n",
       "    <tr>\n",
       "      <th>20727</th>\n",
       "      <td>1040</td>\n",
       "    </tr>\n",
       "    <tr>\n",
       "      <th>22197</th>\n",
       "      <td>1033</td>\n",
       "    </tr>\n",
       "    <tr>\n",
       "      <th>21212</th>\n",
       "      <td>1021</td>\n",
       "    </tr>\n",
       "    <tr>\n",
       "      <th>23298</th>\n",
       "      <td>996</td>\n",
       "    </tr>\n",
       "    <tr>\n",
       "      <th>23209</th>\n",
       "      <td>983</td>\n",
       "    </tr>\n",
       "    <tr>\n",
       "      <th>22382</th>\n",
       "      <td>977</td>\n",
       "    </tr>\n",
       "    <tr>\n",
       "      <th>20728</th>\n",
       "      <td>974</td>\n",
       "    </tr>\n",
       "    <tr>\n",
       "      <th>22457</th>\n",
       "      <td>952</td>\n",
       "    </tr>\n",
       "    <tr>\n",
       "      <th>22469</th>\n",
       "      <td>946</td>\n",
       "    </tr>\n",
       "    <tr>\n",
       "      <th>22960</th>\n",
       "      <td>939</td>\n",
       "    </tr>\n",
       "    <tr>\n",
       "      <th>22384</th>\n",
       "      <td>935</td>\n",
       "    </tr>\n",
       "    <tr>\n",
       "      <th>22086</th>\n",
       "      <td>891</td>\n",
       "    </tr>\n",
       "    <tr>\n",
       "      <th>82482</th>\n",
       "      <td>871</td>\n",
       "    </tr>\n",
       "    <tr>\n",
       "      <th>22386</th>\n",
       "      <td>869</td>\n",
       "    </tr>\n",
       "    <tr>\n",
       "      <th>22727</th>\n",
       "      <td>861</td>\n",
       "    </tr>\n",
       "    <tr>\n",
       "      <th>23206</th>\n",
       "      <td>859</td>\n",
       "    </tr>\n",
       "    <tr>\n",
       "      <th>22961</th>\n",
       "      <td>857</td>\n",
       "    </tr>\n",
       "    <tr>\n",
       "      <th>22666</th>\n",
       "      <td>847</td>\n",
       "    </tr>\n",
       "    <tr>\n",
       "      <th>22993</th>\n",
       "      <td>846</td>\n",
       "    </tr>\n",
       "    <tr>\n",
       "      <th>22138</th>\n",
       "      <td>844</td>\n",
       "    </tr>\n",
       "    <tr>\n",
       "      <th>...</th>\n",
       "      <td>...</td>\n",
       "    </tr>\n",
       "    <tr>\n",
       "      <th>85224</th>\n",
       "      <td>1</td>\n",
       "    </tr>\n",
       "    <tr>\n",
       "      <th>90102</th>\n",
       "      <td>1</td>\n",
       "    </tr>\n",
       "    <tr>\n",
       "      <th>37379</th>\n",
       "      <td>1</td>\n",
       "    </tr>\n",
       "    <tr>\n",
       "      <th>90100</th>\n",
       "      <td>1</td>\n",
       "    </tr>\n",
       "    <tr>\n",
       "      <th>85225</th>\n",
       "      <td>1</td>\n",
       "    </tr>\n",
       "    <tr>\n",
       "      <th>90135</th>\n",
       "      <td>1</td>\n",
       "    </tr>\n",
       "    <tr>\n",
       "      <th>90138</th>\n",
       "      <td>1</td>\n",
       "    </tr>\n",
       "    <tr>\n",
       "      <th>79320</th>\n",
       "      <td>1</td>\n",
       "    </tr>\n",
       "    <tr>\n",
       "      <th>23664</th>\n",
       "      <td>1</td>\n",
       "    </tr>\n",
       "    <tr>\n",
       "      <th>90165</th>\n",
       "      <td>1</td>\n",
       "    </tr>\n",
       "    <tr>\n",
       "      <th>22146</th>\n",
       "      <td>1</td>\n",
       "    </tr>\n",
       "    <tr>\n",
       "      <th>84593</th>\n",
       "      <td>1</td>\n",
       "    </tr>\n",
       "    <tr>\n",
       "      <th>90027</th>\n",
       "      <td>1</td>\n",
       "    </tr>\n",
       "    <tr>\n",
       "      <th>84551</th>\n",
       "      <td>1</td>\n",
       "    </tr>\n",
       "    <tr>\n",
       "      <th>21144</th>\n",
       "      <td>1</td>\n",
       "    </tr>\n",
       "    <tr>\n",
       "      <th>84550</th>\n",
       "      <td>1</td>\n",
       "    </tr>\n",
       "    <tr>\n",
       "      <th>84539</th>\n",
       "      <td>1</td>\n",
       "    </tr>\n",
       "    <tr>\n",
       "      <th>90071</th>\n",
       "      <td>1</td>\n",
       "    </tr>\n",
       "    <tr>\n",
       "      <th>84387</th>\n",
       "      <td>1</td>\n",
       "    </tr>\n",
       "    <tr>\n",
       "      <th>37471</th>\n",
       "      <td>1</td>\n",
       "    </tr>\n",
       "    <tr>\n",
       "      <th>47579</th>\n",
       "      <td>1</td>\n",
       "    </tr>\n",
       "    <tr>\n",
       "      <th>84227</th>\n",
       "      <td>1</td>\n",
       "    </tr>\n",
       "    <tr>\n",
       "      <th>84016</th>\n",
       "      <td>1</td>\n",
       "    </tr>\n",
       "    <tr>\n",
       "      <th>82615</th>\n",
       "      <td>1</td>\n",
       "    </tr>\n",
       "    <tr>\n",
       "      <th>90074</th>\n",
       "      <td>1</td>\n",
       "    </tr>\n",
       "    <tr>\n",
       "      <th>20964</th>\n",
       "      <td>1</td>\n",
       "    </tr>\n",
       "    <tr>\n",
       "      <th>90078</th>\n",
       "      <td>1</td>\n",
       "    </tr>\n",
       "    <tr>\n",
       "      <th>90021</th>\n",
       "      <td>1</td>\n",
       "    </tr>\n",
       "    <tr>\n",
       "      <th>20957</th>\n",
       "      <td>1</td>\n",
       "    </tr>\n",
       "    <tr>\n",
       "      <th>90041</th>\n",
       "      <td>1</td>\n",
       "    </tr>\n",
       "  </tbody>\n",
       "</table>\n",
       "<p>3214 rows × 1 columns</p>\n",
       "</div>"
      ],
      "text/plain": [
       "            InvoiceNo\n",
       "StockCode2           \n",
       "85099            2064\n",
       "85123            1961\n",
       "22423            1832\n",
       "47566            1534\n",
       "84879            1343\n",
       "20725            1295\n",
       "22720            1184\n",
       "POST             1143\n",
       "23203            1060\n",
       "22383            1042\n",
       "20727            1040\n",
       "22197            1033\n",
       "21212            1021\n",
       "23298             996\n",
       "23209             983\n",
       "22382             977\n",
       "20728             974\n",
       "22457             952\n",
       "22469             946\n",
       "22960             939\n",
       "22384             935\n",
       "22086             891\n",
       "82482             871\n",
       "22386             869\n",
       "22727             861\n",
       "23206             859\n",
       "22961             857\n",
       "22666             847\n",
       "22993             846\n",
       "22138             844\n",
       "...               ...\n",
       "85224               1\n",
       "90102               1\n",
       "37379               1\n",
       "90100               1\n",
       "85225               1\n",
       "90135               1\n",
       "90138               1\n",
       "79320               1\n",
       "23664               1\n",
       "90165               1\n",
       "22146               1\n",
       "84593               1\n",
       "90027               1\n",
       "84551               1\n",
       "21144               1\n",
       "84550               1\n",
       "84539               1\n",
       "90071               1\n",
       "84387               1\n",
       "37471               1\n",
       "47579               1\n",
       "84227               1\n",
       "84016               1\n",
       "82615               1\n",
       "90074               1\n",
       "20964               1\n",
       "90078               1\n",
       "90021               1\n",
       "20957               1\n",
       "90041               1\n",
       "\n",
       "[3214 rows x 1 columns]"
      ]
     },
     "execution_count": 45,
     "metadata": {},
     "output_type": "execute_result"
    }
   ],
   "source": [
    "## StockCode2別の購買回数（InvoiceNoのユニーク数）\n",
    "v_ec_trans_custid_up[tf_date].groupby(\"StockCode2\").agg({\"InvoiceNo\":\"nunique\"}).sort_values(\"InvoiceNo\", ascending=False)"
   ]
  },
  {
   "cell_type": "code",
   "execution_count": null,
   "metadata": {},
   "outputs": [],
   "source": []
  },
  {
   "cell_type": "markdown",
   "metadata": {},
   "source": [
    "## 4.データマートの作成と予測モデルの構築評価"
   ]
  },
  {
   "cell_type": "markdown",
   "metadata": {},
   "source": [
    "<b>【演習4.1】</b><br>以下を確認し、モデル用データマート作成用のクエリを完成させ、CSVファイルで出力せよ。\n",
    "- 作業用エクセルのシート「設計」で、各データマートの特徴量計算期間、正解ラベルの定義期間を確認せよ。\n",
    "- 作業用エクセルのシート「特徴量」で、特徴量定義を確認せよ。\n",
    "- CSVの最初の列をCustomerID、最終の列を正解ラベルとして出力せよ。"
   ]
  },
  {
   "cell_type": "code",
   "execution_count": 46,
   "metadata": {},
   "outputs": [],
   "source": [
    "## \"期間\"と\"購買回数\"を指定して、対象顧客IDを返す関数（上で実行した操作の関数化）\n",
    "def get_custId(start, end, n, df=v_ec_trans_custid_up):\n",
    "\n",
    "    tf = (df[\"InvoiceDate\"] >= start) & (df[\"InvoiceDate\"] < end)\n",
    "    print(\"対象元データ\")\n",
    "    print(df[tf].shape)\n",
    "\n",
    "    ## 購買回数（ユニークInvoiceNo）\n",
    "    tf_d = df[tf][[\"CustomerID\",\"InvoiceNo\"]].groupby(\"CustomerID\").nunique()\n",
    "    tf_d = tf_d.drop(\"CustomerID\", axis=1)\n",
    "    tf_d = tf_d.reset_index()\n",
    "    tf_d = tf_d.rename(columns={\"InvoiceNo\":\"InvCounts\"})\n",
    "    print(\"顧客データ\")\n",
    "    print(tf_d.shape)\n",
    "    #print(tf_d.head())\n",
    "\n",
    "    ## 優良\n",
    "    print(\"回数フィルタリング顧客データ\")\n",
    "    print(tf_d.loc[tf_d[\"InvCounts\"]>=n, :].shape)\n",
    "    #print(tf_d.loc[tf_d[\"InvCounts\"]>=n, :].head())\n",
    "    \n",
    "    ## 分析対象の顧客IDを返す\n",
    "    return tf_d.loc[tf_d[\"InvCounts\"]>=n, \"CustomerID\"]"
   ]
  },
  {
   "cell_type": "code",
   "execution_count": 47,
   "metadata": {
    "scrolled": false
   },
   "outputs": [
    {
     "name": "stdout",
     "output_type": "stream",
     "text": [
      "対象元データ\n",
      "(150029, 11)\n",
      "顧客データ\n",
      "(2752, 2)\n",
      "回数フィルタリング顧客データ\n",
      "(717, 2)\n"
     ]
    },
    {
     "data": {
      "text/plain": [
       "(717,)"
      ]
     },
     "execution_count": 47,
     "metadata": {},
     "output_type": "execute_result"
    }
   ],
   "source": [
    "## モデリング用、特徴量期間CustomerID\n",
    "id_model = get_custId(\"2011-01-01 00:00:00\", \"2011-07-01 00:00:00\", 4)\n",
    "id_model.shape         ## \"2011-01-01 00:00:00\"<=, <\"2011-07-01 00:00:00\"で購買回数4回以上"
   ]
  },
  {
   "cell_type": "code",
   "execution_count": 48,
   "metadata": {
    "scrolled": true
   },
   "outputs": [
    {
     "name": "stdout",
     "output_type": "stream",
     "text": [
      "対象元データ\n",
      "(95976, 11)\n",
      "顧客データ\n",
      "(2196, 2)\n",
      "回数フィルタリング顧客データ\n",
      "(2196, 2)\n"
     ]
    },
    {
     "data": {
      "text/plain": [
       "(595,)"
      ]
     },
     "execution_count": 48,
     "metadata": {},
     "output_type": "execute_result"
    }
   ],
   "source": [
    "## モデリング用、判定期間CustomerID\n",
    "id_model_tgt = get_custId(\"2011-07-01 00:00:00\", \"2011-10-01 00:00:00\", 1)\n",
    "tf_id = id_model_tgt.isin(id_model)\n",
    "id_model_tgt = id_model_tgt[tf_id] \n",
    "id_model_tgt.shape         ## \"2011-01-01 00:00:00\"<=, <\"2011-07-01 00:00:00\"で購買回数4回以上かつ、\"2011-07-01 00:00:00\"<=, <\"2011-10-01 00:00:00\"に購買あり"
   ]
  },
  {
   "cell_type": "code",
   "execution_count": 49,
   "metadata": {},
   "outputs": [
    {
     "data": {
      "text/plain": [
       "(88578, 11)"
      ]
     },
     "execution_count": 49,
     "metadata": {},
     "output_type": "execute_result"
    }
   ],
   "source": [
    "## モデリング用、対象顧客履歴データ\n",
    "df_tran_model = v_ec_trans_custid_up.loc[v_ec_trans_custid_up[\"CustomerID\"].isin(id_model),:]\n",
    "\n",
    "tf = (df_tran_model[\"InvoiceDate\"] >= \"2011-01-01 00:00:00\") & (df_tran_model[\"InvoiceDate\"] < \"2011-07-01 00:00:00\")  ## 期間を合わせる\n",
    "df_tran_model = df_tran_model[tf]\n",
    "df_tran_model.shape"
   ]
  },
  {
   "cell_type": "code",
   "execution_count": 50,
   "metadata": {
    "scrolled": false
   },
   "outputs": [
    {
     "data": {
      "text/html": [
       "<div>\n",
       "<style scoped>\n",
       "    .dataframe tbody tr th:only-of-type {\n",
       "        vertical-align: middle;\n",
       "    }\n",
       "\n",
       "    .dataframe tbody tr th {\n",
       "        vertical-align: top;\n",
       "    }\n",
       "\n",
       "    .dataframe thead th {\n",
       "        text-align: right;\n",
       "    }\n",
       "</style>\n",
       "<table border=\"1\" class=\"dataframe\">\n",
       "  <thead>\n",
       "    <tr style=\"text-align: right;\">\n",
       "      <th></th>\n",
       "      <th>InvoiceNo</th>\n",
       "      <th>StockCode_org</th>\n",
       "      <th>StockCode</th>\n",
       "      <th>StockCode2</th>\n",
       "      <th>Description</th>\n",
       "      <th>Quantity</th>\n",
       "      <th>InvoiceDate</th>\n",
       "      <th>UnitPrice</th>\n",
       "      <th>CustomerID</th>\n",
       "      <th>Country</th>\n",
       "      <th>PurchaseAmount</th>\n",
       "    </tr>\n",
       "  </thead>\n",
       "  <tbody>\n",
       "    <tr>\n",
       "      <th>42514</th>\n",
       "      <td>540002</td>\n",
       "      <td>21911</td>\n",
       "      <td>21911</td>\n",
       "      <td>21911</td>\n",
       "      <td>GARDEN METAL SIGN</td>\n",
       "      <td>12.0</td>\n",
       "      <td>2011-01-04 10:23:00</td>\n",
       "      <td>1.65</td>\n",
       "      <td>16656.0</td>\n",
       "      <td>United Kingdom</td>\n",
       "      <td>19.80</td>\n",
       "    </tr>\n",
       "    <tr>\n",
       "      <th>42515</th>\n",
       "      <td>540002</td>\n",
       "      <td>22625</td>\n",
       "      <td>22625</td>\n",
       "      <td>22625</td>\n",
       "      <td>RED KITCHEN SCALES</td>\n",
       "      <td>8.0</td>\n",
       "      <td>2011-01-04 10:23:00</td>\n",
       "      <td>8.50</td>\n",
       "      <td>16656.0</td>\n",
       "      <td>United Kingdom</td>\n",
       "      <td>68.00</td>\n",
       "    </tr>\n",
       "    <tr>\n",
       "      <th>42516</th>\n",
       "      <td>540002</td>\n",
       "      <td>21259</td>\n",
       "      <td>21259</td>\n",
       "      <td>21259</td>\n",
       "      <td>VICTORIAN SEWING BOX SMALL</td>\n",
       "      <td>24.0</td>\n",
       "      <td>2011-01-04 10:23:00</td>\n",
       "      <td>4.95</td>\n",
       "      <td>16656.0</td>\n",
       "      <td>United Kingdom</td>\n",
       "      <td>118.80</td>\n",
       "    </tr>\n",
       "    <tr>\n",
       "      <th>42517</th>\n",
       "      <td>540002</td>\n",
       "      <td>21790</td>\n",
       "      <td>21790</td>\n",
       "      <td>21790</td>\n",
       "      <td>VINTAGE SNAP CARDS</td>\n",
       "      <td>144.0</td>\n",
       "      <td>2011-01-04 10:23:00</td>\n",
       "      <td>0.72</td>\n",
       "      <td>16656.0</td>\n",
       "      <td>United Kingdom</td>\n",
       "      <td>103.68</td>\n",
       "    </tr>\n",
       "    <tr>\n",
       "      <th>42518</th>\n",
       "      <td>540003</td>\n",
       "      <td>84970S</td>\n",
       "      <td>84970S</td>\n",
       "      <td>84970</td>\n",
       "      <td>HANGING HEART ZINC T-LIGHT HOLDER</td>\n",
       "      <td>12.0</td>\n",
       "      <td>2011-01-04 10:37:00</td>\n",
       "      <td>0.85</td>\n",
       "      <td>16875.0</td>\n",
       "      <td>United Kingdom</td>\n",
       "      <td>10.20</td>\n",
       "    </tr>\n",
       "  </tbody>\n",
       "</table>\n",
       "</div>"
      ],
      "text/plain": [
       "      InvoiceNo StockCode_org StockCode StockCode2  \\\n",
       "42514    540002         21911     21911      21911   \n",
       "42515    540002         22625     22625      22625   \n",
       "42516    540002         21259     21259      21259   \n",
       "42517    540002         21790     21790      21790   \n",
       "42518    540003        84970S    84970S      84970   \n",
       "\n",
       "                             Description  Quantity         InvoiceDate  \\\n",
       "42514                 GARDEN METAL SIGN       12.0 2011-01-04 10:23:00   \n",
       "42515                 RED KITCHEN SCALES       8.0 2011-01-04 10:23:00   \n",
       "42516        VICTORIAN SEWING BOX SMALL       24.0 2011-01-04 10:23:00   \n",
       "42517                 VINTAGE SNAP CARDS     144.0 2011-01-04 10:23:00   \n",
       "42518  HANGING HEART ZINC T-LIGHT HOLDER      12.0 2011-01-04 10:37:00   \n",
       "\n",
       "       UnitPrice  CustomerID         Country  PurchaseAmount  \n",
       "42514       1.65     16656.0  United Kingdom           19.80  \n",
       "42515       8.50     16656.0  United Kingdom           68.00  \n",
       "42516       4.95     16656.0  United Kingdom          118.80  \n",
       "42517       0.72     16656.0  United Kingdom          103.68  \n",
       "42518       0.85     16875.0  United Kingdom           10.20  "
      ]
     },
     "execution_count": 50,
     "metadata": {},
     "output_type": "execute_result"
    }
   ],
   "source": [
    "df_tran_model.head()"
   ]
  },
  {
   "cell_type": "code",
   "execution_count": 51,
   "metadata": {},
   "outputs": [],
   "source": [
    "## モデリング用1行1ユーザーデータの作成"
   ]
  },
  {
   "cell_type": "code",
   "execution_count": 52,
   "metadata": {
    "scrolled": true
   },
   "outputs": [
    {
     "data": {
      "text/html": [
       "<div>\n",
       "<style scoped>\n",
       "    .dataframe tbody tr th:only-of-type {\n",
       "        vertical-align: middle;\n",
       "    }\n",
       "\n",
       "    .dataframe tbody tr th {\n",
       "        vertical-align: top;\n",
       "    }\n",
       "\n",
       "    .dataframe thead th {\n",
       "        text-align: right;\n",
       "    }\n",
       "</style>\n",
       "<table border=\"1\" class=\"dataframe\">\n",
       "  <thead>\n",
       "    <tr style=\"text-align: right;\">\n",
       "      <th></th>\n",
       "      <th>CustomerID</th>\n",
       "      <th>trips</th>\n",
       "      <th>amount_of_yen</th>\n",
       "      <th>quantity</th>\n",
       "      <th>period_begin</th>\n",
       "      <th>period_end</th>\n",
       "    </tr>\n",
       "  </thead>\n",
       "  <tbody>\n",
       "    <tr>\n",
       "      <th>0</th>\n",
       "      <td>12352.0</td>\n",
       "      <td>8</td>\n",
       "      <td>601.18</td>\n",
       "      <td>188.0</td>\n",
       "      <td>2011-02-16 12:33:00</td>\n",
       "      <td>2011-03-22 16:08:00</td>\n",
       "    </tr>\n",
       "    <tr>\n",
       "      <th>1</th>\n",
       "      <td>12359.0</td>\n",
       "      <td>4</td>\n",
       "      <td>3459.93</td>\n",
       "      <td>961.0</td>\n",
       "      <td>2011-01-12 12:43:00</td>\n",
       "      <td>2011-06-03 12:26:00</td>\n",
       "    </tr>\n",
       "    <tr>\n",
       "      <th>2</th>\n",
       "      <td>12383.0</td>\n",
       "      <td>5</td>\n",
       "      <td>1238.59</td>\n",
       "      <td>775.0</td>\n",
       "      <td>2011-01-12 14:10:00</td>\n",
       "      <td>2011-06-08 08:02:00</td>\n",
       "    </tr>\n",
       "    <tr>\n",
       "      <th>3</th>\n",
       "      <td>12395.0</td>\n",
       "      <td>7</td>\n",
       "      <td>1035.90</td>\n",
       "      <td>837.0</td>\n",
       "      <td>2011-01-05 11:21:00</td>\n",
       "      <td>2011-06-30 16:52:00</td>\n",
       "    </tr>\n",
       "    <tr>\n",
       "      <th>4</th>\n",
       "      <td>12408.0</td>\n",
       "      <td>6</td>\n",
       "      <td>1460.79</td>\n",
       "      <td>725.0</td>\n",
       "      <td>2011-03-24 14:46:00</td>\n",
       "      <td>2011-06-29 15:38:00</td>\n",
       "    </tr>\n",
       "  </tbody>\n",
       "</table>\n",
       "</div>"
      ],
      "text/plain": [
       "   CustomerID  trips  amount_of_yen  quantity        period_begin  \\\n",
       "0     12352.0      8         601.18     188.0 2011-02-16 12:33:00   \n",
       "1     12359.0      4        3459.93     961.0 2011-01-12 12:43:00   \n",
       "2     12383.0      5        1238.59     775.0 2011-01-12 14:10:00   \n",
       "3     12395.0      7        1035.90     837.0 2011-01-05 11:21:00   \n",
       "4     12408.0      6        1460.79     725.0 2011-03-24 14:46:00   \n",
       "\n",
       "           period_end  \n",
       "0 2011-03-22 16:08:00  \n",
       "1 2011-06-03 12:26:00  \n",
       "2 2011-06-08 08:02:00  \n",
       "3 2011-06-30 16:52:00  \n",
       "4 2011-06-29 15:38:00  "
      ]
     },
     "execution_count": 52,
     "metadata": {},
     "output_type": "execute_result"
    }
   ],
   "source": [
    "## Groupby操作。標準関数のみ\n",
    "cust_df = df_tran_model.groupby(\"CustomerID\").agg({\"InvoiceNo\":\"nunique\",\n",
    "                                                   \"PurchaseAmount\":\"sum\", \n",
    "                                                   \"Quantity\":\"sum\",\n",
    "                                                   \"InvoiceDate\":[\"min\",\"max\"]})\n",
    "## インデックス処理とカラム名変更\n",
    "cust_df = cust_df.reset_index()\n",
    "cust_df.columns = [\"CustomerID\",\"trips\",\"amount_of_yen\",\"quantity\",\"period_begin\",\"period_end\"]\n",
    "cust_df.head()"
   ]
  },
  {
   "cell_type": "code",
   "execution_count": 60,
   "metadata": {
    "scrolled": true
   },
   "outputs": [
    {
     "data": {
      "text/html": [
       "<div>\n",
       "<style scoped>\n",
       "    .dataframe tbody tr th:only-of-type {\n",
       "        vertical-align: middle;\n",
       "    }\n",
       "\n",
       "    .dataframe tbody tr th {\n",
       "        vertical-align: top;\n",
       "    }\n",
       "\n",
       "    .dataframe thead th {\n",
       "        text-align: right;\n",
       "    }\n",
       "</style>\n",
       "<table border=\"1\" class=\"dataframe\">\n",
       "  <thead>\n",
       "    <tr style=\"text-align: right;\">\n",
       "      <th></th>\n",
       "      <th>CustomerID</th>\n",
       "      <th>trips</th>\n",
       "      <th>amount_of_yen</th>\n",
       "      <th>quantity</th>\n",
       "      <th>period_begin</th>\n",
       "      <th>period_end</th>\n",
       "      <th>period</th>\n",
       "      <th>recency</th>\n",
       "      <th>amount_of_yen_per_trips</th>\n",
       "      <th>regularity</th>\n",
       "    </tr>\n",
       "  </thead>\n",
       "  <tbody>\n",
       "    <tr>\n",
       "      <th>0</th>\n",
       "      <td>12352.0</td>\n",
       "      <td>8</td>\n",
       "      <td>601.18</td>\n",
       "      <td>188.0</td>\n",
       "      <td>2011-02-16 12:33:00</td>\n",
       "      <td>2011-03-22 16:08:00</td>\n",
       "      <td>34</td>\n",
       "      <td>100</td>\n",
       "      <td>75.147500</td>\n",
       "      <td>4.250000</td>\n",
       "    </tr>\n",
       "    <tr>\n",
       "      <th>1</th>\n",
       "      <td>12359.0</td>\n",
       "      <td>4</td>\n",
       "      <td>3459.93</td>\n",
       "      <td>961.0</td>\n",
       "      <td>2011-01-12 12:43:00</td>\n",
       "      <td>2011-06-03 12:26:00</td>\n",
       "      <td>141</td>\n",
       "      <td>27</td>\n",
       "      <td>864.982500</td>\n",
       "      <td>35.250000</td>\n",
       "    </tr>\n",
       "    <tr>\n",
       "      <th>2</th>\n",
       "      <td>12383.0</td>\n",
       "      <td>5</td>\n",
       "      <td>1238.59</td>\n",
       "      <td>775.0</td>\n",
       "      <td>2011-01-12 14:10:00</td>\n",
       "      <td>2011-06-08 08:02:00</td>\n",
       "      <td>146</td>\n",
       "      <td>22</td>\n",
       "      <td>247.718000</td>\n",
       "      <td>29.200000</td>\n",
       "    </tr>\n",
       "    <tr>\n",
       "      <th>3</th>\n",
       "      <td>12395.0</td>\n",
       "      <td>7</td>\n",
       "      <td>1035.90</td>\n",
       "      <td>837.0</td>\n",
       "      <td>2011-01-05 11:21:00</td>\n",
       "      <td>2011-06-30 16:52:00</td>\n",
       "      <td>176</td>\n",
       "      <td>0</td>\n",
       "      <td>147.985714</td>\n",
       "      <td>25.142857</td>\n",
       "    </tr>\n",
       "    <tr>\n",
       "      <th>4</th>\n",
       "      <td>12408.0</td>\n",
       "      <td>6</td>\n",
       "      <td>1460.79</td>\n",
       "      <td>725.0</td>\n",
       "      <td>2011-03-24 14:46:00</td>\n",
       "      <td>2011-06-29 15:38:00</td>\n",
       "      <td>97</td>\n",
       "      <td>1</td>\n",
       "      <td>243.465000</td>\n",
       "      <td>16.166667</td>\n",
       "    </tr>\n",
       "  </tbody>\n",
       "</table>\n",
       "</div>"
      ],
      "text/plain": [
       "   CustomerID  trips  amount_of_yen  quantity        period_begin  \\\n",
       "0     12352.0      8         601.18     188.0 2011-02-16 12:33:00   \n",
       "1     12359.0      4        3459.93     961.0 2011-01-12 12:43:00   \n",
       "2     12383.0      5        1238.59     775.0 2011-01-12 14:10:00   \n",
       "3     12395.0      7        1035.90     837.0 2011-01-05 11:21:00   \n",
       "4     12408.0      6        1460.79     725.0 2011-03-24 14:46:00   \n",
       "\n",
       "           period_end  period  recency  amount_of_yen_per_trips  regularity  \n",
       "0 2011-03-22 16:08:00      34      100                75.147500    4.250000  \n",
       "1 2011-06-03 12:26:00     141       27               864.982500   35.250000  \n",
       "2 2011-06-08 08:02:00     146       22               247.718000   29.200000  \n",
       "3 2011-06-30 16:52:00     176        0               147.985714   25.142857  \n",
       "4 2011-06-29 15:38:00      97        1               243.465000   16.166667  "
      ]
     },
     "execution_count": 60,
     "metadata": {},
     "output_type": "execute_result"
    }
   ],
   "source": [
    "cust_df[\"period\"] = (cust_df[\"period_end\"] - cust_df[\"period_begin\"]).dt.days     ## period\n",
    "cust_df[\"recency\"] = (pd.to_datetime(\"2011-07-01 00:00:00\") - cust_df[\"period_end\"]).dt.days    ## recency\n",
    "cust_df[\"amount_of_yen_per_trips\"] = cust_df[\"amount_of_yen\"] / cust_df[\"trips\"]    ## amount_of_yen_per_trips\n",
    "cust_df[\"regularity\"] = cust_df[\"period\"] / cust_df[\"trips\"]    ## regularity\n",
    "\n",
    "cust_df.head()"
   ]
  },
  {
   "cell_type": "code",
   "execution_count": 68,
   "metadata": {},
   "outputs": [
    {
     "data": {
      "text/html": [
       "<div>\n",
       "<style scoped>\n",
       "    .dataframe tbody tr th:only-of-type {\n",
       "        vertical-align: middle;\n",
       "    }\n",
       "\n",
       "    .dataframe tbody tr th {\n",
       "        vertical-align: top;\n",
       "    }\n",
       "\n",
       "    .dataframe thead th {\n",
       "        text-align: right;\n",
       "    }\n",
       "</style>\n",
       "<table border=\"1\" class=\"dataframe\">\n",
       "  <thead>\n",
       "    <tr style=\"text-align: right;\">\n",
       "      <th></th>\n",
       "      <th>InvoiceNo</th>\n",
       "    </tr>\n",
       "    <tr>\n",
       "      <th>CustomerID</th>\n",
       "      <th></th>\n",
       "    </tr>\n",
       "  </thead>\n",
       "  <tbody>\n",
       "    <tr>\n",
       "      <th>12352.0</th>\n",
       "      <td>3</td>\n",
       "    </tr>\n",
       "    <tr>\n",
       "      <th>12359.0</th>\n",
       "      <td>1</td>\n",
       "    </tr>\n",
       "    <tr>\n",
       "      <th>12383.0</th>\n",
       "      <td>1</td>\n",
       "    </tr>\n",
       "    <tr>\n",
       "      <th>12395.0</th>\n",
       "      <td>2</td>\n",
       "    </tr>\n",
       "    <tr>\n",
       "      <th>12408.0</th>\n",
       "      <td>3</td>\n",
       "    </tr>\n",
       "  </tbody>\n",
       "</table>\n",
       "</div>"
      ],
      "text/plain": [
       "            InvoiceNo\n",
       "CustomerID           \n",
       "12352.0             3\n",
       "12359.0             1\n",
       "12383.0             1\n",
       "12395.0             2\n",
       "12408.0             3"
      ]
     },
     "execution_count": 68,
     "metadata": {},
     "output_type": "execute_result"
    }
   ],
   "source": [
    "## キャンセル回数のカウントデータ\n",
    "\n",
    "## InvoiceNoがC始まりの履歴データを抜き出し、CustomerIDでGroupby。InvoiceNoのユニーク数\n",
    "cust_df2 = df_tran_model.loc[df_tran_model[\"InvoiceNo\"].str.startswith(\"C\"),:].groupby(\"CustomerID\").agg({\"InvoiceNo\":\"nunique\"})\n",
    "#df_tran_model.loc[df_tran_model[\"Quantity\"]<0,:].groupby(\"CustomerID\").agg({\"InvoiceNo\":\"nunique\"})\n",
    "cust_df2.head()\n",
    "\n",
    "## 注：この操作では、SQLでの解答例と数字が合わない"
   ]
  },
  {
   "cell_type": "code",
   "execution_count": 71,
   "metadata": {},
   "outputs": [],
   "source": [
    "#df_tran_model.loc[df_tran_model[\"InvoiceNo\"].str.startswith(\"C\"),:].describe()"
   ]
  },
  {
   "cell_type": "code",
   "execution_count": 72,
   "metadata": {
    "scrolled": true
   },
   "outputs": [
    {
     "data": {
      "text/html": [
       "<div>\n",
       "<style scoped>\n",
       "    .dataframe tbody tr th:only-of-type {\n",
       "        vertical-align: middle;\n",
       "    }\n",
       "\n",
       "    .dataframe tbody tr th {\n",
       "        vertical-align: top;\n",
       "    }\n",
       "\n",
       "    .dataframe thead th {\n",
       "        text-align: right;\n",
       "    }\n",
       "</style>\n",
       "<table border=\"1\" class=\"dataframe\">\n",
       "  <thead>\n",
       "    <tr style=\"text-align: right;\">\n",
       "      <th></th>\n",
       "      <th>CustomerID</th>\n",
       "      <th>StockCode2</th>\n",
       "      <th>InvoiceNo</th>\n",
       "    </tr>\n",
       "  </thead>\n",
       "  <tbody>\n",
       "    <tr>\n",
       "      <th>0</th>\n",
       "      <td>12352.0</td>\n",
       "      <td>21232</td>\n",
       "      <td>1</td>\n",
       "    </tr>\n",
       "    <tr>\n",
       "      <th>1</th>\n",
       "      <td>12352.0</td>\n",
       "      <td>21380</td>\n",
       "      <td>1</td>\n",
       "    </tr>\n",
       "    <tr>\n",
       "      <th>2</th>\n",
       "      <td>12352.0</td>\n",
       "      <td>21700</td>\n",
       "      <td>1</td>\n",
       "    </tr>\n",
       "    <tr>\n",
       "      <th>3</th>\n",
       "      <td>12352.0</td>\n",
       "      <td>21754</td>\n",
       "      <td>1</td>\n",
       "    </tr>\n",
       "    <tr>\n",
       "      <th>4</th>\n",
       "      <td>12352.0</td>\n",
       "      <td>21755</td>\n",
       "      <td>1</td>\n",
       "    </tr>\n",
       "  </tbody>\n",
       "</table>\n",
       "</div>"
      ],
      "text/plain": [
       "   CustomerID StockCode2  InvoiceNo\n",
       "0     12352.0      21232          1\n",
       "1     12352.0      21380          1\n",
       "2     12352.0      21700          1\n",
       "3     12352.0      21754          1\n",
       "4     12352.0      21755          1"
      ]
     },
     "execution_count": 72,
     "metadata": {},
     "output_type": "execute_result"
    }
   ],
   "source": [
    "## カテゴリ別購買数データの作成\n",
    "\n",
    "## InvoiceNoユニークのカウントのため、\"CustomerID\"と\"StockCode2\"でGroupBy\n",
    "df_tran_model_categ = df_tran_model.groupby([\"CustomerID\",\"StockCode2\"]).agg({\"InvoiceNo\":\"nunique\"}).reset_index()\n",
    "df_tran_model_categ.head()"
   ]
  },
  {
   "cell_type": "code",
   "execution_count": 73,
   "metadata": {
    "scrolled": true
   },
   "outputs": [
    {
     "data": {
      "text/html": [
       "<div>\n",
       "<style scoped>\n",
       "    .dataframe tbody tr th:only-of-type {\n",
       "        vertical-align: middle;\n",
       "    }\n",
       "\n",
       "    .dataframe tbody tr th {\n",
       "        vertical-align: top;\n",
       "    }\n",
       "\n",
       "    .dataframe thead th {\n",
       "        text-align: right;\n",
       "    }\n",
       "</style>\n",
       "<table border=\"1\" class=\"dataframe\">\n",
       "  <thead>\n",
       "    <tr style=\"text-align: right;\">\n",
       "      <th></th>\n",
       "      <th>CustomerID</th>\n",
       "      <th>trips_cat85099</th>\n",
       "      <th>trips_cat85123</th>\n",
       "      <th>trips_cat22423</th>\n",
       "      <th>trips_cat47566</th>\n",
       "      <th>trips_cat84879</th>\n",
       "      <th>trips_cat20725</th>\n",
       "      <th>trips_cat22720</th>\n",
       "      <th>trips_catPOST</th>\n",
       "      <th>trips_cat23203</th>\n",
       "      <th>trips_cat22383</th>\n",
       "    </tr>\n",
       "  </thead>\n",
       "  <tbody>\n",
       "    <tr>\n",
       "      <th>0</th>\n",
       "      <td>12352.0</td>\n",
       "      <td>0.0</td>\n",
       "      <td>0.0</td>\n",
       "      <td>1.0</td>\n",
       "      <td>0.0</td>\n",
       "      <td>0.0</td>\n",
       "      <td>0.0</td>\n",
       "      <td>0.0</td>\n",
       "      <td>2.0</td>\n",
       "      <td>0.0</td>\n",
       "      <td>0.0</td>\n",
       "    </tr>\n",
       "    <tr>\n",
       "      <th>1</th>\n",
       "      <td>12359.0</td>\n",
       "      <td>1.0</td>\n",
       "      <td>0.0</td>\n",
       "      <td>2.0</td>\n",
       "      <td>1.0</td>\n",
       "      <td>0.0</td>\n",
       "      <td>0.0</td>\n",
       "      <td>1.0</td>\n",
       "      <td>0.0</td>\n",
       "      <td>0.0</td>\n",
       "      <td>0.0</td>\n",
       "    </tr>\n",
       "    <tr>\n",
       "      <th>2</th>\n",
       "      <td>12383.0</td>\n",
       "      <td>0.0</td>\n",
       "      <td>0.0</td>\n",
       "      <td>0.0</td>\n",
       "      <td>0.0</td>\n",
       "      <td>0.0</td>\n",
       "      <td>0.0</td>\n",
       "      <td>0.0</td>\n",
       "      <td>4.0</td>\n",
       "      <td>0.0</td>\n",
       "      <td>0.0</td>\n",
       "    </tr>\n",
       "    <tr>\n",
       "      <th>3</th>\n",
       "      <td>12395.0</td>\n",
       "      <td>0.0</td>\n",
       "      <td>0.0</td>\n",
       "      <td>1.0</td>\n",
       "      <td>0.0</td>\n",
       "      <td>0.0</td>\n",
       "      <td>0.0</td>\n",
       "      <td>0.0</td>\n",
       "      <td>5.0</td>\n",
       "      <td>0.0</td>\n",
       "      <td>0.0</td>\n",
       "    </tr>\n",
       "    <tr>\n",
       "      <th>4</th>\n",
       "      <td>12408.0</td>\n",
       "      <td>1.0</td>\n",
       "      <td>0.0</td>\n",
       "      <td>0.0</td>\n",
       "      <td>0.0</td>\n",
       "      <td>0.0</td>\n",
       "      <td>0.0</td>\n",
       "      <td>0.0</td>\n",
       "      <td>2.0</td>\n",
       "      <td>0.0</td>\n",
       "      <td>0.0</td>\n",
       "    </tr>\n",
       "  </tbody>\n",
       "</table>\n",
       "</div>"
      ],
      "text/plain": [
       "   CustomerID  trips_cat85099  trips_cat85123  trips_cat22423  trips_cat47566  \\\n",
       "0     12352.0             0.0             0.0             1.0             0.0   \n",
       "1     12359.0             1.0             0.0             2.0             1.0   \n",
       "2     12383.0             0.0             0.0             0.0             0.0   \n",
       "3     12395.0             0.0             0.0             1.0             0.0   \n",
       "4     12408.0             1.0             0.0             0.0             0.0   \n",
       "\n",
       "   trips_cat84879  trips_cat20725  trips_cat22720  trips_catPOST  \\\n",
       "0             0.0             0.0             0.0            2.0   \n",
       "1             0.0             0.0             1.0            0.0   \n",
       "2             0.0             0.0             0.0            4.0   \n",
       "3             0.0             0.0             0.0            5.0   \n",
       "4             0.0             0.0             0.0            2.0   \n",
       "\n",
       "   trips_cat23203  trips_cat22383  \n",
       "0             0.0             0.0  \n",
       "1             0.0             0.0  \n",
       "2             0.0             0.0  \n",
       "3             0.0             0.0  \n",
       "4             0.0             0.0  "
      ]
     },
     "execution_count": 73,
     "metadata": {},
     "output_type": "execute_result"
    }
   ],
   "source": [
    "## StockCode2カテゴリ頻度の作成\n",
    "categ = [\"85099\",\"85123\",\"22423\",\"47566\",\"84879\",\"20725\",\"22720\",\"POST\",\"23203\",\"22383\"]\n",
    "cust_df3 = pd.crosstab(df_tran_model_categ[\"CustomerID\"], df_tran_model_categ[\"StockCode2\"], \n",
    "                       values=df_tran_model_categ[\"InvoiceNo\"], aggfunc=\"sum\")[categ].fillna(0)\n",
    "\n",
    "## カラム名変更\n",
    "categ_new = [\"trips_cat\"+str(i) for i in categ]\n",
    "cust_df3.columns = categ_new\n",
    "\n",
    "cust_df3 = cust_df3.reset_index()\n",
    "cust_df3.head()"
   ]
  },
  {
   "cell_type": "code",
   "execution_count": 74,
   "metadata": {
    "scrolled": true
   },
   "outputs": [
    {
     "data": {
      "text/html": [
       "<div>\n",
       "<style scoped>\n",
       "    .dataframe tbody tr th:only-of-type {\n",
       "        vertical-align: middle;\n",
       "    }\n",
       "\n",
       "    .dataframe tbody tr th {\n",
       "        vertical-align: top;\n",
       "    }\n",
       "\n",
       "    .dataframe thead th {\n",
       "        text-align: right;\n",
       "    }\n",
       "</style>\n",
       "<table border=\"1\" class=\"dataframe\">\n",
       "  <thead>\n",
       "    <tr style=\"text-align: right;\">\n",
       "      <th></th>\n",
       "      <th>CustomerID</th>\n",
       "      <th>mode_category</th>\n",
       "    </tr>\n",
       "  </thead>\n",
       "  <tbody>\n",
       "    <tr>\n",
       "      <th>0</th>\n",
       "      <td>12352.0</td>\n",
       "      <td>M</td>\n",
       "    </tr>\n",
       "    <tr>\n",
       "      <th>1</th>\n",
       "      <td>12359.0</td>\n",
       "      <td>82613</td>\n",
       "    </tr>\n",
       "    <tr>\n",
       "      <th>2</th>\n",
       "      <td>12383.0</td>\n",
       "      <td>84997</td>\n",
       "    </tr>\n",
       "    <tr>\n",
       "      <th>3</th>\n",
       "      <td>12395.0</td>\n",
       "      <td>POST</td>\n",
       "    </tr>\n",
       "    <tr>\n",
       "      <th>4</th>\n",
       "      <td>12408.0</td>\n",
       "      <td>85099</td>\n",
       "    </tr>\n",
       "  </tbody>\n",
       "</table>\n",
       "</div>"
      ],
      "text/plain": [
       "   CustomerID mode_category\n",
       "0     12352.0             M\n",
       "1     12359.0         82613\n",
       "2     12383.0         84997\n",
       "3     12395.0          POST\n",
       "4     12408.0         85099"
      ]
     },
     "execution_count": 74,
     "metadata": {},
     "output_type": "execute_result"
    }
   ],
   "source": [
    "## 各CustomerIDにおけるStockCode2の最頻値（InvoiceNoのユニークは取っていない）\n",
    "\n",
    "df_sc_count = df_tran_model.groupby(\"CustomerID\")[\"StockCode2\"].apply(lambda x: x.mode()).reset_index()  ## 複数の最頻値がある顧客もある\n",
    "df_sc_count = df_sc_count.sort_values([\"CustomerID\",\"level_1\"], ascending=[True, False])  ##  答えと揃えるため、最後に出現する最頻値の取得\n",
    "cust_df4 = df_sc_count.groupby(\"CustomerID\").first()\n",
    "\n",
    "cust_df4 = cust_df4.drop(\"level_1\", axis=1).reset_index()\n",
    "cust_df4 = cust_df4.rename(columns={\"StockCode2\":\"mode_category\"})\n",
    "cust_df4.head()"
   ]
  },
  {
   "cell_type": "code",
   "execution_count": 88,
   "metadata": {},
   "outputs": [
    {
     "data": {
      "text/html": [
       "<div>\n",
       "<style scoped>\n",
       "    .dataframe tbody tr th:only-of-type {\n",
       "        vertical-align: middle;\n",
       "    }\n",
       "\n",
       "    .dataframe tbody tr th {\n",
       "        vertical-align: top;\n",
       "    }\n",
       "\n",
       "    .dataframe thead th {\n",
       "        text-align: right;\n",
       "    }\n",
       "</style>\n",
       "<table border=\"1\" class=\"dataframe\">\n",
       "  <thead>\n",
       "    <tr style=\"text-align: right;\">\n",
       "      <th></th>\n",
       "      <th>CustomerID</th>\n",
       "      <th>non_tgt</th>\n",
       "      <th>tgt</th>\n",
       "    </tr>\n",
       "  </thead>\n",
       "  <tbody>\n",
       "    <tr>\n",
       "      <th>0</th>\n",
       "      <td>12352.0</td>\n",
       "      <td>1.0</td>\n",
       "      <td>0.0</td>\n",
       "    </tr>\n",
       "    <tr>\n",
       "      <th>1</th>\n",
       "      <td>12359.0</td>\n",
       "      <td>0.0</td>\n",
       "      <td>1.0</td>\n",
       "    </tr>\n",
       "    <tr>\n",
       "      <th>2</th>\n",
       "      <td>12383.0</td>\n",
       "      <td>0.0</td>\n",
       "      <td>1.0</td>\n",
       "    </tr>\n",
       "    <tr>\n",
       "      <th>3</th>\n",
       "      <td>12395.0</td>\n",
       "      <td>1.0</td>\n",
       "      <td>0.0</td>\n",
       "    </tr>\n",
       "    <tr>\n",
       "      <th>4</th>\n",
       "      <td>12408.0</td>\n",
       "      <td>1.0</td>\n",
       "      <td>0.0</td>\n",
       "    </tr>\n",
       "  </tbody>\n",
       "</table>\n",
       "</div>"
      ],
      "text/plain": [
       "   CustomerID  non_tgt  tgt\n",
       "0     12352.0      1.0  0.0\n",
       "1     12359.0      0.0  1.0\n",
       "2     12383.0      0.0  1.0\n",
       "3     12395.0      1.0  0.0\n",
       "4     12408.0      1.0  0.0"
      ]
     },
     "execution_count": 88,
     "metadata": {},
     "output_type": "execute_result"
    }
   ],
   "source": [
    "## Target（離反）の作成\n",
    "\n",
    "df_tgt = pd.DataFrame(id_model_tgt)\n",
    "df_tgt[\"non_tgt\"] = 1                        ## リピーターフラグ\n",
    "\n",
    "cust_df5 = pd.merge(pd.DataFrame(id_model), df_tgt, on=\"CustomerID\", how=\"left\").fillna(0)\n",
    "\n",
    "cust_df5[\"tgt\"] = 1 - cust_df5[\"non_tgt\"]    ## 離反フラグ\n",
    "cust_df5.head()"
   ]
  },
  {
   "cell_type": "code",
   "execution_count": 92,
   "metadata": {},
   "outputs": [],
   "source": [
    "## 各データを結合し、モデリングデータの完成"
   ]
  },
  {
   "cell_type": "code",
   "execution_count": 93,
   "metadata": {},
   "outputs": [
    {
     "name": "stdout",
     "output_type": "stream",
     "text": [
      "(717, 10)\n",
      "(537, 1)\n",
      "(717, 11)\n",
      "(717, 2)\n",
      "(717, 3)\n"
     ]
    }
   ],
   "source": [
    "print(cust_df.shape)\n",
    "print(cust_df2.shape)      ## キャンセル発生顧客のみなので行数は少ない\n",
    "print(cust_df3.shape)\n",
    "print(cust_df4.shape)\n",
    "print(cust_df5.shape)"
   ]
  },
  {
   "cell_type": "code",
   "execution_count": 97,
   "metadata": {
    "scrolled": true
   },
   "outputs": [
    {
     "data": {
      "text/html": [
       "<div>\n",
       "<style scoped>\n",
       "    .dataframe tbody tr th:only-of-type {\n",
       "        vertical-align: middle;\n",
       "    }\n",
       "\n",
       "    .dataframe tbody tr th {\n",
       "        vertical-align: top;\n",
       "    }\n",
       "\n",
       "    .dataframe thead th {\n",
       "        text-align: right;\n",
       "    }\n",
       "</style>\n",
       "<table border=\"1\" class=\"dataframe\">\n",
       "  <thead>\n",
       "    <tr style=\"text-align: right;\">\n",
       "      <th></th>\n",
       "      <th>CustomerID</th>\n",
       "      <th>trips</th>\n",
       "      <th>amount_of_yen</th>\n",
       "      <th>quantity</th>\n",
       "      <th>period_begin</th>\n",
       "      <th>period_end</th>\n",
       "      <th>period</th>\n",
       "      <th>recency</th>\n",
       "      <th>amount_of_yen_per_trips</th>\n",
       "      <th>regularity</th>\n",
       "      <th>...</th>\n",
       "      <th>trips_cat47566</th>\n",
       "      <th>trips_cat84879</th>\n",
       "      <th>trips_cat20725</th>\n",
       "      <th>trips_cat22720</th>\n",
       "      <th>trips_catPOST</th>\n",
       "      <th>trips_cat23203</th>\n",
       "      <th>trips_cat22383</th>\n",
       "      <th>mode_category</th>\n",
       "      <th>non_tgt</th>\n",
       "      <th>tgt</th>\n",
       "    </tr>\n",
       "  </thead>\n",
       "  <tbody>\n",
       "    <tr>\n",
       "      <th>0</th>\n",
       "      <td>12352.0</td>\n",
       "      <td>8</td>\n",
       "      <td>601.18</td>\n",
       "      <td>188.0</td>\n",
       "      <td>2011-02-16 12:33:00</td>\n",
       "      <td>2011-03-22 16:08:00</td>\n",
       "      <td>34</td>\n",
       "      <td>100</td>\n",
       "      <td>75.147500</td>\n",
       "      <td>4.250000</td>\n",
       "      <td>...</td>\n",
       "      <td>0.0</td>\n",
       "      <td>0.0</td>\n",
       "      <td>0.0</td>\n",
       "      <td>0.0</td>\n",
       "      <td>2.0</td>\n",
       "      <td>0.0</td>\n",
       "      <td>0.0</td>\n",
       "      <td>M</td>\n",
       "      <td>1.0</td>\n",
       "      <td>0.0</td>\n",
       "    </tr>\n",
       "    <tr>\n",
       "      <th>1</th>\n",
       "      <td>12359.0</td>\n",
       "      <td>4</td>\n",
       "      <td>3459.93</td>\n",
       "      <td>961.0</td>\n",
       "      <td>2011-01-12 12:43:00</td>\n",
       "      <td>2011-06-03 12:26:00</td>\n",
       "      <td>141</td>\n",
       "      <td>27</td>\n",
       "      <td>864.982500</td>\n",
       "      <td>35.250000</td>\n",
       "      <td>...</td>\n",
       "      <td>1.0</td>\n",
       "      <td>0.0</td>\n",
       "      <td>0.0</td>\n",
       "      <td>1.0</td>\n",
       "      <td>0.0</td>\n",
       "      <td>0.0</td>\n",
       "      <td>0.0</td>\n",
       "      <td>82613</td>\n",
       "      <td>0.0</td>\n",
       "      <td>1.0</td>\n",
       "    </tr>\n",
       "    <tr>\n",
       "      <th>2</th>\n",
       "      <td>12383.0</td>\n",
       "      <td>5</td>\n",
       "      <td>1238.59</td>\n",
       "      <td>775.0</td>\n",
       "      <td>2011-01-12 14:10:00</td>\n",
       "      <td>2011-06-08 08:02:00</td>\n",
       "      <td>146</td>\n",
       "      <td>22</td>\n",
       "      <td>247.718000</td>\n",
       "      <td>29.200000</td>\n",
       "      <td>...</td>\n",
       "      <td>0.0</td>\n",
       "      <td>0.0</td>\n",
       "      <td>0.0</td>\n",
       "      <td>0.0</td>\n",
       "      <td>4.0</td>\n",
       "      <td>0.0</td>\n",
       "      <td>0.0</td>\n",
       "      <td>84997</td>\n",
       "      <td>0.0</td>\n",
       "      <td>1.0</td>\n",
       "    </tr>\n",
       "    <tr>\n",
       "      <th>3</th>\n",
       "      <td>12395.0</td>\n",
       "      <td>7</td>\n",
       "      <td>1035.90</td>\n",
       "      <td>837.0</td>\n",
       "      <td>2011-01-05 11:21:00</td>\n",
       "      <td>2011-06-30 16:52:00</td>\n",
       "      <td>176</td>\n",
       "      <td>0</td>\n",
       "      <td>147.985714</td>\n",
       "      <td>25.142857</td>\n",
       "      <td>...</td>\n",
       "      <td>0.0</td>\n",
       "      <td>0.0</td>\n",
       "      <td>0.0</td>\n",
       "      <td>0.0</td>\n",
       "      <td>5.0</td>\n",
       "      <td>0.0</td>\n",
       "      <td>0.0</td>\n",
       "      <td>POST</td>\n",
       "      <td>1.0</td>\n",
       "      <td>0.0</td>\n",
       "    </tr>\n",
       "    <tr>\n",
       "      <th>4</th>\n",
       "      <td>12408.0</td>\n",
       "      <td>6</td>\n",
       "      <td>1460.79</td>\n",
       "      <td>725.0</td>\n",
       "      <td>2011-03-24 14:46:00</td>\n",
       "      <td>2011-06-29 15:38:00</td>\n",
       "      <td>97</td>\n",
       "      <td>1</td>\n",
       "      <td>243.465000</td>\n",
       "      <td>16.166667</td>\n",
       "      <td>...</td>\n",
       "      <td>0.0</td>\n",
       "      <td>0.0</td>\n",
       "      <td>0.0</td>\n",
       "      <td>0.0</td>\n",
       "      <td>2.0</td>\n",
       "      <td>0.0</td>\n",
       "      <td>0.0</td>\n",
       "      <td>85099</td>\n",
       "      <td>1.0</td>\n",
       "      <td>0.0</td>\n",
       "    </tr>\n",
       "  </tbody>\n",
       "</table>\n",
       "<p>5 rows × 24 columns</p>\n",
       "</div>"
      ],
      "text/plain": [
       "   CustomerID  trips  amount_of_yen  quantity        period_begin  \\\n",
       "0     12352.0      8         601.18     188.0 2011-02-16 12:33:00   \n",
       "1     12359.0      4        3459.93     961.0 2011-01-12 12:43:00   \n",
       "2     12383.0      5        1238.59     775.0 2011-01-12 14:10:00   \n",
       "3     12395.0      7        1035.90     837.0 2011-01-05 11:21:00   \n",
       "4     12408.0      6        1460.79     725.0 2011-03-24 14:46:00   \n",
       "\n",
       "           period_end  period  recency  amount_of_yen_per_trips  regularity  \\\n",
       "0 2011-03-22 16:08:00      34      100                75.147500    4.250000   \n",
       "1 2011-06-03 12:26:00     141       27               864.982500   35.250000   \n",
       "2 2011-06-08 08:02:00     146       22               247.718000   29.200000   \n",
       "3 2011-06-30 16:52:00     176        0               147.985714   25.142857   \n",
       "4 2011-06-29 15:38:00      97        1               243.465000   16.166667   \n",
       "\n",
       "  ...   trips_cat47566  trips_cat84879  trips_cat20725  trips_cat22720  \\\n",
       "0 ...              0.0             0.0             0.0             0.0   \n",
       "1 ...              1.0             0.0             0.0             1.0   \n",
       "2 ...              0.0             0.0             0.0             0.0   \n",
       "3 ...              0.0             0.0             0.0             0.0   \n",
       "4 ...              0.0             0.0             0.0             0.0   \n",
       "\n",
       "   trips_catPOST  trips_cat23203  trips_cat22383  mode_category  non_tgt  tgt  \n",
       "0            2.0             0.0             0.0              M      1.0  0.0  \n",
       "1            0.0             0.0             0.0          82613      0.0  1.0  \n",
       "2            4.0             0.0             0.0          84997      0.0  1.0  \n",
       "3            5.0             0.0             0.0           POST      1.0  0.0  \n",
       "4            2.0             0.0             0.0          85099      1.0  0.0  \n",
       "\n",
       "[5 rows x 24 columns]"
      ]
     },
     "execution_count": 97,
     "metadata": {},
     "output_type": "execute_result"
    }
   ],
   "source": [
    "dm_for_model = pd.merge(cust_df, cust_df2, on=\"CustomerID\", how=\"left\").fillna(0)\n",
    "dm_for_model = pd.merge(dm_for_model, cust_df3, on=\"CustomerID\", how=\"left\")\n",
    "dm_for_model = pd.merge(dm_for_model, cust_df4, on=\"CustomerID\", how=\"left\")\n",
    "dm_for_model = pd.merge(dm_for_model, cust_df5, on=\"CustomerID\", how=\"left\")\n",
    "dm_for_model.head()"
   ]
  },
  {
   "cell_type": "code",
   "execution_count": 98,
   "metadata": {},
   "outputs": [
    {
     "data": {
      "text/plain": [
       "(717, 24)"
      ]
     },
     "execution_count": 98,
     "metadata": {},
     "output_type": "execute_result"
    }
   ],
   "source": [
    "dm_for_model.shape"
   ]
  },
  {
   "cell_type": "code",
   "execution_count": 99,
   "metadata": {},
   "outputs": [],
   "source": [
    "## これをdm_for_model.csvとして保存（ただし、解答例ではカラムはエクセルのシート「特徴量」のみ）"
   ]
  },
  {
   "cell_type": "code",
   "execution_count": null,
   "metadata": {},
   "outputs": [],
   "source": []
  },
  {
   "cell_type": "code",
   "execution_count": null,
   "metadata": {},
   "outputs": [],
   "source": [
    "## フォワードテスト用DMも、期間を変え同様の方法で作成。dm_for_fwd.csvとして保存"
   ]
  },
  {
   "cell_type": "code",
   "execution_count": null,
   "metadata": {},
   "outputs": [],
   "source": []
  },
  {
   "cell_type": "markdown",
   "metadata": {},
   "source": [
    "<b>【演習4.2】</b><br>フォルダ「\\work\\python」内にある「classifier.py」を完成させよ（対応箇所は計8箇所あります。\"[-------]\"の箇所を変更して下さい）。またK-Fold法によるモデル評価結果を、作業用ファイルのシート「モデル管理」に記入し、「AIジョブカレ_機械学習入門_初回報告書サンプル_演習用.pptx」の「8ページ」を完成せよ。"
   ]
  },
  {
   "cell_type": "code",
   "execution_count": 108,
   "metadata": {
    "scrolled": true
   },
   "outputs": [
    {
     "name": "stdout",
     "output_type": "stream",
     "text": [
      "C:\\Users\\yuki.shimada\\Documents\\37_Lecture\\Lecture_ML2\\exercise\\講師用\n",
      "['classifier.py', 'data', 'kmeans.py', 'memo.txt', 'model', '_data']\n"
     ]
    }
   ],
   "source": [
    "import os\n",
    "print(os.getcwd())      ## 現在のディレクトリ\n",
    "print(os.listdir(\"./02_work/python/\"))       ## 実行するファイル'classifier.py'"
   ]
  },
  {
   "cell_type": "code",
   "execution_count": 109,
   "metadata": {},
   "outputs": [],
   "source": [
    "## 'classifier.py'のあるディレクトリ内に\"data\"フォルダを作成し、dm_for_model.csvとdm_for_fwd.csvを格納\n",
    "\n",
    "## Anaconda Promptで完成させた'classifier.py'を実行\n",
    "## >python ディレクトリ/classifier.py"
   ]
  },
  {
   "cell_type": "code",
   "execution_count": 110,
   "metadata": {},
   "outputs": [],
   "source": [
    "## 実行後\"data\"フォルダ内に以下の2ファイルが作成される\n",
    "# ***_with_pred.csv'                        : フォワードテスト用に対する予測結果\n",
    "# ***_feature_importances.csv               : モデル用で作成したモデル（GBC or RFC）の変数重要度"
   ]
  },
  {
   "cell_type": "code",
   "execution_count": 111,
   "metadata": {},
   "outputs": [],
   "source": [
    "## 実行後\"model\"フォルダ内にモデルオブジェクトが保存される\n",
    "# モデル名.pkl"
   ]
  },
  {
   "cell_type": "markdown",
   "metadata": {},
   "source": [
    "<b>【演習4.3】</b><br>【演習4.2】で評価したモデルでパフォーマンスの高かったモデルの、変数の重要度が出力されたCSV結果を、「AIジョブカレ_機械学習入門_初回報告書サンプル_演習用.pptx」の「9ページ」に反映させ完成せよ。"
   ]
  },
  {
   "cell_type": "markdown",
   "metadata": {},
   "source": [
    "## 5. フォーワード検証"
   ]
  },
  {
   "cell_type": "markdown",
   "metadata": {},
   "source": [
    "<b>【演習5】</b><br>演習4.2でパフォーマンスの高かったモデルによって出力された予測スコアデータ(「_with_pred」で終わるCSVファイル)をDBに取り込み、スコアを降順に10分割し、当該ランクごとに以下を出力するスクリプトを完成させよ。\n",
    "- スコアランク\n",
    "- 予測スコアの最小値\n",
    "- 予測スコアの平均値\n",
    "- 予測スコアの最大値\n",
    "- レコード数[A]\n",
    "- ターゲット（正例）数[B]\n",
    "- ターゲット（正例）含有率（[B]/[A])"
   ]
  },
  {
   "cell_type": "code",
   "execution_count": 114,
   "metadata": {
    "scrolled": true
   },
   "outputs": [
    {
     "name": "stdout",
     "output_type": "stream",
     "text": [
      "(807, 2)\n",
      "(807, 21)\n"
     ]
    }
   ],
   "source": [
    "df_pred = pd.read_csv(\"./02_work/python/data/GBC_001_dm_for_fwd_with_pred.csv\")    ## 予測結果データ\n",
    "print(df_pred.shape)\n",
    "\n",
    "df_fwd = pd.read_csv(\"./02_work/python/data/dm_for_fwd.csv\")                       ## ターゲット（tgt）取得のためのフォワードテスト用データ\n",
    "print(df_fwd.shape)"
   ]
  },
  {
   "cell_type": "code",
   "execution_count": 131,
   "metadata": {
    "scrolled": true
   },
   "outputs": [
    {
     "data": {
      "text/html": [
       "<div>\n",
       "<style scoped>\n",
       "    .dataframe tbody tr th:only-of-type {\n",
       "        vertical-align: middle;\n",
       "    }\n",
       "\n",
       "    .dataframe tbody tr th {\n",
       "        vertical-align: top;\n",
       "    }\n",
       "\n",
       "    .dataframe thead th {\n",
       "        text-align: right;\n",
       "    }\n",
       "</style>\n",
       "<table border=\"1\" class=\"dataframe\">\n",
       "  <thead>\n",
       "    <tr style=\"text-align: right;\">\n",
       "      <th></th>\n",
       "      <th>customerid</th>\n",
       "      <th>pred_score</th>\n",
       "      <th>tgt</th>\n",
       "    </tr>\n",
       "  </thead>\n",
       "  <tbody>\n",
       "    <tr>\n",
       "      <th>0</th>\n",
       "      <td>12362</td>\n",
       "      <td>0.116051</td>\n",
       "      <td>0</td>\n",
       "    </tr>\n",
       "    <tr>\n",
       "      <th>1</th>\n",
       "      <td>12395</td>\n",
       "      <td>0.326379</td>\n",
       "      <td>0</td>\n",
       "    </tr>\n",
       "    <tr>\n",
       "      <th>2</th>\n",
       "      <td>12408</td>\n",
       "      <td>0.183245</td>\n",
       "      <td>0</td>\n",
       "    </tr>\n",
       "    <tr>\n",
       "      <th>3</th>\n",
       "      <td>12409</td>\n",
       "      <td>0.062634</td>\n",
       "      <td>1</td>\n",
       "    </tr>\n",
       "    <tr>\n",
       "      <th>4</th>\n",
       "      <td>12415</td>\n",
       "      <td>0.037452</td>\n",
       "      <td>0</td>\n",
       "    </tr>\n",
       "  </tbody>\n",
       "</table>\n",
       "</div>"
      ],
      "text/plain": [
       "   customerid  pred_score  tgt\n",
       "0       12362    0.116051    0\n",
       "1       12395    0.326379    0\n",
       "2       12408    0.183245    0\n",
       "3       12409    0.062634    1\n",
       "4       12415    0.037452    0"
      ]
     },
     "execution_count": 131,
     "metadata": {},
     "output_type": "execute_result"
    }
   ],
   "source": [
    "df_res = pd.merge(df_pred, df_fwd[[\"customerid\",\"tgt\"]], on=\"customerid\")    ## 正解ラベル（ターゲット）を取得\n",
    "df_res.head()"
   ]
  },
  {
   "cell_type": "code",
   "execution_count": 134,
   "metadata": {
    "scrolled": true
   },
   "outputs": [
    {
     "data": {
      "text/html": [
       "<div>\n",
       "<style scoped>\n",
       "    .dataframe tbody tr th:only-of-type {\n",
       "        vertical-align: middle;\n",
       "    }\n",
       "\n",
       "    .dataframe tbody tr th {\n",
       "        vertical-align: top;\n",
       "    }\n",
       "\n",
       "    .dataframe thead th {\n",
       "        text-align: right;\n",
       "    }\n",
       "</style>\n",
       "<table border=\"1\" class=\"dataframe\">\n",
       "  <thead>\n",
       "    <tr style=\"text-align: right;\">\n",
       "      <th></th>\n",
       "      <th>customerid</th>\n",
       "      <th>pred_score</th>\n",
       "      <th>tgt</th>\n",
       "      <th>rank</th>\n",
       "    </tr>\n",
       "  </thead>\n",
       "  <tbody>\n",
       "    <tr>\n",
       "      <th>754</th>\n",
       "      <td>17874</td>\n",
       "      <td>0.914307</td>\n",
       "      <td>1</td>\n",
       "      <td>1.0</td>\n",
       "    </tr>\n",
       "    <tr>\n",
       "      <th>386</th>\n",
       "      <td>15098</td>\n",
       "      <td>0.858565</td>\n",
       "      <td>1</td>\n",
       "      <td>2.0</td>\n",
       "    </tr>\n",
       "    <tr>\n",
       "      <th>804</th>\n",
       "      <td>18260</td>\n",
       "      <td>0.852931</td>\n",
       "      <td>1</td>\n",
       "      <td>3.0</td>\n",
       "    </tr>\n",
       "    <tr>\n",
       "      <th>180</th>\n",
       "      <td>13632</td>\n",
       "      <td>0.806854</td>\n",
       "      <td>0</td>\n",
       "      <td>4.0</td>\n",
       "    </tr>\n",
       "    <tr>\n",
       "      <th>204</th>\n",
       "      <td>13811</td>\n",
       "      <td>0.785944</td>\n",
       "      <td>1</td>\n",
       "      <td>5.0</td>\n",
       "    </tr>\n",
       "  </tbody>\n",
       "</table>\n",
       "</div>"
      ],
      "text/plain": [
       "     customerid  pred_score  tgt  rank\n",
       "754       17874    0.914307    1   1.0\n",
       "386       15098    0.858565    1   2.0\n",
       "804       18260    0.852931    1   3.0\n",
       "180       13632    0.806854    0   4.0\n",
       "204       13811    0.785944    1   5.0"
      ]
     },
     "execution_count": 134,
     "metadata": {},
     "output_type": "execute_result"
    }
   ],
   "source": [
    "df_res[\"rank\"] = df_res[\"pred_score\"].rank(ascending=False, method='min')\n",
    "df_res = df_res.sort_values(\"pred_score\", ascending=False)\n",
    "df_res.head()"
   ]
  },
  {
   "cell_type": "code",
   "execution_count": 142,
   "metadata": {
    "scrolled": true
   },
   "outputs": [
    {
     "data": {
      "text/html": [
       "<div>\n",
       "<style scoped>\n",
       "    .dataframe tbody tr th:only-of-type {\n",
       "        vertical-align: middle;\n",
       "    }\n",
       "\n",
       "    .dataframe tbody tr th {\n",
       "        vertical-align: top;\n",
       "    }\n",
       "\n",
       "    .dataframe thead th {\n",
       "        text-align: right;\n",
       "    }\n",
       "</style>\n",
       "<table border=\"1\" class=\"dataframe\">\n",
       "  <thead>\n",
       "    <tr style=\"text-align: right;\">\n",
       "      <th></th>\n",
       "      <th>customerid</th>\n",
       "      <th>pred_score</th>\n",
       "      <th>tgt</th>\n",
       "      <th>rank</th>\n",
       "      <th>decil_rank</th>\n",
       "    </tr>\n",
       "  </thead>\n",
       "  <tbody>\n",
       "    <tr>\n",
       "      <th>754</th>\n",
       "      <td>17874</td>\n",
       "      <td>0.914307</td>\n",
       "      <td>1</td>\n",
       "      <td>1.0</td>\n",
       "      <td>0.0</td>\n",
       "    </tr>\n",
       "    <tr>\n",
       "      <th>386</th>\n",
       "      <td>15098</td>\n",
       "      <td>0.858565</td>\n",
       "      <td>1</td>\n",
       "      <td>2.0</td>\n",
       "      <td>0.0</td>\n",
       "    </tr>\n",
       "    <tr>\n",
       "      <th>804</th>\n",
       "      <td>18260</td>\n",
       "      <td>0.852931</td>\n",
       "      <td>1</td>\n",
       "      <td>3.0</td>\n",
       "      <td>0.0</td>\n",
       "    </tr>\n",
       "    <tr>\n",
       "      <th>180</th>\n",
       "      <td>13632</td>\n",
       "      <td>0.806854</td>\n",
       "      <td>0</td>\n",
       "      <td>4.0</td>\n",
       "      <td>0.0</td>\n",
       "    </tr>\n",
       "    <tr>\n",
       "      <th>204</th>\n",
       "      <td>13811</td>\n",
       "      <td>0.785944</td>\n",
       "      <td>1</td>\n",
       "      <td>5.0</td>\n",
       "      <td>0.0</td>\n",
       "    </tr>\n",
       "  </tbody>\n",
       "</table>\n",
       "</div>"
      ],
      "text/plain": [
       "     customerid  pred_score  tgt  rank  decil_rank\n",
       "754       17874    0.914307    1   1.0         0.0\n",
       "386       15098    0.858565    1   2.0         0.0\n",
       "804       18260    0.852931    1   3.0         0.0\n",
       "180       13632    0.806854    0   4.0         0.0\n",
       "204       13811    0.785944    1   5.0         0.0"
      ]
     },
     "execution_count": 142,
     "metadata": {},
     "output_type": "execute_result"
    }
   ],
   "source": [
    "df_res[\"decil_rank\"] = np.floor(df_res[\"rank\"] / df_res.shape[0] * 10)    ## 最終行があぶれるがSQL解答例に合わせる\n",
    "df_res.head()"
   ]
  },
  {
   "cell_type": "code",
   "execution_count": 146,
   "metadata": {},
   "outputs": [
    {
     "data": {
      "text/plain": [
       "8.0     82\n",
       "7.0     81\n",
       "5.0     81\n",
       "3.0     81\n",
       "2.0     81\n",
       "1.0     81\n",
       "6.0     80\n",
       "4.0     80\n",
       "0.0     80\n",
       "9.0     79\n",
       "10.0     1\n",
       "Name: decil_rank, dtype: int64"
      ]
     },
     "execution_count": 146,
     "metadata": {},
     "output_type": "execute_result"
    }
   ],
   "source": [
    "df_res[\"decil_rank\"].value_counts()"
   ]
  },
  {
   "cell_type": "code",
   "execution_count": 168,
   "metadata": {},
   "outputs": [
    {
     "data": {
      "text/plain": [
       "0.16852540272614622"
      ]
     },
     "execution_count": 168,
     "metadata": {},
     "output_type": "execute_result"
    }
   ],
   "source": [
    "## 全体での離反率\n",
    "df_res[\"tgt\"].sum() / df_res.shape[0]"
   ]
  },
  {
   "cell_type": "code",
   "execution_count": 169,
   "metadata": {},
   "outputs": [
    {
     "data": {
      "text/html": [
       "<div>\n",
       "<style scoped>\n",
       "    .dataframe tbody tr th:only-of-type {\n",
       "        vertical-align: middle;\n",
       "    }\n",
       "\n",
       "    .dataframe tbody tr th {\n",
       "        vertical-align: top;\n",
       "    }\n",
       "\n",
       "    .dataframe thead th {\n",
       "        text-align: right;\n",
       "    }\n",
       "</style>\n",
       "<table border=\"1\" class=\"dataframe\">\n",
       "  <thead>\n",
       "    <tr style=\"text-align: right;\">\n",
       "      <th></th>\n",
       "      <th>min_score</th>\n",
       "      <th>avg_score</th>\n",
       "      <th>max_score</th>\n",
       "      <th>ids</th>\n",
       "      <th>tgt</th>\n",
       "      <th>precision</th>\n",
       "    </tr>\n",
       "    <tr>\n",
       "      <th>decil_rank</th>\n",
       "      <th></th>\n",
       "      <th></th>\n",
       "      <th></th>\n",
       "      <th></th>\n",
       "      <th></th>\n",
       "      <th></th>\n",
       "    </tr>\n",
       "  </thead>\n",
       "  <tbody>\n",
       "    <tr>\n",
       "      <th>0.0</th>\n",
       "      <td>0.323169</td>\n",
       "      <td>0.520701</td>\n",
       "      <td>0.914307</td>\n",
       "      <td>80</td>\n",
       "      <td>28</td>\n",
       "      <td>0.350000</td>\n",
       "    </tr>\n",
       "    <tr>\n",
       "      <th>1.0</th>\n",
       "      <td>0.193420</td>\n",
       "      <td>0.235951</td>\n",
       "      <td>0.311805</td>\n",
       "      <td>81</td>\n",
       "      <td>21</td>\n",
       "      <td>0.259259</td>\n",
       "    </tr>\n",
       "    <tr>\n",
       "      <th>2.0</th>\n",
       "      <td>0.148748</td>\n",
       "      <td>0.170004</td>\n",
       "      <td>0.193255</td>\n",
       "      <td>81</td>\n",
       "      <td>17</td>\n",
       "      <td>0.209877</td>\n",
       "    </tr>\n",
       "    <tr>\n",
       "      <th>3.0</th>\n",
       "      <td>0.116666</td>\n",
       "      <td>0.130976</td>\n",
       "      <td>0.148538</td>\n",
       "      <td>81</td>\n",
       "      <td>15</td>\n",
       "      <td>0.185185</td>\n",
       "    </tr>\n",
       "    <tr>\n",
       "      <th>4.0</th>\n",
       "      <td>0.094676</td>\n",
       "      <td>0.104917</td>\n",
       "      <td>0.116051</td>\n",
       "      <td>80</td>\n",
       "      <td>13</td>\n",
       "      <td>0.162500</td>\n",
       "    </tr>\n",
       "    <tr>\n",
       "      <th>5.0</th>\n",
       "      <td>0.073997</td>\n",
       "      <td>0.083907</td>\n",
       "      <td>0.094466</td>\n",
       "      <td>81</td>\n",
       "      <td>16</td>\n",
       "      <td>0.197531</td>\n",
       "    </tr>\n",
       "    <tr>\n",
       "      <th>6.0</th>\n",
       "      <td>0.058623</td>\n",
       "      <td>0.064692</td>\n",
       "      <td>0.073668</td>\n",
       "      <td>80</td>\n",
       "      <td>13</td>\n",
       "      <td>0.162500</td>\n",
       "    </tr>\n",
       "    <tr>\n",
       "      <th>7.0</th>\n",
       "      <td>0.045829</td>\n",
       "      <td>0.051335</td>\n",
       "      <td>0.058537</td>\n",
       "      <td>81</td>\n",
       "      <td>8</td>\n",
       "      <td>0.098765</td>\n",
       "    </tr>\n",
       "    <tr>\n",
       "      <th>8.0</th>\n",
       "      <td>0.037454</td>\n",
       "      <td>0.041613</td>\n",
       "      <td>0.045463</td>\n",
       "      <td>82</td>\n",
       "      <td>4</td>\n",
       "      <td>0.048780</td>\n",
       "    </tr>\n",
       "    <tr>\n",
       "      <th>9.0</th>\n",
       "      <td>0.025753</td>\n",
       "      <td>0.032498</td>\n",
       "      <td>0.037452</td>\n",
       "      <td>79</td>\n",
       "      <td>1</td>\n",
       "      <td>0.012658</td>\n",
       "    </tr>\n",
       "    <tr>\n",
       "      <th>10.0</th>\n",
       "      <td>0.024298</td>\n",
       "      <td>0.024298</td>\n",
       "      <td>0.024298</td>\n",
       "      <td>1</td>\n",
       "      <td>0</td>\n",
       "      <td>0.000000</td>\n",
       "    </tr>\n",
       "  </tbody>\n",
       "</table>\n",
       "</div>"
      ],
      "text/plain": [
       "            min_score  avg_score  max_score  ids  tgt  precision\n",
       "decil_rank                                                      \n",
       "0.0          0.323169   0.520701   0.914307   80   28   0.350000\n",
       "1.0          0.193420   0.235951   0.311805   81   21   0.259259\n",
       "2.0          0.148748   0.170004   0.193255   81   17   0.209877\n",
       "3.0          0.116666   0.130976   0.148538   81   15   0.185185\n",
       "4.0          0.094676   0.104917   0.116051   80   13   0.162500\n",
       "5.0          0.073997   0.083907   0.094466   81   16   0.197531\n",
       "6.0          0.058623   0.064692   0.073668   80   13   0.162500\n",
       "7.0          0.045829   0.051335   0.058537   81    8   0.098765\n",
       "8.0          0.037454   0.041613   0.045463   82    4   0.048780\n",
       "9.0          0.025753   0.032498   0.037452   79    1   0.012658\n",
       "10.0         0.024298   0.024298   0.024298    1    0   0.000000"
      ]
     },
     "execution_count": 169,
     "metadata": {},
     "output_type": "execute_result"
    }
   ],
   "source": [
    "## decil_rank別に集計を行う\n",
    "\n",
    "df_res_decil = df_res.groupby(\"decil_rank\").agg({\"pred_score\":[\"min\",\"mean\",\"max\",\"count\"], \"tgt\":\"sum\"})\n",
    "df_res_decil.columns = [\"min_score\", \"avg_score\", \"max_score\", \"ids\", \"tgt\"]\n",
    "df_res_decil[\"precision\"] = df_res_decil[\"tgt\"] / df_res_decil[\"ids\"]\n",
    "df_res_decil\n",
    "\n",
    "# tgt: 各decilにおける実際の離反数\n",
    "# precision: tgt/ids"
   ]
  },
  {
   "cell_type": "markdown",
   "metadata": {},
   "source": [
    "集計結果は、作業用エクセルのシート「FWD検証」に張り付け、「AIジョブカレ_機械学習入門_初回報告書サンプル_演習用.pptx」の「11ページ」を完成させよ。"
   ]
  },
  {
   "cell_type": "markdown",
   "metadata": {},
   "source": [
    "## 6. スコア上位者プロファイル（クラスタリング学習後に実施）"
   ]
  },
  {
   "cell_type": "markdown",
   "metadata": {},
   "source": [
    "<b>【演習6】</b><br>クライアントからスコアランク上位20％相当の顧客の特徴を知りたいと要望があった。上位20%とその他顧客層の違い、及び上位20%内部の購買パターン分析を通し、当該顧客の特徴を示した資料を作成せよ。"
   ]
  },
  {
   "cell_type": "code",
   "execution_count": 175,
   "metadata": {
    "scrolled": true
   },
   "outputs": [
    {
     "data": {
      "text/html": [
       "<div>\n",
       "<style scoped>\n",
       "    .dataframe tbody tr th:only-of-type {\n",
       "        vertical-align: middle;\n",
       "    }\n",
       "\n",
       "    .dataframe tbody tr th {\n",
       "        vertical-align: top;\n",
       "    }\n",
       "\n",
       "    .dataframe thead th {\n",
       "        text-align: right;\n",
       "    }\n",
       "</style>\n",
       "<table border=\"1\" class=\"dataframe\">\n",
       "  <thead>\n",
       "    <tr style=\"text-align: right;\">\n",
       "      <th></th>\n",
       "      <th>customerid</th>\n",
       "      <th>pred_score</th>\n",
       "      <th>tgt</th>\n",
       "      <th>rank</th>\n",
       "      <th>decil_rank</th>\n",
       "    </tr>\n",
       "  </thead>\n",
       "  <tbody>\n",
       "    <tr>\n",
       "      <th>754</th>\n",
       "      <td>17874</td>\n",
       "      <td>0.914307</td>\n",
       "      <td>1</td>\n",
       "      <td>1.0</td>\n",
       "      <td>0.0</td>\n",
       "    </tr>\n",
       "    <tr>\n",
       "      <th>386</th>\n",
       "      <td>15098</td>\n",
       "      <td>0.858565</td>\n",
       "      <td>1</td>\n",
       "      <td>2.0</td>\n",
       "      <td>0.0</td>\n",
       "    </tr>\n",
       "    <tr>\n",
       "      <th>804</th>\n",
       "      <td>18260</td>\n",
       "      <td>0.852931</td>\n",
       "      <td>1</td>\n",
       "      <td>3.0</td>\n",
       "      <td>0.0</td>\n",
       "    </tr>\n",
       "    <tr>\n",
       "      <th>180</th>\n",
       "      <td>13632</td>\n",
       "      <td>0.806854</td>\n",
       "      <td>0</td>\n",
       "      <td>4.0</td>\n",
       "      <td>0.0</td>\n",
       "    </tr>\n",
       "    <tr>\n",
       "      <th>204</th>\n",
       "      <td>13811</td>\n",
       "      <td>0.785944</td>\n",
       "      <td>1</td>\n",
       "      <td>5.0</td>\n",
       "      <td>0.0</td>\n",
       "    </tr>\n",
       "  </tbody>\n",
       "</table>\n",
       "</div>"
      ],
      "text/plain": [
       "     customerid  pred_score  tgt  rank  decil_rank\n",
       "754       17874    0.914307    1   1.0         0.0\n",
       "386       15098    0.858565    1   2.0         0.0\n",
       "804       18260    0.852931    1   3.0         0.0\n",
       "180       13632    0.806854    0   4.0         0.0\n",
       "204       13811    0.785944    1   5.0         0.0"
      ]
     },
     "execution_count": 175,
     "metadata": {},
     "output_type": "execute_result"
    }
   ],
   "source": [
    "## 上のdf_res_decil集計データにおいて、decil_rankが0と1の顧客を分析する\n",
    "\n",
    "df_res_clst = df_res[df_res[\"decil_rank\"].isin([0,1])]\n",
    "df_res_clst.head()"
   ]
  },
  {
   "cell_type": "code",
   "execution_count": 176,
   "metadata": {},
   "outputs": [
    {
     "data": {
      "text/plain": [
       "(161, 5)"
      ]
     },
     "execution_count": 176,
     "metadata": {},
     "output_type": "execute_result"
    }
   ],
   "source": [
    "df_res_clst.shape"
   ]
  },
  {
   "cell_type": "code",
   "execution_count": 206,
   "metadata": {
    "scrolled": true
   },
   "outputs": [
    {
     "data": {
      "text/html": [
       "<div>\n",
       "<style scoped>\n",
       "    .dataframe tbody tr th:only-of-type {\n",
       "        vertical-align: middle;\n",
       "    }\n",
       "\n",
       "    .dataframe tbody tr th {\n",
       "        vertical-align: top;\n",
       "    }\n",
       "\n",
       "    .dataframe thead th {\n",
       "        text-align: right;\n",
       "    }\n",
       "</style>\n",
       "<table border=\"1\" class=\"dataframe\">\n",
       "  <thead>\n",
       "    <tr style=\"text-align: right;\">\n",
       "      <th></th>\n",
       "      <th>customerid</th>\n",
       "      <th>pred_score</th>\n",
       "      <th>tgt</th>\n",
       "      <th>trips</th>\n",
       "      <th>amount_of_yen</th>\n",
       "      <th>regularity</th>\n",
       "    </tr>\n",
       "  </thead>\n",
       "  <tbody>\n",
       "    <tr>\n",
       "      <th>0</th>\n",
       "      <td>17874</td>\n",
       "      <td>0.914307</td>\n",
       "      <td>1</td>\n",
       "      <td>6</td>\n",
       "      <td>593.10</td>\n",
       "      <td>6.666667</td>\n",
       "    </tr>\n",
       "    <tr>\n",
       "      <th>1</th>\n",
       "      <td>15098</td>\n",
       "      <td>0.858565</td>\n",
       "      <td>1</td>\n",
       "      <td>5</td>\n",
       "      <td>649.50</td>\n",
       "      <td>0.000000</td>\n",
       "    </tr>\n",
       "    <tr>\n",
       "      <th>2</th>\n",
       "      <td>18260</td>\n",
       "      <td>0.852931</td>\n",
       "      <td>1</td>\n",
       "      <td>4</td>\n",
       "      <td>1276.73</td>\n",
       "      <td>16.750000</td>\n",
       "    </tr>\n",
       "    <tr>\n",
       "      <th>3</th>\n",
       "      <td>13632</td>\n",
       "      <td>0.806854</td>\n",
       "      <td>0</td>\n",
       "      <td>4</td>\n",
       "      <td>810.35</td>\n",
       "      <td>17.250000</td>\n",
       "    </tr>\n",
       "    <tr>\n",
       "      <th>4</th>\n",
       "      <td>13811</td>\n",
       "      <td>0.785944</td>\n",
       "      <td>1</td>\n",
       "      <td>4</td>\n",
       "      <td>591.75</td>\n",
       "      <td>13.750000</td>\n",
       "    </tr>\n",
       "  </tbody>\n",
       "</table>\n",
       "</div>"
      ],
      "text/plain": [
       "   customerid  pred_score  tgt  trips  amount_of_yen  regularity\n",
       "0       17874    0.914307    1      6         593.10    6.666667\n",
       "1       15098    0.858565    1      5         649.50    0.000000\n",
       "2       18260    0.852931    1      4        1276.73   16.750000\n",
       "3       13632    0.806854    0      4         810.35   17.250000\n",
       "4       13811    0.785944    1      4         591.75   13.750000"
      ]
     },
     "execution_count": 206,
     "metadata": {},
     "output_type": "execute_result"
    }
   ],
   "source": [
    "## decil_rankが0と1の顧客の\"trips\", \"amount_of_yen\",\"regularity\"（フォワードテスト用データから取得）\n",
    "\n",
    "#pd.merge(df_res_clst, df_fwd, on=\"customerid\", how=\"left\")[[\"customerid\",\"pred_score\",\"tgt_x\",\"rank\",\"trips\", \"amount_of_yen\",\"regularity\"]]\n",
    "df_res_clst_fnl = pd.merge(df_res_clst, df_fwd, on=\"customerid\", how=\"left\")[[\"customerid\",\"pred_score\",\"tgt_x\",\"trips\", \"amount_of_yen\",\"regularity\"]]\n",
    "df_res_clst_fnl = df_res_clst_fnl.rename(columns={\"tgt_x\":\"tgt\"})\n",
    "df_res_clst_fnl.head()"
   ]
  },
  {
   "cell_type": "code",
   "execution_count": 207,
   "metadata": {},
   "outputs": [],
   "source": [
    "## このデータをdm_for_cluster.csvとしてモデリング時に作成した\"data\"フォルダへ保存（\"pred_score\",\"tgt\"はクラスタリングに必要ない）\n",
    "\n",
    "#df_res_clst_fnl.to_csv(\"ディレクトリ/data/dm_for_cluster.csv\")"
   ]
  },
  {
   "cell_type": "code",
   "execution_count": 208,
   "metadata": {},
   "outputs": [],
   "source": [
    "## クラスタリングを実行\n",
    "\n",
    "## kmeans.pyをAnaconda Promptで実行\n",
    "## >python ディレクトリ/kmeans.py\n",
    "\n",
    "## **_with_class.csvが\"data\"フォルダの中に作成される"
   ]
  },
  {
   "cell_type": "code",
   "execution_count": 209,
   "metadata": {},
   "outputs": [
    {
     "name": "stdout",
     "output_type": "stream",
     "text": [
      "(161, 2)\n"
     ]
    }
   ],
   "source": [
    "df_clst = pd.read_csv(\"./02_work/python/data/dm_for_cluster_with_class.csv\")    ## クラスタリング結果データ\n",
    "print(df_clst.shape)"
   ]
  },
  {
   "cell_type": "code",
   "execution_count": 210,
   "metadata": {},
   "outputs": [
    {
     "data": {
      "text/html": [
       "<div>\n",
       "<style scoped>\n",
       "    .dataframe tbody tr th:only-of-type {\n",
       "        vertical-align: middle;\n",
       "    }\n",
       "\n",
       "    .dataframe tbody tr th {\n",
       "        vertical-align: top;\n",
       "    }\n",
       "\n",
       "    .dataframe thead th {\n",
       "        text-align: right;\n",
       "    }\n",
       "</style>\n",
       "<table border=\"1\" class=\"dataframe\">\n",
       "  <thead>\n",
       "    <tr style=\"text-align: right;\">\n",
       "      <th></th>\n",
       "      <th>customerid</th>\n",
       "      <th>km_class</th>\n",
       "    </tr>\n",
       "  </thead>\n",
       "  <tbody>\n",
       "    <tr>\n",
       "      <th>0</th>\n",
       "      <td>17874</td>\n",
       "      <td>0</td>\n",
       "    </tr>\n",
       "    <tr>\n",
       "      <th>1</th>\n",
       "      <td>15098</td>\n",
       "      <td>0</td>\n",
       "    </tr>\n",
       "    <tr>\n",
       "      <th>2</th>\n",
       "      <td>18260</td>\n",
       "      <td>0</td>\n",
       "    </tr>\n",
       "    <tr>\n",
       "      <th>3</th>\n",
       "      <td>13632</td>\n",
       "      <td>0</td>\n",
       "    </tr>\n",
       "    <tr>\n",
       "      <th>4</th>\n",
       "      <td>13811</td>\n",
       "      <td>0</td>\n",
       "    </tr>\n",
       "  </tbody>\n",
       "</table>\n",
       "</div>"
      ],
      "text/plain": [
       "   customerid  km_class\n",
       "0       17874         0\n",
       "1       15098         0\n",
       "2       18260         0\n",
       "3       13632         0\n",
       "4       13811         0"
      ]
     },
     "execution_count": 210,
     "metadata": {},
     "output_type": "execute_result"
    }
   ],
   "source": [
    "df_clst.head()"
   ]
  },
  {
   "cell_type": "code",
   "execution_count": 211,
   "metadata": {
    "scrolled": true
   },
   "outputs": [
    {
     "data": {
      "text/html": [
       "<div>\n",
       "<style scoped>\n",
       "    .dataframe tbody tr th:only-of-type {\n",
       "        vertical-align: middle;\n",
       "    }\n",
       "\n",
       "    .dataframe tbody tr th {\n",
       "        vertical-align: top;\n",
       "    }\n",
       "\n",
       "    .dataframe thead th {\n",
       "        text-align: right;\n",
       "    }\n",
       "</style>\n",
       "<table border=\"1\" class=\"dataframe\">\n",
       "  <thead>\n",
       "    <tr style=\"text-align: right;\">\n",
       "      <th></th>\n",
       "      <th>customerid</th>\n",
       "      <th>km_class</th>\n",
       "      <th>pred_score</th>\n",
       "      <th>tgt</th>\n",
       "      <th>trips</th>\n",
       "      <th>amount_of_yen</th>\n",
       "      <th>regularity</th>\n",
       "    </tr>\n",
       "  </thead>\n",
       "  <tbody>\n",
       "    <tr>\n",
       "      <th>0</th>\n",
       "      <td>17874</td>\n",
       "      <td>0</td>\n",
       "      <td>0.914307</td>\n",
       "      <td>1</td>\n",
       "      <td>6</td>\n",
       "      <td>593.10</td>\n",
       "      <td>6.666667</td>\n",
       "    </tr>\n",
       "    <tr>\n",
       "      <th>1</th>\n",
       "      <td>15098</td>\n",
       "      <td>0</td>\n",
       "      <td>0.858565</td>\n",
       "      <td>1</td>\n",
       "      <td>5</td>\n",
       "      <td>649.50</td>\n",
       "      <td>0.000000</td>\n",
       "    </tr>\n",
       "    <tr>\n",
       "      <th>2</th>\n",
       "      <td>18260</td>\n",
       "      <td>0</td>\n",
       "      <td>0.852931</td>\n",
       "      <td>1</td>\n",
       "      <td>4</td>\n",
       "      <td>1276.73</td>\n",
       "      <td>16.750000</td>\n",
       "    </tr>\n",
       "    <tr>\n",
       "      <th>3</th>\n",
       "      <td>13632</td>\n",
       "      <td>0</td>\n",
       "      <td>0.806854</td>\n",
       "      <td>0</td>\n",
       "      <td>4</td>\n",
       "      <td>810.35</td>\n",
       "      <td>17.250000</td>\n",
       "    </tr>\n",
       "    <tr>\n",
       "      <th>4</th>\n",
       "      <td>13811</td>\n",
       "      <td>0</td>\n",
       "      <td>0.785944</td>\n",
       "      <td>1</td>\n",
       "      <td>4</td>\n",
       "      <td>591.75</td>\n",
       "      <td>13.750000</td>\n",
       "    </tr>\n",
       "  </tbody>\n",
       "</table>\n",
       "</div>"
      ],
      "text/plain": [
       "   customerid  km_class  pred_score  tgt  trips  amount_of_yen  regularity\n",
       "0       17874         0    0.914307    1      6         593.10    6.666667\n",
       "1       15098         0    0.858565    1      5         649.50    0.000000\n",
       "2       18260         0    0.852931    1      4        1276.73   16.750000\n",
       "3       13632         0    0.806854    0      4         810.35   17.250000\n",
       "4       13811         0    0.785944    1      4         591.75   13.750000"
      ]
     },
     "execution_count": 211,
     "metadata": {},
     "output_type": "execute_result"
    }
   ],
   "source": [
    "df_clst = pd.merge(df_clst, df_res_clst_fnl, on=\"customerid\", how=\"left\")\n",
    "df_clst.head()"
   ]
  },
  {
   "cell_type": "code",
   "execution_count": 212,
   "metadata": {
    "scrolled": true
   },
   "outputs": [
    {
     "data": {
      "text/plain": [
       "0    81\n",
       "2    63\n",
       "1    17\n",
       "Name: km_class, dtype: int64"
      ]
     },
     "execution_count": 212,
     "metadata": {},
     "output_type": "execute_result"
    }
   ],
   "source": [
    "df_clst[\"km_class\"].value_counts()"
   ]
  },
  {
   "cell_type": "code",
   "execution_count": 220,
   "metadata": {},
   "outputs": [
    {
     "data": {
      "text/html": [
       "<div>\n",
       "<style scoped>\n",
       "    .dataframe tbody tr th:only-of-type {\n",
       "        vertical-align: middle;\n",
       "    }\n",
       "\n",
       "    .dataframe tbody tr th {\n",
       "        vertical-align: top;\n",
       "    }\n",
       "\n",
       "    .dataframe thead tr th {\n",
       "        text-align: left;\n",
       "    }\n",
       "\n",
       "    .dataframe thead tr:last-of-type th {\n",
       "        text-align: right;\n",
       "    }\n",
       "</style>\n",
       "<table border=\"1\" class=\"dataframe\">\n",
       "  <thead>\n",
       "    <tr>\n",
       "      <th></th>\n",
       "      <th>customerid</th>\n",
       "      <th>tgt</th>\n",
       "      <th>trips</th>\n",
       "      <th>amount_of_yen</th>\n",
       "      <th>regularity</th>\n",
       "      <th colspan=\"3\" halign=\"left\">pred_score</th>\n",
       "    </tr>\n",
       "    <tr>\n",
       "      <th></th>\n",
       "      <th>count</th>\n",
       "      <th>sum</th>\n",
       "      <th>mean</th>\n",
       "      <th>mean</th>\n",
       "      <th>mean</th>\n",
       "      <th>min</th>\n",
       "      <th>mean</th>\n",
       "      <th>max</th>\n",
       "    </tr>\n",
       "    <tr>\n",
       "      <th>km_class</th>\n",
       "      <th></th>\n",
       "      <th></th>\n",
       "      <th></th>\n",
       "      <th></th>\n",
       "      <th></th>\n",
       "      <th></th>\n",
       "      <th></th>\n",
       "      <th></th>\n",
       "    </tr>\n",
       "  </thead>\n",
       "  <tbody>\n",
       "    <tr>\n",
       "      <th>0</th>\n",
       "      <td>81</td>\n",
       "      <td>27</td>\n",
       "      <td>4.419753</td>\n",
       "      <td>723.679519</td>\n",
       "      <td>12.228189</td>\n",
       "      <td>0.199575</td>\n",
       "      <td>0.472120</td>\n",
       "      <td>0.914307</td>\n",
       "    </tr>\n",
       "    <tr>\n",
       "      <th>1</th>\n",
       "      <td>17</td>\n",
       "      <td>3</td>\n",
       "      <td>6.764706</td>\n",
       "      <td>1504.741765</td>\n",
       "      <td>14.919024</td>\n",
       "      <td>0.195318</td>\n",
       "      <td>0.320442</td>\n",
       "      <td>0.670733</td>\n",
       "    </tr>\n",
       "    <tr>\n",
       "      <th>2</th>\n",
       "      <td>63</td>\n",
       "      <td>19</td>\n",
       "      <td>4.238095</td>\n",
       "      <td>707.065873</td>\n",
       "      <td>27.799206</td>\n",
       "      <td>0.193420</td>\n",
       "      <td>0.271093</td>\n",
       "      <td>0.544125</td>\n",
       "    </tr>\n",
       "  </tbody>\n",
       "</table>\n",
       "</div>"
      ],
      "text/plain": [
       "         customerid tgt     trips amount_of_yen regularity pred_score  \\\n",
       "              count sum      mean          mean       mean        min   \n",
       "km_class                                                                \n",
       "0                81  27  4.419753    723.679519  12.228189   0.199575   \n",
       "1                17   3  6.764706   1504.741765  14.919024   0.195318   \n",
       "2                63  19  4.238095    707.065873  27.799206   0.193420   \n",
       "\n",
       "                              \n",
       "              mean       max  \n",
       "km_class                      \n",
       "0         0.472120  0.914307  \n",
       "1         0.320442  0.670733  \n",
       "2         0.271093  0.544125  "
      ]
     },
     "execution_count": 220,
     "metadata": {},
     "output_type": "execute_result"
    }
   ],
   "source": [
    "## km_classでgroupbyし、顧客理解に役立つと考えられる集計を実施\n",
    "\n",
    "df_clst.groupby(\"km_class\").agg({\"customerid\":\"count\", \"tgt\":\"sum\", \"trips\":\"mean\", \"amount_of_yen\":\"mean\", \"regularity\":\"mean\",\n",
    "                                \"pred_score\":[\"min\",\"mean\",\"max\"]})"
   ]
  },
  {
   "cell_type": "code",
   "execution_count": null,
   "metadata": {},
   "outputs": [],
   "source": []
  }
 ],
 "metadata": {
  "kernelspec": {
   "display_name": "Python 3",
   "language": "python",
   "name": "python3"
  },
  "language_info": {
   "codemirror_mode": {
    "name": "ipython",
    "version": 3
   },
   "file_extension": ".py",
   "mimetype": "text/x-python",
   "name": "python",
   "nbconvert_exporter": "python",
   "pygments_lexer": "ipython3",
   "version": "3.6.5"
  }
 },
 "nbformat": 4,
 "nbformat_minor": 2
}
