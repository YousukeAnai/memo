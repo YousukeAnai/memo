{
 "cells": [
  {
   "cell_type": "markdown",
   "metadata": {},
   "source": [
    "# モデル評価（k-fold法）（練習用）"
   ]
  },
  {
   "cell_type": "code",
   "execution_count": 1,
   "metadata": {},
   "outputs": [],
   "source": [
    "# Breast cancer wisconsin dataset (classification).\n",
    "import pandas as pd\n",
    "from sklearn.datasets import load_breast_cancer\n",
    "\n",
    "dataset = load_breast_cancer()\n",
    "X = pd.DataFrame(dataset.data, columns=dataset.feature_names)\n",
    "y = pd.Series(dataset.target, name='y')"
   ]
  },
  {
   "cell_type": "code",
   "execution_count": 2,
   "metadata": {},
   "outputs": [
    {
     "name": "stdout",
     "output_type": "stream",
     "text": [
      "(569, 30)\n",
      "(569,)\n"
     ]
    }
   ],
   "source": [
    "print(X.shape)\n",
    "print(y.shape)"
   ]
  },
  {
   "cell_type": "markdown",
   "metadata": {},
   "source": [
    "holdoutのためのデータ分割はtrain_test_split関数が、kfoldの実行はcross_val_score関数が担います。<br>まずは比較のためholdoutによる評価を実行。"
   ]
  },
  {
   "cell_type": "code",
   "execution_count": 3,
   "metadata": {},
   "outputs": [
    {
     "name": "stdout",
     "output_type": "stream",
     "text": [
      "CV_Test:0.982456\n"
     ]
    }
   ],
   "source": [
    "from sklearn.model_selection import train_test_split\n",
    "from sklearn.preprocessing import StandardScaler\n",
    "from sklearn.linear_model import LogisticRegression\n",
    "from sklearn.metrics import accuracy_score\n",
    "from sklearn.pipeline import Pipeline\n",
    "\n",
    "# 比較のためholdoutの準備\n",
    "X_train,X_test,y_train,y_test=train_test_split(X,\n",
    "                                               y,\n",
    "                                               test_size=0.2,\n",
    "                                               random_state=1)\n",
    "# パイプラインのセット\n",
    "pipe_logistic = Pipeline([('scl',StandardScaler()),\n",
    "                          ('est',LogisticRegression(random_state=1))])\n",
    "# 学習&評価\n",
    "pipe_logistic.fit(X_train,y_train)       ## trainデータで学習\n",
    "print('CV_Test:%.6f'%accuracy_score(y_test,pipe_logistic.predict(X_test)))      ## testデータで評価"
   ]
  },
  {
   "cell_type": "code",
   "execution_count": 5,
   "metadata": {},
   "outputs": [
    {
     "name": "stdout",
     "output_type": "stream",
     "text": [
      "(455, 30)\n",
      "(455,)\n",
      "(114, 30)\n",
      "(114,)\n"
     ]
    }
   ],
   "source": [
    "print(X_train.shape)\n",
    "print(y_train.shape)\n",
    "print(X_test.shape)\n",
    "print(y_test.shape)"
   ]
  },
  {
   "cell_type": "code",
   "execution_count": 6,
   "metadata": {},
   "outputs": [],
   "source": [
    "## 結果”CV_Test:0.982456”は、testデータに対して"
   ]
  },
  {
   "cell_type": "code",
   "execution_count": null,
   "metadata": {},
   "outputs": [],
   "source": []
  },
  {
   "cell_type": "markdown",
   "metadata": {},
   "source": [
    "次に、k=10のk-fold法によって異なる10個のCV検証スコアを取得します。実装は非常にシンプルで以下1行でできます。データ分割の処理を明示的に書く必要がない点に留意ください。渡しているデータはXとyです。"
   ]
  },
  {
   "cell_type": "code",
   "execution_count": 4,
   "metadata": {},
   "outputs": [
    {
     "name": "stdout",
     "output_type": "stream",
     "text": [
      "[0.98275862 0.98275862 0.98245614 0.98245614 0.98245614 0.98245614\n",
      " 0.94736842 1.         1.         0.98214286]\n"
     ]
    },
    {
     "name": "stderr",
     "output_type": "stream",
     "text": [
      "C:\\Users\\yuki.shimada\\AppData\\Local\\Continuum\\anaconda3\\lib\\site-packages\\ipykernel_launcher.py:5: FutureWarning: Method .as_matrix will be removed in a future version. Use .values instead.\n",
      "  \"\"\"\n"
     ]
    }
   ],
   "source": [
    "from sklearn.model_selection import cross_val_score\n",
    "\n",
    "cv_results = cross_val_score(pipe_logistic,                  ## モデルインスタンス\n",
    "                             X,                              ## k-fold法を適用する全データ\n",
    "                             y.as_matrix().ravel(),          ## k-fold法を適用する全データ\n",
    "                             cv=10,                          ## 分割数（作成されるモデル数）\n",
    "                             scoring='accuracy')             ## 出力する評価指標\n",
    "print(cv_results)"
   ]
  },
  {
   "cell_type": "markdown",
   "metadata": {},
   "source": [
    "sklearn.model_selection.cross_val_score\n",
    "- http://scikit-learn.org/stable/modules/generated/sklearn.model_selection.cross_val_score.html\n",
    "- 注）k-fold法によってのスコアのみを確認できる関数"
   ]
  },
  {
   "cell_type": "code",
   "execution_count": 5,
   "metadata": {},
   "outputs": [
    {
     "name": "stdout",
     "output_type": "stream",
     "text": [
      "[CV]  ................................................................\n",
      "[CV] ....................... , score=0.9827586206896551, total=   0.0s\n",
      "[CV]  ................................................................\n",
      "[CV] ....................... , score=0.9827586206896551, total=   0.0s\n",
      "[CV]  ................................................................\n",
      "[CV] ....................... , score=0.9824561403508771, total=   0.0s\n",
      "[CV]  ................................................................\n",
      "[CV] ....................... , score=0.9824561403508771, total=   0.0s\n",
      "[CV]  ................................................................\n",
      "[CV] ....................... , score=0.9824561403508771, total=   0.0s\n",
      "[CV]  ................................................................\n",
      "[CV] ....................... , score=0.9824561403508771, total=   0.0s\n",
      "[CV]  ................................................................\n",
      "[CV] ....................... , score=0.9473684210526315, total=   0.0s\n",
      "[CV]  ................................................................\n",
      "[CV] ...................................... , score=1.0, total=   0.0s\n",
      "[CV]  ................................................................\n",
      "[CV] ...................................... , score=1.0, total=   0.0s\n",
      "[CV]  ................................................................\n",
      "[CV] ....................... , score=0.9821428571428571, total=   0.0s\n"
     ]
    },
    {
     "name": "stderr",
     "output_type": "stream",
     "text": [
      "C:\\Users\\yuki.shimada\\AppData\\Local\\Continuum\\anaconda3\\lib\\site-packages\\ipykernel_launcher.py:2: FutureWarning: Method .as_matrix will be removed in a future version. Use .values instead.\n",
      "  \n",
      "[Parallel(n_jobs=1)]: Done   1 out of   1 | elapsed:    0.0s remaining:    0.0s\n",
      "[Parallel(n_jobs=1)]: Done   2 out of   2 | elapsed:    0.0s remaining:    0.0s\n",
      "[Parallel(n_jobs=1)]: Done  10 out of  10 | elapsed:    0.0s finished\n"
     ]
    },
    {
     "data": {
      "text/plain": [
       "array([0.98275862, 0.98275862, 0.98245614, 0.98245614, 0.98245614,\n",
       "       0.98245614, 0.94736842, 1.        , 1.        , 0.98214286])"
      ]
     },
     "execution_count": 5,
     "metadata": {},
     "output_type": "execute_result"
    }
   ],
   "source": [
    "## verboseによって途中経過を出力してみる\n",
    "cross_val_score(pipe_logistic, X, y.as_matrix().ravel(), cv=10, scoring='accuracy', verbose=3)"
   ]
  },
  {
   "cell_type": "markdown",
   "metadata": {},
   "source": [
    "CV検証スコアの平均値は、例えば、以下のように取得できます。"
   ]
  },
  {
   "cell_type": "code",
   "execution_count": 6,
   "metadata": {},
   "outputs": [
    {
     "name": "stdout",
     "output_type": "stream",
     "text": [
      "0.9824853080978307 +- 0.013590418300527833\n"
     ]
    }
   ],
   "source": [
    "print(cv_results.mean(),'+-', cv_results.std())"
   ]
  },
  {
   "cell_type": "code",
   "execution_count": 7,
   "metadata": {
    "scrolled": true
   },
   "outputs": [
    {
     "data": {
      "text/html": [
       "<div>\n",
       "<style scoped>\n",
       "    .dataframe tbody tr th:only-of-type {\n",
       "        vertical-align: middle;\n",
       "    }\n",
       "\n",
       "    .dataframe tbody tr th {\n",
       "        vertical-align: top;\n",
       "    }\n",
       "\n",
       "    .dataframe thead th {\n",
       "        text-align: right;\n",
       "    }\n",
       "</style>\n",
       "<table border=\"1\" class=\"dataframe\">\n",
       "  <thead>\n",
       "    <tr style=\"text-align: right;\">\n",
       "      <th></th>\n",
       "      <th>0</th>\n",
       "    </tr>\n",
       "  </thead>\n",
       "  <tbody>\n",
       "    <tr>\n",
       "      <th>count</th>\n",
       "      <td>10.000000</td>\n",
       "    </tr>\n",
       "    <tr>\n",
       "      <th>mean</th>\n",
       "      <td>0.982485</td>\n",
       "    </tr>\n",
       "    <tr>\n",
       "      <th>std</th>\n",
       "      <td>0.014326</td>\n",
       "    </tr>\n",
       "    <tr>\n",
       "      <th>min</th>\n",
       "      <td>0.947368</td>\n",
       "    </tr>\n",
       "    <tr>\n",
       "      <th>25%</th>\n",
       "      <td>0.982456</td>\n",
       "    </tr>\n",
       "    <tr>\n",
       "      <th>50%</th>\n",
       "      <td>0.982456</td>\n",
       "    </tr>\n",
       "    <tr>\n",
       "      <th>75%</th>\n",
       "      <td>0.982759</td>\n",
       "    </tr>\n",
       "    <tr>\n",
       "      <th>max</th>\n",
       "      <td>1.000000</td>\n",
       "    </tr>\n",
       "  </tbody>\n",
       "</table>\n",
       "</div>"
      ],
      "text/plain": [
       "               0\n",
       "count  10.000000\n",
       "mean    0.982485\n",
       "std     0.014326\n",
       "min     0.947368\n",
       "25%     0.982456\n",
       "50%     0.982456\n",
       "75%     0.982759\n",
       "max     1.000000"
      ]
     },
     "execution_count": 7,
     "metadata": {},
     "output_type": "execute_result"
    }
   ],
   "source": [
    "## 要約統計量を出してみる\n",
    "pd.DataFrame(cv_results).describe()"
   ]
  },
  {
   "cell_type": "markdown",
   "metadata": {},
   "source": [
    "以上から、CV検証スコアの平均は0.98程度、標準偏差は0.014と小さいことがわかりました。実務では、CV検証スコアの平均値を評価すれば十分なケースが多いですが、保守的に評価する必要がある場合、例えば、平均値ー標準偏差の序列でベストモデルを評価するなどしましょう。"
   ]
  },
  {
   "cell_type": "code",
   "execution_count": 27,
   "metadata": {},
   "outputs": [],
   "source": [
    "## 複数のモデルや、そのハイパーパラメータの設定をk-fold法で試し、ベストなスコアのモデルとハイパーパラメータを採用する"
   ]
  },
  {
   "cell_type": "code",
   "execution_count": null,
   "metadata": {},
   "outputs": [],
   "source": []
  }
 ],
 "metadata": {
  "kernelspec": {
   "display_name": "Python 3",
   "language": "python",
   "name": "python3"
  },
  "language_info": {
   "codemirror_mode": {
    "name": "ipython",
    "version": 3
   },
   "file_extension": ".py",
   "mimetype": "text/x-python",
   "name": "python",
   "nbconvert_exporter": "python",
   "pygments_lexer": "ipython3",
   "version": "3.6.5"
  }
 },
 "nbformat": 4,
 "nbformat_minor": 2
}
