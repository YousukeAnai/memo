{
 "cells": [
  {
   "cell_type": "markdown",
   "metadata": {},
   "source": [
    "# 機械学習入門_AIプロジェクト演習"
   ]
  },
  {
   "cell_type": "markdown",
   "metadata": {},
   "source": [
    "## 前提（作業環境）"
   ]
  },
  {
   "cell_type": "markdown",
   "metadata": {},
   "source": [
    "データベースはPostgres10、機械学習環境はAnaconda Python3系にて事前の環境構築をお願いします。DB環境は使い慣れたものがあれば代替していただいても構いませんが、回答コード例は当該環境用のもののみの準備となります。\n",
    "- Python3系のAnaconda\n",
    "- Postgres10（pgAdmin4を使用）"
   ]
  },
  {
   "cell_type": "markdown",
   "metadata": {},
   "source": [
    "## 1. データの取り込みと件数確認"
   ]
  },
  {
   "cell_type": "markdown",
   "metadata": {},
   "source": [
    "<b>【演習1】</b><br>クライアントからe-commerceの購買取引データを受領し、優良顧客リテンションのための予測モデル構築のフィージビリティ検証を行うことになった。「input」フォルダ内の「ec_trans.csv」データを、作業用に準備したデータベースへテーブル名「raw_ec_trans」で取り込み、データ件数を確認せよ。ただし、クライアントはテーブル定義書を有していないとのことで、データ型は一旦全てvarchar(50)として取り込むものとする。カラム構成と名称はCSVファイルの1行目で確認できる。"
   ]
  },
  {
   "cell_type": "raw",
   "metadata": {},
   "source": [
    "--# make table to load raw data\n",
    "create table raw_ec_trans\n",
    "(\n",
    "\tInvoiceNo varchar(50),\n",
    "\tStockCode varchar(50),\n",
    "\tDescription varchar(50),\n",
    "\tQuantity varchar(50),\n",
    "\tInvoiceDate varchar(50),\n",
    "\tUnitPrice varchar(50),\n",
    "\tCustomerID varchar(50),\n",
    "\tCountry varchar(50)\n",
    ");\n",
    "\n",
    "--# import raw data\n",
    "copy raw_ec_trans from 'C:\\work\\data\\ec_trans.csv' with CSV HEADER QUOTE '\"';\n",
    "\n",
    "--# check count\n",
    "select count(*) from raw_ec_trans\n",
    "--541909"
   ]
  },
  {
   "cell_type": "markdown",
   "metadata": {},
   "source": [
    "## 2. データ確認とクレンジング"
   ]
  },
  {
   "cell_type": "markdown",
   "metadata": {},
   "source": [
    "<b>【演習2.1】</b><br>データの中身を確認しクライアントに問い合わせたところ、以下の回答を得た。\n",
    "- StockCodeの小文字と大文字の違いに意味はない\n",
    "- StockCode5桁目までで1つの商品類型を表し6桁目以降は色やサイズ違いを表している\n",
    "- InvoiceDateの日付は\"MM/DD/YYYY\"で並んでいる"
   ]
  },
  {
   "cell_type": "markdown",
   "metadata": {},
   "source": [
    "上記を踏まえ、以下を満たす「v_ec_trans」という名称のViewを作成せよ。\n",
    "- 生データのStockCodeをStockCode_orgと名称変更する\n",
    "- 生データのStockCodeを全て大文字に変換したカラムを作成し、名称をStockCodeとする\n",
    "- 大文字変換されたStockCodeの左5桁を、StockCode2というカラムとする\n",
    "- カラムQuantityとUnitPriceのデータ型を、float型に変換する\n",
    "- Invoiceのデータをタイムスタンプに変換する"
   ]
  },
  {
   "cell_type": "raw",
   "metadata": {},
   "source": [
    "--# change data type\n",
    "drop view if exists v_ec_trans;\n",
    "create view v_ec_trans as\n",
    "select\n",
    "\tInvoiceNo,\n",
    "\tStockCode as StockCode_org,\n",
    "\tUPPER(StockCode) as StockCode,\n",
    "\tLEFT(UPPER(StockCode),5) as StockCode2,\n",
    "\tDescription,\n",
    "\tcast(Quantity as float) as Quantity,\n",
    "\tto_timestamp(InvoiceDate, 'MM/DD/YYYY HH24:MI') as InvoiceDate,\n",
    "\tcast(UnitPrice as float) as UnitPrice,\n",
    "\tCustomerID,\n",
    "\tCountry\n",
    "from\n",
    "\traw_ec_trans\n",
    ";\n",
    "\n",
    "--# check transformation\n",
    "select * from v_ec_trans;"
   ]
  },
  {
   "cell_type": "markdown",
   "metadata": {},
   "source": [
    "<b>【演習2.2】</b><br>受領したデータの取引期間（InvocieDateの最小値と最大値）を確認せよ。"
   ]
  },
  {
   "cell_type": "raw",
   "metadata": {},
   "source": [
    "select min(InvoiceDate), max(InvoiceDate)\n",
    "from v_ec_trans;\n",
    "--\"2010-12-01 08:26:00+09\", \"2011-12-09 12:50:00+09\""
   ]
  },
  {
   "cell_type": "markdown",
   "metadata": {},
   "source": [
    "<b>【演習2.3】</b><br>CustomerIDが非NULLのデータを対象に、データ件数、CustomerIDのユニーク件数、InvoiceNoのユニーク件数を確認せよ。"
   ]
  },
  {
   "cell_type": "raw",
   "metadata": {},
   "source": [
    "select count(*), count(distinct CustomerID), count(distinct InvoiceNo)\n",
    "from v_ec_trans\n",
    "where CustomerID is not null;\n",
    "/*\n",
    "COUNT: \"406829\"\n",
    "Unique CustomerID: \"4372\"\n",
    "Unique InvoiceNo: \"22190\"\n",
    "*/"
   ]
  },
  {
   "cell_type": "markdown",
   "metadata": {},
   "source": [
    "<b>【演習2.4】</b><br>CustomerIDが非NULLのデータを対象に、購買数量（Quantity）と単価（UnitPrice）の最小値・平均値・最大値を確認せよ。"
   ]
  },
  {
   "cell_type": "raw",
   "metadata": {},
   "source": [
    "select\n",
    "\t--QUANTITY\n",
    "\tmin(quantity) as min_quantity,\n",
    "\tavg(quantity) as avg_quantity,\n",
    "\tmax(quantity) as max_quantity,\n",
    "\t--UNIT PRICE\n",
    "\tmin(unitprice) as min_unitprice,\n",
    "\tavg(unitprice) as avg_unitprice,\n",
    "\tmax(unitprice) as max_unitprice\n",
    "from\n",
    "\tv_ec_trans\n",
    "where\n",
    "\tCustomerID is not null\n",
    "/*\n",
    "\tmin_quantity: \"-80995\"\n",
    "\tavg_quantity: \"12.0613033977421\"\n",
    "\tmax_quantity: \"80995\"\n",
    "\n",
    "\tmin_unitprice: \"0\"\n",
    "\tavg_unitprice: \"3.46047101853791\"\n",
    "\tmax_unitprice: \"38970\"\n",
    "*/"
   ]
  },
  {
   "cell_type": "markdown",
   "metadata": {},
   "source": [
    "<b>【演習2.5】</b><br>購買数量（Quantity）が負となるケースは注文のキャンセルで生じることがわかった。キャンセルはInvocieNoが\"C\"で始まるという。CustomerIDが非Nullのデータを対象に、以下2つのケースについて数値確認せよ。\n",
    "1. InvoiceNoが\"C\"始まりのときの、Qunatityの最小値・平均値・最大値\n",
    "1. InvoiceNoが\"C\"始まりでないときの、Qunatityの最小値・平均値・最大値"
   ]
  },
  {
   "cell_type": "raw",
   "metadata": {},
   "source": [
    "--# InvoiceNoが\"C\"始まりのとき\n",
    "select\n",
    "\tmin(quantity) as min_quantity,\n",
    "\tavg(quantity) as avg_quantity,\n",
    "\tmax(quantity) as max_quantity\n",
    "from\n",
    "\tv_ec_trans\n",
    "where\n",
    "\tInvoiceNo like 'C%'\n",
    "and CustomerID is not null\n",
    "/*\n",
    "\tmin_quantity: \"-80995\"\n",
    "\tavg_quantity: \"-30.8599663110612\"\n",
    "\tmax_quantity: \"-1\"\n",
    "*/"
   ]
  },
  {
   "cell_type": "raw",
   "metadata": {},
   "source": [
    "--# InvoiceNoが\"C\"始まりでないとき\n",
    "select\n",
    "\tmin(quantity) as min_quantity,\n",
    "\tavg(quantity) as avg_quantity,\n",
    "\tmax(quantity) as max_quantity\n",
    "from\n",
    "\tv_ec_trans\n",
    "where\n",
    "\tInvoiceNo not like 'C%'\n",
    "and CustomerID is not null\n",
    "/*\n",
    "\tmin_quantity: \"1\"\n",
    "\tavg_quantity: \"13.0218232627336\"\n",
    "\tmax_quantity: \"80995\"\n",
    "*/"
   ]
  },
  {
   "cell_type": "markdown",
   "metadata": {},
   "source": [
    "<b>【演習2.6】</b><br>CustomerIDが非NULLのデータを対象に、単価（UnitPrice）がゼロのデータ件数を確認せよ。"
   ]
  },
  {
   "cell_type": "raw",
   "metadata": {},
   "source": [
    "select count(*) as cnt\n",
    "from v_ec_trans\n",
    "where unitprice = 0.0\n",
    "and CustomerID is not null\n",
    "--40"
   ]
  },
  {
   "cell_type": "markdown",
   "metadata": {},
   "source": [
    "<b>【演習2.7】</b><br>ここまでの結果を踏まえ、「AIジョブカレ_機械学習入門_初回報告書サンプル_演習用.pptx」の「1ページ」を完成させよ。"
   ]
  },
  {
   "cell_type": "markdown",
   "metadata": {},
   "source": [
    "## 3. 予測用データマート設計に関する集計"
   ]
  },
  {
   "cell_type": "markdown",
   "metadata": {},
   "source": [
    "<b>【演習3.1】</b><br>クライアントによると現在、半年間における購買回数(InvoiceNoのユニーク数)が4回以上か未満かで、顧客ランクを管理しているという。2011年1月から6月末までの半年間のデータを対象に、購買回数4回以上の顧客層と4回未満の顧客層それぞれについて、顧客数、購買金額(Quantity*Unitprice)、購買回数を集計せよ。<br><br>ただし集計はCustomerIDが非NULL、UnitPriceが正のデータを対象に行うこと。また集計結果は、作業用エクセル「優良」シートの黄色セル部分に反映させ後、「AIジョブカレ_機械学習入門_初回報告書サンプル_演習用.pptx」の「2ページ」を完成せよ。"
   ]
  },
  {
   "cell_type": "raw",
   "metadata": {},
   "source": [
    "--# 優良層\n",
    "select\n",
    "\tcount(*) as ids,\n",
    "\tsum(purchase_amount) as purchase_amount,\n",
    "\tsum(trips) as trips\n",
    "from\n",
    "\t(\n",
    "\t\tselect\n",
    "            CustomerID\n",
    "            sum(Quantity*UnitPrice) as purchase_amount,\n",
    "            count(distinct InvoiceNo) as trips\n",
    "\t\tfrom\n",
    "            v_ec_trans\n",
    "\t\twhere\n",
    "            CustomerID is not null\n",
    "        and UnitPrice > 0\n",
    "        and InvoiceDate >= cast('2011-01-01' as date)\n",
    "        and InvoiceDate < cast('2011-07-01' as date)\n",
    "\t\tgroup by\n",
    "            CustomerID\n",
    "\t\thaving\n",
    "            count(distinct InvoiceNo) >= 4\n",
    "\t) t\n",
    ";\n",
    "--\"717\"\t\"2155242.75\" \"5716\""
   ]
  },
  {
   "cell_type": "raw",
   "metadata": {},
   "source": [
    "--# 非優良層\n",
    "select\n",
    "\tcount(*) as ids,\n",
    "\tsum(purchase_amount) as purchase_amount,\n",
    "\tsum(trips) as trips\n",
    "from\n",
    "\t(\n",
    "\t\tselect\n",
    "            CustomerID\n",
    "            sum(Quantity*UnitPrice) as purchase_amount,\n",
    "            count(distinct InvoiceNo) as trips\n",
    "\t\tfrom\n",
    "            v_ec_trans\n",
    "\t\twhere\n",
    "            CustomerID is not null\n",
    "        and UnitPrice > 0\n",
    "        and InvoiceDate >= cast('2011-01-01' as date)\n",
    "        and InvoiceDate < cast('2011-07-01' as date)\n",
    "\t\tgroup by\n",
    "            CustomerID\n",
    "\t\thaving\n",
    "            count(distinct InvoiceNo) < 4\n",
    "\t) t\n",
    ";\n",
    "--\"2035\" \"1018654.481\" \"3280\""
   ]
  },
  {
   "cell_type": "markdown",
   "metadata": {},
   "source": [
    "<b>【演習3.2】</b><br>2010年12月1日～2011年5月末日の6か月間における優良顧客（購買回数4回以上の顧客）のうち、2011年6月1日～2011年8月末日までの3ヵ月間に購買が1回以上ある人数（リピート人数）を集計せよ。同様に、全顧客（購買回数1回以上）についてもリピート人数を集計せよ。<br><br>ただし集計はCustomerIDが非NULL、UnitPriceが正のデータを対象に行うこと。また集計結果は、作業用エクセルの「トレンド」シートの黄色セル部分に反映させのち、「AIジョブカレ_機械学習入門_初回報告書サンプル_演習用.pptx」の「3ページ」を完成せよ。"
   ]
  },
  {
   "cell_type": "raw",
   "metadata": {},
   "source": [
    "--# 基準日2011年6月の場合\n",
    "do $$\n",
    "declare v_cdate date = cast('2011-06-01' as date);\n",
    "declare v_date_from date = v_cdate - INTERVAL '6 Month';\n",
    "declare v_date_to date = v_cdate + INTERVAL '3 Month';\n",
    "declare minInvoice int = 4;  --#{4:優良, 1:全体}\n",
    "\n",
    "begin\n",
    "\n",
    "\tdrop table if exists w_ids;\n",
    "\tcreate table w_ids as\n",
    "\tselect CustomerID\n",
    "\tfrom v_ec_trans\n",
    "\twhere CustomerID is not null and UnitPrice>0 and InvoiceDate >= v_date_from and InvoiceDate < v_cdate\n",
    "\tgroup by CustomerID\n",
    "\thaving count(distinct InvoiceNo) >= minInvoice\n",
    "\t;\n",
    "\n",
    "    drop table if exists w_ids_kept;\n",
    "\tcreate table w_ids_kept as\n",
    "\tselect count(distinct CustomerID)\n",
    "\tfrom v_ec_trans\n",
    "\twhere CustomerID in (select CustomerID from w_ids) and UnitPrice>0\n",
    "        and InvoiceDate >= v_cdate and InvoiceDate < v_date_to\n",
    "\t;\n",
    "end $$;\n",
    "\n",
    "select count(*) from w_ids\n",
    "union all select * from w_ids_kept\n",
    ";"
   ]
  },
  {
   "cell_type": "markdown",
   "metadata": {},
   "source": [
    "<b>【演習3.3】</b><br>StockCode2別の購買回数を集計し降順に表示し、作業用エクセルのシート「カテゴリ別」に結果を貼り付け、上位カテゴリを確認せよ。集計期間は2010年12月1日～2011年11月末日の1年間とする。ただし集計はCustomerIDが非NULL、UnitPriceが正のレコードを対象とすること。"
   ]
  },
  {
   "cell_type": "raw",
   "metadata": {},
   "source": [
    "select StockCode2, count(distinct InvoiceNo) as trips\n",
    "from v_ec_trans\n",
    "where CustomerID is not null and UnitPrice > 0 \n",
    "    and InvoiceDate >= cast('2010-12-01' as date) and InvoiceDate < cast('2011-12-01' as date)\n",
    "group by StockCode2\n",
    "order by trips desc\n",
    ";"
   ]
  },
  {
   "cell_type": "markdown",
   "metadata": {},
   "source": [
    "## 4.データマートの作成と予測モデルの構築評価"
   ]
  },
  {
   "cell_type": "markdown",
   "metadata": {},
   "source": [
    "<b>【演習4.1】</b><br>以下を確認し、モデル用データマート作成用のクエリを完成させ、CSVファイルで出力せよ。\n",
    "- 作業用エクセルのシート「設計」で、各データマートの特徴量計算期間、正解ラベルの定義期間を確認せよ。\n",
    "- 作業用エクセルのシート「特徴量」で、特徴量定義を確認せよ。\n",
    "- CSVの最初の列をCustomerID、最終の列を正解ラベルとして出力せよ。"
   ]
  },
  {
   "cell_type": "raw",
   "metadata": {},
   "source": [
    "--# モデル用データマート作成\n",
    "do $$\n",
    "declare v_cdate date = cast('2011-07-01' as date);\n",
    "declare v_date_from date = v_cdate - INTERVAL '6 Month';\n",
    "declare v_date_to date = v_cdate + INTERVAL '3 Month';\n",
    "declare minInvoice int = 4;\n",
    "\n",
    "begin\n",
    "\t--# extract modeling ids\n",
    "\tdrop table if exists w_ids;\n",
    "\tcreate table w_ids as\n",
    "\tselect CustomerID\n",
    "\tfrom v_ec_trans\n",
    "\twhere CustomerID is not null and UnitPrice > 0 and InvoiceDate >= v_date_from and InvoiceDate < v_cdate\n",
    "\tgroup by CustomerID\n",
    "\thaving count(distinct InvoiceNo) >= minInvoice\n",
    "\t;\n",
    "\n",
    "    --# extract ids for the labels\n",
    "\tdrop table if exists w_labels;\n",
    "\tcreate table w_labels as\n",
    "\tselect\n",
    "\t\ta.CustomerID,\n",
    "\t\tcase when b.CustomerID is null then 1 else 0 end as TGT\n",
    "\tfrom\n",
    "\t\tw_ids a\n",
    "\tleft outer join\n",
    "\t(\n",
    "\t\tselect distinct CustomerID\n",
    "\t\tfrom v_ec_trans\n",
    "\t\twhere CustomerID is not null and UnitPrice > 0 and InvoiceDate >= v_cdate and InvoiceDate < v_date_to\n",
    "\t) b on a.CustomerID = b.CustomerID\n",
    "\t;\n",
    "\n",
    "    --# make features\n",
    "\tdrop table if exists w_features;\n",
    "\tcreate table w_features as\n",
    "\tselect\n",
    "\t\tCustomerID,\n",
    "\t\tcount(distinct InvoiceNo)\t\t\t\t\t\t\t\tas trips,\n",
    "\t\tsum(quantity * unitprice)\t\t\t\t\t\t\t\tas amount_of_yen,\n",
    "\t\tsum(quantity)\t\t\t\t\t\t\t\t\t\t\tas quantity,\n",
    "\t\tdate_part('day',max(InvoiceDate) - min(InvoiceDate))\tas purchase_period,\n",
    "        date_part('day',v_cdate - max(InvoiceDate))\t\t\t    as purchase_recency,\n",
    "\t\tsum(quantity * unitprice) / count(distinct InvoiceNo)\tas purchase_amount_per_trips,\n",
    "\t\t1.0*date_part('day', max(InvoiceDate) - min(InvoiceDate)) / count(distinct InvoiceNo) as regularity,\n",
    "\t\tcount(distinct case when StockCode2 like 'C%' then InvoiceNo else null end)\tas trips_cancellation,\n",
    "\t\tcount(distinct case when StockCode2='85099' then InvoiceNo else null end)\tas trips_cat85099,\n",
    "\t\tcount(distinct case when StockCode2='85123' then InvoiceNo else null end)\tas trips_cat85123,\n",
    "\t\tcount(distinct case when StockCode2='22423' then InvoiceNo else null end)\tas trips_cat22423,\n",
    "\t\tcount(distinct case when StockCode2='47566' then InvoiceNo else null end)\tas trips_cat47566,\n",
    "\t\tcount(distinct case when StockCode2='84879' then InvoiceNo else null end)\tas trips_cat84879,\n",
    "\t\tcount(distinct case when StockCode2='20725' then InvoiceNo else null end)\tas trips_cat20725,\n",
    "\t\tcount(distinct case when StockCode2='22720' then InvoiceNo else null end)\tas trips_cat22720,\n",
    "\t\tcount(distinct case when StockCode2='POST' then InvoiceNo else null end)\tas trips_catPOST,\n",
    "\t\tcount(distinct case when StockCode2='23203' then InvoiceNo else null end)\tas trips_cat23203,\n",
    "\t\tcount(distinct case when StockCode2='22383' then InvoiceNo else null end)\tas trips_cat22383,\n",
    "\t\tmode() within group (order by StockCode2 desc) as mode_category\n",
    "\tfrom\n",
    "\t\tv_ec_trans\n",
    "\twhere\n",
    "\t\tCustomerID is not null\n",
    "    and UnitPrice > 0\n",
    "    and InvoiceDate >= v_date_from\n",
    "    and InvoiceDate < v_cdate\n",
    "\tgroup by\n",
    "\t\tCustomerID\n",
    "\t;\n",
    "\t--make datamart\n",
    "\tdrop table if exists dm_for_model;\n",
    "\tcreate table dm_for_model as\n",
    "\tselect b.*, a.TGT\n",
    "\tfrom w_labels a\n",
    "\tleft outer join w_features b on a.CustomerID = b.CustomerID\n",
    "\t;\n",
    "\n",
    "end $$;\n",
    "\n",
    "--to CSV for Model\n",
    "copy dm_for_model to 'C:\\work\\data\\dm_for_model.csv' WITH CSV HEADER DELIMITER ',';"
   ]
  },
  {
   "cell_type": "raw",
   "metadata": {},
   "source": [
    "do $$\n",
    "declare v_cdate date = cast('2011-10-01' as date);\n",
    "declare v_date_from date = v_cdate - INTERVAL '6 Month';\n",
    "declare v_date_to date = v_cdate + INTERVAL '3 Month';\n",
    "declare minInvoice int = 4;\n",
    "\n",
    "begin\n",
    "\t-- extract modelling ids\n",
    "\tdrop table if exists w_ids;\n",
    "\tcreate table w_ids as\n",
    "\tselect CustomerID\n",
    "\tfrom v_ec_trans\n",
    "\twhere CustomerID is not null and UnitPrice > 0 and InvoiceDate >= v_date_from and InvoiceDate < v_cdate\n",
    "\tgroup by CustomerID\n",
    "\thaving count(distinct InvoiceNo) >= minInvoice\n",
    "\t;\n",
    "\t-- extract ids for the labels\n",
    "\tdrop table if exists w_labels;\n",
    "\tcreate table w_labels as\n",
    "\tselect\n",
    "\t\ta.CustomerID,\n",
    "\t\tcase when b.CustomerID is null then 1 else 0 end as TGT\n",
    "\tfrom\n",
    "\t\tw_ids a\n",
    "\tleft outer join\n",
    "\t(\n",
    "\t\tselect distinct CustomerID\n",
    "\t\tfrom v_ec_trans\n",
    "\t\twhere CustomerID is not null and UnitPrice > 0 and InvoiceDate >= v_cdate and InvoiceDate < v_date_to\n",
    "\t) b on a.CustomerID = b.CustomerID\n",
    "\t;\n",
    "\t-- make features\n",
    "\tdrop table if exists w_features;\n",
    "\tcreate table w_features as\n",
    "\tselect\n",
    "\t\tCustomerID\t\t\t\t\t\t\t\t\t\t\t\tas CustomerID,\n",
    "\t\tcount(distinct InvoiceNo)\t\t\t\t\t\t\t\tas trips,\n",
    "\t\tsum(quantity * unitprice)\t\t\t\t\t\t\t\tas amount_of_yen,\n",
    "\t\tsum(quantity)\t\t\t\t\t\t\t\t\t\t\tas quantity,\n",
    "\t\tdate_part('day', max(InvoiceDate) - min(InvoiceDate))\tas purchase_period,\n",
    "\t\tdate_part('day', v_cdate - max(InvoiceDate))\t\t\tas purchase_recency,\n",
    "\t\tsum(quantity * unitprice) / count(distinct InvoiceNo)\tas purchase_amount_per_trips,\n",
    "\t\t1.0*date_part('day', max(InvoiceDate) - min(InvoiceDate)) / count(distinct InvoiceNo) as regularity,\n",
    "\t\tcount(distinct case when StockCode2 like 'C%' then InvoiceNo else null end)\tas trips_cancellation,\n",
    "\t\tcount(distinct case when StockCode2='85099' then InvoiceNo else null end)\tas trips_cat85099,\n",
    "\t\tcount(distinct case when StockCode2='85123' then InvoiceNo else null end)\tas trips_cat85123,\n",
    "\t\tcount(distinct case when StockCode2='22423' then InvoiceNo else null end)\tas trips_cat22423,\n",
    "\t\tcount(distinct case when StockCode2='47566' then InvoiceNo else null end)\tas trips_cat47566,\n",
    "\t\tcount(distinct case when StockCode2='84879' then InvoiceNo else null end)\tas trips_cat84879,\n",
    "\t\tcount(distinct case when StockCode2='20725' then InvoiceNo else null end)\tas trips_cat20725,\n",
    "\t\tcount(distinct case when StockCode2='22720' then InvoiceNo else null end)\tas trips_cat22720,\n",
    "\t\tcount(distinct case when StockCode2='POST' then InvoiceNo else null end)\tas trips_catPOST,\n",
    "\t\tcount(distinct case when StockCode2='23203' then InvoiceNo else null end)\tas trips_cat23203,\n",
    "\t\tcount(distinct case when StockCode2='22383' then InvoiceNo else null end)\tas trips_cat22383,\n",
    "\t\tmode() within group (order by StockCode2 desc) as mode_category\n",
    "\tfrom\n",
    "\t\tv_ec_trans\n",
    "\twhere\n",
    "\t\tCustomerID is not null\n",
    "    and UnitPrice > 0\n",
    "    and InvoiceDate >= v_date_from\n",
    "    and InvoiceDate < v_cdate\n",
    "\tgroup by\n",
    "\t\tCustomerID\n",
    "\t;\n",
    "\n",
    "\t--make datamart\n",
    "\tdrop table if exists dm_for_fwd;\n",
    "\tcreate table dm_for_fwd as\n",
    "\tselect b.*, a.TGT\n",
    "\tfrom w_labels a\n",
    "\tleft outer join w_features b on a.CustomerID = b.CustomerID\n",
    "\t;\n",
    "\n",
    "end $$;\n",
    "\n",
    "--to CSV for Test\n",
    "copy dm_for_fwd to 'C:\\work\\data\\dm_for_fwd.csv' WITH CSV HEADER DELIMITER ',';"
   ]
  },
  {
   "cell_type": "markdown",
   "metadata": {},
   "source": [
    "<b>【演習4.2】</b><br>フォルダ「\\work\\python」内にある「classifier.py」を完成させよ（対応箇所は計8箇所あります。\"[-------]\"の箇所を変更して下さい）。またK-Fold法によるモデル評価結果を、作業用ファイルのシート「モデル管理」に記入し、「AIジョブカレ_機械学習入門_初回報告書サンプル_演習用.pptx」の「8ページ」を完成せよ。"
   ]
  },
  {
   "cell_type": "markdown",
   "metadata": {},
   "source": [
    "<b>【演習4.3】</b><br>【演習4.2】で評価したモデルでパフォーマンスの高かったモデルの、変数の重要度が出力されたCSV結果を、「AIジョブカレ_機械学習入門_初回報告書サンプル_演習用.pptx」の「9ページ」に反映させ完成せよ。"
   ]
  },
  {
   "cell_type": "markdown",
   "metadata": {},
   "source": [
    "## 5. フォーワード検証"
   ]
  },
  {
   "cell_type": "markdown",
   "metadata": {
    "collapsed": true
   },
   "source": [
    "<b>【演習5】</b><br>演習4.2でパフォーマンスの高かったモデルによって出力された予測スコアデータ(「_with_pred」で終わるCSVファイル)をDBに取り込み、スコアを降順に10分割し、当該ランクごとに以下を出力するスクリプトを完成させよ。\n",
    "- スコアランク\n",
    "- 予測スコアの最小値\n",
    "- 予測スコアの平均値\n",
    "- 予測スコアの最大値\n",
    "- レコード数[A]\n",
    "- ターゲット（正例）数[B]\n",
    "- ターゲット（正例）含有率（[B]/[A])"
   ]
  },
  {
   "cell_type": "markdown",
   "metadata": {},
   "source": [
    "集計結果は、作業用エクセルのシート「FWD検証」に張り付け、「AIジョブカレ_機械学習入門_初回報告書サンプル_演習用.pptx」の「11ページ」を完成させよ。"
   ]
  },
  {
   "cell_type": "raw",
   "metadata": {},
   "source": [
    "--# import raw data\n",
    "drop table if exists w_score;\n",
    "create table w_score(CustomerID varchar(50), Score float);\n",
    "copy w_score from 'C:\\work\\data\\GBC_001_dm_for_fwd_with_pred.csv' with CSV HEADER QUOTE '\"';\n",
    "\n",
    "--# check precision by decil\n",
    "select\n",
    "\tdecil_rank,\n",
    "\tmin(score) as min_score,\n",
    "\tavg(score) as avg_score,\n",
    "\tmax(score) as max_score,\n",
    "\tcount(*) as ids,\n",
    "\tsum(TGT) as TGT,\n",
    "\t1.0*sum(TGT) / count(*) as precision\n",
    "from\n",
    "(\n",
    "\tselect\n",
    "\t\ta.CustomerID,\n",
    "\t\tb.TGT,\n",
    "\t\tscore,\n",
    "\t\trank() over(order by score desc) / count(*) over() as percentile,\n",
    "\t\tceil(10 * rank() over(order by score desc) / count(*) over()) as decil_rank\n",
    "\tfrom\n",
    "\t\tw_score a\n",
    "\tinner join\n",
    "\t\tdm_for_fwd b\n",
    "\ton\ta.CustomerID = b.CustomerID\n",
    ") t\n",
    "group by\n",
    "\tdecil_rank\n",
    "order by\n",
    "\tdecil_rank\n",
    ";"
   ]
  },
  {
   "cell_type": "markdown",
   "metadata": {},
   "source": [
    "## 6. スコア上位者プロファイル（クラスタリング学習後に実施）"
   ]
  },
  {
   "cell_type": "markdown",
   "metadata": {},
   "source": [
    "<b>【演習6】</b><br>クライアントからスコアランク上位20％相当の顧客の特徴を知りたいと要望があった。上位20%とその他顧客層の違い、及び上位20%内部の購買パターン分析を通し、当該顧客の特徴を示した資料を作成せよ。"
   ]
  },
  {
   "cell_type": "raw",
   "metadata": {},
   "source": [
    "--# make dm for top scorers cluster\n",
    "drop table if exists dm_for_cluster;\n",
    "create table dm_for_cluster as\n",
    "select\n",
    "\tCustomerId,\n",
    "\ttrips,\n",
    "\tamount_of_yen,\n",
    "\tregularity\n",
    "from\n",
    "(\n",
    "\tselect\n",
    "\t\tb.*,\n",
    "\t\tceil(10 * rank() over(order by a.score desc) / count(*) over()) as decil_rank\n",
    "\tfrom\n",
    "\t\tw_score a\n",
    "\tinner join\n",
    "\t\tdm_for_fwd b\n",
    "\ton\ta.CustomerID = b.CustomerID\n",
    ") t\n",
    "where\n",
    "\tdecil_rank >=0\n",
    "and decil_rank < 2\n",
    ";\n",
    "\n",
    "copy dm_for_cluster to 'C:\\work\\data\\dm_for_cluster.csv' WITH CSV HEADER DELIMITER ',';"
   ]
  },
  {
   "cell_type": "raw",
   "metadata": {},
   "source": [
    "--# (1/2)import raw data\n",
    "drop table if exists w_score;\n",
    "create table w_score(CustomerID varchar(50), Score float);\n",
    "copy w_score from 'C:\\work\\data\\GBC_001_dm_for_fwd_with_pred.csv' with CSV HEADER QUOTE '\"';\n",
    "\n",
    "--# (2/2)import raw data\n",
    "drop table if exists w_cluster;\n",
    "create table w_cluster(CustomerID varchar(50), cluster int);\n",
    "copy w_cluster from 'C:\\work\\data\\dm_for_cluster_with_class.csv' with CSV HEADER QUOTE '\"';\n",
    "\n",
    "--# main proc(1)\n",
    "select\n",
    "\tcluster,\n",
    "\tcount(*)\t\t\t\t\t\tas ids,\n",
    "\tsum(TGT)\t\t\t\t\t\tas TGT,\n",
    "\t1.0 * sum(TGT) / count(*)\t\tas TGT_ratio,\n",
    "\tavg(trips)\t\t\t\t\t\tas avg_trips,\n",
    "\tsum(amount_of_yen) / sum(trips)\tas avg_amount_per_trips,\n",
    "\tavg(amount_of_yen)\t\t\t\tas avg_amount_of_yen,\n",
    "\tavg(regularity)\t\t\t\t\tas avg_regularity,\n",
    "\tmin(score)\t\t\t\t\t\tas min_score,\n",
    "\tavg(score)\t\t\t\t\t\tas avg_score,\n",
    "\tmax(score)\t\t\t\t\t\tas max_score\n",
    "from\n",
    "(\n",
    "\tselect a.*, coalesce(b.cluster,99) as cluster, c.score\n",
    "\tfrom dm_for_fwd a\n",
    "\tleft outer join w_cluster b on a.CustomerID = b.CustomerID\n",
    "\tleft outer join w_score c on a.CustomerID = c.CustomerID\n",
    ") t\n",
    "group by cluster\n",
    "order by cluster\n",
    ";\n",
    "\n",
    "--main proc(2)\n",
    "select\n",
    "\tcase\n",
    "\t\twhen cluster <> 99 then '01_20%'\n",
    "\t\telse '02_not_20%'\n",
    "\tend as kbn,\n",
    "\tcount(*)\t\t\t\t\t\tas ids,\n",
    "\tsum(TGT)\t\t\t\t\t\tas TGT,\n",
    "\t1.0 * sum(TGT) / count(*)\t\tas TGT_ratio,\n",
    "\tavg(trips)\t\t\t\t\t\tas avg_trips,\n",
    "\tsum(amount_of_yen) / sum(trips)\tas avg_amount_per_trips,\n",
    "\tavg(amount_of_yen)\t\t\t\tas avg_amount_of_yen,\n",
    "\tavg(regularity)\t\t\t\t\tas avg_regularity,\n",
    "\tmin(score)\t\t\t\t\t\tas min_score,\n",
    "\tavg(score)\t\t\t\t\t\tas avg_score,\n",
    "\tmax(score)\t\t\t\t\t\tas max_score\n",
    "from\n",
    "(\n",
    "\tselect a.*, coalesce(b.cluster,99) as cluster, c.score\n",
    "\tfrom dm_for_fwd a\n",
    "\tleft outer join w_cluster b on a.CustomerID = b.CustomerID\n",
    "\tleft outer join w_score c on a.CustomerID = c.CustomerID\n",
    ") t\n",
    "group by\n",
    "\tcase\n",
    "\t\twhen cluster <> 99 then '01_20%'\n",
    "\t\telse '02_not_20%'\n",
    "\tend\n",
    "order by\n",
    "\tcase\n",
    "\t\twhen cluster <> 99 then '01_20%'\n",
    "\t\telse '02_not_20%'\n",
    "\tend\n",
    ";"
   ]
  }
 ],
 "metadata": {
  "kernelspec": {
   "display_name": "Python 3",
   "language": "python",
   "name": "python3"
  },
  "language_info": {
   "codemirror_mode": {
    "name": "ipython",
    "version": 3
   },
   "file_extension": ".py",
   "mimetype": "text/x-python",
   "name": "python",
   "nbconvert_exporter": "python",
   "pygments_lexer": "ipython3",
   "version": "3.6.5"
  }
 },
 "nbformat": 4,
 "nbformat_minor": 2
}
