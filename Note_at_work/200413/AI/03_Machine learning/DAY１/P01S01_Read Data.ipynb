{
 "cells": [
  {
   "cell_type": "markdown",
   "metadata": {},
   "source": [
    "# Read sample data"
   ]
  },
  {
   "cell_type": "markdown",
   "metadata": {},
   "source": [
    "本講座で用いるサンプルデータの読み込みをまとめました。<br>コードを順に実行し結果を確認しましょう。"
   ]
  },
  {
   "cell_type": "code",
   "execution_count": null,
   "metadata": {},
   "outputs": [],
   "source": [
    "# Boston house-prices datase for Regression(回帰)\n",
    "import pandas as pd\n",
    "from sklearn.datasets import load_boston\n",
    "from IPython.core.display import display\n",
    "\n",
    "dataset = load_boston()\n",
    "\n",
    "# set dataframe\n",
    "X = pd.DataFrame(dataset.data, columns=dataset.feature_names)\n",
    "y = pd.Series(dataset.target, name='MEDV')\n",
    "# check the shape\n",
    "print('----------------------------------------')\n",
    "print('X shape: (%i,%i)' %X.shape)\n",
    "print('-----------------------------------------')\n",
    "print(y.describe())\n",
    "display(X.join(y).head(5))"
   ]
  },
  {
   "cell_type": "code",
   "execution_count": null,
   "metadata": {},
   "outputs": [],
   "source": [
    "print(dataset.DESCR)"
   ]
  },
  {
   "cell_type": "code",
   "execution_count": null,
   "metadata": {},
   "outputs": [],
   "source": [
    "# big mart sales amount for Regression\n",
    "# https://datahack.analyticsvidhya.com/contest/practice-problem-big-mart-sales-iii/\n",
    "import pandas as pd\n",
    "import numpy as np\n",
    "df = pd.read_csv('./data/av_big_mart_sales_UWu5bXk.csv',\n",
    "                 header=0)  # headerなしの場合はNone\n",
    "X = df.iloc[:,:-1]  # 全行対象,最終カラム以外をXとする\n",
    "y = df.iloc[:,-1] # 全行対象,最終カラムをyとする\n",
    "\n",
    "# check the shape\n",
    "print('----------------------------------------')\n",
    "print('X shape: (%i,%i)' %X.shape)\n",
    "print('----------------------------------------')\n",
    "print(y.describe())\n",
    "# 目的変数に欠損が含まれているとアルゴリズムが学習できないためチェック\n",
    "print('----------------------------------------')\n",
    "print('Check null count of target variable: %i' % y.isnull().sum())\n",
    "print('----------------------------------------')\n",
    "display(X.join(y).head(10))"
   ]
  },
  {
   "cell_type": "code",
   "execution_count": null,
   "metadata": {},
   "outputs": [],
   "source": [
    "# Iris dataset for Classification\n",
    "# Classic and very easy multi-class classification dataset\n",
    "import pandas as pd\n",
    "from sklearn.datasets import load_iris\n",
    "dataset = load_iris()\n",
    "\n",
    "# Set dataframe\n",
    "X = pd.DataFrame(dataset.data,\n",
    "                 columns=dataset.feature_names)\n",
    "y = pd.Series(dataset.target, name='y')\n",
    "\n",
    "# check the shape\n",
    "print('-----------------------------------')\n",
    "print('X shape: (%i,%i)' %X.shape)\n",
    "print('-----------------------------------')\n",
    "print(y.value_counts())\n",
    "display(X.join(y).head())\n",
    "# print(dataset.DESCR)"
   ]
  },
  {
   "cell_type": "code",
   "execution_count": null,
   "metadata": {},
   "outputs": [],
   "source": [
    "# Breast cancer wisconsin dataset for Classification\n",
    "import pandas as pd\n",
    "from sklearn.datasets import load_breast_cancer\n",
    "dataset = load_breast_cancer()\n",
    "\n",
    "# set dataframe\n",
    "X = pd.DataFrame(dataset.data,\n",
    "                 columns=dataset.feature_names)\n",
    "y = pd.Series(dataset.target, name='y')\n",
    "# check the shape\n",
    "print('---------------------------------------')\n",
    "print('X shape: (%i,%i)' %X.shape)\n",
    "print('---------------------------------------')\n",
    "print(y.value_counts())\n",
    "print('---------------------------------------')\n",
    "display(X.join(y).head())\n",
    "# print(dataset.DESCR)"
   ]
  },
  {
   "cell_type": "code",
   "execution_count": null,
   "metadata": {},
   "outputs": [],
   "source": [
    "# Loan screening data for Classification \n",
    "import pandas as pd\n",
    "df = pd.read_csv('./data/av_loan_u6lujuX_CVtuZ9i.csv',header=0)\n",
    "X = df.iloc[:, :-1]\n",
    "y = df.iloc[:, -1]\n",
    "\n",
    "# check the shape\n",
    "print('-----------------------------------------------')\n",
    "print('X shape: (%i,%i)' %X.shape)\n",
    "print('-----------------------------------------------')\n",
    "print(y.value_counts())\n",
    "print('-----------------------------------------------')\n",
    "print('Check null count : %i' % y.isnull().sum())\n",
    "print('-----------------------------------------------')\n",
    "\n",
    "# Converting stirng to number\n",
    "class_mapping = {'N':1, 'Y':0}\n",
    "y = y.map(class_mapping)\n",
    "# check the converted result\n",
    "print('check the result converted')\n",
    "print(y.value_counts())\n",
    "display(X.join(y).head())"
   ]
  }
 ],
 "metadata": {
  "kernelspec": {
   "display_name": "Python 3",
   "language": "python",
   "name": "python3"
  },
  "language_info": {
   "codemirror_mode": {
    "name": "ipython",
    "version": 3
   },
   "file_extension": ".py",
   "mimetype": "text/x-python",
   "name": "python",
   "nbconvert_exporter": "python",
   "pygments_lexer": "ipython3",
   "version": "3.5.3"
  }
 },
 "nbformat": 4,
 "nbformat_minor": 2
}
