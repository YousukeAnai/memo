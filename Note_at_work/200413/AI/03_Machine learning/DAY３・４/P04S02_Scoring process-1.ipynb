{
 "cells": [
  {
   "cell_type": "markdown",
   "metadata": {},
   "source": [
    "## スコアリングフェーズにおけるデータ処理（課題把握編）"
   ]
  },
  {
   "cell_type": "markdown",
   "metadata": {},
   "source": [
    "ローン審査データを使って<b>モデリング段階のデータ処理をおさらいし、</b><br>その後、スコアリング段階のデータ処理で必要となるテクニックを学びましょう。"
   ]
  },
  {
   "cell_type": "code",
   "execution_count": null,
   "metadata": {},
   "outputs": [],
   "source": [
    "# import sample data: Loan screening data for classification \n",
    "import pandas as pd\n",
    "\n",
    "df = pd.read_csv('./data/av_loan_u6lujuX_CVtuZ9i.csv',header=0)\n",
    "X  = df.iloc[:,:-1]           # 最終列以前を特徴量X\n",
    "ID = X.iloc[:,[0]]            # 最初列がPK（Loan_ID）なのでID情報としてセット\n",
    "X  = X.drop('Loan_ID',axis=1) # 1列目(Loan_ID)は特徴量ベクトルから削除\n",
    "y  = df.iloc[:,-1]            # 最終列を正解データ\n",
    "\n",
    "# check the shape\n",
    "print('--------------------------------------')\n",
    "print('Raw shape: (%i,%i)' %df.shape)\n",
    "print('X shape: (%i,%i)' %X.shape)\n",
    "\n",
    "# converting stirng to number(binary flag)\n",
    "# ローン審査でNOとなったサンプルを1（正例）として変換\n",
    "class_mapping = {'N':1, 'Y':0}\n",
    "y = y.map(class_mapping)\n",
    "print('---------------------------------------')\n",
    "print(y.value_counts())\n",
    "print('---------------------------------------')\n",
    "print(ID.join(X).join(y).dtypes)\n",
    "ID.join(X).join(y).head()"
   ]
  },
  {
   "cell_type": "markdown",
   "metadata": {},
   "source": [
    "モデリング段階の前処理として、まずはone-hotエンコーディングを実施します。"
   ]
  },
  {
   "cell_type": "code",
   "execution_count": null,
   "metadata": {},
   "outputs": [],
   "source": [
    "ohe_columns = ['Dependents',\n",
    "               'Gender',\n",
    "               'Married',\n",
    "               'Education',\n",
    "               'Self_Employed',\n",
    "               'Property_Area']\n",
    "X_ohe = pd.get_dummies(X,\n",
    "                       dummy_na=True,\n",
    "                       columns=ohe_columns)\n",
    "print('X_ohe shape:(%i,%i)' % X_ohe.shape)\n",
    "X_ohe.head()"
   ]
  },
  {
   "cell_type": "markdown",
   "metadata": {},
   "source": [
    "続いて、連続変数の欠損を平均値で置き換えます。"
   ]
  },
  {
   "cell_type": "code",
   "execution_count": null,
   "metadata": {},
   "outputs": [],
   "source": [
    "from sklearn.preprocessing import Imputer\n",
    "\n",
    "# 欠損値NaNを平均値(mean)で置換\n",
    "imp = Imputer(missing_values='NaN', strategy='mean', axis=0)\n",
    "imp.fit(X_ohe)\n",
    "\n",
    "# 学習済みImputerを適用しX_newの欠損値を置換\n",
    "X_ohe_columns = X_ohe.columns.values\n",
    "X_ohe = pd.DataFrame(imp.transform(X_ohe), columns=X_ohe_columns)\n",
    "\n",
    "# 結果表示\n",
    "X_ohe.head()"
   ]
  },
  {
   "cell_type": "markdown",
   "metadata": {},
   "source": [
    "最後に、RFEによる特徴量選択を実施します。"
   ]
  },
  {
   "cell_type": "code",
   "execution_count": null,
   "metadata": {},
   "outputs": [],
   "source": [
    "from sklearn.feature_selection import RFE\n",
    "from sklearn.ensemble import RandomForestClassifier\n",
    "\n",
    "selector = RFE(RandomForestClassifier(random_state=1),\n",
    "               n_features_to_select=10,\n",
    "               step=.05)\n",
    "\n",
    "selector.fit(X_ohe,y)\n",
    "\n",
    "X_fin = pd.DataFrame(selector.transform(X_ohe),\n",
    "                     columns=X_ohe_columns[selector.support_])\n",
    "\n",
    "print('X_fin shape:(%i,%i)' % X_fin.shape)\n",
    "X_fin.head()"
   ]
  },
  {
   "cell_type": "markdown",
   "metadata": {},
   "source": [
    "ここまでがモデリング段階でのデータ加工でした。さて未知のデータ（スコア用データ）に対しては、<b>上記10次元の特徴量をこの並びの通りに変換しなくてはいけません</b>。なぜなら、本データを学習したモデルは、0次元目から9次元目まで当該データ列が並んでいることを前提に予測値が計算されるからです。それでは、<b>いよいよスコア用データへの処理</b>です。"
   ]
  },
  {
   "cell_type": "code",
   "execution_count": null,
   "metadata": {},
   "outputs": [],
   "source": [
    "# import sample data for classificatio\n",
    "df_s = pd.read_csv('./data/av_loan_test_Y3wMUE5_7gLdaTN.csv', header=0)\n",
    "ID_s = df_s.iloc[:,[0]]            # 第0列はPK（Loan_ID）なのでIDとしてセット\n",
    "X_s  = df_s.drop('Loan_ID',axis=1) # Loan_IDはID情報なので特徴ベクトルから削除\n",
    "\n",
    "# check the shape\n",
    "print('Raw shape: (%i,%i)' %df_s.shape)\n",
    "print('X shape: (%i,%i)' %X_s.shape)\n",
    "print('-------------------------------')\n",
    "print(X_s.dtypes)"
   ]
  },
  {
   "cell_type": "markdown",
   "metadata": {},
   "source": [
    "まずはモデリング段階と同様、one-hotエンコーディングを実施します。"
   ]
  },
  {
   "cell_type": "code",
   "execution_count": null,
   "metadata": {},
   "outputs": [],
   "source": [
    "X_ohe_s = pd.get_dummies(X_s,\n",
    "                         dummy_na=True,\n",
    "                         columns=ohe_columns)\n",
    "print('X_ohe_s shape:(%i,%i)' % X_ohe_s.shape)\n",
    "X_ohe_s.head()"
   ]
  },
  {
   "cell_type": "markdown",
   "metadata": {},
   "source": [
    "one-hotエンコーディング後のスコアリングデータの特徴量次元は26次元とモデリング時点（26次元）と同じですが、もう少し厳密に特徴量リストを比較してみます。徴量リストの集合の差を見てみましょう。"
   ]
  },
  {
   "cell_type": "code",
   "execution_count": null,
   "metadata": {},
   "outputs": [],
   "source": [
    "cols_model = set(X_ohe.columns.values)\n",
    "cols_score = set(X_ohe_s.columns.values)\n",
    "\n",
    "# モデルにはあったスコアにはないデータ項目\n",
    "diff1 = cols_model - cols_score\n",
    "print('Modelのみ:%s' % diff1)\n",
    "\n",
    "# スコアにはあるがモデルになかったデータ項目\n",
    "diff2 = cols_score - cols_model\n",
    "print('Scoreのみ:%s' % diff2)"
   ]
  },
  {
   "cell_type": "markdown",
   "metadata": {},
   "source": [
    "実はこのスコアデータ、以下２つの細工がされたデータです。\n",
    "1. Gender変数に\"Unknown\"という項目を新しく追加\n",
    "2. Dependents変数の\"3+\"という項目を除外（残された値は、0,1,2の3つのカテゴリ値）"
   ]
  },
  {
   "cell_type": "markdown",
   "metadata": {},
   "source": [
    "上記のため、モデルのみに存在のダミー変数「Dependent_3+」、スコアのみに存在のダミー変数「Gender_Unknow」が出現しました。残りの差異はPythonがDependentsをObject型と判断したか（モデルデータ時点）、float64型と判断したか（スコアデータ時点）の違いに起因したものです。まとめると、スコアデータのone-hotエンコーディング処理の結果は、以下のような不整合が発生し得るということです。\n",
    "1. モデルデータにないカラムが生成される可能性（Gender_Unknown)\n",
    "1. モデルデータにあったカラムが消える可能性（Dependents_3+）\n",
    "1. データ型の違いが理由で①/②が生じる可能性"
   ]
  }
 ],
 "metadata": {
  "kernelspec": {
   "display_name": "Python 3",
   "language": "python",
   "name": "python3"
  },
  "language_info": {
   "codemirror_mode": {
    "name": "ipython",
    "version": 3
   },
   "file_extension": ".py",
   "mimetype": "text/x-python",
   "name": "python",
   "nbconvert_exporter": "python",
   "pygments_lexer": "ipython3",
   "version": "3.5.3"
  }
 },
 "nbformat": 4,
 "nbformat_minor": 2
}
