{
 "cells": [
  {
   "cell_type": "markdown",
   "metadata": {},
   "source": [
    "# matplotlib"
   ]
  },
  {
   "cell_type": "code",
   "execution_count": 1,
   "metadata": {
    "collapsed": true
   },
   "outputs": [],
   "source": [
    "%matplotlib inline\n",
    "import matplotlib.pyplot as plt"
   ]
  },
  {
   "cell_type": "markdown",
   "metadata": {},
   "source": [
    "Q.1.1  \n",
    "★以下のdataを折れ線グラフに表示せよ  \n",
    "data = [1.0, 2.1, 2.8, 4.2, 6.1, 3.5]"
   ]
  },
  {
   "cell_type": "code",
   "execution_count": null,
   "metadata": {
    "collapsed": true
   },
   "outputs": [],
   "source": []
  },
  {
   "cell_type": "markdown",
   "metadata": {},
   "source": [
    "Q.1.2  \n",
    "★以下のXとYを折れ線グラフに表示せよ。  \n",
    "また、「Sales Data」というタイトルをつけよ。  \n",
    "X = [1, 2, 3, 4 ,5, 6]  \n",
    "Y = [20, 10, 30, 24, 41, 33]"
   ]
  },
  {
   "cell_type": "code",
   "execution_count": null,
   "metadata": {
    "collapsed": true
   },
   "outputs": [],
   "source": []
  },
  {
   "cell_type": "markdown",
   "metadata": {},
   "source": [
    "Q.1.3  \n",
    "★以下のXとYを折れ線グラフに表示せよ。  \n",
    "また、x軸に「site_code」、y軸に「price」と表示し、  \n",
    "グリッド線も表示せよ。  \n",
    "X = [1, 2, 3, 4 ,5]  \n",
    "Y = [220, 230, 200, 190, 210]"
   ]
  },
  {
   "cell_type": "code",
   "execution_count": null,
   "metadata": {
    "collapsed": true
   },
   "outputs": [],
   "source": []
  },
  {
   "cell_type": "markdown",
   "metadata": {},
   "source": [
    "Q.1.4  \n",
    "★以下のXとYを折れ線グラフに表示せよ。  \n",
    "また、x軸に「time」、y軸に「count」と表示し、  \n",
    "マーカーをつけて、タイトルを「Shop A」とし、\n",
    "グリッド線も表示せよ。  \n",
    "X = [1, 2, 3, 4 ,5, 6]  \n",
    "Y = [13, 23, 20, 19, 10]"
   ]
  },
  {
   "cell_type": "code",
   "execution_count": null,
   "metadata": {
    "collapsed": true
   },
   "outputs": [],
   "source": []
  },
  {
   "cell_type": "markdown",
   "metadata": {},
   "source": [
    "Q.2.1  \n",
    "★ $y = x^2 + 1$をxが-5〜5の範囲でグラフに描け。  "
   ]
  },
  {
   "cell_type": "code",
   "execution_count": null,
   "metadata": {
    "collapsed": true
   },
   "outputs": [],
   "source": []
  },
  {
   "cell_type": "markdown",
   "metadata": {},
   "source": [
    "Q.2.2  \n",
    "★ 以下の2つのグラフをxが-5〜5の範囲でグラフに描け。  \n",
    "$y =  - x^2 + 1$  \n",
    "$\\displaystyle y = \\frac{1}{2}x - 5$  \n",
    "また、グリッド線も表示せよ。"
   ]
  },
  {
   "cell_type": "code",
   "execution_count": null,
   "metadata": {
    "collapsed": true
   },
   "outputs": [],
   "source": []
  },
  {
   "cell_type": "markdown",
   "metadata": {},
   "source": [
    "Q.3.1  \n",
    "★ 以下の折れ線グラフをそれぞれマーカーと線の種類と色を変えて表示せよ。  \n",
    "X = [1, 2, 3, 4, 5]  \n",
    "Y1 = [2, 1, 4, 2, 3]  \n",
    "Y2 = [3, 2, 3, 3, 1]  \n",
    "Y3 = [1, 4, 4, 2, 5]"
   ]
  },
  {
   "cell_type": "code",
   "execution_count": null,
   "metadata": {
    "collapsed": true
   },
   "outputs": [],
   "source": []
  },
  {
   "cell_type": "markdown",
   "metadata": {},
   "source": [
    "Q.3.2  \n",
    "★ 以下の折れ線グラフを描き、変数名を凡例として左上に表示せよ。  \n",
    "X = [1, 2, 3, 4, 5]  # 横軸  \n",
    "food = [23, 21, 42, 32, 23]  \n",
    "drink = [33, 25, 41, 36, 16]  "
   ]
  },
  {
   "cell_type": "code",
   "execution_count": null,
   "metadata": {
    "collapsed": true
   },
   "outputs": [],
   "source": []
  },
  {
   "cell_type": "markdown",
   "metadata": {},
   "source": [
    "Q.4.1  \n",
    "★ 以下の棒グラフを描き、横軸のティックラベルを指定せよ。    \n",
    "tick_label = [\"A\", \"B\", \"C\", \"D\", \"E\"]  \n",
    "data = [10, 13, 9, 6, 10]"
   ]
  },
  {
   "cell_type": "code",
   "execution_count": null,
   "metadata": {
    "collapsed": true
   },
   "outputs": [],
   "source": []
  },
  {
   "cell_type": "markdown",
   "metadata": {},
   "source": [
    "Q.5.1  \n",
    "★ 以下の２つのデータの散布図を描き、XとYを除く変数名を凡例にせよ。    \n",
    "sugar_sales_X = [1, 3, 2, 4, 6]  \n",
    "sugar_sales_Y = [29, 31, 22, 43, 26]  \n",
    "salt_sales_X = [4, 1, 1, 3, 2]  \n",
    "salt_sales_Y = [22, 32, 12, 33, 36]"
   ]
  },
  {
   "cell_type": "code",
   "execution_count": null,
   "metadata": {
    "collapsed": true
   },
   "outputs": [],
   "source": []
  },
  {
   "cell_type": "markdown",
   "metadata": {},
   "source": [
    "Q.5.2  \n",
    "★ x,yともに0-1までの値をとるランダムな小数を100個散布図にせよ。  \n",
    "また、色は緑でマーカーはx、アルファ=0.5にせよ。"
   ]
  },
  {
   "cell_type": "code",
   "execution_count": null,
   "metadata": {
    "collapsed": true
   },
   "outputs": [],
   "source": []
  },
  {
   "cell_type": "markdown",
   "metadata": {},
   "source": [
    "Q.6.1  \n",
    "★ 0-1までの値をとるランダムな小数を1000個ヒストグラムにせよ。  \n",
    "また、バーの数は20本、線の太さは0.7、y軸のラベルに「count」と表示せよ。"
   ]
  },
  {
   "cell_type": "code",
   "execution_count": null,
   "metadata": {
    "collapsed": true
   },
   "outputs": [],
   "source": []
  },
  {
   "cell_type": "markdown",
   "metadata": {},
   "source": [
    "Q.6.2  \n",
    "★ $y = x^2$において、xが0-1までの値をとるランダムな小数で1000個与えられる時、yについてヒストグラムを描け。    \n",
    "また、バーの数は50本、線の太さは0.8、グリッド線を表示せよ。"
   ]
  },
  {
   "cell_type": "code",
   "execution_count": null,
   "metadata": {
    "collapsed": true
   },
   "outputs": [],
   "source": []
  },
  {
   "cell_type": "markdown",
   "metadata": {},
   "source": [
    "Q.7.1  \n",
    "★ 以下の折れ線グラフを1行2列に配置して描き、変数名をそれぞれのタイトルとして表示せよ。  \n",
    "また、subplots()を用いよ。  \n",
    "X = [1, 2, 3, 4, 5]  # 横軸  \n",
    "food = [23, 21, 42, 32, 23]  \n",
    "drink = [33, 25, 41, 36, 16]  "
   ]
  },
  {
   "cell_type": "code",
   "execution_count": null,
   "metadata": {
    "collapsed": true
   },
   "outputs": [],
   "source": []
  },
  {
   "cell_type": "markdown",
   "metadata": {},
   "source": [
    "Q.7.2  \n",
    "★ 以下の折れ線グラフを1行2列に配置して描き、変数名をそれぞれのタイトルとして表示せよ。  \n",
    "また、add_subplot()を用いよ。  \n",
    "X = [1, 2, 3, 4, 5] # 横軸  \n",
    "food = [23, 21, 42, 32, 23]  \n",
    "drink = [33, 25, 41, 36, 16]"
   ]
  },
  {
   "cell_type": "code",
   "execution_count": null,
   "metadata": {
    "collapsed": true
   },
   "outputs": [],
   "source": []
  },
  {
   "cell_type": "markdown",
   "metadata": {},
   "source": [
    "Q.7.3  \n",
    "★以下の棒グラフを2行1列で描き、横軸のティックラベルを指定せよ。  \n",
    "その際、tight_layoutで図が重ならないようにせよ。  \n",
    "また、変数名をy軸のラベルに設定せよ。  \n",
    "tick_label = [\"A\", \"B\", \"C\", \"D\", \"E\"]  \n",
    "food = [23, 21, 42, 32, 23]  \n",
    "drink = [33, 25, 41, 36, 16]  \n",
    "ヒント:axにラベルを指定→ax.set_ylabel(args)"
   ]
  },
  {
   "cell_type": "code",
   "execution_count": null,
   "metadata": {
    "collapsed": true
   },
   "outputs": [],
   "source": []
  },
  {
   "cell_type": "markdown",
   "metadata": {},
   "source": [
    "Q.8.1  \n",
    "★ 以下の折れ線グラフを1行2列に配置して描き、変数名をそれぞれのタイトルとして表示せよ。  \n",
    "その際、y軸のレンジを統一せよ。  \n",
    "X = [1, 2, 3, 4, 5] # 横軸  \n",
    "food = [23, 21, 42, 32, 23]  \n",
    "drink = [33, 25, 41, 36, 16]"
   ]
  },
  {
   "cell_type": "code",
   "execution_count": null,
   "metadata": {
    "collapsed": true
   },
   "outputs": [],
   "source": []
  },
  {
   "cell_type": "markdown",
   "metadata": {},
   "source": [
    "Q.9.1  \n",
    "★ 以下のデータを２軸グラフで表示せよ。また、変数名を凡例として表示せよ。  \n",
    "sales = [293, 221, 240, 145, 223]  # 棒グラフ, 青, アルファ=0.5, ティックラベル=tick_label  \n",
    "tick_label = [\"week1\", \"week2\", \"week3\", \"week4\", \"week5\"]  \n",
    "temperature = [33, 28, 30, 24, 28] # 折れ線グラフ, 緑, マーカーx"
   ]
  },
  {
   "cell_type": "code",
   "execution_count": null,
   "metadata": {
    "collapsed": true
   },
   "outputs": [],
   "source": []
  }
 ],
 "metadata": {
  "anaconda-cloud": {},
  "kernelspec": {
   "display_name": "Python 3",
   "language": "python",
   "name": "python3"
  },
  "language_info": {
   "codemirror_mode": {
    "name": "ipython",
    "version": 3
   },
   "file_extension": ".py",
   "mimetype": "text/x-python",
   "name": "python",
   "nbconvert_exporter": "python",
   "pygments_lexer": "ipython3",
   "version": "3.5.1"
  }
 },
 "nbformat": 4,
 "nbformat_minor": 1
}
