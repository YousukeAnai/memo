{
 "cells": [
  {
   "cell_type": "markdown",
   "metadata": {},
   "source": [
    "# matplotlib"
   ]
  },
  {
   "cell_type": "markdown",
   "metadata": {},
   "source": [
    "#### 日本語環境"
   ]
  },
  {
   "cell_type": "markdown",
   "metadata": {},
   "source": [
    "Mac: https://qiita.com/knknkn1162/items/be87cba14e38e2c0f656  \n",
    "Windows: http://kaisk.hatenadiary.com/entry/2015/02/15/215831"
   ]
  },
  {
   "cell_type": "code",
   "execution_count": null,
   "metadata": {
    "collapsed": true
   },
   "outputs": [],
   "source": [
    "#日本語化\n",
    "import matplotlib.pyplot as plt\n",
    "plt.rcParams['font.family'] = 'IPAPGothic'"
   ]
  },
  {
   "cell_type": "markdown",
   "metadata": {},
   "source": [
    "### データの可視化（基礎）\n",
    "- 線グラフ\n",
    "- 棒グラフ\n",
    "- 散布図\n",
    "- ヒストグラム"
   ]
  },
  {
   "cell_type": "code",
   "execution_count": null,
   "metadata": {
    "collapsed": true
   },
   "outputs": [],
   "source": [
    "import matplotlib.pyplot as plt"
   ]
  },
  {
   "cell_type": "code",
   "execution_count": null,
   "metadata": {
    "collapsed": true
   },
   "outputs": [],
   "source": [
    "# jupyter上でグラフを描画する\n",
    "%matplotlib inline"
   ]
  },
  {
   "cell_type": "markdown",
   "metadata": {},
   "source": [
    "#### 折れ線グラフ\n",
    "- plot\n",
    "- show, savefig\n",
    "- xlabel, ylabel, title\n",
    "- grid"
   ]
  },
  {
   "cell_type": "code",
   "execution_count": null,
   "metadata": {},
   "outputs": [],
   "source": [
    "data = [1.2, 2.3, 4.9, 1.4, 6.6, 3.1, 4.2]\n",
    "plt.plot(data) # グラフを描く\n",
    "plt.show() # 表示する"
   ]
  },
  {
   "cell_type": "code",
   "execution_count": null,
   "metadata": {},
   "outputs": [],
   "source": [
    "data = [1.2, 2.3, 4.9, 1.4, 6.6, 3.1, 4.2]\n",
    "plt.plot(data) # グラフを描く\n",
    "plt.savefig(\"sample_graph.png\") #　引数として指定したファイル名で画像として保存"
   ]
  },
  {
   "cell_type": "code",
   "execution_count": null,
   "metadata": {},
   "outputs": [],
   "source": [
    "price = [100, 300, 500, 700, 900]\n",
    "count = [52, 23, 34, 15, 46]\n",
    "plt.plot(price, count) # x軸、y軸の値を両方指定して、グラフを描く\n",
    "plt.title(\"Count vs. Price\") # タイトルをつける\n",
    "plt.xlabel(\"Price\") # x軸のラベルをつける\n",
    "plt.ylabel(\"Count\") # y軸のラベルをつける\n",
    "plt.show()"
   ]
  },
  {
   "cell_type": "code",
   "execution_count": null,
   "metadata": {},
   "outputs": [],
   "source": [
    "price = [100, 300, 500, 700, 900]\n",
    "count = [52, 23, 34, 15, 46]\n",
    "plt.plot(price, count, marker=\"o\") # oマーカーに指定\n",
    "plt.title(\"Count-Price\") \n",
    "plt.xlabel(\"price\")\n",
    "plt.ylabel(\"count\")\n",
    "plt.grid() # グリッド表示に指定\n",
    "plt.show()"
   ]
  },
  {
   "cell_type": "markdown",
   "metadata": {},
   "source": [
    "#### 曲線グラフ"
   ]
  },
  {
   "cell_type": "code",
   "execution_count": null,
   "metadata": {},
   "outputs": [],
   "source": [
    "import numpy as np\n",
    "X= np.arange(-5, 5, 0.01)\n",
    "Y = X ** 3\n",
    "plt.plot(X, Y)\n",
    "plt.grid()\n",
    "plt.show()"
   ]
  },
  {
   "cell_type": "markdown",
   "metadata": {
    "collapsed": true
   },
   "source": [
    "#### 複数のグラフを描く"
   ]
  },
  {
   "cell_type": "code",
   "execution_count": null,
   "metadata": {},
   "outputs": [],
   "source": [
    "import numpy as np\n",
    "X= np.arange(-5, 5, 0.01)\n",
    "Y1 = X ** 3 # 1つ目のグラフの値\n",
    "Y2 = X * 20 + 20 # 2つ目のグラフの値\n",
    "plt.plot(X, Y1) # 1つ目のグラフ\n",
    "plt.plot(X, Y2) # 2つ目のグラフ\n",
    "plt.grid()\n",
    "plt.show()"
   ]
  },
  {
   "cell_type": "markdown",
   "metadata": {
    "collapsed": true
   },
   "source": [
    "#### 線の色と種類、マーカーの指定"
   ]
  },
  {
   "cell_type": "code",
   "execution_count": null,
   "metadata": {},
   "outputs": [],
   "source": [
    "X = [100, 200, 300, 400, 500]\n",
    "Y1 = [40, 65, 80, 100, 90] # 1つ目のグラフの値\n",
    "Y2 = [34, 56, 75, 91, 79] # 2つ目のグラフの値\n",
    "Y3 = [25, 47, 68, 76, 73] # 3つ目のグラフの値\n",
    "Y4 = [15, 40, 52, 64, 69]  # 4つ目のグラフの値\n",
    "Y5 = [10, 30, 42, 63, 65]  # 5つ目のグラフの値\n",
    "\n",
    "plt.plot(X, Y1, marker=\"o\", color=\"blue\") # 1つ目のグラフの仕様\n",
    "plt.plot(X, Y2, marker=\"x\", color=\"red\", linestyle=\"-\") # 2つ目のグラフの仕様\n",
    "plt.plot(X, Y3, marker=\"v\", color=\"green\", linestyle=\"--\") # 3つ目のグラフの仕様\n",
    "plt.plot(X, Y4, marker=\"^\", color=\"magenta\", linestyle=\"-.\") # 4つ目のグラフの仕様\n",
    "plt.plot(X, Y5, marker=\"d\", color=\"black\", linestyle=\":\") # 5つ目のグラフの仕様\n",
    "\n",
    "plt.show()"
   ]
  },
  {
   "cell_type": "markdown",
   "metadata": {},
   "source": [
    "#### 凡例\n",
    "- legend"
   ]
  },
  {
   "cell_type": "code",
   "execution_count": null,
   "metadata": {},
   "outputs": [],
   "source": [
    "import numpy as np\n",
    "X = np.arange(-5, 5, 0.01)\n",
    "Y1 = X * 10 - 5\n",
    "Y2 = X * 2\n",
    "plt.plot(X, Y1, label=\"y = 10x - 5\")\n",
    "plt.plot(X, Y2, label=\"y = 2x\")\n",
    "plt.grid()\n",
    "plt.legend() # 凡例を付ける\n",
    "#plt.legend(loc=\"upper left\")\n",
    "#plt.legend(loc=\"upper center\")\n",
    "#plt.legend(loc=\"upper right\")\n",
    "#plt.legend(loc=\"center left\")\n",
    "#plt.legend(loc=\"lower right\")\n",
    "plt.show()"
   ]
  },
  {
   "cell_type": "markdown",
   "metadata": {},
   "source": [
    "#### 棒グラフ\n",
    "- bar\n",
    "- tick_label"
   ]
  },
  {
   "cell_type": "code",
   "execution_count": null,
   "metadata": {},
   "outputs": [],
   "source": [
    "labels = [\"A\", \"B\", \"C\", \"D\", \"E\", \"F\", \"G\", \"H\", \"I\", \"J\", \"K\", \"L\"]\n",
    "Y = [12, 24, 53, 33, 88, 74, 51, 96, 3, 22, 48, 71]\n",
    "plt.bar(labels, Y) # 折れ線グラフと異なり必ずx軸が必要\n",
    "plt.show()"
   ]
  },
  {
   "cell_type": "code",
   "execution_count": null,
   "metadata": {},
   "outputs": [],
   "source": [
    "labels = [\"A\", \"B\", \"C\", \"D\", \"E\", \"F\", \"G\", \"H\", \"I\", \"J\", \"K\", \"L\"]\n",
    "X = range(0, 12)\n",
    "Y = [12, 24, 53, 33, 88, 74, 51, 96, 3, 22, 48, 71]\n",
    "plt.bar(X, Y, tick_label=labels) # tick_labelsでも指定可能\n",
    "plt.show()"
   ]
  },
  {
   "cell_type": "code",
   "execution_count": null,
   "metadata": {},
   "outputs": [],
   "source": [
    "labels = [\"A\", \"B\", \"C\", \"D\", \"E\", \"F\", \"G\", \"H\", \"I\", \"J\", \"K\", \"L\"]\n",
    "X = range(0, 12)\n",
    "Y = [12, 24, 53, 33, 88, 74, 51, 96, 3, 22, 48, 71]\n",
    "plt.bar(X, Y)\n",
    "plt.xticks(X, labels) # tick_labelを後からxticksで設定\n",
    "plt.show()"
   ]
  },
  {
   "cell_type": "markdown",
   "metadata": {
    "collapsed": true
   },
   "source": [
    "#### 散布図\n",
    "- scatter"
   ]
  },
  {
   "cell_type": "code",
   "execution_count": null,
   "metadata": {},
   "outputs": [],
   "source": [
    "X = [91, 45, 17, 88, 47, 87, 49, 56, 67, 23, 86, 20, 60, 67, 30, 41, 91, 55, 37, 14]\n",
    "Y = [39, 17, 45, 32, 20, 14, 11, 48, 41, 13, 21, 40, 13, 14, 11, 40, 21, 18, 50, 25]\n",
    "plt.scatter(X, Y)\n",
    "plt.show()"
   ]
  },
  {
   "cell_type": "code",
   "execution_count": null,
   "metadata": {},
   "outputs": [],
   "source": [
    "import numpy as np\n",
    "X, Y = np.random.rand(100), np.random.rand(100) \n",
    "plt.scatter(X, Y, marker=\"o\", color=\"red\", s=100,  alpha=0.2) # sはサイズ、alphaは透明度 \n",
    "plt.show()"
   ]
  },
  {
   "cell_type": "markdown",
   "metadata": {
    "collapsed": true
   },
   "source": [
    "#### ヒストグラム\n",
    "- hist"
   ]
  },
  {
   "cell_type": "code",
   "execution_count": null,
   "metadata": {},
   "outputs": [],
   "source": [
    "import numpy as np\n",
    "x = np.random.rand(100)\n",
    "plt.hist(x, bins=10, rwidth=0.8) # binsはバーの数、rwidthは線の太さ\n",
    "plt.show()"
   ]
  },
  {
   "cell_type": "code",
   "execution_count": null,
   "metadata": {
    "collapsed": true
   },
   "outputs": [],
   "source": []
  },
  {
   "cell_type": "markdown",
   "metadata": {},
   "source": [
    "### データの可視化（応用）\n",
    " - 複数のグラフの描き方（サブプロット）"
   ]
  },
  {
   "cell_type": "markdown",
   "metadata": {},
   "source": [
    "<img src=\"https://matplotlib.org/_images/anatomy1.png\" width=700>  \n",
    "出典：https://matplotlib.org/faq/usage_faq.html "
   ]
  },
  {
   "cell_type": "markdown",
   "metadata": {},
   "source": [
    "#### サブプロット\n",
    "- fig, ax\n",
    "- subplots, add_subplot"
   ]
  },
  {
   "cell_type": "code",
   "execution_count": null,
   "metadata": {},
   "outputs": [],
   "source": [
    "# データの作成\n",
    "Y1 = [61, 45, 27, 88, 47]\n",
    "Y2 = [17, 39, 46, 40, 28]\n",
    "labels = [\"A\", \"B\", \"C\", \"D\",\"E\"]\n",
    "\n",
    "# figureとaxesを作る\n",
    "fig, (ax1, ax2) = plt.subplots(nrows=1, ncols=2) # 1行2列の型\n",
    "\n",
    "# 1行2列の左\n",
    "ax1.bar(labels, Y1, color=\"b\")\n",
    "ax1.set_title(\"dog\")\n",
    "\n",
    "# 1行2列の右\n",
    "ax2.bar(labels, Y2, color=\"g\")\n",
    "ax2.set_title(\"cat\")\n",
    "\n",
    "plt.show()"
   ]
  },
  {
   "cell_type": "code",
   "execution_count": null,
   "metadata": {},
   "outputs": [],
   "source": [
    "# データの作成\n",
    "Y1 = [61, 45, 27, 88, 47]\n",
    "Y2 = [17, 39, 46, 40, 28]\n",
    "labels = [\"A\", \"B\", \"C\", \"D\",\"E\"]\n",
    "\n",
    "# figureを作る\n",
    "fig = plt.figure()\n",
    "\n",
    "# 1行2列の左\n",
    "ax1 = fig.add_subplot(1, 2, 1) # axesを作る\n",
    "ax1.bar(labels, Y1, color=\"b\")\n",
    "ax1.set_title(\"dog\")\n",
    "\n",
    "# 1行2列の右\n",
    "ax2 = fig.add_subplot(1, 2, 2) # axesを作る\n",
    "ax2.bar(labels, Y2, color=\"g\")\n",
    "ax2.set_title(\"cat\")\n",
    "\n",
    "plt.show()"
   ]
  },
  {
   "cell_type": "markdown",
   "metadata": {},
   "source": [
    "#### グラフを上下に並べる\n",
    "- tight_layout"
   ]
  },
  {
   "cell_type": "code",
   "execution_count": null,
   "metadata": {},
   "outputs": [],
   "source": [
    "# データの作成\n",
    "Y1 = [61, 45, 27, 88, 47, 56, 61]\n",
    "Y2 = [17, 39, 46, 40, 27, 35, 41]\n",
    "labels = [\"A\", \"B\", \"C\", \"D\",\"E\", \"F\", \"G\"]\n",
    "\n",
    "# figureを作る\n",
    "fig = plt.figure()\n",
    "\n",
    "# 2行1列の上\n",
    "ax1 = fig.add_subplot(2, 1, 1)\n",
    "ax1.bar(labels, Y1, color=\"b\")\n",
    "ax1.set_title(\"snake\")\n",
    "\n",
    "# 2行1列の下\n",
    "ax1 = fig.add_subplot(2, 1, 2)\n",
    "ax1.bar(labels, Y2, color=\"g\")\n",
    "ax1.set_title(\"fish\")\n",
    "\n",
    "# 図の重複を避ける\n",
    "plt.tight_layout()"
   ]
  },
  {
   "cell_type": "markdown",
   "metadata": {},
   "source": [
    "#### y軸のレンジを統一する\n",
    "- ylim"
   ]
  },
  {
   "cell_type": "code",
   "execution_count": null,
   "metadata": {},
   "outputs": [],
   "source": [
    "#　データの作成\n",
    "Y1 = [61, 45, 27, 88, 47]\n",
    "Y2 = [17, 39, 46, 40, 27]\n",
    "labels = [\"A\", \"B\", \"C\", \"D\", \"E\"]\n",
    "\n",
    "# figureを作る\n",
    "fig = plt.figure()\n",
    "\n",
    "# 1行2列の左\n",
    "ax1 = fig.add_subplot(1, 2, 1)\n",
    "ax1.bar(labels, Y1, color=\"b\")\n",
    "ax1.set_title(\"dog\")\n",
    "ymin, ymax = ax1.get_ylim()  # ax1のy軸のレンジを取得する\n",
    "\n",
    "# 1行2列の右\n",
    "ax2 = fig.add_subplot(1, 2, 2)\n",
    "ax2.bar(labels, Y2, color=\"g\")\n",
    "ax2.set_title(\"cat\")\n",
    "ax2.set_ylim(ymin, ymax) # y軸のレンジをax1と合わせる\n",
    "\n",
    "plt.show()"
   ]
  },
  {
   "cell_type": "markdown",
   "metadata": {},
   "source": [
    "#### ２軸グラフ\n",
    "- twinx"
   ]
  },
  {
   "cell_type": "code",
   "execution_count": null,
   "metadata": {},
   "outputs": [],
   "source": [
    "#　データの作成\n",
    "X1, Y1 = range(0, 5), [61, 45, 27, 88, 47]\n",
    "X2, Y2 = [x + 0.4 for x in range(0, 5)], [17, 39, 46, 40, 27]\n",
    "labels = [\"A\", \"B\", \"C\", \"D\", \"E\"]\n",
    "print(\"X2: \" + str(X2))\n",
    "\n",
    "# figureを作る\n",
    "fig = plt.figure()\n",
    "\n",
    "# 1行1列の左軸\n",
    "ax1 = fig.add_subplot(1, 1, 1)\n",
    "ax1.bar(X1, Y1, color=\"b\", tick_label=labels, width=0.4) \n",
    "\n",
    "# 1行1列の右軸\n",
    "ax2 = ax1.twinx()\n",
    "ax2.bar(X2, Y2, color=\"g\", tick_label=labels, width=0.4)\n",
    "plt.show()"
   ]
  },
  {
   "cell_type": "code",
   "execution_count": null,
   "metadata": {},
   "outputs": [],
   "source": [
    "#　データの作成\n",
    "X1, Y1 = range(0, 5), [61, 45, 27, 88, 47]\n",
    "X2, Y2 = range(0, 5), [17, 39, 46, 40, 27]\n",
    "labels = [\"A\", \"B\", \"C\", \"D\", \"E\"]\n",
    "\n",
    "# figureを作る\n",
    "fig = plt.figure()\n",
    "\n",
    "# 1行1列の左軸\n",
    "ax1 = fig.add_subplot(1, 1, 1)\n",
    "ax1.bar(X1, Y1, color=\"b\", tick_label = labels, width=0.4, label=\"left\") \n",
    "\n",
    "# 1行1列の右軸\n",
    "ax2 = ax1.twinx()\n",
    "ax2.plot(X2, Y2, color=\"g\", label=\"right\")\n",
    "\n",
    "# 凡例を設定\n",
    "handler1, label1 = ax1.get_legend_handles_labels()\n",
    "handler2, label2 = ax2.get_legend_handles_labels()\n",
    "plt.legend(handler1+handler2, label1+label2)\n",
    "\n",
    "plt.show()"
   ]
  },
  {
   "cell_type": "code",
   "execution_count": null,
   "metadata": {
    "collapsed": true
   },
   "outputs": [],
   "source": []
  }
 ],
 "metadata": {
  "anaconda-cloud": {},
  "kernelspec": {
   "display_name": "Python 3",
   "language": "python",
   "name": "python3"
  },
  "language_info": {
   "codemirror_mode": {
    "name": "ipython",
    "version": 3
   },
   "file_extension": ".py",
   "mimetype": "text/x-python",
   "name": "python",
   "nbconvert_exporter": "python",
   "pygments_lexer": "ipython3",
   "version": "3.6.5"
  }
 },
 "nbformat": 4,
 "nbformat_minor": 1
}
